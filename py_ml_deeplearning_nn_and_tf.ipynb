{
 "cells": [
  {
   "cell_type": "code",
   "execution_count": 9,
   "metadata": {},
   "outputs": [
    {
     "name": "stderr",
     "output_type": "stream",
     "text": [
      "/usr/local/anaconda3/lib/python3.6/site-packages/h5py/__init__.py:36: FutureWarning: Conversion of the second argument of issubdtype from `float` to `np.floating` is deprecated. In future, it will be treated as `np.float64 == np.dtype(float).type`.\n",
      "  from ._conv import register_converters as _register_converters\n"
     ]
    }
   ],
   "source": [
    "import tensorflow as tf\n",
    "\n",
    "# creates nodes in a graph\n",
    "# \"construction phase\"\n",
    "x1 = tf.constant(5)\n",
    "x2 = tf.constant(6)"
   ]
  },
  {
   "cell_type": "code",
   "execution_count": 12,
   "metadata": {},
   "outputs": [
    {
     "name": "stdout",
     "output_type": "stream",
     "text": [
      "Tensor(\"mul:0\", shape=(), dtype=int32)\n"
     ]
    }
   ],
   "source": [
    "result = x1*x2\n",
    "print(result)"
   ]
  },
  {
   "cell_type": "code",
   "execution_count": 13,
   "metadata": {},
   "outputs": [
    {
     "name": "stdout",
     "output_type": "stream",
     "text": [
      "30\n"
     ]
    }
   ],
   "source": [
    "sess = tf.Session()\n",
    "print(sess.run(result))"
   ]
  },
  {
   "cell_type": "code",
   "execution_count": 14,
   "metadata": {},
   "outputs": [
    {
     "name": "stdout",
     "output_type": "stream",
     "text": [
      "30\n"
     ]
    }
   ],
   "source": [
    "with tf.Session() as sess:\n",
    "    output = sess.run(result)\n",
    "    print(output)"
   ]
  },
  {
   "cell_type": "code",
   "execution_count": 40,
   "metadata": {},
   "outputs": [],
   "source": [
    "with tf.Session() as sess:\n",
    "    with tf.device(\"/cpu:1\"):\n",
    "        matrix1 = tf.constant([[3.,3.]])\n",
    "        matrix2 = tf.constant([[2.],[2.]])\n",
    "        product = tf.matmul(matrix1, matrix2)\n",
    "        # print(sess.run(product))"
   ]
  },
  {
   "cell_type": "code",
   "execution_count": 41,
   "metadata": {},
   "outputs": [
    {
     "name": "stdout",
     "output_type": "stream",
     "text": [
      "Tensor(\"MatMul_21:0\", shape=(1, 1), dtype=float32, device=/device:CPU:1)\n"
     ]
    }
   ],
   "source": [
    "print(product)"
   ]
  },
  {
   "cell_type": "code",
   "execution_count": 42,
   "metadata": {},
   "outputs": [
    {
     "name": "stdout",
     "output_type": "stream",
     "text": [
      "Extracting /tmp/data/train-images-idx3-ubyte.gz\n",
      "Extracting /tmp/data/train-labels-idx1-ubyte.gz\n",
      "Extracting /tmp/data/t10k-images-idx3-ubyte.gz\n",
      "Extracting /tmp/data/t10k-labels-idx1-ubyte.gz\n"
     ]
    }
   ],
   "source": [
    "import tensorflow as tf\n",
    "#from tensorflow.examples.tutorials.mnist import input_data\n",
    "#mnist = input_data.read_data_sets(\"/tmp/data\", one_hot = True)"
   ]
  },
  {
   "cell_type": "code",
   "execution_count": 43,
   "metadata": {},
   "outputs": [
    {
     "data": {
      "text/plain": [
       "Datasets(train=<tensorflow.contrib.learn.python.learn.datasets.mnist.DataSet object at 0x1c29ae2cc0>, validation=<tensorflow.contrib.learn.python.learn.datasets.mnist.DataSet object at 0x1c29f11fd0>, test=<tensorflow.contrib.learn.python.learn.datasets.mnist.DataSet object at 0x1c33867908>)"
      ]
     },
     "execution_count": 43,
     "metadata": {},
     "output_type": "execute_result"
    }
   ],
   "source": [
    "#mnist"
   ]
  },
  {
   "cell_type": "code",
   "execution_count": 85,
   "metadata": {},
   "outputs": [],
   "source": [
    "from create_sentiment_featuresets import create_feature_sets_and_labels"
   ]
  },
  {
   "cell_type": "code",
   "execution_count": 86,
   "metadata": {},
   "outputs": [
    {
     "name": "stdout",
     "output_type": "stream",
     "text": [
      "423\n"
     ]
    }
   ],
   "source": [
    "train_x, train_y, test_x, test_y = create_feature_sets_and_labels('pos.txt', 'neg.txt')"
   ]
  },
  {
   "cell_type": "code",
   "execution_count": 87,
   "metadata": {},
   "outputs": [],
   "source": [
    "# n_nodes_hl1 = 500\n",
    "# n_nodes_hl2= 500\n",
    "# n_nodes_hl3 = 500\n",
    "# n_classes = 10\n",
    "# batch_size = 100\n",
    "\n",
    "# for sentiment analysis\n",
    "n_nodes_hl1 = 1500\n",
    "n_nodes_hl2 = 1500\n",
    "n_nodes_hl3 = 1500\n",
    "\n",
    "n_classes = 2\n",
    "batch_size = 100\n",
    "hm_epochs = 10"
   ]
  },
  {
   "cell_type": "code",
   "execution_count": 88,
   "metadata": {},
   "outputs": [],
   "source": [
    "# x = tf.placeholder('float', [None, 784])\n",
    "# y = tf.placeholder('float')\n",
    "\n",
    "x = tf.placeholder('float')\n",
    "y = tf.placeholder('float')"
   ]
  },
  {
   "cell_type": "code",
   "execution_count": 89,
   "metadata": {},
   "outputs": [],
   "source": [
    "hidden_1_layer = {'weights': tf.Variable(tf.random_normal([len(train_x[0]), n_nodes_hl1])),\n",
    "                             'biases': tf.Variable(tf.random_normal([n_nodes_hl1])) }\n",
    "hidden_2_layer = {'weights': tf.Variable(tf.random_normal([n_nodes_hl1, n_nodes_hl2])),\n",
    "                             'biases': tf.Variable(tf.random_normal([n_nodes_hl2])) }\n",
    "hidden_3_layer = {'weights': tf.Variable(tf.random_normal([n_nodes_hl2, n_nodes_hl3])),\n",
    "                             'biases': tf.Variable(tf.random_normal([n_nodes_hl3])) }\n",
    "output_layer = {'weights': tf.Variable(tf.random_normal([n_nodes_hl3, n_classes])),\n",
    "                           'biases': tf.Variable(tf.random_normal([n_classes])) }\n",
    "\n",
    "def neural_network_model(data):\n",
    "    \n",
    "    l1 =  tf.add(tf.matmul(data, hidden_1_layer['weights']), hidden_1_layer['biases'])\n",
    "    l1 = tf.nn.relu(l1)\n",
    "    l2 = tf.add(tf.matmul(l1, hidden_2_layer['weights']), hidden_2_layer['biases'])\n",
    "    l2 = tf.nn.relu(l2)\n",
    "    l3 = tf.add(tf.matmul(l2, hidden_3_layer['weights']), hidden_3_layer['biases'])\n",
    "    l3 = tf.nn.relu(l3)\n",
    "    output = tf.matmul(l3, output_layer['weights']) + output_layer['biases']\n",
    "    \n",
    "    return output"
   ]
  },
  {
   "cell_type": "code",
   "execution_count": 91,
   "metadata": {},
   "outputs": [],
   "source": [
    "# print(neural_network_model(mnist.test.images))"
   ]
  },
  {
   "cell_type": "code",
   "execution_count": 92,
   "metadata": {},
   "outputs": [],
   "source": [
    "import numpy as np\n",
    "def train_neural_network(x):\n",
    "    prediction = neural_network_model(x)\n",
    "    cost = tf.reduce_mean( tf.nn.softmax_cross_entropy_with_logits(logits=prediction, labels=y) )\n",
    "    optimizer = tf.train.AdamOptimizer().minimize(cost)\n",
    "    \n",
    "    hm_epochs = 10\n",
    "    with tf.Session(config=tf.ConfigProto(\n",
    "      allow_soft_placement=True, log_device_placement=True)) as sess:\n",
    "        sess.run(tf.global_variables_initializer())\n",
    "        for epoch in range(hm_epochs):\n",
    "            epoch_loss = 0\n",
    "            # for mnist\n",
    "#             while i < len(train)\n",
    "#             for _ in range(int(mnist.train.num_examples/batch_size)):\n",
    "#                 epoch_x, epoch_y = mnist.train.next_batch(batch_size)\n",
    "#                 _, c = sess.run([optimizer, cost], feed_dict={x: epoch_x, y: epoch_y})\n",
    "#                 epoch_loss += c\n",
    "            i = 0\n",
    "            while i < len(train_x):\n",
    "                start = i\n",
    "                end = i + batch_size\n",
    "                batch_x = np.array(train_x[start:end])\n",
    "                batch_y = np.array(train_y[start:end])\n",
    "                \n",
    "                _, c = sess.run([optimizer, cost], feed_dict={x: batch_x, y:batch_y})\n",
    "                \n",
    "                epoch_loss += c\n",
    "                i += batch_size\n",
    "                \n",
    "            print('Epoch', epoch+1, 'completed out of', hm_epochs, 'loss:',  epoch_loss)\n",
    "        correct = tf.equal(tf.argmax(prediction, 1), tf.argmax(y, 1))\n",
    "        accuracy = tf.reduce_mean(tf.cast(correct, 'float'))\n",
    "        # print('Accuracy:', accuracy.eval({x:mnist.test.images, y:mnist.test.labels}))\n",
    "        print('Accuracy:', accuracy.eval({x:test_x, y:test_y}))"
   ]
  },
  {
   "cell_type": "code",
   "execution_count": 93,
   "metadata": {},
   "outputs": [
    {
     "name": "stdout",
     "output_type": "stream",
     "text": [
      "Epoch 1 completed out of 10 loss: 1296028.4169921875\n",
      "Epoch 2 completed out of 10 loss: 476142.181640625\n",
      "Epoch 3 completed out of 10 loss: 355693.32751464844\n",
      "Epoch 4 completed out of 10 loss: 357884.5509338379\n",
      "Epoch 5 completed out of 10 loss: 274738.75497436523\n",
      "Epoch 6 completed out of 10 loss: 119955.82341384888\n",
      "Epoch 7 completed out of 10 loss: 53544.397468566895\n",
      "Epoch 8 completed out of 10 loss: 43177.28339910507\n",
      "Epoch 9 completed out of 10 loss: 35468.334550857544\n",
      "Epoch 10 completed out of 10 loss: 21210.453884124756\n",
      "Accuracy: 0.5919325\n"
     ]
    }
   ],
   "source": [
    "# for mnist\n",
    "train_neural_network(x)"
   ]
  },
  {
   "cell_type": "code",
   "execution_count": null,
   "metadata": {},
   "outputs": [],
   "source": []
  },
  {
   "cell_type": "code",
   "execution_count": 56,
   "metadata": {},
   "outputs": [
    {
     "name": "stdout",
     "output_type": "stream",
     "text": [
      "showing info https://raw.githubusercontent.com/nltk/nltk_data/gh-pages/index.xml\n"
     ]
    },
    {
     "data": {
      "text/plain": [
       "True"
      ]
     },
     "execution_count": 56,
     "metadata": {},
     "output_type": "execute_result"
    }
   ],
   "source": [
    "import nltk\n",
    "nltk.download()"
   ]
  },
  {
   "cell_type": "code",
   "execution_count": 60,
   "metadata": {},
   "outputs": [],
   "source": [
    "!mv create_sentiment_featuresets.py.html create_sentiment_featuresets.py"
   ]
  },
  {
   "cell_type": "code",
   "execution_count": 61,
   "metadata": {},
   "outputs": [
    {
     "name": "stdout",
     "output_type": "stream",
     "text": [
      "\r\n",
      "# coding: utf-8\r\n",
      "\r\n",
      "# In[2]:\r\n",
      "\r\n",
      "\r\n",
      "import nltk\r\n",
      "from nltk.tokenize import word_tokenize\r\n",
      "import numpy as np\r\n",
      "import random\r\n",
      "import pickle\r\n",
      "from collections import Counter\r\n",
      "from nltk.stem import WordNetLemmatizer\r\n",
      "\r\n",
      "lemmatizer = WordNetLemmatizer()\r\n",
      "hm_lines = 100000\r\n",
      "\r\n",
      "\r\n",
      "# In[3]:\r\n",
      "\r\n",
      "\r\n",
      "def create_lexicon(pos, neg):\r\n",
      "    lexicon = []\r\n",
      "    with open(pos, 'r') as f:\r\n",
      "        contents = f.readlines()\r\n",
      "        for l in contents[:hm_lines]:\r\n",
      "            all_words = word_tokenize(l)\r\n",
      "            lexicon += list(all_words)\r\n",
      "            \r\n",
      "    with open(neg, 'r') as f:\r\n",
      "        contents = f.readlines()\r\n",
      "        for l in contents[:hm_lines]:\r\n",
      "            all_words = word_tokenize(l)\r\n",
      "            lexicon += list(all_words)\r\n",
      "            \r\n",
      "    lexicon = [lemmatizer.lemmatize(i) for i in lexicon]\r\n",
      "    w_counts = Counter(lexicon)\r\n",
      "    l2 = []\r\n",
      "    for w in w_counts:\r\n",
      "        if 1000 > w_counts[w] > 50:\r\n",
      "            l2.append(w)\r\n",
      "    print(len(l2))\r\n",
      "    return l2\r\n",
      "\r\n",
      "\r\n",
      "# In[7]:\r\n",
      "\r\n",
      "\r\n",
      "def sample_handling(sample, lexicon, classification):\r\n",
      "    featureset = []\r\n",
      "    with open(sample, 'r') as f:\r\n",
      "        contents = f.readlines()\r\n",
      "        for l in contents[:hm_lines]:\r\n",
      "            current_words = word_tokenize(l.lower())\r\n",
      "            current_words = [lemmatizer.lemmatize(i) for i in current_words]\r\n",
      "            features = np.zeros(len(lexicon))\r\n",
      "            for word in current_words:\r\n",
      "                if word.lower() in lexicon:\r\n",
      "                    index_value = lexicon.index(word.lower())\r\n",
      "                    features[index_value] += 1\r\n",
      "            features = list(features)\r\n",
      "            featureset.append([features, classification])\r\n",
      "            \r\n",
      "        return featureset\r\n",
      "\r\n",
      "\r\n",
      "# In[8]:\r\n",
      "\r\n",
      "\r\n",
      "def create_feature_sets_and_labels(pos, neg, test_size=0.1):\r\n",
      "    lexicon = create_lexicon(pos, neg)\r\n",
      "    features = []\r\n",
      "    features += sample_handling('pos.txt', lexicon, [1,0])\r\n",
      "    features += sample_handling('neg.txt', lexicon, [0,1])\r\n",
      "    random.shuffle(features)\r\n",
      "    features = np.array(features)\r\n",
      "    \r\n",
      "    testing_size = int(test_size*len(features))\r\n",
      "    \r\n",
      "    train_x = list(features[:, 0][:-testing_size])\r\n",
      "    train_y = list(features[:, 1][:-testing_size])\r\n",
      "    test_x = list(features[:, 0][-testing_size:])\r\n",
      "    test_y = list(features[:, 1][-testing_size:])\r\n",
      "    \r\n",
      "    return train_x, train_y, test_x, test_y\r\n",
      "\r\n",
      "\r\n",
      "# In[9]:\r\n",
      "\r\n",
      "\r\n",
      "if __name__ == '__main__':\r\n",
      "    train_x, train_y, test_x, test_y = create_feature_sets_and_labels('pos.txt', 'neg.txt')\r\n",
      "    with open('sentiment_set.pickle', 'wb') as f:\r\n",
      "        pickle.dump([train_x, train_y, test_x, test_y], f)\r\n",
      "\r\n"
     ]
    }
   ],
   "source": [
    "!cat create_sentiment_featuresets.py"
   ]
  },
  {
   "cell_type": "code",
   "execution_count": null,
   "metadata": {},
   "outputs": [],
   "source": []
  },
  {
   "cell_type": "code",
   "execution_count": null,
   "metadata": {},
   "outputs": [],
   "source": []
  },
  {
   "cell_type": "code",
   "execution_count": null,
   "metadata": {},
   "outputs": [],
   "source": []
  },
  {
   "cell_type": "code",
   "execution_count": null,
   "metadata": {},
   "outputs": [],
   "source": []
  },
  {
   "cell_type": "code",
   "execution_count": null,
   "metadata": {},
   "outputs": [],
   "source": []
  },
  {
   "cell_type": "code",
   "execution_count": null,
   "metadata": {},
   "outputs": [],
   "source": []
  },
  {
   "cell_type": "code",
   "execution_count": null,
   "metadata": {},
   "outputs": [],
   "source": []
  },
  {
   "cell_type": "code",
   "execution_count": null,
   "metadata": {},
   "outputs": [],
   "source": []
  },
  {
   "cell_type": "code",
   "execution_count": null,
   "metadata": {},
   "outputs": [],
   "source": []
  },
  {
   "cell_type": "code",
   "execution_count": null,
   "metadata": {},
   "outputs": [],
   "source": []
  },
  {
   "cell_type": "code",
   "execution_count": null,
   "metadata": {},
   "outputs": [],
   "source": []
  },
  {
   "cell_type": "code",
   "execution_count": null,
   "metadata": {},
   "outputs": [],
   "source": []
  },
  {
   "cell_type": "code",
   "execution_count": null,
   "metadata": {},
   "outputs": [],
   "source": []
  }
 ],
 "metadata": {
  "kernelspec": {
   "display_name": "Python 3",
   "language": "python",
   "name": "python3"
  },
  "language_info": {
   "codemirror_mode": {
    "name": "ipython",
    "version": 3
   },
   "file_extension": ".py",
   "mimetype": "text/x-python",
   "name": "python",
   "nbconvert_exporter": "python",
   "pygments_lexer": "ipython3",
   "version": "3.6.4"
  }
 },
 "nbformat": 4,
 "nbformat_minor": 2
}
