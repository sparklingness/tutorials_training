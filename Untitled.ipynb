{
 "cells": [
  {
   "cell_type": "code",
   "execution_count": 8,
   "metadata": {},
   "outputs": [
    {
     "name": "stdout",
     "output_type": "stream",
     "text": [
      "error 1209\n",
      "error 1210\n",
      "error 1211\n",
      "error 1212\n",
      "error 1213\n",
      "error 1214\n",
      "error 1215\n",
      "error 1216\n",
      "error 1217\n",
      "error 1218\n",
      "error 1219\n",
      "error 1220\n",
      "error 1221\n",
      "error 1222\n",
      "error 1223\n",
      "error 1224\n",
      "error 1225\n",
      "error 1226\n"
     ]
    }
   ],
   "source": [
    "import docx2txt\n",
    "import re\n",
    "for i in range(1209, 1227):\n",
    "    try :\n",
    "        MY_TEXT = docx2txt.process(str(i) + '.docx')\n",
    "    except :\n",
    "        print('error', i)\n",
    "        pass\n",
    "    else :\n",
    "        # 원문의 한글과 영어를 구분하여 저장 (kor, eng)\n",
    "        paragraphs = MY_TEXT.split(\"원문\\n\\n원문\")\n",
    "        news_kor = paragraphs[0]\n",
    "        result_k = \"\\n\".join([line for line in news_kor.split('\\n') if line.strip() != ''])\n",
    "        with open(str(i) + \"_kor.txt\", \"w\") as text_file:\n",
    "            print(result_k, file=text_file)\n",
    "        news_eng = paragraphs[1]\n",
    "        result_e = \"\\n\".join([line for line in news_eng.split('\\n') if line.strip() != ''])\n",
    "        with open(str(i) + \"_eng.txt\", \"w\") as text_file:\n",
    "            print(result_e, file=text_file)"
   ]
  },
  {
   "cell_type": "code",
   "execution_count": 2,
   "metadata": {},
   "outputs": [
    {
     "name": "stdout",
     "output_type": "stream",
     "text": [
      "Collecting docx2txt\n",
      "  Downloading docx2txt-0.8.tar.gz (2.8 kB)\n",
      "Building wheels for collected packages: docx2txt\n",
      "  Building wheel for docx2txt (setup.py) ... \u001b[?25ldone\n",
      "\u001b[?25h  Created wheel for docx2txt: filename=docx2txt-0.8-py3-none-any.whl size=3896 sha256=147fe1154449aa96673473354520e79b859db5b625dadb74c8a5f54c58ee85cd\n",
      "  Stored in directory: /Users/sparkling/Library/Caches/pip/wheels/66/d7/77/4dc0e151e2ef19b5474722fd943e312603f10016baab494f7a\n",
      "Successfully built docx2txt\n",
      "Installing collected packages: docx2txt\n",
      "Successfully installed docx2txt-0.8\n"
     ]
    }
   ],
   "source": [
    "!pip install docx2txt"
   ]
  },
  {
   "cell_type": "code",
   "execution_count": null,
   "metadata": {},
   "outputs": [],
   "source": []
  }
 ],
 "metadata": {
  "kernelspec": {
   "display_name": "Python 3",
   "language": "python",
   "name": "python3"
  },
  "language_info": {
   "codemirror_mode": {
    "name": "ipython",
    "version": 3
   },
   "file_extension": ".py",
   "mimetype": "text/x-python",
   "name": "python",
   "nbconvert_exporter": "python",
   "pygments_lexer": "ipython3",
   "version": "3.6.4"
  }
 },
 "nbformat": 4,
 "nbformat_minor": 2
}
