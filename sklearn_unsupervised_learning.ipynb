{
 "cells": [
  {
   "cell_type": "markdown",
   "metadata": {},
   "source": [
    "## Unsupervised learning: seeking representation of the data"
   ]
  },
  {
   "cell_type": "markdown",
   "metadata": {},
   "source": [
    "### Clustering: grouping observations together"
   ]
  },
  {
   "cell_type": "markdown",
   "metadata": {},
   "source": [
    "**K-means clustering**"
   ]
  },
  {
   "cell_type": "code",
   "execution_count": 17,
   "metadata": {},
   "outputs": [],
   "source": [
    "from sklearn import cluster, datasets\n",
    "X_iris, y_iris = datasets.load_iris(return_X_y=True)"
   ]
  },
  {
   "cell_type": "code",
   "execution_count": 18,
   "metadata": {},
   "outputs": [
    {
     "data": {
      "text/plain": [
       "KMeans(algorithm='auto', copy_x=True, init='k-means++', max_iter=300,\n",
       "    n_clusters=3, n_init=10, n_jobs=1, precompute_distances='auto',\n",
       "    random_state=None, tol=0.0001, verbose=0)"
      ]
     },
     "execution_count": 18,
     "metadata": {},
     "output_type": "execute_result"
    }
   ],
   "source": [
    "k_means = cluster.KMeans(n_clusters=3)\n",
    "k_means.fit(X_iris)"
   ]
  },
  {
   "cell_type": "code",
   "execution_count": 21,
   "metadata": {},
   "outputs": [
    {
     "data": {
      "text/plain": [
       "array([0, 0, 0, 0, 0, 1, 1, 1, 1, 1, 2, 2, 2, 2, 2], dtype=int32)"
      ]
     },
     "execution_count": 21,
     "metadata": {},
     "output_type": "execute_result"
    }
   ],
   "source": [
    "k_means.labels_[::10]"
   ]
  },
  {
   "cell_type": "code",
   "execution_count": 22,
   "metadata": {},
   "outputs": [
    {
     "data": {
      "text/plain": [
       "array([0, 0, 0, 0, 0, 1, 1, 1, 1, 1, 2, 2, 2, 2, 2])"
      ]
     },
     "execution_count": 22,
     "metadata": {},
     "output_type": "execute_result"
    }
   ],
   "source": [
    "y_iris[::10]"
   ]
  },
  {
   "cell_type": "code",
   "execution_count": 23,
   "metadata": {},
   "outputs": [],
   "source": [
    "import scipy as sp\n",
    "try:\n",
    "    face = sp.face(gray=True)\n",
    "except AttributeError:\n",
    "    from scipy import misc\n",
    "    face = misc.face(gray=True)"
   ]
  },
  {
   "cell_type": "code",
   "execution_count": 24,
   "metadata": {},
   "outputs": [
    {
     "data": {
      "text/plain": [
       "KMeans(algorithm='auto', copy_x=True, init='k-means++', max_iter=300,\n",
       "    n_clusters=5, n_init=1, n_jobs=1, precompute_distances='auto',\n",
       "    random_state=None, tol=0.0001, verbose=0)"
      ]
     },
     "execution_count": 24,
     "metadata": {},
     "output_type": "execute_result"
    }
   ],
   "source": [
    "X = face.reshape((-1, 1))\n",
    "k_means = cluster.KMeans(n_clusters=5, n_init=1)\n",
    "k_means.fit(X)"
   ]
  },
  {
   "cell_type": "code",
   "execution_count": 26,
   "metadata": {},
   "outputs": [
    {
     "name": "stdout",
     "output_type": "stream",
     "text": [
      "(768, 1024)\n",
      "[[114 130 145 ... 119 129 137]\n",
      " [ 83 104 123 ... 118 134 146]\n",
      " [ 68  88 109 ... 119 134 145]\n",
      " ...\n",
      " [ 98 103 116 ... 144 143 143]\n",
      " [ 94 104 120 ... 143 142 142]\n",
      " [ 94 106 119 ... 142 141 140]]\n",
      "[[114]\n",
      " [130]\n",
      " [145]\n",
      " ...\n",
      " [142]\n",
      " [141]\n",
      " [140]]\n"
     ]
    }
   ],
   "source": [
    "print(face.shape)\n",
    "print(face)\n",
    "print(X)"
   ]
  },
  {
   "cell_type": "code",
   "execution_count": 31,
   "metadata": {},
   "outputs": [],
   "source": [
    "values = k_means.cluster_centers_.squeeze()\n",
    "labels = k_means.labels_"
   ]
  },
  {
   "cell_type": "code",
   "execution_count": 34,
   "metadata": {},
   "outputs": [
    {
     "name": "stdout",
     "output_type": "stream",
     "text": [
      "(768, 1024)\n",
      "[[109.71975211 148.25700663 148.25700663 ... 109.71975211 148.25700663\n",
      "  148.25700663]\n",
      " [ 71.49771602 109.71975211 109.71975211 ... 109.71975211 148.25700663\n",
      "  148.25700663]\n",
      " [ 71.49771602  71.49771602 109.71975211 ... 109.71975211 148.25700663\n",
      "  148.25700663]\n",
      " ...\n",
      " [109.71975211 109.71975211 109.71975211 ... 148.25700663 148.25700663\n",
      "  148.25700663]\n",
      " [109.71975211 109.71975211 109.71975211 ... 148.25700663 148.25700663\n",
      "  148.25700663]\n",
      " [109.71975211 109.71975211 109.71975211 ... 148.25700663 148.25700663\n",
      "  148.25700663]]\n"
     ]
    }
   ],
   "source": [
    "import numpy as np\n",
    "face_compressed = np.choose(labels, values)\n",
    "face_compressed.shape = face.shape\n",
    "print(face_compressed.shape)\n",
    "print(face_compressed)"
   ]
  },
  {
   "cell_type": "markdown",
   "metadata": {},
   "source": [
    "**Connectivity-constrained clustering**"
   ]
  },
  {
   "cell_type": "code",
   "execution_count": 36,
   "metadata": {},
   "outputs": [],
   "source": [
    "from scipy.ndimage.filters import gaussian_filter\n",
    "\n",
    "import matplotlib.pyplot as plt\n",
    "\n",
    "import skimage\n",
    "from skimage.data import coins\n",
    "from skimage.transform import rescale\n",
    "\n",
    "from sklearn.feature_extraction.image import grid_to_graph\n",
    "from sklearn.cluster import AgglomerativeClustering"
   ]
  },
  {
   "cell_type": "code",
   "execution_count": 39,
   "metadata": {},
   "outputs": [],
   "source": [
    "orig_coins = coins()"
   ]
  },
  {
   "cell_type": "code",
   "execution_count": 40,
   "metadata": {},
   "outputs": [],
   "source": [
    "smoothened_coins = gaussian_filter(orig_coins, sigma=2)"
   ]
  },
  {
   "cell_type": "markdown",
   "metadata": {},
   "source": [
    "**Feature agglomeration**"
   ]
  },
  {
   "cell_type": "code",
   "execution_count": 41,
   "metadata": {},
   "outputs": [],
   "source": [
    "digits = datasets.load_digits()\n",
    "images = digits.images\n",
    "X = np.reshape(images, (len(images), -1))\n",
    "connectivity = grid_to_graph(*images[0].shape)"
   ]
  },
  {
   "cell_type": "code",
   "execution_count": 42,
   "metadata": {},
   "outputs": [
    {
     "data": {
      "text/plain": [
       "FeatureAgglomeration(affinity='euclidean', compute_full_tree='auto',\n",
       "           connectivity=<64x64 sparse matrix of type '<class 'numpy.int64'>'\n",
       "\twith 288 stored elements in COOrdinate format>,\n",
       "           linkage='ward', memory=None, n_clusters=32,\n",
       "           pooling_func=<function mean at 0x10ca37510>)"
      ]
     },
     "execution_count": 42,
     "metadata": {},
     "output_type": "execute_result"
    }
   ],
   "source": [
    "agglo = cluster.FeatureAgglomeration(connectivity=connectivity, n_clusters=32)\n",
    "agglo.fit(X)"
   ]
  },
  {
   "cell_type": "code",
   "execution_count": 44,
   "metadata": {},
   "outputs": [],
   "source": [
    "X_reduced = agglo.transform(X)\n",
    "X_approx = agglo.inverse_transform(X_reduced)\n",
    "images_approx = np.reshape(X_approx, images.shape)"
   ]
  },
  {
   "cell_type": "markdown",
   "metadata": {},
   "source": [
    "### Principal component analysis: PCA"
   ]
  },
  {
   "cell_type": "code",
   "execution_count": 47,
   "metadata": {},
   "outputs": [
    {
     "name": "stdout",
     "output_type": "stream",
     "text": [
      "[ 0.00888623  0.16479087  2.12727434  1.71355223  1.63674518  0.77503819\n",
      " -1.10710398  0.20903618  1.51977496  0.60370425] [-0.93095089  0.72476615 -0.2426903   0.20269196  1.36901722 -1.83578985\n",
      "  1.21601555 -0.72778767 -0.61191741  0.1205131 ] [-0.92206465  0.88955702  1.88458405  1.91624419  3.0057624  -1.06075166\n",
      "  0.10891157 -0.51875149  0.90785755  0.72421735]\n",
      "[[ 0.00888623 -0.93095089 -0.92206465]\n",
      " [ 0.16479087  0.72476615  0.88955702]\n",
      " [ 2.12727434 -0.2426903   1.88458405]\n",
      " [ 1.71355223  0.20269196  1.91624419]\n",
      " [ 1.63674518  1.36901722  3.0057624 ]\n",
      " [ 0.77503819 -1.83578985 -1.06075166]\n",
      " [-1.10710398  1.21601555  0.10891157]\n",
      " [ 0.20903618 -0.72778767 -0.51875149]\n",
      " [ 1.51977496 -0.61191741  0.90785755]\n",
      " [ 0.60370425  0.1205131   0.72421735]]\n"
     ]
    }
   ],
   "source": [
    "# Create a signal with only 2 useful dimensions\n",
    "x1 = np.random.normal(size=100)\n",
    "x2 = np.random.normal(size=100)\n",
    "x3 = x1 + x2\n",
    "X = np.c_[x1, x2, x3]\n",
    "print(x1[:10], x2[:10], x3[:10])\n",
    "print(X[:10])"
   ]
  },
  {
   "cell_type": "code",
   "execution_count": 49,
   "metadata": {},
   "outputs": [
    {
     "name": "stdout",
     "output_type": "stream",
     "text": [
      "[3.16564232e+00 1.09536551e+00 8.75543105e-32]\n"
     ]
    }
   ],
   "source": [
    "from sklearn import decomposition \n",
    "pca = decomposition.PCA()\n",
    "pca.fit(X)\n",
    "print(pca.explained_variance_)"
   ]
  },
  {
   "cell_type": "code",
   "execution_count": 51,
   "metadata": {},
   "outputs": [
    {
     "name": "stdout",
     "output_type": "stream",
     "text": [
      "[[-1.00353142  0.60591993]\n",
      " [ 1.21436336 -0.45644581]\n",
      " [ 2.43473398  1.61432402]\n",
      " [ 2.47300618  1.00681358]\n",
      " [ 3.80665915  0.12668085]\n",
      " [-1.17240845  1.7876293 ]\n",
      " [ 0.25723907 -1.70238438]\n",
      " [-0.50957762  0.60337992]\n",
      " [ 1.23835401  1.4468314 ]\n",
      " [ 1.01247576  0.28135179]\n",
      " [-3.08859078 -2.09113524]\n",
      " [ 2.01632848  1.08072888]\n",
      " [-1.8148905  -0.99343992]\n",
      " [ 0.03362237 -0.65273302]\n",
      " [ 0.61056536  1.04696137]\n",
      " [ 0.56923497  0.96474434]\n",
      " [ 0.71474682  0.95053013]\n",
      " [-0.72889572  0.84873062]\n",
      " [-0.32140781 -0.40569113]\n",
      " [-4.52158451 -0.89600683]\n",
      " [ 0.8656881   0.52502407]\n",
      " [-1.1491441   0.04846375]\n",
      " [ 0.85971791  1.21573184]\n",
      " [-2.32551579 -0.09998278]\n",
      " [ 1.12675572  0.94327741]\n",
      " [ 0.20162727 -0.05663225]\n",
      " [-1.56829148 -0.29140343]\n",
      " [ 0.02726632 -1.34488363]\n",
      " [ 0.01872432 -0.83899062]\n",
      " [-0.73011779 -1.14662835]\n",
      " [-0.45331462 -0.75217515]\n",
      " [ 1.00546099 -1.43054978]\n",
      " [-3.54144673  1.34397328]\n",
      " [ 1.26551132 -0.27756249]\n",
      " [-0.68328381  0.81184471]\n",
      " [ 0.28617529 -0.8078148 ]\n",
      " [-1.02112755 -1.75724136]\n",
      " [-0.61183553 -0.82841608]\n",
      " [ 0.39667004  0.24376151]\n",
      " [ 2.41413861 -1.23275037]\n",
      " [ 3.45402958 -1.59711085]\n",
      " [ 0.15286594  0.37809734]\n",
      " [-0.28500797 -0.00803713]\n",
      " [-2.56771948 -0.58423614]\n",
      " [ 0.61284358  0.91850622]\n",
      " [-0.13242493  1.0858556 ]\n",
      " [-1.42088544  0.90632166]\n",
      " [ 0.81493204 -0.15303885]\n",
      " [ 2.60458937 -0.79228385]\n",
      " [ 1.25124752  1.30829531]\n",
      " [-0.72994705  0.77098531]\n",
      " [ 0.78990476 -0.88758464]\n",
      " [-0.46945584  0.48284818]\n",
      " [ 1.59031986 -1.0467615 ]\n",
      " [ 0.30860371 -1.55840567]\n",
      " [-0.52183075 -0.40886311]\n",
      " [ 1.70288911  1.25542499]\n",
      " [ 0.03045293 -0.32513445]\n",
      " [ 2.47870125 -1.03789359]\n",
      " [ 2.73641506  2.27315733]\n",
      " [ 1.68340145  0.91401883]\n",
      " [-0.10771696  0.05262029]\n",
      " [-0.31365689 -1.49804064]\n",
      " [-0.35805373 -0.28857841]\n",
      " [-1.84312859  0.74152105]\n",
      " [ 0.16389593 -1.24420146]\n",
      " [ 2.2369358  -1.13744905]\n",
      " [-3.31900537  1.10263783]\n",
      " [-1.72017425  1.35214979]\n",
      " [ 1.462053   -1.04308684]\n",
      " [-2.44977617  0.39171737]\n",
      " [ 0.9689823   1.29727292]\n",
      " [-0.04574262 -1.41599922]\n",
      " [ 0.05806714  0.24060074]\n",
      " [-2.24008883 -0.26504426]\n",
      " [-1.70843558 -1.49712298]\n",
      " [ 0.53277839  2.07138277]\n",
      " [-4.74792923  0.89017254]\n",
      " [-3.34389186  0.32628382]\n",
      " [-1.76517702  1.09019869]\n",
      " [ 1.22889205 -2.1881722 ]\n",
      " [ 0.45787783  0.18402355]\n",
      " [ 1.24159339 -1.91197013]\n",
      " [-1.03932084  1.41625322]\n",
      " [-1.12724698 -0.57459824]\n",
      " [ 0.67652776  0.23256479]\n",
      " [ 1.79913559 -0.90783312]\n",
      " [-3.24198251  0.5279582 ]\n",
      " [ 1.27208015 -0.21756081]\n",
      " [ 0.20388817  0.80105398]\n",
      " [ 4.7688924   2.08344875]\n",
      " [-2.71168966 -0.19117351]\n",
      " [ 0.38739179 -0.49677385]\n",
      " [-1.48457176  0.85755194]\n",
      " [ 1.02884774  0.43285821]\n",
      " [ 1.15852033 -0.40653025]\n",
      " [-2.41849267 -1.11041092]\n",
      " [ 1.84595588 -1.05623066]\n",
      " [ 2.49052661 -0.62570731]\n",
      " [-1.68478657  0.65621715]]\n"
     ]
    },
    {
     "data": {
      "text/plain": [
       "(100, 2)"
      ]
     },
     "execution_count": 51,
     "metadata": {},
     "output_type": "execute_result"
    }
   ],
   "source": [
    "# As we can see, only the 2 first components are useful\n",
    "pca.n_components = 2\n",
    "X_reduced = pca.fit_transform(X)\n",
    "print(X_reduced)\n",
    "X_reduced.shape"
   ]
  },
  {
   "cell_type": "markdown",
   "metadata": {},
   "source": [
    "**Independent Component Analysis: ICA**"
   ]
  },
  {
   "cell_type": "code",
   "execution_count": 53,
   "metadata": {},
   "outputs": [],
   "source": [
    "# Generate sample data\n",
    "import numpy as np\n",
    "from scipy import signal\n",
    "time = np.linspace(0, 10, 2000)\n",
    "s1 = np.sin(2*time)  # Signal 1 : sinusoidal signal\n",
    "s2 = np.sign(np.sin(3*time))  # Signal 2 : square signal\n",
    "s3 = signal.sawtooth(2*np.pi*time)  # Signal 3: saw tooth signal\n",
    "S = np.c_[s1, s2, s3]\n",
    "S += 0.2 * np.random.normal(size=S.shape)  # Add noise\n",
    "S /= S.std(axis=0)  # Standardize data\n",
    "# Mix data\n",
    "A = np.array([[1, 1, 1], [0.5, 2, 1], [1.5, 1, 2]])  # Mixing matrix\n",
    "X = np.dot(S, A.T) # Generate observations"
   ]
  },
  {
   "cell_type": "code",
   "execution_count": 54,
   "metadata": {},
   "outputs": [
    {
     "data": {
      "text/plain": [
       "True"
      ]
     },
     "execution_count": 54,
     "metadata": {},
     "output_type": "execute_result"
    }
   ],
   "source": [
    "# Compute ICA\n",
    "ica = decomposition.FastICA()\n",
    "S_ = ica.fit_transform(X)  # Get the estimated sources\n",
    "A_ = ica.mixing_.T\n",
    "np.allclose(X, np.dot(S_, A_) + ica.mean_)"
   ]
  },
  {
   "cell_type": "code",
   "execution_count": 55,
   "metadata": {},
   "outputs": [
    {
     "data": {
      "text/plain": [
       "array([[ 3.92354981e-05,  3.83796543e-02,  1.25002565e-02],\n",
       "       [ 4.95033714e-03,  3.36125491e-02, -1.81928265e-02],\n",
       "       [ 1.43351077e-03,  2.92367839e-02, -1.59301801e-02],\n",
       "       ...,\n",
       "       [ 1.58981951e-02, -4.50493138e-02,  1.40377393e-02],\n",
       "       [ 1.43537144e-02, -3.32467468e-02,  3.03019443e-02],\n",
       "       [ 3.72095277e-02,  4.47319000e-02,  2.69802230e-02]])"
      ]
     },
     "execution_count": 55,
     "metadata": {},
     "output_type": "execute_result"
    }
   ],
   "source": [
    "S_"
   ]
  },
  {
   "cell_type": "code",
   "execution_count": 56,
   "metadata": {},
   "outputs": [
    {
     "data": {
      "text/plain": [
       "array([[ 44.48704788,  21.33099325,  67.44794734],\n",
       "       [-45.22514513, -43.9374162 , -90.53016874],\n",
       "       [-42.08493469, -87.50810177, -40.17562733]])"
      ]
     },
     "execution_count": 56,
     "metadata": {},
     "output_type": "execute_result"
    }
   ],
   "source": [
    "A_"
   ]
  },
  {
   "cell_type": "code",
   "execution_count": null,
   "metadata": {},
   "outputs": [],
   "source": []
  }
 ],
 "metadata": {
  "kernelspec": {
   "display_name": "Python 3",
   "language": "python",
   "name": "python3"
  },
  "language_info": {
   "codemirror_mode": {
    "name": "ipython",
    "version": 3
   },
   "file_extension": ".py",
   "mimetype": "text/x-python",
   "name": "python",
   "nbconvert_exporter": "python",
   "pygments_lexer": "ipython3",
   "version": "3.6.4"
  }
 },
 "nbformat": 4,
 "nbformat_minor": 2
}
