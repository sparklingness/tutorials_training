{
  "nbformat": 4,
  "nbformat_minor": 0,
  "metadata": {
    "colab": {
      "name": "pytorch-nlp_2_embeddings.ipynb",
      "provenance": []
    },
    "kernelspec": {
      "name": "python3",
      "display_name": "Python 3"
    },
    "accelerator": "GPU"
  },
  "cells": [
    {
      "cell_type": "code",
      "metadata": {
        "id": "rkPmkKzD6K3Q",
        "colab_type": "code",
        "outputId": "4faac030-7e64-4736-edce-080cc98608f0",
        "colab": {
          "base_uri": "https://localhost:8080/",
          "height": 97
        }
      },
      "source": [
        "! pip install pymagnitude pytorch_pretrained_bert tensorboardcolab -q"
      ],
      "execution_count": 2,
      "outputs": [
        {
          "output_type": "stream",
          "text": [
            "\u001b[K     |████████████████████████████████| 5.4MB 3.9MB/s \n",
            "\u001b[K     |████████████████████████████████| 133kB 48.4MB/s \n",
            "\u001b[?25h  Building wheel for pymagnitude (setup.py) ... \u001b[?25l\u001b[?25hdone\n"
          ],
          "name": "stdout"
        }
      ]
    },
    {
      "cell_type": "code",
      "metadata": {
        "id": "AN3GBOjx85Zw",
        "colab_type": "code",
        "colab": {
          "base_uri": "https://localhost:8080/",
          "height": 97
        },
        "outputId": "21b9fdd3-d28d-487c-d449-3283f6dba3ce"
      },
      "source": [
        "import matplotlib.pyplot as plt\n",
        "import numpy as np\n",
        "import torch\n",
        "import torch.nn as nn\n",
        "from pymagnitude import Magnitude\n",
        "from pytorch_pretrained_bert import BertTokenizer, BertModel, BertForMaskedLM\n",
        "from scipy import spatial\n",
        "from sklearn.manifold import TSNE\n",
        "from tensorboardcolab import TensorBoardColab\n",
        "from torch.utils.tensorboard import SummaryWriter\n",
        "from tqdm import tqdm_notebook as tqdm\n",
        "\n",
        "%config InlineBackend.figure_format = 'svg'\n",
        "%matplotlib inline\n",
        "\n",
        "RED, BLUE = '#FF4136', '#0074D9'"
      ],
      "execution_count": 3,
      "outputs": [
        {
          "output_type": "display_data",
          "data": {
            "text/html": [
              "<p style=\"color: red;\">\n",
              "The default version of TensorFlow in Colab will soon switch to TensorFlow 2.x.<br>\n",
              "We recommend you <a href=\"https://www.tensorflow.org/guide/migrate\" target=\"_blank\">upgrade</a> now \n",
              "or ensure your notebook will continue to use TensorFlow 1.x via the <code>%tensorflow_version 1.x</code> magic:\n",
              "<a href=\"https://colab.research.google.com/notebooks/tensorflow_version.ipynb\" target=\"_blank\">more info</a>.</p>\n"
            ],
            "text/plain": [
              "<IPython.core.display.HTML object>"
            ]
          },
          "metadata": {
            "tags": []
          }
        },
        {
          "output_type": "stream",
          "text": [
            "Using TensorFlow backend.\n"
          ],
          "name": "stderr"
        }
      ]
    },
    {
      "cell_type": "code",
      "metadata": {
        "id": "uHY_kgnDCheH",
        "colab_type": "code",
        "colab": {
          "base_uri": "https://localhost:8080/",
          "height": 34
        },
        "outputId": "7181e608-0b30-4471-d415-4feb686047f1"
      },
      "source": [
        "sentence = 'the quick brown fox jumps over the lazy dog'\n",
        "words = sentence.split()\n",
        "words"
      ],
      "execution_count": 4,
      "outputs": [
        {
          "output_type": "execute_result",
          "data": {
            "text/plain": [
              "['the', 'quick', 'brown', 'fox', 'jumps', 'over', 'the', 'lazy', 'dog']"
            ]
          },
          "metadata": {
            "tags": []
          },
          "execution_count": 4
        }
      ]
    },
    {
      "cell_type": "code",
      "metadata": {
        "id": "PwwGQaI7CpfV",
        "colab_type": "code",
        "colab": {
          "base_uri": "https://localhost:8080/",
          "height": 153
        },
        "outputId": "7db63703-85b8-4f80-f99f-2e2a1806a7e8"
      },
      "source": [
        "word2idx = {word: idx for idx, word in enumerate(sorted(set(words)))}\n",
        "word2idx"
      ],
      "execution_count": 5,
      "outputs": [
        {
          "output_type": "execute_result",
          "data": {
            "text/plain": [
              "{'brown': 0,\n",
              " 'dog': 1,\n",
              " 'fox': 2,\n",
              " 'jumps': 3,\n",
              " 'lazy': 4,\n",
              " 'over': 5,\n",
              " 'quick': 6,\n",
              " 'the': 7}"
            ]
          },
          "metadata": {
            "tags": []
          },
          "execution_count": 5
        }
      ]
    },
    {
      "cell_type": "code",
      "metadata": {
        "id": "F26T9nszDJTH",
        "colab_type": "code",
        "colab": {
          "base_uri": "https://localhost:8080/",
          "height": 34
        },
        "outputId": "f71956fc-b825-4460-a81f-9925377e9cb7"
      },
      "source": [
        "idxs = torch.LongTensor([word2idx[word] for word in sentence.split()])\n",
        "idxs"
      ],
      "execution_count": 6,
      "outputs": [
        {
          "output_type": "execute_result",
          "data": {
            "text/plain": [
              "tensor([7, 6, 0, 2, 3, 5, 7, 4, 1])"
            ]
          },
          "metadata": {
            "tags": []
          },
          "execution_count": 6
        }
      ]
    },
    {
      "cell_type": "code",
      "metadata": {
        "id": "bMsRmvcJDfbg",
        "colab_type": "code",
        "colab": {
          "base_uri": "https://localhost:8080/",
          "height": 187
        },
        "outputId": "b52af423-7d2a-488c-f878-90ef7021f039"
      },
      "source": [
        "embedding_layer = nn.Embedding(num_embeddings=len(word2idx), embedding_dim=3)\n",
        "embeddings = embedding_layer(idxs)\n",
        "embeddings, embeddings.shape"
      ],
      "execution_count": 7,
      "outputs": [
        {
          "output_type": "execute_result",
          "data": {
            "text/plain": [
              "(tensor([[-1.9391,  0.0103,  0.1041],\n",
              "         [-0.6530, -0.3374, -0.7447],\n",
              "         [ 1.8776, -0.8010, -0.7647],\n",
              "         [-0.2534,  0.9037,  0.0338],\n",
              "         [-1.2020, -0.0079, -0.6353],\n",
              "         [-1.2267, -0.8425,  1.7056],\n",
              "         [-1.9391,  0.0103,  0.1041],\n",
              "         [-0.5909, -1.1822, -2.0278],\n",
              "         [ 0.4273,  1.9525, -0.0419]], grad_fn=<EmbeddingBackward>),\n",
              " torch.Size([9, 3]))"
            ]
          },
          "metadata": {
            "tags": []
          },
          "execution_count": 7
        }
      ]
    },
    {
      "cell_type": "code",
      "metadata": {
        "id": "xZv7gs_nInVX",
        "colab_type": "code",
        "colab": {
          "base_uri": "https://localhost:8080/",
          "height": 385
        },
        "outputId": "7ed28217-34c0-40e1-b333-163be8916ee5"
      },
      "source": [
        "!wget http://magnitude.plasticity.ai/glove/light/glove.6B.50d.magnitude glove/"
      ],
      "execution_count": 8,
      "outputs": [
        {
          "output_type": "stream",
          "text": [
            "--2020-02-17 06:10:22--  http://magnitude.plasticity.ai/glove/light/glove.6B.50d.magnitude\n",
            "Resolving magnitude.plasticity.ai (magnitude.plasticity.ai)... 52.216.236.10\n",
            "Connecting to magnitude.plasticity.ai (magnitude.plasticity.ai)|52.216.236.10|:80... connected.\n",
            "HTTP request sent, awaiting response... 200 OK\n",
            "Length: 102670336 (98M) [binary/octet-stream]\n",
            "Saving to: ‘glove.6B.50d.magnitude’\n",
            "\n",
            "glove.6B.50d.magnit 100%[===================>]  97.91M  36.8MB/s    in 2.7s    \n",
            "\n",
            "2020-02-17 06:10:25 (36.8 MB/s) - ‘glove.6B.50d.magnitude’ saved [102670336/102670336]\n",
            "\n",
            "--2020-02-17 06:10:25--  http://glove/\n",
            "Resolving glove (glove)... failed: Name or service not known.\n",
            "wget: unable to resolve host address ‘glove’\n",
            "FINISHED --2020-02-17 06:10:25--\n",
            "Total wall clock time: 3.0s\n",
            "Downloaded: 1 files, 98M in 2.7s (36.8 MB/s)\n"
          ],
          "name": "stdout"
        }
      ]
    },
    {
      "cell_type": "code",
      "metadata": {
        "id": "JSxjeeXZMFzo",
        "colab_type": "code",
        "colab": {
          "base_uri": "https://localhost:8080/",
          "height": 148
        },
        "outputId": "96d7daa1-4eac-48f5-8c36-a3c496ec3126"
      },
      "source": [
        "!ls -al"
      ],
      "execution_count": 9,
      "outputs": [
        {
          "output_type": "stream",
          "text": [
            "total 100280\n",
            "drwxr-xr-x 1 root root      4096 Feb 17 06:10 .\n",
            "drwxr-xr-x 1 root root      4096 Feb 17 06:07 ..\n",
            "drwxr-xr-x 1 root root      4096 Feb 13 17:15 .config\n",
            "-rw-r--r-- 1 root root 102670336 Oct 27  2018 glove.6B.50d.magnitude\n",
            "drwxr-xr-x 1 root root      4096 Feb  5 18:37 sample_data\n"
          ],
          "name": "stdout"
        }
      ]
    },
    {
      "cell_type": "code",
      "metadata": {
        "id": "Sg-k7d_KMHzi",
        "colab_type": "code",
        "colab": {
          "base_uri": "https://localhost:8080/",
          "height": 63
        },
        "outputId": "1c57cf0e-fbf3-48b6-eb28-d39e7ebf1993"
      },
      "source": [
        "!wc -l glove.6B.50d.magnitude"
      ],
      "execution_count": 10,
      "outputs": [
        {
          "output_type": "stream",
          "text": [
            "652242 glove.6B.50d.magnitude\n"
          ],
          "name": "stdout"
        }
      ]
    },
    {
      "cell_type": "code",
      "metadata": {
        "id": "w9VLwQqKNr0_",
        "colab_type": "code",
        "colab": {}
      },
      "source": [
        "glove_vectors = Magnitude('glove/glove.6B.50d.magnitude')"
      ],
      "execution_count": 0,
      "outputs": []
    },
    {
      "cell_type": "code",
      "metadata": {
        "id": "OEaG8FjXMsCH",
        "colab_type": "code",
        "colab": {
          "base_uri": "https://localhost:8080/",
          "height": 238
        },
        "outputId": "ea9e9d7e-3c49-42ee-eb6c-a889c564d99d"
      },
      "source": [
        "glove_embeddings = glove_vectors.query(words)\n",
        "glove_embeddings[0], glove_embeddings.shape"
      ],
      "execution_count": 12,
      "outputs": [
        {
          "output_type": "execute_result",
          "data": {
            "text/plain": [
              "(array([ 8.414140e-02,  5.025940e-02, -8.301820e-02,  2.449760e-02,\n",
              "         6.950120e-02, -8.949000e-03, -1.000196e-01, -3.595540e-02,\n",
              "        -1.329000e-04, -1.321705e-01,  5.604660e-02, -2.972530e-02,\n",
              "        -1.120752e-01,  2.950590e-02, -1.914200e-03,  2.346700e-03,\n",
              "         2.054020e-02, -2.574970e-02, -1.699536e-01, -2.451980e-02,\n",
              "        -3.382000e-03, -6.698900e-02, -3.124100e-02, -4.656160e-02,\n",
              "        -3.861040e-02, -3.788981e-01, -1.544861e-01,  1.993850e-02,\n",
              "        -8.479560e-02, -3.930490e-02,  8.066102e-01, -3.742880e-02,\n",
              "        -1.052513e-01, -6.377240e-02,  1.192000e-04,  1.498600e-03,\n",
              "         3.578630e-02, -3.199990e-02,  2.423800e-03, -1.091480e-02,\n",
              "        -6.012890e-02, -3.170200e-02, -6.996620e-02, -9.186500e-03,\n",
              "        -8.907520e-02,  3.781330e-02,  5.606000e-04, -3.706050e-02,\n",
              "        -2.317710e-02, -1.581798e-01], dtype=float32), (9, 50))"
            ]
          },
          "metadata": {
            "tags": []
          },
          "execution_count": 12
        }
      ]
    },
    {
      "cell_type": "code",
      "metadata": {
        "id": "MvKrJUvWNPNm",
        "colab_type": "code",
        "colab": {}
      },
      "source": [
        "def cosine_similarity(word1, word2):\n",
        "  vector1, vector2 = glove_vectors.query(word1), glove_vectors.query(word2)\n",
        "  return 1 - spatial.distance.cosine(vector1.reshape((1,-1)), vector2.reshape((1,-1)))"
      ],
      "execution_count": 0,
      "outputs": []
    },
    {
      "cell_type": "code",
      "metadata": {
        "id": "HKvusWBGOz28",
        "colab_type": "code",
        "colab": {
          "base_uri": "https://localhost:8080/",
          "height": 85
        },
        "outputId": "4c679186-8f32-45df-8d1c-7b03a891878e"
      },
      "source": [
        "word_pairs = [\n",
        "              ('dog', 'cat'),\n",
        "              ('tree', 'cat'), \n",
        "              ('tree', 'leaf'),\n",
        "              ('king', 'queen'),\n",
        "]\n",
        "\n",
        "for word1, word2 in word_pairs:\n",
        "  print(f'Similarity between \"{word1}\" and \"{word2}\" :\\t{cosine_similarity(word1, word2):.2f}')"
      ],
      "execution_count": 14,
      "outputs": [
        {
          "output_type": "stream",
          "text": [
            "Similarity between \"dog\" and \"cat\" :\t0.92\n",
            "Similarity between \"tree\" and \"cat\" :\t0.57\n",
            "Similarity between \"tree\" and \"leaf\" :\t0.74\n",
            "Similarity between \"king\" and \"queen\" :\t0.78\n"
          ],
          "name": "stdout"
        }
      ]
    },
    {
      "cell_type": "code",
      "metadata": {
        "id": "ny4WTLNsOz9U",
        "colab_type": "code",
        "colab": {}
      },
      "source": [
        "ANIMALS = [\n",
        "    'whale',\n",
        "    'fish',\n",
        "    'horse',\n",
        "    'rabbit',\n",
        "    'sheep',\n",
        "    'lion',\n",
        "    'dog',\n",
        "    'cat',\n",
        "    'tiger',\n",
        "    'hamster',\n",
        "    'pig',\n",
        "    'goat',\n",
        "    'lizard',\n",
        "    'elephant',\n",
        "    'giraffe',\n",
        "    'hippo',\n",
        "    'zebra',\n",
        "]\n",
        "\n",
        "HOUSEHOLD_OBJECTS = [\n",
        "    'stapler',\n",
        "    'screw',\n",
        "    'nail',\n",
        "    'tv',\n",
        "    'dresser',\n",
        "    'keyboard',\n",
        "    'hairdryer',\n",
        "    'couch',\n",
        "    'sofa',\n",
        "    'lamp',\n",
        "    'chair',\n",
        "    'desk',\n",
        "    'pen',\n",
        "    'pencil',\n",
        "    'table',\n",
        "    'sock',\n",
        "    'floor',\n",
        "    'wall',\n",
        "]"
      ],
      "execution_count": 0,
      "outputs": []
    },
    {
      "cell_type": "code",
      "metadata": {
        "id": "TIKuRCt8O0Em",
        "colab_type": "code",
        "colab": {
          "base_uri": "https://localhost:8080/",
          "height": 34
        },
        "outputId": "bc40a625-e2b5-48a9-8df9-44af17d1f416"
      },
      "source": [
        "tsne_words_embedded = TSNE(n_components=2).fit_transform(glove_vectors.query(ANIMALS+HOUSEHOLD_OBJECTS))\n",
        "tsne_words_embedded.shape"
      ],
      "execution_count": 16,
      "outputs": [
        {
          "output_type": "execute_result",
          "data": {
            "text/plain": [
              "(35, 2)"
            ]
          },
          "metadata": {
            "tags": []
          },
          "execution_count": 16
        }
      ]
    },
    {
      "cell_type": "code",
      "metadata": {
        "id": "sTXQFrg1O0Ks",
        "colab_type": "code",
        "colab": {
          "base_uri": "https://localhost:8080/",
          "height": 680
        },
        "outputId": "bab5f9cf-b644-4366-f8c4-aad98122ca36"
      },
      "source": [
        "x, y = zip(*tsne_words_embedded)\n",
        "\n",
        "fig, ax = plt.subplots(figsize=(10, 8))\n",
        "\n",
        "for i, label in enumerate(ANIMALS + HOUSEHOLD_OBJECTS):\n",
        "  if label in ANIMALS:\n",
        "    color = BLUE\n",
        "  elif label in HOUSEHOLD_OBJECTS:\n",
        "    color = RED\n",
        "\n",
        "  ax.scatter(x[i], y[i], c = color)\n",
        "  ax.annotate(label, (x[i], y[i]))\n",
        "\n",
        "ax.axis('off')\n",
        "\n",
        "plt.show()"
      ],
      "execution_count": 17,
      "outputs": [
        {
          "output_type": "display_data",
          "data": {
            "text/plain": [
              "<Figure size 720x576 with 1 Axes>"
            ],
            "image/svg+xml": "<?xml version=\"1.0\" encoding=\"utf-8\" standalone=\"no\"?>\n<!DOCTYPE svg PUBLIC \"-//W3C//DTD SVG 1.1//EN\"\n  \"http://www.w3.org/Graphics/SVG/1.1/DTD/svg11.dtd\">\n<!-- Created with matplotlib (https://matplotlib.org/) -->\n<svg height=\"449.28pt\" version=\"1.1\" viewBox=\"0 0 572.4 449.28\" width=\"572.4pt\" xmlns=\"http://www.w3.org/2000/svg\" xmlns:xlink=\"http://www.w3.org/1999/xlink\">\n <defs>\n  <style type=\"text/css\">\n*{stroke-linecap:butt;stroke-linejoin:round;}\n  </style>\n </defs>\n <g id=\"figure_1\">\n  <g id=\"patch_1\">\n   <path d=\"M 0 449.28 \nL 572.4 449.28 \nL 572.4 0 \nL 0 0 \nz\n\" style=\"fill:none;\"/>\n  </g>\n  <g id=\"axes_1\">\n   <g id=\"PathCollection_1\">\n    <defs>\n     <path d=\"M 0 3 \nC 0.795609 3 1.55874 2.683901 2.12132 2.12132 \nC 2.683901 1.55874 3 0.795609 3 0 \nC 3 -0.795609 2.683901 -1.55874 2.12132 -2.12132 \nC 1.55874 -2.683901 0.795609 -3 0 -3 \nC -0.795609 -3 -1.55874 -2.683901 -2.12132 -2.12132 \nC -2.683901 -1.55874 -3 -0.795609 -3 0 \nC -3 0.795609 -2.683901 1.55874 -2.12132 2.12132 \nC -1.55874 2.683901 -0.795609 3 0 3 \nz\n\" id=\"m3596b52cb9\" style=\"stroke:#0074d9;\"/>\n    </defs>\n    <g clip-path=\"url(#p8f9be83198)\">\n     <use style=\"fill:#0074d9;stroke:#0074d9;\" x=\"106.757109\" xlink:href=\"#m3596b52cb9\" y=\"147.979181\"/>\n    </g>\n   </g>\n   <g id=\"PathCollection_2\">\n    <g clip-path=\"url(#p8f9be83198)\">\n     <use style=\"fill:#0074d9;stroke:#0074d9;\" x=\"174.065811\" xlink:href=\"#m3596b52cb9\" y=\"171.111833\"/>\n    </g>\n   </g>\n   <g id=\"PathCollection_3\">\n    <g clip-path=\"url(#p8f9be83198)\">\n     <use style=\"fill:#0074d9;stroke:#0074d9;\" x=\"260.245147\" xlink:href=\"#m3596b52cb9\" y=\"366.38177\"/>\n    </g>\n   </g>\n   <g id=\"PathCollection_4\">\n    <g clip-path=\"url(#p8f9be83198)\">\n     <use style=\"fill:#0074d9;stroke:#0074d9;\" x=\"260.917713\" xlink:href=\"#m3596b52cb9\" y=\"191.475305\"/>\n    </g>\n   </g>\n   <g id=\"PathCollection_5\">\n    <g clip-path=\"url(#p8f9be83198)\">\n     <use style=\"fill:#0074d9;stroke:#0074d9;\" x=\"181.180005\" xlink:href=\"#m3596b52cb9\" y=\"358.301963\"/>\n    </g>\n   </g>\n   <g id=\"PathCollection_6\">\n    <g clip-path=\"url(#p8f9be83198)\">\n     <use style=\"fill:#0074d9;stroke:#0074d9;\" x=\"138.188961\" xlink:href=\"#m3596b52cb9\" y=\"227.15969\"/>\n    </g>\n   </g>\n   <g id=\"PathCollection_7\">\n    <g clip-path=\"url(#p8f9be83198)\">\n     <use style=\"fill:#0074d9;stroke:#0074d9;\" x=\"243.159364\" xlink:href=\"#m3596b52cb9\" y=\"301.010546\"/>\n    </g>\n   </g>\n   <g id=\"PathCollection_8\">\n    <g clip-path=\"url(#p8f9be83198)\">\n     <use style=\"fill:#0074d9;stroke:#0074d9;\" x=\"276.080621\" xlink:href=\"#m3596b52cb9\" y=\"252.390405\"/>\n    </g>\n   </g>\n   <g id=\"PathCollection_9\">\n    <g clip-path=\"url(#p8f9be83198)\">\n     <use style=\"fill:#0074d9;stroke:#0074d9;\" x=\"58.695601\" xlink:href=\"#m3596b52cb9\" y=\"211.361299\"/>\n    </g>\n   </g>\n   <g id=\"PathCollection_10\">\n    <g clip-path=\"url(#p8f9be83198)\">\n     <use style=\"fill:#0074d9;stroke:#0074d9;\" x=\"306.904453\" xlink:href=\"#m3596b52cb9\" y=\"124.196581\"/>\n    </g>\n   </g>\n   <g id=\"PathCollection_11\">\n    <g clip-path=\"url(#p8f9be83198)\">\n     <use style=\"fill:#0074d9;stroke:#0074d9;\" x=\"230.234902\" xlink:href=\"#m3596b52cb9\" y=\"136.736633\"/>\n    </g>\n   </g>\n   <g id=\"PathCollection_12\">\n    <g clip-path=\"url(#p8f9be83198)\">\n     <use style=\"fill:#0074d9;stroke:#0074d9;\" x=\"210.539398\" xlink:href=\"#m3596b52cb9\" y=\"231.387298\"/>\n    </g>\n   </g>\n   <g id=\"PathCollection_13\">\n    <g clip-path=\"url(#p8f9be83198)\">\n     <use style=\"fill:#0074d9;stroke:#0074d9;\" x=\"105.740552\" xlink:href=\"#m3596b52cb9\" y=\"284.450128\"/>\n    </g>\n   </g>\n   <g id=\"PathCollection_14\">\n    <g clip-path=\"url(#p8f9be83198)\">\n     <use style=\"fill:#0074d9;stroke:#0074d9;\" x=\"175.131587\" xlink:href=\"#m3596b52cb9\" y=\"288.362323\"/>\n    </g>\n   </g>\n   <g id=\"PathCollection_15\">\n    <g clip-path=\"url(#p8f9be83198)\">\n     <use style=\"fill:#0074d9;stroke:#0074d9;\" x=\"99.259541\" xlink:href=\"#m3596b52cb9\" y=\"358.067805\"/>\n    </g>\n   </g>\n   <g id=\"PathCollection_16\">\n    <g clip-path=\"url(#p8f9be83198)\">\n     <use style=\"fill:#0074d9;stroke:#0074d9;\" x=\"267.77599\" xlink:href=\"#m3596b52cb9\" y=\"51.340819\"/>\n    </g>\n   </g>\n   <g id=\"PathCollection_17\">\n    <g clip-path=\"url(#p8f9be83198)\">\n     <use style=\"fill:#0074d9;stroke:#0074d9;\" x=\"34.045163\" xlink:href=\"#m3596b52cb9\" y=\"301.028334\"/>\n    </g>\n   </g>\n   <g id=\"PathCollection_18\">\n    <defs>\n     <path d=\"M 0 3 \nC 0.795609 3 1.55874 2.683901 2.12132 2.12132 \nC 2.683901 1.55874 3 0.795609 3 0 \nC 3 -0.795609 2.683901 -1.55874 2.12132 -2.12132 \nC 1.55874 -2.683901 0.795609 -3 0 -3 \nC -0.795609 -3 -1.55874 -2.683901 -2.12132 -2.12132 \nC -2.683901 -1.55874 -3 -0.795609 -3 0 \nC -3 0.795609 -2.683901 1.55874 -2.12132 2.12132 \nC -1.55874 2.683901 -0.795609 3 0 3 \nz\n\" id=\"m8c591da072\" style=\"stroke:#ff4136;\"/>\n    </defs>\n    <g clip-path=\"url(#p8f9be83198)\">\n     <use style=\"fill:#ff4136;stroke:#ff4136;\" x=\"481.264565\" xlink:href=\"#m8c591da072\" y=\"73.124233\"/>\n    </g>\n   </g>\n   <g id=\"PathCollection_19\">\n    <g clip-path=\"url(#p8f9be83198)\">\n     <use style=\"fill:#ff4136;stroke:#ff4136;\" x=\"469.538151\" xlink:href=\"#m8c591da072\" y=\"270.631277\"/>\n    </g>\n   </g>\n   <g id=\"PathCollection_20\">\n    <g clip-path=\"url(#p8f9be83198)\">\n     <use style=\"fill:#ff4136;stroke:#ff4136;\" x=\"409.786036\" xlink:href=\"#m8c591da072\" y=\"299.046467\"/>\n    </g>\n   </g>\n   <g id=\"PathCollection_21\">\n    <g clip-path=\"url(#p8f9be83198)\">\n     <use style=\"fill:#ff4136;stroke:#ff4136;\" x=\"164.453022\" xlink:href=\"#m8c591da072\" y=\"72.190576\"/>\n    </g>\n   </g>\n   <g id=\"PathCollection_22\">\n    <g clip-path=\"url(#p8f9be83198)\">\n     <use style=\"fill:#ff4136;stroke:#ff4136;\" x=\"483.800085\" xlink:href=\"#m8c591da072\" y=\"161.042855\"/>\n    </g>\n   </g>\n   <g id=\"PathCollection_23\">\n    <g clip-path=\"url(#p8f9be83198)\">\n     <use style=\"fill:#ff4136;stroke:#ff4136;\" x=\"436.975515\" xlink:href=\"#m8c591da072\" y=\"216.087376\"/>\n    </g>\n   </g>\n   <g id=\"PathCollection_24\">\n    <g clip-path=\"url(#p8f9be83198)\">\n     <use style=\"fill:#ff4136;stroke:#ff4136;\" x=\"400.636439\" xlink:href=\"#m8c591da072\" y=\"29.373282\"/>\n    </g>\n   </g>\n   <g id=\"PathCollection_25\">\n    <g clip-path=\"url(#p8f9be83198)\">\n     <use style=\"fill:#ff4136;stroke:#ff4136;\" x=\"382.142447\" xlink:href=\"#m8c591da072\" y=\"168.480345\"/>\n    </g>\n   </g>\n   <g id=\"PathCollection_26\">\n    <g clip-path=\"url(#p8f9be83198)\">\n     <use style=\"fill:#ff4136;stroke:#ff4136;\" x=\"409.173342\" xlink:href=\"#m8c591da072\" y=\"116.307621\"/>\n    </g>\n   </g>\n   <g id=\"PathCollection_27\">\n    <g clip-path=\"url(#p8f9be83198)\">\n     <use style=\"fill:#ff4136;stroke:#ff4136;\" x=\"533.388096\" xlink:href=\"#m8c591da072\" y=\"313.789752\"/>\n    </g>\n   </g>\n   <g id=\"PathCollection_28\">\n    <g clip-path=\"url(#p8f9be83198)\">\n     <use style=\"fill:#ff4136;stroke:#ff4136;\" x=\"381.384624\" xlink:href=\"#m8c591da072\" y=\"358.85306\"/>\n    </g>\n   </g>\n   <g id=\"PathCollection_29\">\n    <g clip-path=\"url(#p8f9be83198)\">\n     <use style=\"fill:#ff4136;stroke:#ff4136;\" x=\"536.858623\" xlink:href=\"#m8c591da072\" y=\"223.024021\"/>\n    </g>\n   </g>\n   <g id=\"PathCollection_30\">\n    <g clip-path=\"url(#p8f9be83198)\">\n     <use style=\"fill:#ff4136;stroke:#ff4136;\" x=\"322.130132\" xlink:href=\"#m8c591da072\" y=\"313.621744\"/>\n    </g>\n   </g>\n   <g id=\"PathCollection_31\">\n    <g clip-path=\"url(#p8f9be83198)\">\n     <use style=\"fill:#ff4136;stroke:#ff4136;\" x=\"366.472675\" xlink:href=\"#m8c591da072\" y=\"259.324395\"/>\n    </g>\n   </g>\n   <g id=\"PathCollection_32\">\n    <g clip-path=\"url(#p8f9be83198)\">\n     <use style=\"fill:#ff4136;stroke:#ff4136;\" x=\"462.787337\" xlink:href=\"#m8c591da072\" y=\"359.918152\"/>\n    </g>\n   </g>\n   <g id=\"PathCollection_33\">\n    <g clip-path=\"url(#p8f9be83198)\">\n     <use style=\"fill:#ff4136;stroke:#ff4136;\" x=\"329.654644\" xlink:href=\"#m8c591da072\" y=\"206.30505\"/>\n    </g>\n   </g>\n   <g id=\"PathCollection_34\">\n    <g clip-path=\"url(#p8f9be83198)\">\n     <use style=\"fill:#ff4136;stroke:#ff4136;\" x=\"416.617362\" xlink:href=\"#m8c591da072\" y=\"417.072851\"/>\n    </g>\n   </g>\n   <g id=\"PathCollection_35\">\n    <g clip-path=\"url(#p8f9be83198)\">\n     <use style=\"fill:#ff4136;stroke:#ff4136;\" x=\"333.637104\" xlink:href=\"#m8c591da072\" y=\"419.332935\"/>\n    </g>\n   </g>\n   <g id=\"text_1\">\n    <!-- whale -->\n    <defs>\n     <path d=\"M 4.203125 54.6875 \nL 13.1875 54.6875 \nL 24.421875 12.015625 \nL 35.59375 54.6875 \nL 46.1875 54.6875 \nL 57.421875 12.015625 \nL 68.609375 54.6875 \nL 77.59375 54.6875 \nL 63.28125 0 \nL 52.6875 0 \nL 40.921875 44.828125 \nL 29.109375 0 \nL 18.5 0 \nz\n\" id=\"DejaVuSans-119\"/>\n     <path d=\"M 54.890625 33.015625 \nL 54.890625 0 \nL 45.90625 0 \nL 45.90625 32.71875 \nQ 45.90625 40.484375 42.875 44.328125 \nQ 39.84375 48.1875 33.796875 48.1875 \nQ 26.515625 48.1875 22.3125 43.546875 \nQ 18.109375 38.921875 18.109375 30.90625 \nL 18.109375 0 \nL 9.078125 0 \nL 9.078125 75.984375 \nL 18.109375 75.984375 \nL 18.109375 46.1875 \nQ 21.34375 51.125 25.703125 53.5625 \nQ 30.078125 56 35.796875 56 \nQ 45.21875 56 50.046875 50.171875 \nQ 54.890625 44.34375 54.890625 33.015625 \nz\n\" id=\"DejaVuSans-104\"/>\n     <path d=\"M 34.28125 27.484375 \nQ 23.390625 27.484375 19.1875 25 \nQ 14.984375 22.515625 14.984375 16.5 \nQ 14.984375 11.71875 18.140625 8.90625 \nQ 21.296875 6.109375 26.703125 6.109375 \nQ 34.1875 6.109375 38.703125 11.40625 \nQ 43.21875 16.703125 43.21875 25.484375 \nL 43.21875 27.484375 \nz\nM 52.203125 31.203125 \nL 52.203125 0 \nL 43.21875 0 \nL 43.21875 8.296875 \nQ 40.140625 3.328125 35.546875 0.953125 \nQ 30.953125 -1.421875 24.3125 -1.421875 \nQ 15.921875 -1.421875 10.953125 3.296875 \nQ 6 8.015625 6 15.921875 \nQ 6 25.140625 12.171875 29.828125 \nQ 18.359375 34.515625 30.609375 34.515625 \nL 43.21875 34.515625 \nL 43.21875 35.40625 \nQ 43.21875 41.609375 39.140625 45 \nQ 35.0625 48.390625 27.6875 48.390625 \nQ 23 48.390625 18.546875 47.265625 \nQ 14.109375 46.140625 10.015625 43.890625 \nL 10.015625 52.203125 \nQ 14.9375 54.109375 19.578125 55.046875 \nQ 24.21875 56 28.609375 56 \nQ 40.484375 56 46.34375 49.84375 \nQ 52.203125 43.703125 52.203125 31.203125 \nz\n\" id=\"DejaVuSans-97\"/>\n     <path d=\"M 9.421875 75.984375 \nL 18.40625 75.984375 \nL 18.40625 0 \nL 9.421875 0 \nz\n\" id=\"DejaVuSans-108\"/>\n     <path d=\"M 56.203125 29.59375 \nL 56.203125 25.203125 \nL 14.890625 25.203125 \nQ 15.484375 15.921875 20.484375 11.0625 \nQ 25.484375 6.203125 34.421875 6.203125 \nQ 39.59375 6.203125 44.453125 7.46875 \nQ 49.3125 8.734375 54.109375 11.28125 \nL 54.109375 2.78125 \nQ 49.265625 0.734375 44.1875 -0.34375 \nQ 39.109375 -1.421875 33.890625 -1.421875 \nQ 20.796875 -1.421875 13.15625 6.1875 \nQ 5.515625 13.8125 5.515625 26.8125 \nQ 5.515625 40.234375 12.765625 48.109375 \nQ 20.015625 56 32.328125 56 \nQ 43.359375 56 49.78125 48.890625 \nQ 56.203125 41.796875 56.203125 29.59375 \nz\nM 47.21875 32.234375 \nQ 47.125 39.59375 43.09375 43.984375 \nQ 39.0625 48.390625 32.421875 48.390625 \nQ 24.90625 48.390625 20.390625 44.140625 \nQ 15.875 39.890625 15.1875 32.171875 \nz\n\" id=\"DejaVuSans-101\"/>\n    </defs>\n    <g transform=\"translate(106.757109 147.979181)scale(0.1 -0.1)\">\n     <use xlink:href=\"#DejaVuSans-119\"/>\n     <use x=\"81.787109\" xlink:href=\"#DejaVuSans-104\"/>\n     <use x=\"145.166016\" xlink:href=\"#DejaVuSans-97\"/>\n     <use x=\"206.445312\" xlink:href=\"#DejaVuSans-108\"/>\n     <use x=\"234.228516\" xlink:href=\"#DejaVuSans-101\"/>\n    </g>\n   </g>\n   <g id=\"text_2\">\n    <!-- fish -->\n    <defs>\n     <path d=\"M 37.109375 75.984375 \nL 37.109375 68.5 \nL 28.515625 68.5 \nQ 23.6875 68.5 21.796875 66.546875 \nQ 19.921875 64.59375 19.921875 59.515625 \nL 19.921875 54.6875 \nL 34.71875 54.6875 \nL 34.71875 47.703125 \nL 19.921875 47.703125 \nL 19.921875 0 \nL 10.890625 0 \nL 10.890625 47.703125 \nL 2.296875 47.703125 \nL 2.296875 54.6875 \nL 10.890625 54.6875 \nL 10.890625 58.5 \nQ 10.890625 67.625 15.140625 71.796875 \nQ 19.390625 75.984375 28.609375 75.984375 \nz\n\" id=\"DejaVuSans-102\"/>\n     <path d=\"M 9.421875 54.6875 \nL 18.40625 54.6875 \nL 18.40625 0 \nL 9.421875 0 \nz\nM 9.421875 75.984375 \nL 18.40625 75.984375 \nL 18.40625 64.59375 \nL 9.421875 64.59375 \nz\n\" id=\"DejaVuSans-105\"/>\n     <path d=\"M 44.28125 53.078125 \nL 44.28125 44.578125 \nQ 40.484375 46.53125 36.375 47.5 \nQ 32.28125 48.484375 27.875 48.484375 \nQ 21.1875 48.484375 17.84375 46.4375 \nQ 14.5 44.390625 14.5 40.28125 \nQ 14.5 37.15625 16.890625 35.375 \nQ 19.28125 33.59375 26.515625 31.984375 \nL 29.59375 31.296875 \nQ 39.15625 29.25 43.1875 25.515625 \nQ 47.21875 21.78125 47.21875 15.09375 \nQ 47.21875 7.46875 41.1875 3.015625 \nQ 35.15625 -1.421875 24.609375 -1.421875 \nQ 20.21875 -1.421875 15.453125 -0.5625 \nQ 10.6875 0.296875 5.421875 2 \nL 5.421875 11.28125 \nQ 10.40625 8.6875 15.234375 7.390625 \nQ 20.0625 6.109375 24.8125 6.109375 \nQ 31.15625 6.109375 34.5625 8.28125 \nQ 37.984375 10.453125 37.984375 14.40625 \nQ 37.984375 18.0625 35.515625 20.015625 \nQ 33.0625 21.96875 24.703125 23.78125 \nL 21.578125 24.515625 \nQ 13.234375 26.265625 9.515625 29.90625 \nQ 5.8125 33.546875 5.8125 39.890625 \nQ 5.8125 47.609375 11.28125 51.796875 \nQ 16.75 56 26.8125 56 \nQ 31.78125 56 36.171875 55.265625 \nQ 40.578125 54.546875 44.28125 53.078125 \nz\n\" id=\"DejaVuSans-115\"/>\n    </defs>\n    <g transform=\"translate(174.065811 171.111833)scale(0.1 -0.1)\">\n     <use xlink:href=\"#DejaVuSans-102\"/>\n     <use x=\"35.205078\" xlink:href=\"#DejaVuSans-105\"/>\n     <use x=\"62.988281\" xlink:href=\"#DejaVuSans-115\"/>\n     <use x=\"115.087891\" xlink:href=\"#DejaVuSans-104\"/>\n    </g>\n   </g>\n   <g id=\"text_3\">\n    <!-- horse -->\n    <defs>\n     <path d=\"M 30.609375 48.390625 \nQ 23.390625 48.390625 19.1875 42.75 \nQ 14.984375 37.109375 14.984375 27.296875 \nQ 14.984375 17.484375 19.15625 11.84375 \nQ 23.34375 6.203125 30.609375 6.203125 \nQ 37.796875 6.203125 41.984375 11.859375 \nQ 46.1875 17.53125 46.1875 27.296875 \nQ 46.1875 37.015625 41.984375 42.703125 \nQ 37.796875 48.390625 30.609375 48.390625 \nz\nM 30.609375 56 \nQ 42.328125 56 49.015625 48.375 \nQ 55.71875 40.765625 55.71875 27.296875 \nQ 55.71875 13.875 49.015625 6.21875 \nQ 42.328125 -1.421875 30.609375 -1.421875 \nQ 18.84375 -1.421875 12.171875 6.21875 \nQ 5.515625 13.875 5.515625 27.296875 \nQ 5.515625 40.765625 12.171875 48.375 \nQ 18.84375 56 30.609375 56 \nz\n\" id=\"DejaVuSans-111\"/>\n     <path d=\"M 41.109375 46.296875 \nQ 39.59375 47.171875 37.8125 47.578125 \nQ 36.03125 48 33.890625 48 \nQ 26.265625 48 22.1875 43.046875 \nQ 18.109375 38.09375 18.109375 28.8125 \nL 18.109375 0 \nL 9.078125 0 \nL 9.078125 54.6875 \nL 18.109375 54.6875 \nL 18.109375 46.1875 \nQ 20.953125 51.171875 25.484375 53.578125 \nQ 30.03125 56 36.53125 56 \nQ 37.453125 56 38.578125 55.875 \nQ 39.703125 55.765625 41.0625 55.515625 \nz\n\" id=\"DejaVuSans-114\"/>\n    </defs>\n    <g transform=\"translate(260.245147 366.38177)scale(0.1 -0.1)\">\n     <use xlink:href=\"#DejaVuSans-104\"/>\n     <use x=\"63.378906\" xlink:href=\"#DejaVuSans-111\"/>\n     <use x=\"124.560547\" xlink:href=\"#DejaVuSans-114\"/>\n     <use x=\"165.673828\" xlink:href=\"#DejaVuSans-115\"/>\n     <use x=\"217.773438\" xlink:href=\"#DejaVuSans-101\"/>\n    </g>\n   </g>\n   <g id=\"text_4\">\n    <!-- rabbit -->\n    <defs>\n     <path d=\"M 48.6875 27.296875 \nQ 48.6875 37.203125 44.609375 42.84375 \nQ 40.53125 48.484375 33.40625 48.484375 \nQ 26.265625 48.484375 22.1875 42.84375 \nQ 18.109375 37.203125 18.109375 27.296875 \nQ 18.109375 17.390625 22.1875 11.75 \nQ 26.265625 6.109375 33.40625 6.109375 \nQ 40.53125 6.109375 44.609375 11.75 \nQ 48.6875 17.390625 48.6875 27.296875 \nz\nM 18.109375 46.390625 \nQ 20.953125 51.265625 25.265625 53.625 \nQ 29.59375 56 35.59375 56 \nQ 45.5625 56 51.78125 48.09375 \nQ 58.015625 40.1875 58.015625 27.296875 \nQ 58.015625 14.40625 51.78125 6.484375 \nQ 45.5625 -1.421875 35.59375 -1.421875 \nQ 29.59375 -1.421875 25.265625 0.953125 \nQ 20.953125 3.328125 18.109375 8.203125 \nL 18.109375 0 \nL 9.078125 0 \nL 9.078125 75.984375 \nL 18.109375 75.984375 \nz\n\" id=\"DejaVuSans-98\"/>\n     <path d=\"M 18.3125 70.21875 \nL 18.3125 54.6875 \nL 36.8125 54.6875 \nL 36.8125 47.703125 \nL 18.3125 47.703125 \nL 18.3125 18.015625 \nQ 18.3125 11.328125 20.140625 9.421875 \nQ 21.96875 7.515625 27.59375 7.515625 \nL 36.8125 7.515625 \nL 36.8125 0 \nL 27.59375 0 \nQ 17.1875 0 13.234375 3.875 \nQ 9.28125 7.765625 9.28125 18.015625 \nL 9.28125 47.703125 \nL 2.6875 47.703125 \nL 2.6875 54.6875 \nL 9.28125 54.6875 \nL 9.28125 70.21875 \nz\n\" id=\"DejaVuSans-116\"/>\n    </defs>\n    <g transform=\"translate(260.917713 191.475305)scale(0.1 -0.1)\">\n     <use xlink:href=\"#DejaVuSans-114\"/>\n     <use x=\"41.113281\" xlink:href=\"#DejaVuSans-97\"/>\n     <use x=\"102.392578\" xlink:href=\"#DejaVuSans-98\"/>\n     <use x=\"165.869141\" xlink:href=\"#DejaVuSans-98\"/>\n     <use x=\"229.345703\" xlink:href=\"#DejaVuSans-105\"/>\n     <use x=\"257.128906\" xlink:href=\"#DejaVuSans-116\"/>\n    </g>\n   </g>\n   <g id=\"text_5\">\n    <!-- sheep -->\n    <defs>\n     <path d=\"M 18.109375 8.203125 \nL 18.109375 -20.796875 \nL 9.078125 -20.796875 \nL 9.078125 54.6875 \nL 18.109375 54.6875 \nL 18.109375 46.390625 \nQ 20.953125 51.265625 25.265625 53.625 \nQ 29.59375 56 35.59375 56 \nQ 45.5625 56 51.78125 48.09375 \nQ 58.015625 40.1875 58.015625 27.296875 \nQ 58.015625 14.40625 51.78125 6.484375 \nQ 45.5625 -1.421875 35.59375 -1.421875 \nQ 29.59375 -1.421875 25.265625 0.953125 \nQ 20.953125 3.328125 18.109375 8.203125 \nz\nM 48.6875 27.296875 \nQ 48.6875 37.203125 44.609375 42.84375 \nQ 40.53125 48.484375 33.40625 48.484375 \nQ 26.265625 48.484375 22.1875 42.84375 \nQ 18.109375 37.203125 18.109375 27.296875 \nQ 18.109375 17.390625 22.1875 11.75 \nQ 26.265625 6.109375 33.40625 6.109375 \nQ 40.53125 6.109375 44.609375 11.75 \nQ 48.6875 17.390625 48.6875 27.296875 \nz\n\" id=\"DejaVuSans-112\"/>\n    </defs>\n    <g transform=\"translate(181.180005 358.301963)scale(0.1 -0.1)\">\n     <use xlink:href=\"#DejaVuSans-115\"/>\n     <use x=\"52.099609\" xlink:href=\"#DejaVuSans-104\"/>\n     <use x=\"115.478516\" xlink:href=\"#DejaVuSans-101\"/>\n     <use x=\"177.001953\" xlink:href=\"#DejaVuSans-101\"/>\n     <use x=\"238.525391\" xlink:href=\"#DejaVuSans-112\"/>\n    </g>\n   </g>\n   <g id=\"text_6\">\n    <!-- lion -->\n    <defs>\n     <path d=\"M 54.890625 33.015625 \nL 54.890625 0 \nL 45.90625 0 \nL 45.90625 32.71875 \nQ 45.90625 40.484375 42.875 44.328125 \nQ 39.84375 48.1875 33.796875 48.1875 \nQ 26.515625 48.1875 22.3125 43.546875 \nQ 18.109375 38.921875 18.109375 30.90625 \nL 18.109375 0 \nL 9.078125 0 \nL 9.078125 54.6875 \nL 18.109375 54.6875 \nL 18.109375 46.1875 \nQ 21.34375 51.125 25.703125 53.5625 \nQ 30.078125 56 35.796875 56 \nQ 45.21875 56 50.046875 50.171875 \nQ 54.890625 44.34375 54.890625 33.015625 \nz\n\" id=\"DejaVuSans-110\"/>\n    </defs>\n    <g transform=\"translate(138.188961 227.15969)scale(0.1 -0.1)\">\n     <use xlink:href=\"#DejaVuSans-108\"/>\n     <use x=\"27.783203\" xlink:href=\"#DejaVuSans-105\"/>\n     <use x=\"55.566406\" xlink:href=\"#DejaVuSans-111\"/>\n     <use x=\"116.748047\" xlink:href=\"#DejaVuSans-110\"/>\n    </g>\n   </g>\n   <g id=\"text_7\">\n    <!-- dog -->\n    <defs>\n     <path d=\"M 45.40625 46.390625 \nL 45.40625 75.984375 \nL 54.390625 75.984375 \nL 54.390625 0 \nL 45.40625 0 \nL 45.40625 8.203125 \nQ 42.578125 3.328125 38.25 0.953125 \nQ 33.9375 -1.421875 27.875 -1.421875 \nQ 17.96875 -1.421875 11.734375 6.484375 \nQ 5.515625 14.40625 5.515625 27.296875 \nQ 5.515625 40.1875 11.734375 48.09375 \nQ 17.96875 56 27.875 56 \nQ 33.9375 56 38.25 53.625 \nQ 42.578125 51.265625 45.40625 46.390625 \nz\nM 14.796875 27.296875 \nQ 14.796875 17.390625 18.875 11.75 \nQ 22.953125 6.109375 30.078125 6.109375 \nQ 37.203125 6.109375 41.296875 11.75 \nQ 45.40625 17.390625 45.40625 27.296875 \nQ 45.40625 37.203125 41.296875 42.84375 \nQ 37.203125 48.484375 30.078125 48.484375 \nQ 22.953125 48.484375 18.875 42.84375 \nQ 14.796875 37.203125 14.796875 27.296875 \nz\n\" id=\"DejaVuSans-100\"/>\n     <path d=\"M 45.40625 27.984375 \nQ 45.40625 37.75 41.375 43.109375 \nQ 37.359375 48.484375 30.078125 48.484375 \nQ 22.859375 48.484375 18.828125 43.109375 \nQ 14.796875 37.75 14.796875 27.984375 \nQ 14.796875 18.265625 18.828125 12.890625 \nQ 22.859375 7.515625 30.078125 7.515625 \nQ 37.359375 7.515625 41.375 12.890625 \nQ 45.40625 18.265625 45.40625 27.984375 \nz\nM 54.390625 6.78125 \nQ 54.390625 -7.171875 48.1875 -13.984375 \nQ 42 -20.796875 29.203125 -20.796875 \nQ 24.46875 -20.796875 20.265625 -20.09375 \nQ 16.0625 -19.390625 12.109375 -17.921875 \nL 12.109375 -9.1875 \nQ 16.0625 -11.328125 19.921875 -12.34375 \nQ 23.78125 -13.375 27.78125 -13.375 \nQ 36.625 -13.375 41.015625 -8.765625 \nQ 45.40625 -4.15625 45.40625 5.171875 \nL 45.40625 9.625 \nQ 42.625 4.78125 38.28125 2.390625 \nQ 33.9375 0 27.875 0 \nQ 17.828125 0 11.671875 7.65625 \nQ 5.515625 15.328125 5.515625 27.984375 \nQ 5.515625 40.671875 11.671875 48.328125 \nQ 17.828125 56 27.875 56 \nQ 33.9375 56 38.28125 53.609375 \nQ 42.625 51.21875 45.40625 46.390625 \nL 45.40625 54.6875 \nL 54.390625 54.6875 \nz\n\" id=\"DejaVuSans-103\"/>\n    </defs>\n    <g transform=\"translate(243.159364 301.010546)scale(0.1 -0.1)\">\n     <use xlink:href=\"#DejaVuSans-100\"/>\n     <use x=\"63.476562\" xlink:href=\"#DejaVuSans-111\"/>\n     <use x=\"124.658203\" xlink:href=\"#DejaVuSans-103\"/>\n    </g>\n   </g>\n   <g id=\"text_8\">\n    <!-- cat -->\n    <defs>\n     <path d=\"M 48.78125 52.59375 \nL 48.78125 44.1875 \nQ 44.96875 46.296875 41.140625 47.34375 \nQ 37.3125 48.390625 33.40625 48.390625 \nQ 24.65625 48.390625 19.8125 42.84375 \nQ 14.984375 37.3125 14.984375 27.296875 \nQ 14.984375 17.28125 19.8125 11.734375 \nQ 24.65625 6.203125 33.40625 6.203125 \nQ 37.3125 6.203125 41.140625 7.25 \nQ 44.96875 8.296875 48.78125 10.40625 \nL 48.78125 2.09375 \nQ 45.015625 0.34375 40.984375 -0.53125 \nQ 36.96875 -1.421875 32.421875 -1.421875 \nQ 20.0625 -1.421875 12.78125 6.34375 \nQ 5.515625 14.109375 5.515625 27.296875 \nQ 5.515625 40.671875 12.859375 48.328125 \nQ 20.21875 56 33.015625 56 \nQ 37.15625 56 41.109375 55.140625 \nQ 45.0625 54.296875 48.78125 52.59375 \nz\n\" id=\"DejaVuSans-99\"/>\n    </defs>\n    <g transform=\"translate(276.080621 252.390405)scale(0.1 -0.1)\">\n     <use xlink:href=\"#DejaVuSans-99\"/>\n     <use x=\"54.980469\" xlink:href=\"#DejaVuSans-97\"/>\n     <use x=\"116.259766\" xlink:href=\"#DejaVuSans-116\"/>\n    </g>\n   </g>\n   <g id=\"text_9\">\n    <!-- tiger -->\n    <g transform=\"translate(58.695601 211.361299)scale(0.1 -0.1)\">\n     <use xlink:href=\"#DejaVuSans-116\"/>\n     <use x=\"39.208984\" xlink:href=\"#DejaVuSans-105\"/>\n     <use x=\"66.992188\" xlink:href=\"#DejaVuSans-103\"/>\n     <use x=\"130.46875\" xlink:href=\"#DejaVuSans-101\"/>\n     <use x=\"191.992188\" xlink:href=\"#DejaVuSans-114\"/>\n    </g>\n   </g>\n   <g id=\"text_10\">\n    <!-- hamster -->\n    <defs>\n     <path d=\"M 52 44.1875 \nQ 55.375 50.25 60.0625 53.125 \nQ 64.75 56 71.09375 56 \nQ 79.640625 56 84.28125 50.015625 \nQ 88.921875 44.046875 88.921875 33.015625 \nL 88.921875 0 \nL 79.890625 0 \nL 79.890625 32.71875 \nQ 79.890625 40.578125 77.09375 44.375 \nQ 74.3125 48.1875 68.609375 48.1875 \nQ 61.625 48.1875 57.5625 43.546875 \nQ 53.515625 38.921875 53.515625 30.90625 \nL 53.515625 0 \nL 44.484375 0 \nL 44.484375 32.71875 \nQ 44.484375 40.625 41.703125 44.40625 \nQ 38.921875 48.1875 33.109375 48.1875 \nQ 26.21875 48.1875 22.15625 43.53125 \nQ 18.109375 38.875 18.109375 30.90625 \nL 18.109375 0 \nL 9.078125 0 \nL 9.078125 54.6875 \nL 18.109375 54.6875 \nL 18.109375 46.1875 \nQ 21.1875 51.21875 25.484375 53.609375 \nQ 29.78125 56 35.6875 56 \nQ 41.65625 56 45.828125 52.96875 \nQ 50 49.953125 52 44.1875 \nz\n\" id=\"DejaVuSans-109\"/>\n    </defs>\n    <g transform=\"translate(306.904453 124.196581)scale(0.1 -0.1)\">\n     <use xlink:href=\"#DejaVuSans-104\"/>\n     <use x=\"63.378906\" xlink:href=\"#DejaVuSans-97\"/>\n     <use x=\"124.658203\" xlink:href=\"#DejaVuSans-109\"/>\n     <use x=\"222.070312\" xlink:href=\"#DejaVuSans-115\"/>\n     <use x=\"274.169922\" xlink:href=\"#DejaVuSans-116\"/>\n     <use x=\"313.378906\" xlink:href=\"#DejaVuSans-101\"/>\n     <use x=\"374.902344\" xlink:href=\"#DejaVuSans-114\"/>\n    </g>\n   </g>\n   <g id=\"text_11\">\n    <!-- pig -->\n    <g transform=\"translate(230.234902 136.736633)scale(0.1 -0.1)\">\n     <use xlink:href=\"#DejaVuSans-112\"/>\n     <use x=\"63.476562\" xlink:href=\"#DejaVuSans-105\"/>\n     <use x=\"91.259766\" xlink:href=\"#DejaVuSans-103\"/>\n    </g>\n   </g>\n   <g id=\"text_12\">\n    <!-- goat -->\n    <g transform=\"translate(210.539398 231.387298)scale(0.1 -0.1)\">\n     <use xlink:href=\"#DejaVuSans-103\"/>\n     <use x=\"63.476562\" xlink:href=\"#DejaVuSans-111\"/>\n     <use x=\"124.658203\" xlink:href=\"#DejaVuSans-97\"/>\n     <use x=\"185.9375\" xlink:href=\"#DejaVuSans-116\"/>\n    </g>\n   </g>\n   <g id=\"text_13\">\n    <!-- lizard -->\n    <defs>\n     <path d=\"M 5.515625 54.6875 \nL 48.1875 54.6875 \nL 48.1875 46.484375 \nL 14.40625 7.171875 \nL 48.1875 7.171875 \nL 48.1875 0 \nL 4.296875 0 \nL 4.296875 8.203125 \nL 38.09375 47.515625 \nL 5.515625 47.515625 \nz\n\" id=\"DejaVuSans-122\"/>\n    </defs>\n    <g transform=\"translate(105.740552 284.450128)scale(0.1 -0.1)\">\n     <use xlink:href=\"#DejaVuSans-108\"/>\n     <use x=\"27.783203\" xlink:href=\"#DejaVuSans-105\"/>\n     <use x=\"55.566406\" xlink:href=\"#DejaVuSans-122\"/>\n     <use x=\"108.056641\" xlink:href=\"#DejaVuSans-97\"/>\n     <use x=\"169.335938\" xlink:href=\"#DejaVuSans-114\"/>\n     <use x=\"210.433594\" xlink:href=\"#DejaVuSans-100\"/>\n    </g>\n   </g>\n   <g id=\"text_14\">\n    <!-- elephant -->\n    <g transform=\"translate(175.131587 288.362323)scale(0.1 -0.1)\">\n     <use xlink:href=\"#DejaVuSans-101\"/>\n     <use x=\"61.523438\" xlink:href=\"#DejaVuSans-108\"/>\n     <use x=\"89.306641\" xlink:href=\"#DejaVuSans-101\"/>\n     <use x=\"150.830078\" xlink:href=\"#DejaVuSans-112\"/>\n     <use x=\"214.306641\" xlink:href=\"#DejaVuSans-104\"/>\n     <use x=\"277.685547\" xlink:href=\"#DejaVuSans-97\"/>\n     <use x=\"338.964844\" xlink:href=\"#DejaVuSans-110\"/>\n     <use x=\"402.34375\" xlink:href=\"#DejaVuSans-116\"/>\n    </g>\n   </g>\n   <g id=\"text_15\">\n    <!-- giraffe -->\n    <g transform=\"translate(99.259541 358.067805)scale(0.1 -0.1)\">\n     <use xlink:href=\"#DejaVuSans-103\"/>\n     <use x=\"63.476562\" xlink:href=\"#DejaVuSans-105\"/>\n     <use x=\"91.259766\" xlink:href=\"#DejaVuSans-114\"/>\n     <use x=\"132.373047\" xlink:href=\"#DejaVuSans-97\"/>\n     <use x=\"193.652344\" xlink:href=\"#DejaVuSans-102\"/>\n     <use x=\"228.857422\" xlink:href=\"#DejaVuSans-102\"/>\n     <use x=\"264.0625\" xlink:href=\"#DejaVuSans-101\"/>\n    </g>\n   </g>\n   <g id=\"text_16\">\n    <!-- hippo -->\n    <g transform=\"translate(267.77599 51.340819)scale(0.1 -0.1)\">\n     <use xlink:href=\"#DejaVuSans-104\"/>\n     <use x=\"63.378906\" xlink:href=\"#DejaVuSans-105\"/>\n     <use x=\"91.162109\" xlink:href=\"#DejaVuSans-112\"/>\n     <use x=\"154.638672\" xlink:href=\"#DejaVuSans-112\"/>\n     <use x=\"218.115234\" xlink:href=\"#DejaVuSans-111\"/>\n    </g>\n   </g>\n   <g id=\"text_17\">\n    <!-- zebra -->\n    <g transform=\"translate(34.045163 301.028334)scale(0.1 -0.1)\">\n     <use xlink:href=\"#DejaVuSans-122\"/>\n     <use x=\"52.490234\" xlink:href=\"#DejaVuSans-101\"/>\n     <use x=\"114.013672\" xlink:href=\"#DejaVuSans-98\"/>\n     <use x=\"177.490234\" xlink:href=\"#DejaVuSans-114\"/>\n     <use x=\"218.603516\" xlink:href=\"#DejaVuSans-97\"/>\n    </g>\n   </g>\n   <g id=\"text_18\">\n    <!-- stapler -->\n    <g transform=\"translate(481.264565 73.124233)scale(0.1 -0.1)\">\n     <use xlink:href=\"#DejaVuSans-115\"/>\n     <use x=\"52.099609\" xlink:href=\"#DejaVuSans-116\"/>\n     <use x=\"91.308594\" xlink:href=\"#DejaVuSans-97\"/>\n     <use x=\"152.587891\" xlink:href=\"#DejaVuSans-112\"/>\n     <use x=\"216.064453\" xlink:href=\"#DejaVuSans-108\"/>\n     <use x=\"243.847656\" xlink:href=\"#DejaVuSans-101\"/>\n     <use x=\"305.371094\" xlink:href=\"#DejaVuSans-114\"/>\n    </g>\n   </g>\n   <g id=\"text_19\">\n    <!-- screw -->\n    <g transform=\"translate(469.538151 270.631277)scale(0.1 -0.1)\">\n     <use xlink:href=\"#DejaVuSans-115\"/>\n     <use x=\"52.099609\" xlink:href=\"#DejaVuSans-99\"/>\n     <use x=\"107.080078\" xlink:href=\"#DejaVuSans-114\"/>\n     <use x=\"148.162109\" xlink:href=\"#DejaVuSans-101\"/>\n     <use x=\"209.685547\" xlink:href=\"#DejaVuSans-119\"/>\n    </g>\n   </g>\n   <g id=\"text_20\">\n    <!-- nail -->\n    <g transform=\"translate(409.786036 299.046467)scale(0.1 -0.1)\">\n     <use xlink:href=\"#DejaVuSans-110\"/>\n     <use x=\"63.378906\" xlink:href=\"#DejaVuSans-97\"/>\n     <use x=\"124.658203\" xlink:href=\"#DejaVuSans-105\"/>\n     <use x=\"152.441406\" xlink:href=\"#DejaVuSans-108\"/>\n    </g>\n   </g>\n   <g id=\"text_21\">\n    <!-- tv -->\n    <defs>\n     <path d=\"M 2.984375 54.6875 \nL 12.5 54.6875 \nL 29.59375 8.796875 \nL 46.6875 54.6875 \nL 56.203125 54.6875 \nL 35.6875 0 \nL 23.484375 0 \nz\n\" id=\"DejaVuSans-118\"/>\n    </defs>\n    <g transform=\"translate(164.453022 72.190576)scale(0.1 -0.1)\">\n     <use xlink:href=\"#DejaVuSans-116\"/>\n     <use x=\"39.208984\" xlink:href=\"#DejaVuSans-118\"/>\n    </g>\n   </g>\n   <g id=\"text_22\">\n    <!-- dresser -->\n    <g transform=\"translate(483.800085 161.042855)scale(0.1 -0.1)\">\n     <use xlink:href=\"#DejaVuSans-100\"/>\n     <use x=\"63.476562\" xlink:href=\"#DejaVuSans-114\"/>\n     <use x=\"104.558594\" xlink:href=\"#DejaVuSans-101\"/>\n     <use x=\"166.082031\" xlink:href=\"#DejaVuSans-115\"/>\n     <use x=\"218.181641\" xlink:href=\"#DejaVuSans-115\"/>\n     <use x=\"270.28125\" xlink:href=\"#DejaVuSans-101\"/>\n     <use x=\"331.804688\" xlink:href=\"#DejaVuSans-114\"/>\n    </g>\n   </g>\n   <g id=\"text_23\">\n    <!-- keyboard -->\n    <defs>\n     <path d=\"M 9.078125 75.984375 \nL 18.109375 75.984375 \nL 18.109375 31.109375 \nL 44.921875 54.6875 \nL 56.390625 54.6875 \nL 27.390625 29.109375 \nL 57.625 0 \nL 45.90625 0 \nL 18.109375 26.703125 \nL 18.109375 0 \nL 9.078125 0 \nz\n\" id=\"DejaVuSans-107\"/>\n     <path d=\"M 32.171875 -5.078125 \nQ 28.375 -14.84375 24.75 -17.8125 \nQ 21.140625 -20.796875 15.09375 -20.796875 \nL 7.90625 -20.796875 \nL 7.90625 -13.28125 \nL 13.1875 -13.28125 \nQ 16.890625 -13.28125 18.9375 -11.515625 \nQ 21 -9.765625 23.484375 -3.21875 \nL 25.09375 0.875 \nL 2.984375 54.6875 \nL 12.5 54.6875 \nL 29.59375 11.921875 \nL 46.6875 54.6875 \nL 56.203125 54.6875 \nz\n\" id=\"DejaVuSans-121\"/>\n    </defs>\n    <g transform=\"translate(436.975515 216.087376)scale(0.1 -0.1)\">\n     <use xlink:href=\"#DejaVuSans-107\"/>\n     <use x=\"57.863281\" xlink:href=\"#DejaVuSans-101\"/>\n     <use x=\"119.386719\" xlink:href=\"#DejaVuSans-121\"/>\n     <use x=\"178.566406\" xlink:href=\"#DejaVuSans-98\"/>\n     <use x=\"242.042969\" xlink:href=\"#DejaVuSans-111\"/>\n     <use x=\"303.224609\" xlink:href=\"#DejaVuSans-97\"/>\n     <use x=\"364.503906\" xlink:href=\"#DejaVuSans-114\"/>\n     <use x=\"405.601562\" xlink:href=\"#DejaVuSans-100\"/>\n    </g>\n   </g>\n   <g id=\"text_24\">\n    <!-- hairdryer -->\n    <g transform=\"translate(400.636439 29.373282)scale(0.1 -0.1)\">\n     <use xlink:href=\"#DejaVuSans-104\"/>\n     <use x=\"63.378906\" xlink:href=\"#DejaVuSans-97\"/>\n     <use x=\"124.658203\" xlink:href=\"#DejaVuSans-105\"/>\n     <use x=\"152.441406\" xlink:href=\"#DejaVuSans-114\"/>\n     <use x=\"193.539062\" xlink:href=\"#DejaVuSans-100\"/>\n     <use x=\"257.015625\" xlink:href=\"#DejaVuSans-114\"/>\n     <use x=\"298.128906\" xlink:href=\"#DejaVuSans-121\"/>\n     <use x=\"357.308594\" xlink:href=\"#DejaVuSans-101\"/>\n     <use x=\"418.832031\" xlink:href=\"#DejaVuSans-114\"/>\n    </g>\n   </g>\n   <g id=\"text_25\">\n    <!-- couch -->\n    <defs>\n     <path d=\"M 8.5 21.578125 \nL 8.5 54.6875 \nL 17.484375 54.6875 \nL 17.484375 21.921875 \nQ 17.484375 14.15625 20.5 10.265625 \nQ 23.53125 6.390625 29.59375 6.390625 \nQ 36.859375 6.390625 41.078125 11.03125 \nQ 45.3125 15.671875 45.3125 23.6875 \nL 45.3125 54.6875 \nL 54.296875 54.6875 \nL 54.296875 0 \nL 45.3125 0 \nL 45.3125 8.40625 \nQ 42.046875 3.421875 37.71875 1 \nQ 33.40625 -1.421875 27.6875 -1.421875 \nQ 18.265625 -1.421875 13.375 4.4375 \nQ 8.5 10.296875 8.5 21.578125 \nz\nM 31.109375 56 \nz\n\" id=\"DejaVuSans-117\"/>\n    </defs>\n    <g transform=\"translate(382.142447 168.480345)scale(0.1 -0.1)\">\n     <use xlink:href=\"#DejaVuSans-99\"/>\n     <use x=\"54.980469\" xlink:href=\"#DejaVuSans-111\"/>\n     <use x=\"116.162109\" xlink:href=\"#DejaVuSans-117\"/>\n     <use x=\"179.541016\" xlink:href=\"#DejaVuSans-99\"/>\n     <use x=\"234.521484\" xlink:href=\"#DejaVuSans-104\"/>\n    </g>\n   </g>\n   <g id=\"text_26\">\n    <!-- sofa -->\n    <g transform=\"translate(409.173342 116.307621)scale(0.1 -0.1)\">\n     <use xlink:href=\"#DejaVuSans-115\"/>\n     <use x=\"52.099609\" xlink:href=\"#DejaVuSans-111\"/>\n     <use x=\"113.28125\" xlink:href=\"#DejaVuSans-102\"/>\n     <use x=\"148.486328\" xlink:href=\"#DejaVuSans-97\"/>\n    </g>\n   </g>\n   <g id=\"text_27\">\n    <!-- lamp -->\n    <g transform=\"translate(533.388096 313.789752)scale(0.1 -0.1)\">\n     <use xlink:href=\"#DejaVuSans-108\"/>\n     <use x=\"27.783203\" xlink:href=\"#DejaVuSans-97\"/>\n     <use x=\"89.0625\" xlink:href=\"#DejaVuSans-109\"/>\n     <use x=\"186.474609\" xlink:href=\"#DejaVuSans-112\"/>\n    </g>\n   </g>\n   <g id=\"text_28\">\n    <!-- chair -->\n    <g transform=\"translate(381.384624 358.85306)scale(0.1 -0.1)\">\n     <use xlink:href=\"#DejaVuSans-99\"/>\n     <use x=\"54.980469\" xlink:href=\"#DejaVuSans-104\"/>\n     <use x=\"118.359375\" xlink:href=\"#DejaVuSans-97\"/>\n     <use x=\"179.638672\" xlink:href=\"#DejaVuSans-105\"/>\n     <use x=\"207.421875\" xlink:href=\"#DejaVuSans-114\"/>\n    </g>\n   </g>\n   <g id=\"text_29\">\n    <!-- desk -->\n    <g transform=\"translate(536.858623 223.024021)scale(0.1 -0.1)\">\n     <use xlink:href=\"#DejaVuSans-100\"/>\n     <use x=\"63.476562\" xlink:href=\"#DejaVuSans-101\"/>\n     <use x=\"125\" xlink:href=\"#DejaVuSans-115\"/>\n     <use x=\"177.099609\" xlink:href=\"#DejaVuSans-107\"/>\n    </g>\n   </g>\n   <g id=\"text_30\">\n    <!-- pen -->\n    <g transform=\"translate(322.130132 313.621744)scale(0.1 -0.1)\">\n     <use xlink:href=\"#DejaVuSans-112\"/>\n     <use x=\"63.476562\" xlink:href=\"#DejaVuSans-101\"/>\n     <use x=\"125\" xlink:href=\"#DejaVuSans-110\"/>\n    </g>\n   </g>\n   <g id=\"text_31\">\n    <!-- pencil -->\n    <g transform=\"translate(366.472675 259.324395)scale(0.1 -0.1)\">\n     <use xlink:href=\"#DejaVuSans-112\"/>\n     <use x=\"63.476562\" xlink:href=\"#DejaVuSans-101\"/>\n     <use x=\"125\" xlink:href=\"#DejaVuSans-110\"/>\n     <use x=\"188.378906\" xlink:href=\"#DejaVuSans-99\"/>\n     <use x=\"243.359375\" xlink:href=\"#DejaVuSans-105\"/>\n     <use x=\"271.142578\" xlink:href=\"#DejaVuSans-108\"/>\n    </g>\n   </g>\n   <g id=\"text_32\">\n    <!-- table -->\n    <g transform=\"translate(462.787337 359.918152)scale(0.1 -0.1)\">\n     <use xlink:href=\"#DejaVuSans-116\"/>\n     <use x=\"39.208984\" xlink:href=\"#DejaVuSans-97\"/>\n     <use x=\"100.488281\" xlink:href=\"#DejaVuSans-98\"/>\n     <use x=\"163.964844\" xlink:href=\"#DejaVuSans-108\"/>\n     <use x=\"191.748047\" xlink:href=\"#DejaVuSans-101\"/>\n    </g>\n   </g>\n   <g id=\"text_33\">\n    <!-- sock -->\n    <g transform=\"translate(329.654644 206.30505)scale(0.1 -0.1)\">\n     <use xlink:href=\"#DejaVuSans-115\"/>\n     <use x=\"52.099609\" xlink:href=\"#DejaVuSans-111\"/>\n     <use x=\"113.28125\" xlink:href=\"#DejaVuSans-99\"/>\n     <use x=\"168.261719\" xlink:href=\"#DejaVuSans-107\"/>\n    </g>\n   </g>\n   <g id=\"text_34\">\n    <!-- floor -->\n    <g transform=\"translate(416.617362 417.072851)scale(0.1 -0.1)\">\n     <use xlink:href=\"#DejaVuSans-102\"/>\n     <use x=\"35.205078\" xlink:href=\"#DejaVuSans-108\"/>\n     <use x=\"62.988281\" xlink:href=\"#DejaVuSans-111\"/>\n     <use x=\"124.169922\" xlink:href=\"#DejaVuSans-111\"/>\n     <use x=\"185.351562\" xlink:href=\"#DejaVuSans-114\"/>\n    </g>\n   </g>\n   <g id=\"text_35\">\n    <!-- wall -->\n    <g transform=\"translate(333.637104 419.332935)scale(0.1 -0.1)\">\n     <use xlink:href=\"#DejaVuSans-119\"/>\n     <use x=\"81.787109\" xlink:href=\"#DejaVuSans-97\"/>\n     <use x=\"143.066406\" xlink:href=\"#DejaVuSans-108\"/>\n     <use x=\"170.849609\" xlink:href=\"#DejaVuSans-108\"/>\n    </g>\n   </g>\n  </g>\n </g>\n <defs>\n  <clipPath id=\"p8f9be83198\">\n   <rect height=\"434.88\" width=\"558\" x=\"7.2\" y=\"7.2\"/>\n  </clipPath>\n </defs>\n</svg>\n"
          },
          "metadata": {
            "tags": []
          }
        }
      ]
    },
    {
      "cell_type": "code",
      "metadata": {
        "id": "oJK7FmYzWwLc",
        "colab_type": "code",
        "colab": {
          "base_uri": "https://localhost:8080/",
          "height": 120
        },
        "outputId": "f0006896-834e-4bea-e574-f42664a797ba"
      },
      "source": [
        "import tensorflow as tf\n",
        "import tensorboard as tb\n",
        "tf.io.gfile = tb.compat.tensorflow_stub.io.gfile\n",
        "\n",
        "tbc = TensorBoardColab()\n",
        "\n",
        "vectors = glove_vectors.query(ANIMALS + HOUSEHOLD_OBJECTS)\n",
        "with SummaryWriter(log_dir='Graph/') as writer:\n",
        "  writer.add_embedding(mat=vectors, metadata=ANIMALS+HOUSEHOLD_OBJECTS)"
      ],
      "execution_count": 18,
      "outputs": [
        {
          "output_type": "stream",
          "text": [
            "Wait for 8 seconds...\n",
            "TensorBoard link:\n",
            "https://73094f49.ngrok.io\n"
          ],
          "name": "stdout"
        }
      ]
    },
    {
      "cell_type": "code",
      "metadata": {
        "id": "_HAs7svXWwbl",
        "colab_type": "code",
        "colab": {
          "base_uri": "https://localhost:8080/",
          "height": 34
        },
        "outputId": "8cfbb7ea-e30e-44f3-e97b-58a7c45c101d"
      },
      "source": [
        "# %tensorboard --logdir=Graph/\n",
        "%reload_ext tensorboard\n",
        "%tensorboard --logdir=Graph/"
      ],
      "execution_count": 19,
      "outputs": [
        {
          "output_type": "display_data",
          "data": {
            "text/html": [
              "\n",
              "    <div id=\"root\"></div>\n",
              "    <script>\n",
              "      (function() {\n",
              "        window.TENSORBOARD_ENV = window.TENSORBOARD_ENV || {};\n",
              "        window.TENSORBOARD_ENV[\"IN_COLAB\"] = true;\n",
              "        document.querySelector(\"base\").href = \"https://localhost:6007\";\n",
              "        function fixUpTensorboard(root) {\n",
              "          const tftb = root.querySelector(\"tf-tensorboard\");\n",
              "          // Disable the fragment manipulation behavior in Colab. Not\n",
              "          // only is the behavior not useful (as the iframe's location\n",
              "          // is not visible to the user), it causes TensorBoard's usage\n",
              "          // of `window.replace` to navigate away from the page and to\n",
              "          // the `localhost:<port>` URL specified by the base URI, which\n",
              "          // in turn causes the frame to (likely) crash.\n",
              "          tftb.removeAttribute(\"use-hash\");\n",
              "        }\n",
              "        function executeAllScripts(root) {\n",
              "          // When `script` elements are inserted into the DOM by\n",
              "          // assigning to an element's `innerHTML`, the scripts are not\n",
              "          // executed. Thus, we manually re-insert these scripts so that\n",
              "          // TensorBoard can initialize itself.\n",
              "          for (const script of root.querySelectorAll(\"script\")) {\n",
              "            const newScript = document.createElement(\"script\");\n",
              "            newScript.type = script.type;\n",
              "            newScript.textContent = script.textContent;\n",
              "            root.appendChild(newScript);\n",
              "            script.remove();\n",
              "          }\n",
              "        }\n",
              "        function setHeight(root, height) {\n",
              "          // We set the height dynamically after the TensorBoard UI has\n",
              "          // been initialized. This avoids an intermediate state in\n",
              "          // which the container plus the UI become taller than the\n",
              "          // final width and cause the Colab output frame to be\n",
              "          // permanently resized, eventually leading to an empty\n",
              "          // vertical gap below the TensorBoard UI. It's not clear\n",
              "          // exactly what causes this problematic intermediate state,\n",
              "          // but setting the height late seems to fix it.\n",
              "          root.style.height = `${height}px`;\n",
              "        }\n",
              "        const root = document.getElementById(\"root\");\n",
              "        fetch(\".\")\n",
              "          .then((x) => x.text())\n",
              "          .then((html) => void (root.innerHTML = html))\n",
              "          .then(() => fixUpTensorboard(root))\n",
              "          .then(() => executeAllScripts(root))\n",
              "          .then(() => setHeight(root, 800));\n",
              "      })();\n",
              "    </script>\n",
              "  "
            ],
            "text/plain": [
              "<IPython.core.display.HTML object>"
            ]
          },
          "metadata": {
            "tags": []
          }
        }
      ]
    },
    {
      "cell_type": "code",
      "metadata": {
        "id": "PU7XGdlGWwj0",
        "colab_type": "code",
        "colab": {
          "base_uri": "https://localhost:8080/",
          "height": 367
        },
        "outputId": "648bfca0-578b-4471-977d-0df4c74b6339"
      },
      "source": [
        "!pip install gin-config==0.1.1 "
      ],
      "execution_count": 20,
      "outputs": [
        {
          "output_type": "stream",
          "text": [
            "Collecting gin-config==0.1.1\n",
            "\u001b[?25l  Downloading https://files.pythonhosted.org/packages/4d/db/7ca7cfe09126c5f76505d6ee4b740834bfb5b16be9cf7f29d9bc8426d631/gin-config-0.1.1.tar.gz (40kB)\n",
            "\r\u001b[K     |████████▏                       | 10kB 23.0MB/s eta 0:00:01\r\u001b[K     |████████████████▎               | 20kB 3.0MB/s eta 0:00:01\r\u001b[K     |████████████████████████▍       | 30kB 4.4MB/s eta 0:00:01\r\u001b[K     |████████████████████████████████| 40kB 3.3MB/s \n",
            "\u001b[?25hRequirement already satisfied: six>=1.10.0 in /usr/local/lib/python3.6/dist-packages (from gin-config==0.1.1) (1.14.0)\n",
            "Building wheels for collected packages: gin-config\n",
            "  Building wheel for gin-config (setup.py) ... \u001b[?25l\u001b[?25hdone\n",
            "  Created wheel for gin-config: filename=gin_config-0.1.1-cp36-none-any.whl size=38331 sha256=bc2beba14701cf7d392d62fd5d8407e33bb24221d0e2f20fa65e6d162cce0713\n",
            "  Stored in directory: /root/.cache/pip/wheels/65/92/44/869d6c5d448044e10b0a68edaadec2bb21339c47362c2e8bcb\n",
            "Successfully built gin-config\n",
            "Installing collected packages: gin-config\n",
            "  Found existing installation: gin-config 0.3.0\n",
            "    Uninstalling gin-config-0.3.0:\n",
            "      Successfully uninstalled gin-config-0.3.0\n",
            "Successfully installed gin-config-0.1.1\n"
          ],
          "name": "stdout"
        }
      ]
    },
    {
      "cell_type": "code",
      "metadata": {
        "id": "XJr0AcOXWwo3",
        "colab_type": "code",
        "colab": {
          "base_uri": "https://localhost:8080/",
          "height": 367
        },
        "outputId": "81257df3-2558-430e-c497-9459ddcb20c6"
      },
      "source": [
        "!pip install tensorboardcolab==0.0.11"
      ],
      "execution_count": 21,
      "outputs": [
        {
          "output_type": "stream",
          "text": [
            "Collecting tensorboardcolab==0.0.11\n",
            "  Downloading https://files.pythonhosted.org/packages/a0/cc/4b25cb5aebd39de9e31bee54c3e750d40ffc6c4f8833db88f9a8b57da9f7/tensorboardcolab-0.0.11.tar.gz\n",
            "Building wheels for collected packages: tensorboardcolab\n",
            "  Building wheel for tensorboardcolab (setup.py) ... \u001b[?25l\u001b[?25hdone\n",
            "  Created wheel for tensorboardcolab: filename=tensorboardcolab-0.0.11-cp36-none-any.whl size=3397 sha256=1148c926248782db90da6dcd64b05d627de23438e8a9b18505fed54e644eb843\n",
            "  Stored in directory: /root/.cache/pip/wheels/08/5c/77/b460d62566770e9dcff502e2d6a4747b664ec482693752e4fe\n",
            "Successfully built tensorboardcolab\n",
            "Installing collected packages: tensorboardcolab\n",
            "  Found existing installation: tensorboardcolab 0.0.22\n",
            "    Uninstalling tensorboardcolab-0.0.22:\n",
            "      Successfully uninstalled tensorboardcolab-0.0.22\n",
            "Successfully installed tensorboardcolab-0.0.11\n"
          ],
          "name": "stdout"
        },
        {
          "output_type": "display_data",
          "data": {
            "application/vnd.colab-display-data+json": {
              "pip_warning": {
                "packages": [
                  "tensorboardcolab"
                ]
              }
            }
          },
          "metadata": {
            "tags": []
          }
        }
      ]
    },
    {
      "cell_type": "code",
      "metadata": {
        "id": "dIX292icWwvA",
        "colab_type": "code",
        "colab": {}
      },
      "source": [
        "tokenizer = BertTokenizer.from_pretrained('bert-base-uncased')\n",
        "model = BertModel.from_pretrained('bert-base-uncased')\n",
        "model.eval()\n",
        "\n",
        "def to_bert_embeddings(text, return_tokens=False):\n",
        "  if isinstance(text, list):\n",
        "    # Already tokenized\n",
        "    tokens = tokenizer.tokenize(' '.join(text))\n",
        "  else:\n",
        "    # Need to tokenize\n",
        "    tokens = tokenizer.tokenize(text)\n",
        "\n",
        "  tokens_with_tags = ['[CLS]'] + tokens + ['[SEP]']\n",
        "  indices = tokenizer.convert_tokens_to_ids(tokens_with_tags)\n",
        "  print(indices)\n",
        "\n",
        "  out = model(torch.LongTensor(indices).unsqueeze(0)) # type(out) == tuple\n",
        "  print(np.array(out).shape, end='\\t')\n",
        "  print(np.array(out[0]).shape, end='\\t') # out[0] == list\n",
        "  print(out[1].detach().numpy().shape) # out[1] == <class 'torch.Tensor'>\n",
        "\n",
        "  embeddings_matrix = torch.stack(out[0]).squeeze(1)[-4:]\n",
        "  print(embeddings_matrix.shape)\n",
        "  embeddings = []\n",
        "  for j in range(embeddings_matrix.shape[1]):\n",
        "    embeddings.append(embeddings_matrix[:, j, :].flatten().detach().numpy())\n",
        "\n",
        "  # Ignore [CLS] and [SEP]\n",
        "  embeddings = embeddings[1:-1]\n",
        "\n",
        "  if return_tokens:\n",
        "    assert len(embeddings) == len(tokens)\n",
        "    return embeddings, tokens\n",
        "\n",
        "  return embeddings "
      ],
      "execution_count": 0,
      "outputs": []
    },
    {
      "cell_type": "code",
      "metadata": {
        "id": "zRXFGgU7Ww2z",
        "colab_type": "code",
        "colab": {}
      },
      "source": [
        "words_sentences = [\n",
        "    ('mouse', 'I saw a mouse run off with some cheese.'),\n",
        "    ('mouse', 'I bought a new computer mouse yesterday.'),\n",
        "    ('cat', 'My cat jumped on the bed.'),\n",
        "    ('keyboard', 'My computer keyboard broke when I spilled juice on it.'),\n",
        "    ('dessert', 'I had a banana fudge sunday for dessert.'),\n",
        "    ('dinner', 'What did you eat for dinner?'),\n",
        "    ('lunch', 'Yesterday I had a bacon lettuce tomato sandwich for lunch. It was tasty!'),\n",
        "    ('computer', 'My computer broke after the motherdrive was overloaded.'),\n",
        "    ('program', 'I like to program in Java and Python.'),\n",
        "    ('pasta', 'I like to put tomatoes and cheese in my pasta.'),\n",
        "]\n",
        "words = [words_sentence[0] for words_sentence in words_sentences]\n",
        "sentences = [words_sentence[1] for words_sentence in words_sentences]"
      ],
      "execution_count": 0,
      "outputs": []
    },
    {
      "cell_type": "code",
      "metadata": {
        "id": "LeonDTYk8zLJ",
        "colab_type": "code",
        "colab": {
          "base_uri": "https://localhost:8080/",
          "height": 598
        },
        "outputId": "7b9cff67-8f0c-415e-91ac-cb90901aa1dc"
      },
      "source": [
        "embeddings_lst, tokens_lst = zip(*[to_bert_embeddings(sentence, return_tokens=True) for sentence in sentences])\n",
        "print(\"embeddings_lst:\", np.array(embeddings_lst).shape) #, '\\n', embeddings_lst)\n",
        "print(\"tokens_lst:\", tokens_lst)\n",
        "words, tokens_lst, embeddings_lst = zip(*[(word, tokens, embeddings) for word, tokens, embeddings in zip(words, tokens_lst, embeddings_lst) if word in tokens])\n",
        "print(\"words:\", words)\n",
        "words, tokens_lst, tokens_lst = map(list, [words, tokens_lst, tokens_lst]) "
      ],
      "execution_count": 58,
      "outputs": [
        {
          "output_type": "stream",
          "text": [
            "[101, 1045, 2387, 1037, 8000, 2448, 2125, 2007, 2070, 8808, 1012, 102]\n",
            "(2,)\t(12,)\t(1, 768)\n",
            "torch.Size([4, 12, 768])\n",
            "[101, 1045, 4149, 1037, 2047, 3274, 8000, 7483, 1012, 102]\n",
            "(2,)\t(12,)\t(1, 768)\n",
            "torch.Size([4, 10, 768])\n",
            "[101, 2026, 4937, 5598, 2006, 1996, 2793, 1012, 102]\n",
            "(2,)\t(12,)\t(1, 768)\n",
            "torch.Size([4, 9, 768])\n",
            "[101, 2026, 3274, 9019, 3631, 2043, 1045, 13439, 10869, 2006, 2009, 1012, 102]\n",
            "(2,)\t(12,)\t(1, 768)\n",
            "torch.Size([4, 13, 768])\n",
            "[101, 1045, 2018, 1037, 15212, 11865, 11818, 4465, 2005, 18064, 1012, 102]\n",
            "(2,)\t(12,)\t(1, 768)\n",
            "torch.Size([4, 12, 768])\n",
            "[101, 2054, 2106, 2017, 4521, 2005, 4596, 1029, 102]\n",
            "(2,)\t(12,)\t(1, 768)\n",
            "torch.Size([4, 9, 768])\n",
            "[101, 7483, 1045, 2018, 1037, 11611, 2292, 8525, 3401, 20856, 11642, 2005, 6265, 1012, 2009, 2001, 11937, 21756, 999, 102]\n",
            "(2,)\t(12,)\t(1, 768)\n",
            "torch.Size([4, 20, 768])\n",
            "[101, 2026, 3274, 3631, 2044, 1996, 2388, 23663, 2001, 2058, 17468, 1012, 102]\n",
            "(2,)\t(12,)\t(1, 768)\n",
            "torch.Size([4, 13, 768])\n",
            "[101, 1045, 2066, 2000, 2565, 1999, 9262, 1998, 18750, 1012, 102]\n",
            "(2,)\t(12,)\t(1, 768)\n",
            "torch.Size([4, 11, 768])\n",
            "[101, 1045, 2066, 2000, 2404, 12851, 1998, 8808, 1999, 2026, 24857, 1012, 102]\n",
            "(2,)\t(12,)\t(1, 768)\n",
            "torch.Size([4, 13, 768])\n",
            "embeddings_lst: (10,)\n",
            "tokens_lst: (['i', 'saw', 'a', 'mouse', 'run', 'off', 'with', 'some', 'cheese', '.'], ['i', 'bought', 'a', 'new', 'computer', 'mouse', 'yesterday', '.'], ['my', 'cat', 'jumped', 'on', 'the', 'bed', '.'], ['my', 'computer', 'keyboard', 'broke', 'when', 'i', 'spilled', 'juice', 'on', 'it', '.'], ['i', 'had', 'a', 'banana', 'fu', '##dge', 'sunday', 'for', 'dessert', '.'], ['what', 'did', 'you', 'eat', 'for', 'dinner', '?'], ['yesterday', 'i', 'had', 'a', 'bacon', 'let', '##tu', '##ce', 'tomato', 'sandwich', 'for', 'lunch', '.', 'it', 'was', 'ta', '##sty', '!'], ['my', 'computer', 'broke', 'after', 'the', 'mother', '##drive', 'was', 'over', '##loaded', '.'], ['i', 'like', 'to', 'program', 'in', 'java', 'and', 'python', '.'], ['i', 'like', 'to', 'put', 'tomatoes', 'and', 'cheese', 'in', 'my', 'pasta', '.'])\n",
            "words: ('mouse', 'mouse', 'cat', 'keyboard', 'dessert', 'dinner', 'lunch', 'computer', 'program', 'pasta')\n"
          ],
          "name": "stdout"
        }
      ]
    },
    {
      "cell_type": "code",
      "metadata": {
        "id": "Y36aNZxq8zWb",
        "colab_type": "code",
        "colab": {
          "base_uri": "https://localhost:8080/",
          "height": 34
        },
        "outputId": "fc99980e-6b41-4cee-de40-443402c565e3"
      },
      "source": [
        "target_indices = [tokens.index(word) for word, tokens in zip(words, tokens_lst)]\n",
        "target_indices"
      ],
      "execution_count": 59,
      "outputs": [
        {
          "output_type": "execute_result",
          "data": {
            "text/plain": [
              "[3, 5, 1, 2, 8, 5, 11, 1, 3, 9]"
            ]
          },
          "metadata": {
            "tags": []
          },
          "execution_count": 59
        }
      ]
    },
    {
      "cell_type": "code",
      "metadata": {
        "id": "hFgSSTtZ8zoK",
        "colab_type": "code",
        "colab": {}
      },
      "source": [
        "target_embeddings = [embeddings[idx] for idx, embeddings in zip(target_indices, embeddings_lst)]"
      ],
      "execution_count": 0,
      "outputs": []
    },
    {
      "cell_type": "code",
      "metadata": {
        "id": "rYsow0B08zhv",
        "colab_type": "code",
        "colab": {
          "base_uri": "https://localhost:8080/",
          "height": 805
        },
        "outputId": "7ab111a0-0f9e-4590-92ec-d94b98a7212d"
      },
      "source": [
        "tsne_words_embedded = TSNE(n_components=2).fit_transform(target_embeddings)\n",
        "x, y = zip(*tsne_words_embedded)\n",
        "\n",
        "fig, ax = plt.subplots(figsize=(5, 10))\n",
        "\n",
        "for word, tokens, x_i, y_i in zip(words, tokens_lst, x, y):\n",
        "  ax.scatter(x_i, y_i, c=RED)\n",
        "  ax.annotate(' '.join([f'$\\\\bf{x}$' if x==word else x for x in tokens]), (x_i, y_i))\n",
        "\n",
        "ax.axis('off')\n",
        "plt.show()"
      ],
      "execution_count": 61,
      "outputs": [
        {
          "output_type": "display_data",
          "data": {
            "text/plain": [
              "<Figure size 360x720 with 1 Axes>"
            ],
            "image/svg+xml": "<?xml version=\"1.0\" encoding=\"utf-8\" standalone=\"no\"?>\n<!DOCTYPE svg PUBLIC \"-//W3C//DTD SVG 1.1//EN\"\n  \"http://www.w3.org/Graphics/SVG/1.1/DTD/svg11.dtd\">\n<!-- Created with matplotlib (https://matplotlib.org/) -->\n<svg height=\"558pt\" version=\"1.1\" viewBox=\"0 0 622.60403 558\" width=\"622.60403pt\" xmlns=\"http://www.w3.org/2000/svg\" xmlns:xlink=\"http://www.w3.org/1999/xlink\">\n <defs>\n  <style type=\"text/css\">\n*{stroke-linecap:butt;stroke-linejoin:round;}\n  </style>\n </defs>\n <g id=\"figure_1\">\n  <g id=\"patch_1\">\n   <path d=\"M 0 558 \nL 622.60403 558 \nL 622.60403 0 \nL 0 0 \nz\n\" style=\"fill:none;\"/>\n  </g>\n  <g id=\"axes_1\">\n   <g id=\"PathCollection_1\">\n    <defs>\n     <path d=\"M 0 3 \nC 0.795609 3 1.55874 2.683901 2.12132 2.12132 \nC 2.683901 1.55874 3 0.795609 3 0 \nC 3 -0.795609 2.683901 -1.55874 2.12132 -2.12132 \nC 1.55874 -2.683901 0.795609 -3 0 -3 \nC -0.795609 -3 -1.55874 -2.683901 -2.12132 -2.12132 \nC -2.683901 -1.55874 -3 -0.795609 -3 0 \nC -3 0.795609 -2.683901 1.55874 -2.12132 2.12132 \nC -1.55874 2.683901 -0.795609 3 0 3 \nz\n\" id=\"m86dab7522b\" style=\"stroke:#ff4136;\"/>\n    </defs>\n    <g clip-path=\"url(#p288a0a9078)\">\n     <use style=\"fill:#ff4136;stroke:#ff4136;\" x=\"170.977304\" xlink:href=\"#m86dab7522b\" y=\"358.914281\"/>\n    </g>\n   </g>\n   <g id=\"PathCollection_2\">\n    <g clip-path=\"url(#p288a0a9078)\">\n     <use style=\"fill:#ff4136;stroke:#ff4136;\" x=\"223.987184\" xlink:href=\"#m86dab7522b\" y=\"31.909198\"/>\n    </g>\n   </g>\n   <g id=\"PathCollection_3\">\n    <g clip-path=\"url(#p288a0a9078)\">\n     <use style=\"fill:#ff4136;stroke:#ff4136;\" x=\"101.360796\" xlink:href=\"#m86dab7522b\" y=\"253.995438\"/>\n    </g>\n   </g>\n   <g id=\"PathCollection_4\">\n    <g clip-path=\"url(#p288a0a9078)\">\n     <use style=\"fill:#ff4136;stroke:#ff4136;\" x=\"21.339658\" xlink:href=\"#m86dab7522b\" y=\"176.369161\"/>\n    </g>\n   </g>\n   <g id=\"PathCollection_5\">\n    <g clip-path=\"url(#p288a0a9078)\">\n     <use style=\"fill:#ff4136;stroke:#ff4136;\" x=\"110.913032\" xlink:href=\"#m86dab7522b\" y=\"49.423189\"/>\n    </g>\n   </g>\n   <g id=\"PathCollection_6\">\n    <g clip-path=\"url(#p288a0a9078)\">\n     <use style=\"fill:#ff4136;stroke:#ff4136;\" x=\"49.950856\" xlink:href=\"#m86dab7522b\" y=\"405.681621\"/>\n    </g>\n   </g>\n   <g id=\"PathCollection_7\">\n    <g clip-path=\"url(#p288a0a9078)\">\n     <use style=\"fill:#ff4136;stroke:#ff4136;\" x=\"134.947068\" xlink:href=\"#m86dab7522b\" y=\"523.809819\"/>\n    </g>\n   </g>\n   <g id=\"PathCollection_8\">\n    <g clip-path=\"url(#p288a0a9078)\">\n     <use style=\"fill:#ff4136;stroke:#ff4136;\" x=\"271.10403\" xlink:href=\"#m86dab7522b\" y=\"246.738481\"/>\n    </g>\n   </g>\n   <g id=\"PathCollection_9\">\n    <g clip-path=\"url(#p288a0a9078)\">\n     <use style=\"fill:#ff4136;stroke:#ff4136;\" x=\"182.112488\" xlink:href=\"#m86dab7522b\" y=\"186.874561\"/>\n    </g>\n   </g>\n   <g id=\"PathCollection_10\">\n    <g clip-path=\"url(#p288a0a9078)\">\n     <use style=\"fill:#ff4136;stroke:#ff4136;\" x=\"248.502389\" xlink:href=\"#m86dab7522b\" y=\"450.348084\"/>\n    </g>\n   </g>\n   <g id=\"text_1\">\n    <!-- i saw a $\\bfmouse$ run off with some cheese . -->\n    <defs>\n     <path d=\"M 9.421875 54.6875 \nL 18.40625 54.6875 \nL 18.40625 0 \nL 9.421875 0 \nz\nM 9.421875 75.984375 \nL 18.40625 75.984375 \nL 18.40625 64.59375 \nL 9.421875 64.59375 \nz\n\" id=\"DejaVuSans-105\"/>\n     <path id=\"DejaVuSans-32\"/>\n     <path d=\"M 44.28125 53.078125 \nL 44.28125 44.578125 \nQ 40.484375 46.53125 36.375 47.5 \nQ 32.28125 48.484375 27.875 48.484375 \nQ 21.1875 48.484375 17.84375 46.4375 \nQ 14.5 44.390625 14.5 40.28125 \nQ 14.5 37.15625 16.890625 35.375 \nQ 19.28125 33.59375 26.515625 31.984375 \nL 29.59375 31.296875 \nQ 39.15625 29.25 43.1875 25.515625 \nQ 47.21875 21.78125 47.21875 15.09375 \nQ 47.21875 7.46875 41.1875 3.015625 \nQ 35.15625 -1.421875 24.609375 -1.421875 \nQ 20.21875 -1.421875 15.453125 -0.5625 \nQ 10.6875 0.296875 5.421875 2 \nL 5.421875 11.28125 \nQ 10.40625 8.6875 15.234375 7.390625 \nQ 20.0625 6.109375 24.8125 6.109375 \nQ 31.15625 6.109375 34.5625 8.28125 \nQ 37.984375 10.453125 37.984375 14.40625 \nQ 37.984375 18.0625 35.515625 20.015625 \nQ 33.0625 21.96875 24.703125 23.78125 \nL 21.578125 24.515625 \nQ 13.234375 26.265625 9.515625 29.90625 \nQ 5.8125 33.546875 5.8125 39.890625 \nQ 5.8125 47.609375 11.28125 51.796875 \nQ 16.75 56 26.8125 56 \nQ 31.78125 56 36.171875 55.265625 \nQ 40.578125 54.546875 44.28125 53.078125 \nz\n\" id=\"DejaVuSans-115\"/>\n     <path d=\"M 34.28125 27.484375 \nQ 23.390625 27.484375 19.1875 25 \nQ 14.984375 22.515625 14.984375 16.5 \nQ 14.984375 11.71875 18.140625 8.90625 \nQ 21.296875 6.109375 26.703125 6.109375 \nQ 34.1875 6.109375 38.703125 11.40625 \nQ 43.21875 16.703125 43.21875 25.484375 \nL 43.21875 27.484375 \nz\nM 52.203125 31.203125 \nL 52.203125 0 \nL 43.21875 0 \nL 43.21875 8.296875 \nQ 40.140625 3.328125 35.546875 0.953125 \nQ 30.953125 -1.421875 24.3125 -1.421875 \nQ 15.921875 -1.421875 10.953125 3.296875 \nQ 6 8.015625 6 15.921875 \nQ 6 25.140625 12.171875 29.828125 \nQ 18.359375 34.515625 30.609375 34.515625 \nL 43.21875 34.515625 \nL 43.21875 35.40625 \nQ 43.21875 41.609375 39.140625 45 \nQ 35.0625 48.390625 27.6875 48.390625 \nQ 23 48.390625 18.546875 47.265625 \nQ 14.109375 46.140625 10.015625 43.890625 \nL 10.015625 52.203125 \nQ 14.9375 54.109375 19.578125 55.046875 \nQ 24.21875 56 28.609375 56 \nQ 40.484375 56 46.34375 49.84375 \nQ 52.203125 43.703125 52.203125 31.203125 \nz\n\" id=\"DejaVuSans-97\"/>\n     <path d=\"M 4.203125 54.6875 \nL 13.1875 54.6875 \nL 24.421875 12.015625 \nL 35.59375 54.6875 \nL 46.1875 54.6875 \nL 57.421875 12.015625 \nL 68.609375 54.6875 \nL 77.59375 54.6875 \nL 63.28125 0 \nL 52.6875 0 \nL 40.921875 44.828125 \nL 29.109375 0 \nL 18.5 0 \nz\n\" id=\"DejaVuSans-119\"/>\n     <path d=\"M 59.078125 45.609375 \nQ 62.40625 50.6875 66.96875 53.34375 \nQ 71.53125 56 77 56 \nQ 86.421875 56 91.359375 50.1875 \nQ 96.296875 44.390625 96.296875 33.296875 \nL 96.296875 0 \nL 78.71875 0 \nL 78.71875 28.515625 \nQ 78.765625 29.15625 78.78125 29.828125 \nQ 78.8125 30.515625 78.8125 31.78125 \nQ 78.8125 37.59375 77.09375 40.203125 \nQ 75.390625 42.828125 71.578125 42.828125 \nQ 66.609375 42.828125 63.890625 38.71875 \nQ 61.1875 34.625 61.078125 26.859375 \nL 61.078125 0 \nL 43.5 0 \nL 43.5 28.515625 \nQ 43.5 37.59375 41.9375 40.203125 \nQ 40.375 42.828125 36.375 42.828125 \nQ 31.34375 42.828125 28.609375 38.703125 \nQ 25.875 34.578125 25.875 26.90625 \nL 25.875 0 \nL 8.296875 0 \nL 8.296875 54.6875 \nL 25.875 54.6875 \nL 25.875 46.6875 \nQ 29.109375 51.3125 33.28125 53.65625 \nQ 37.453125 56 42.484375 56 \nQ 48.140625 56 52.484375 53.265625 \nQ 56.84375 50.53125 59.078125 45.609375 \nz\n\" id=\"DejaVuSans-Bold-109\"/>\n     <path d=\"M 34.421875 43.5 \nQ 28.609375 43.5 25.5625 39.328125 \nQ 22.515625 35.15625 22.515625 27.296875 \nQ 22.515625 19.4375 25.5625 15.25 \nQ 28.609375 11.078125 34.421875 11.078125 \nQ 40.140625 11.078125 43.15625 15.25 \nQ 46.1875 19.4375 46.1875 27.296875 \nQ 46.1875 35.15625 43.15625 39.328125 \nQ 40.140625 43.5 34.421875 43.5 \nz\nM 34.421875 56 \nQ 48.53125 56 56.46875 48.375 \nQ 64.40625 40.765625 64.40625 27.296875 \nQ 64.40625 13.8125 56.46875 6.1875 \nQ 48.53125 -1.421875 34.421875 -1.421875 \nQ 20.265625 -1.421875 12.28125 6.1875 \nQ 4.296875 13.8125 4.296875 27.296875 \nQ 4.296875 40.765625 12.28125 48.375 \nQ 20.265625 56 34.421875 56 \nz\n\" id=\"DejaVuSans-Bold-111\"/>\n     <path d=\"M 7.8125 21.296875 \nL 7.8125 54.6875 \nL 25.390625 54.6875 \nL 25.390625 49.21875 \nQ 25.390625 44.78125 25.34375 38.0625 \nQ 25.296875 31.34375 25.296875 29.109375 \nQ 25.296875 22.515625 25.640625 19.609375 \nQ 25.984375 16.703125 26.8125 15.375 \nQ 27.875 13.671875 29.609375 12.734375 \nQ 31.34375 11.8125 33.59375 11.8125 \nQ 39.0625 11.8125 42.1875 16.015625 \nQ 45.3125 20.21875 45.3125 27.6875 \nL 45.3125 54.6875 \nL 62.796875 54.6875 \nL 62.796875 0 \nL 45.3125 0 \nL 45.3125 7.90625 \nQ 41.359375 3.125 36.9375 0.84375 \nQ 32.515625 -1.421875 27.203125 -1.421875 \nQ 17.71875 -1.421875 12.765625 4.390625 \nQ 7.8125 10.203125 7.8125 21.296875 \nz\n\" id=\"DejaVuSans-Bold-117\"/>\n     <path d=\"M 51.125 52.984375 \nL 51.125 39.703125 \nQ 45.515625 42.046875 40.28125 43.21875 \nQ 35.0625 44.390625 30.421875 44.390625 \nQ 25.4375 44.390625 23.015625 43.140625 \nQ 20.609375 41.890625 20.609375 39.3125 \nQ 20.609375 37.203125 22.4375 36.078125 \nQ 24.265625 34.96875 29 34.421875 \nL 32.078125 33.984375 \nQ 45.515625 32.28125 50.140625 28.375 \nQ 54.78125 24.46875 54.78125 16.109375 \nQ 54.78125 7.375 48.328125 2.96875 \nQ 41.890625 -1.421875 29.109375 -1.421875 \nQ 23.6875 -1.421875 17.890625 -0.5625 \nQ 12.109375 0.296875 6 2 \nL 6 15.28125 \nQ 11.234375 12.75 16.71875 11.46875 \nQ 22.21875 10.203125 27.875 10.203125 \nQ 33.015625 10.203125 35.59375 11.609375 \nQ 38.1875 13.03125 38.1875 15.828125 \nQ 38.1875 18.171875 36.40625 19.3125 \nQ 34.625 20.453125 29.296875 21.09375 \nL 26.21875 21.484375 \nQ 14.546875 22.953125 9.859375 26.90625 \nQ 5.171875 30.859375 5.171875 38.921875 \nQ 5.171875 47.609375 11.125 51.796875 \nQ 17.09375 56 29.390625 56 \nQ 34.234375 56 39.546875 55.265625 \nQ 44.875 54.546875 51.125 52.984375 \nz\n\" id=\"DejaVuSans-Bold-115\"/>\n     <path d=\"M 62.984375 27.484375 \nL 62.984375 22.515625 \nL 22.125 22.515625 \nQ 22.75 16.359375 26.5625 13.28125 \nQ 30.375 10.203125 37.203125 10.203125 \nQ 42.71875 10.203125 48.5 11.84375 \nQ 54.296875 13.484375 60.40625 16.796875 \nL 60.40625 3.328125 \nQ 54.203125 0.984375 48 -0.21875 \nQ 41.796875 -1.421875 35.59375 -1.421875 \nQ 20.75 -1.421875 12.515625 6.125 \nQ 4.296875 13.671875 4.296875 27.296875 \nQ 4.296875 40.671875 12.375 48.328125 \nQ 20.453125 56 34.625 56 \nQ 47.515625 56 55.25 48.234375 \nQ 62.984375 40.484375 62.984375 27.484375 \nz\nM 45.015625 33.296875 \nQ 45.015625 38.28125 42.109375 41.328125 \nQ 39.203125 44.390625 34.515625 44.390625 \nQ 29.4375 44.390625 26.265625 41.53125 \nQ 23.09375 38.671875 22.3125 33.296875 \nz\n\" id=\"DejaVuSans-Bold-101\"/>\n     <path d=\"M 41.109375 46.296875 \nQ 39.59375 47.171875 37.8125 47.578125 \nQ 36.03125 48 33.890625 48 \nQ 26.265625 48 22.1875 43.046875 \nQ 18.109375 38.09375 18.109375 28.8125 \nL 18.109375 0 \nL 9.078125 0 \nL 9.078125 54.6875 \nL 18.109375 54.6875 \nL 18.109375 46.1875 \nQ 20.953125 51.171875 25.484375 53.578125 \nQ 30.03125 56 36.53125 56 \nQ 37.453125 56 38.578125 55.875 \nQ 39.703125 55.765625 41.0625 55.515625 \nz\n\" id=\"DejaVuSans-114\"/>\n     <path d=\"M 8.5 21.578125 \nL 8.5 54.6875 \nL 17.484375 54.6875 \nL 17.484375 21.921875 \nQ 17.484375 14.15625 20.5 10.265625 \nQ 23.53125 6.390625 29.59375 6.390625 \nQ 36.859375 6.390625 41.078125 11.03125 \nQ 45.3125 15.671875 45.3125 23.6875 \nL 45.3125 54.6875 \nL 54.296875 54.6875 \nL 54.296875 0 \nL 45.3125 0 \nL 45.3125 8.40625 \nQ 42.046875 3.421875 37.71875 1 \nQ 33.40625 -1.421875 27.6875 -1.421875 \nQ 18.265625 -1.421875 13.375 4.4375 \nQ 8.5 10.296875 8.5 21.578125 \nz\nM 31.109375 56 \nz\n\" id=\"DejaVuSans-117\"/>\n     <path d=\"M 54.890625 33.015625 \nL 54.890625 0 \nL 45.90625 0 \nL 45.90625 32.71875 \nQ 45.90625 40.484375 42.875 44.328125 \nQ 39.84375 48.1875 33.796875 48.1875 \nQ 26.515625 48.1875 22.3125 43.546875 \nQ 18.109375 38.921875 18.109375 30.90625 \nL 18.109375 0 \nL 9.078125 0 \nL 9.078125 54.6875 \nL 18.109375 54.6875 \nL 18.109375 46.1875 \nQ 21.34375 51.125 25.703125 53.5625 \nQ 30.078125 56 35.796875 56 \nQ 45.21875 56 50.046875 50.171875 \nQ 54.890625 44.34375 54.890625 33.015625 \nz\n\" id=\"DejaVuSans-110\"/>\n     <path d=\"M 30.609375 48.390625 \nQ 23.390625 48.390625 19.1875 42.75 \nQ 14.984375 37.109375 14.984375 27.296875 \nQ 14.984375 17.484375 19.15625 11.84375 \nQ 23.34375 6.203125 30.609375 6.203125 \nQ 37.796875 6.203125 41.984375 11.859375 \nQ 46.1875 17.53125 46.1875 27.296875 \nQ 46.1875 37.015625 41.984375 42.703125 \nQ 37.796875 48.390625 30.609375 48.390625 \nz\nM 30.609375 56 \nQ 42.328125 56 49.015625 48.375 \nQ 55.71875 40.765625 55.71875 27.296875 \nQ 55.71875 13.875 49.015625 6.21875 \nQ 42.328125 -1.421875 30.609375 -1.421875 \nQ 18.84375 -1.421875 12.171875 6.21875 \nQ 5.515625 13.875 5.515625 27.296875 \nQ 5.515625 40.765625 12.171875 48.375 \nQ 18.84375 56 30.609375 56 \nz\n\" id=\"DejaVuSans-111\"/>\n     <path d=\"M 37.109375 75.984375 \nL 37.109375 68.5 \nL 28.515625 68.5 \nQ 23.6875 68.5 21.796875 66.546875 \nQ 19.921875 64.59375 19.921875 59.515625 \nL 19.921875 54.6875 \nL 34.71875 54.6875 \nL 34.71875 47.703125 \nL 19.921875 47.703125 \nL 19.921875 0 \nL 10.890625 0 \nL 10.890625 47.703125 \nL 2.296875 47.703125 \nL 2.296875 54.6875 \nL 10.890625 54.6875 \nL 10.890625 58.5 \nQ 10.890625 67.625 15.140625 71.796875 \nQ 19.390625 75.984375 28.609375 75.984375 \nz\n\" id=\"DejaVuSans-102\"/>\n     <path d=\"M 18.3125 70.21875 \nL 18.3125 54.6875 \nL 36.8125 54.6875 \nL 36.8125 47.703125 \nL 18.3125 47.703125 \nL 18.3125 18.015625 \nQ 18.3125 11.328125 20.140625 9.421875 \nQ 21.96875 7.515625 27.59375 7.515625 \nL 36.8125 7.515625 \nL 36.8125 0 \nL 27.59375 0 \nQ 17.1875 0 13.234375 3.875 \nQ 9.28125 7.765625 9.28125 18.015625 \nL 9.28125 47.703125 \nL 2.6875 47.703125 \nL 2.6875 54.6875 \nL 9.28125 54.6875 \nL 9.28125 70.21875 \nz\n\" id=\"DejaVuSans-116\"/>\n     <path d=\"M 54.890625 33.015625 \nL 54.890625 0 \nL 45.90625 0 \nL 45.90625 32.71875 \nQ 45.90625 40.484375 42.875 44.328125 \nQ 39.84375 48.1875 33.796875 48.1875 \nQ 26.515625 48.1875 22.3125 43.546875 \nQ 18.109375 38.921875 18.109375 30.90625 \nL 18.109375 0 \nL 9.078125 0 \nL 9.078125 75.984375 \nL 18.109375 75.984375 \nL 18.109375 46.1875 \nQ 21.34375 51.125 25.703125 53.5625 \nQ 30.078125 56 35.796875 56 \nQ 45.21875 56 50.046875 50.171875 \nQ 54.890625 44.34375 54.890625 33.015625 \nz\n\" id=\"DejaVuSans-104\"/>\n     <path d=\"M 52 44.1875 \nQ 55.375 50.25 60.0625 53.125 \nQ 64.75 56 71.09375 56 \nQ 79.640625 56 84.28125 50.015625 \nQ 88.921875 44.046875 88.921875 33.015625 \nL 88.921875 0 \nL 79.890625 0 \nL 79.890625 32.71875 \nQ 79.890625 40.578125 77.09375 44.375 \nQ 74.3125 48.1875 68.609375 48.1875 \nQ 61.625 48.1875 57.5625 43.546875 \nQ 53.515625 38.921875 53.515625 30.90625 \nL 53.515625 0 \nL 44.484375 0 \nL 44.484375 32.71875 \nQ 44.484375 40.625 41.703125 44.40625 \nQ 38.921875 48.1875 33.109375 48.1875 \nQ 26.21875 48.1875 22.15625 43.53125 \nQ 18.109375 38.875 18.109375 30.90625 \nL 18.109375 0 \nL 9.078125 0 \nL 9.078125 54.6875 \nL 18.109375 54.6875 \nL 18.109375 46.1875 \nQ 21.1875 51.21875 25.484375 53.609375 \nQ 29.78125 56 35.6875 56 \nQ 41.65625 56 45.828125 52.96875 \nQ 50 49.953125 52 44.1875 \nz\n\" id=\"DejaVuSans-109\"/>\n     <path d=\"M 56.203125 29.59375 \nL 56.203125 25.203125 \nL 14.890625 25.203125 \nQ 15.484375 15.921875 20.484375 11.0625 \nQ 25.484375 6.203125 34.421875 6.203125 \nQ 39.59375 6.203125 44.453125 7.46875 \nQ 49.3125 8.734375 54.109375 11.28125 \nL 54.109375 2.78125 \nQ 49.265625 0.734375 44.1875 -0.34375 \nQ 39.109375 -1.421875 33.890625 -1.421875 \nQ 20.796875 -1.421875 13.15625 6.1875 \nQ 5.515625 13.8125 5.515625 26.8125 \nQ 5.515625 40.234375 12.765625 48.109375 \nQ 20.015625 56 32.328125 56 \nQ 43.359375 56 49.78125 48.890625 \nQ 56.203125 41.796875 56.203125 29.59375 \nz\nM 47.21875 32.234375 \nQ 47.125 39.59375 43.09375 43.984375 \nQ 39.0625 48.390625 32.421875 48.390625 \nQ 24.90625 48.390625 20.390625 44.140625 \nQ 15.875 39.890625 15.1875 32.171875 \nz\n\" id=\"DejaVuSans-101\"/>\n     <path d=\"M 48.78125 52.59375 \nL 48.78125 44.1875 \nQ 44.96875 46.296875 41.140625 47.34375 \nQ 37.3125 48.390625 33.40625 48.390625 \nQ 24.65625 48.390625 19.8125 42.84375 \nQ 14.984375 37.3125 14.984375 27.296875 \nQ 14.984375 17.28125 19.8125 11.734375 \nQ 24.65625 6.203125 33.40625 6.203125 \nQ 37.3125 6.203125 41.140625 7.25 \nQ 44.96875 8.296875 48.78125 10.40625 \nL 48.78125 2.09375 \nQ 45.015625 0.34375 40.984375 -0.53125 \nQ 36.96875 -1.421875 32.421875 -1.421875 \nQ 20.0625 -1.421875 12.78125 6.34375 \nQ 5.515625 14.109375 5.515625 27.296875 \nQ 5.515625 40.671875 12.859375 48.328125 \nQ 20.21875 56 33.015625 56 \nQ 37.15625 56 41.109375 55.140625 \nQ 45.0625 54.296875 48.78125 52.59375 \nz\n\" id=\"DejaVuSans-99\"/>\n     <path d=\"M 10.6875 12.40625 \nL 21 12.40625 \nL 21 0 \nL 10.6875 0 \nz\n\" id=\"DejaVuSans-46\"/>\n    </defs>\n    <g transform=\"translate(170.977304 358.914281)scale(0.1 -0.1)\">\n     <use transform=\"translate(0 0.015625)\" xlink:href=\"#DejaVuSans-105\"/>\n     <use transform=\"translate(27.783203 0.015625)\" xlink:href=\"#DejaVuSans-32\"/>\n     <use transform=\"translate(59.570312 0.015625)\" xlink:href=\"#DejaVuSans-115\"/>\n     <use transform=\"translate(111.669922 0.015625)\" xlink:href=\"#DejaVuSans-97\"/>\n     <use transform=\"translate(172.949219 0.015625)\" xlink:href=\"#DejaVuSans-119\"/>\n     <use transform=\"translate(254.736328 0.015625)\" xlink:href=\"#DejaVuSans-32\"/>\n     <use transform=\"translate(286.523438 0.015625)\" xlink:href=\"#DejaVuSans-97\"/>\n     <use transform=\"translate(347.802734 0.015625)\" xlink:href=\"#DejaVuSans-32\"/>\n     <use transform=\"translate(379.589844 0.015625)\" xlink:href=\"#DejaVuSans-Bold-109\"/>\n     <use transform=\"translate(483.789062 0.015625)\" xlink:href=\"#DejaVuSans-Bold-111\"/>\n     <use transform=\"translate(552.490234 0.015625)\" xlink:href=\"#DejaVuSans-Bold-117\"/>\n     <use transform=\"translate(623.681641 0.015625)\" xlink:href=\"#DejaVuSans-Bold-115\"/>\n     <use transform=\"translate(683.203125 0.015625)\" xlink:href=\"#DejaVuSans-Bold-101\"/>\n     <use transform=\"translate(751.025391 0.015625)\" xlink:href=\"#DejaVuSans-32\"/>\n     <use transform=\"translate(782.8125 0.015625)\" xlink:href=\"#DejaVuSans-114\"/>\n     <use transform=\"translate(823.925781 0.015625)\" xlink:href=\"#DejaVuSans-117\"/>\n     <use transform=\"translate(887.304688 0.015625)\" xlink:href=\"#DejaVuSans-110\"/>\n     <use transform=\"translate(950.683594 0.015625)\" xlink:href=\"#DejaVuSans-32\"/>\n     <use transform=\"translate(982.470703 0.015625)\" xlink:href=\"#DejaVuSans-111\"/>\n     <use transform=\"translate(1043.652344 0.015625)\" xlink:href=\"#DejaVuSans-102\"/>\n     <use transform=\"translate(1078.857422 0.015625)\" xlink:href=\"#DejaVuSans-102\"/>\n     <use transform=\"translate(1114.0625 0.015625)\" xlink:href=\"#DejaVuSans-32\"/>\n     <use transform=\"translate(1145.849609 0.015625)\" xlink:href=\"#DejaVuSans-119\"/>\n     <use transform=\"translate(1227.636719 0.015625)\" xlink:href=\"#DejaVuSans-105\"/>\n     <use transform=\"translate(1255.419922 0.015625)\" xlink:href=\"#DejaVuSans-116\"/>\n     <use transform=\"translate(1294.628906 0.015625)\" xlink:href=\"#DejaVuSans-104\"/>\n     <use transform=\"translate(1358.007812 0.015625)\" xlink:href=\"#DejaVuSans-32\"/>\n     <use transform=\"translate(1389.794922 0.015625)\" xlink:href=\"#DejaVuSans-115\"/>\n     <use transform=\"translate(1441.894531 0.015625)\" xlink:href=\"#DejaVuSans-111\"/>\n     <use transform=\"translate(1503.076172 0.015625)\" xlink:href=\"#DejaVuSans-109\"/>\n     <use transform=\"translate(1600.488281 0.015625)\" xlink:href=\"#DejaVuSans-101\"/>\n     <use transform=\"translate(1662.011719 0.015625)\" xlink:href=\"#DejaVuSans-32\"/>\n     <use transform=\"translate(1693.798828 0.015625)\" xlink:href=\"#DejaVuSans-99\"/>\n     <use transform=\"translate(1748.779297 0.015625)\" xlink:href=\"#DejaVuSans-104\"/>\n     <use transform=\"translate(1812.158203 0.015625)\" xlink:href=\"#DejaVuSans-101\"/>\n     <use transform=\"translate(1873.681641 0.015625)\" xlink:href=\"#DejaVuSans-101\"/>\n     <use transform=\"translate(1935.205078 0.015625)\" xlink:href=\"#DejaVuSans-115\"/>\n     <use transform=\"translate(1987.304688 0.015625)\" xlink:href=\"#DejaVuSans-101\"/>\n     <use transform=\"translate(2048.828125 0.015625)\" xlink:href=\"#DejaVuSans-32\"/>\n     <use transform=\"translate(2080.615234 0.015625)\" xlink:href=\"#DejaVuSans-46\"/>\n    </g>\n   </g>\n   <g id=\"text_2\">\n    <!-- i bought a new computer $\\bfmouse$ yesterday . -->\n    <defs>\n     <path d=\"M 48.6875 27.296875 \nQ 48.6875 37.203125 44.609375 42.84375 \nQ 40.53125 48.484375 33.40625 48.484375 \nQ 26.265625 48.484375 22.1875 42.84375 \nQ 18.109375 37.203125 18.109375 27.296875 \nQ 18.109375 17.390625 22.1875 11.75 \nQ 26.265625 6.109375 33.40625 6.109375 \nQ 40.53125 6.109375 44.609375 11.75 \nQ 48.6875 17.390625 48.6875 27.296875 \nz\nM 18.109375 46.390625 \nQ 20.953125 51.265625 25.265625 53.625 \nQ 29.59375 56 35.59375 56 \nQ 45.5625 56 51.78125 48.09375 \nQ 58.015625 40.1875 58.015625 27.296875 \nQ 58.015625 14.40625 51.78125 6.484375 \nQ 45.5625 -1.421875 35.59375 -1.421875 \nQ 29.59375 -1.421875 25.265625 0.953125 \nQ 20.953125 3.328125 18.109375 8.203125 \nL 18.109375 0 \nL 9.078125 0 \nL 9.078125 75.984375 \nL 18.109375 75.984375 \nz\n\" id=\"DejaVuSans-98\"/>\n     <path d=\"M 45.40625 27.984375 \nQ 45.40625 37.75 41.375 43.109375 \nQ 37.359375 48.484375 30.078125 48.484375 \nQ 22.859375 48.484375 18.828125 43.109375 \nQ 14.796875 37.75 14.796875 27.984375 \nQ 14.796875 18.265625 18.828125 12.890625 \nQ 22.859375 7.515625 30.078125 7.515625 \nQ 37.359375 7.515625 41.375 12.890625 \nQ 45.40625 18.265625 45.40625 27.984375 \nz\nM 54.390625 6.78125 \nQ 54.390625 -7.171875 48.1875 -13.984375 \nQ 42 -20.796875 29.203125 -20.796875 \nQ 24.46875 -20.796875 20.265625 -20.09375 \nQ 16.0625 -19.390625 12.109375 -17.921875 \nL 12.109375 -9.1875 \nQ 16.0625 -11.328125 19.921875 -12.34375 \nQ 23.78125 -13.375 27.78125 -13.375 \nQ 36.625 -13.375 41.015625 -8.765625 \nQ 45.40625 -4.15625 45.40625 5.171875 \nL 45.40625 9.625 \nQ 42.625 4.78125 38.28125 2.390625 \nQ 33.9375 0 27.875 0 \nQ 17.828125 0 11.671875 7.65625 \nQ 5.515625 15.328125 5.515625 27.984375 \nQ 5.515625 40.671875 11.671875 48.328125 \nQ 17.828125 56 27.875 56 \nQ 33.9375 56 38.28125 53.609375 \nQ 42.625 51.21875 45.40625 46.390625 \nL 45.40625 54.6875 \nL 54.390625 54.6875 \nz\n\" id=\"DejaVuSans-103\"/>\n     <path d=\"M 18.109375 8.203125 \nL 18.109375 -20.796875 \nL 9.078125 -20.796875 \nL 9.078125 54.6875 \nL 18.109375 54.6875 \nL 18.109375 46.390625 \nQ 20.953125 51.265625 25.265625 53.625 \nQ 29.59375 56 35.59375 56 \nQ 45.5625 56 51.78125 48.09375 \nQ 58.015625 40.1875 58.015625 27.296875 \nQ 58.015625 14.40625 51.78125 6.484375 \nQ 45.5625 -1.421875 35.59375 -1.421875 \nQ 29.59375 -1.421875 25.265625 0.953125 \nQ 20.953125 3.328125 18.109375 8.203125 \nz\nM 48.6875 27.296875 \nQ 48.6875 37.203125 44.609375 42.84375 \nQ 40.53125 48.484375 33.40625 48.484375 \nQ 26.265625 48.484375 22.1875 42.84375 \nQ 18.109375 37.203125 18.109375 27.296875 \nQ 18.109375 17.390625 22.1875 11.75 \nQ 26.265625 6.109375 33.40625 6.109375 \nQ 40.53125 6.109375 44.609375 11.75 \nQ 48.6875 17.390625 48.6875 27.296875 \nz\n\" id=\"DejaVuSans-112\"/>\n     <path d=\"M 32.171875 -5.078125 \nQ 28.375 -14.84375 24.75 -17.8125 \nQ 21.140625 -20.796875 15.09375 -20.796875 \nL 7.90625 -20.796875 \nL 7.90625 -13.28125 \nL 13.1875 -13.28125 \nQ 16.890625 -13.28125 18.9375 -11.515625 \nQ 21 -9.765625 23.484375 -3.21875 \nL 25.09375 0.875 \nL 2.984375 54.6875 \nL 12.5 54.6875 \nL 29.59375 11.921875 \nL 46.6875 54.6875 \nL 56.203125 54.6875 \nz\n\" id=\"DejaVuSans-121\"/>\n     <path d=\"M 45.40625 46.390625 \nL 45.40625 75.984375 \nL 54.390625 75.984375 \nL 54.390625 0 \nL 45.40625 0 \nL 45.40625 8.203125 \nQ 42.578125 3.328125 38.25 0.953125 \nQ 33.9375 -1.421875 27.875 -1.421875 \nQ 17.96875 -1.421875 11.734375 6.484375 \nQ 5.515625 14.40625 5.515625 27.296875 \nQ 5.515625 40.1875 11.734375 48.09375 \nQ 17.96875 56 27.875 56 \nQ 33.9375 56 38.25 53.625 \nQ 42.578125 51.265625 45.40625 46.390625 \nz\nM 14.796875 27.296875 \nQ 14.796875 17.390625 18.875 11.75 \nQ 22.953125 6.109375 30.078125 6.109375 \nQ 37.203125 6.109375 41.296875 11.75 \nQ 45.40625 17.390625 45.40625 27.296875 \nQ 45.40625 37.203125 41.296875 42.84375 \nQ 37.203125 48.484375 30.078125 48.484375 \nQ 22.953125 48.484375 18.875 42.84375 \nQ 14.796875 37.203125 14.796875 27.296875 \nz\n\" id=\"DejaVuSans-100\"/>\n    </defs>\n    <g transform=\"translate(223.987184 31.909198)scale(0.1 -0.1)\">\n     <use transform=\"translate(0 0.015625)\" xlink:href=\"#DejaVuSans-105\"/>\n     <use transform=\"translate(27.783203 0.015625)\" xlink:href=\"#DejaVuSans-32\"/>\n     <use transform=\"translate(59.570312 0.015625)\" xlink:href=\"#DejaVuSans-98\"/>\n     <use transform=\"translate(123.046875 0.015625)\" xlink:href=\"#DejaVuSans-111\"/>\n     <use transform=\"translate(184.228516 0.015625)\" xlink:href=\"#DejaVuSans-117\"/>\n     <use transform=\"translate(247.607422 0.015625)\" xlink:href=\"#DejaVuSans-103\"/>\n     <use transform=\"translate(311.083984 0.015625)\" xlink:href=\"#DejaVuSans-104\"/>\n     <use transform=\"translate(374.462891 0.015625)\" xlink:href=\"#DejaVuSans-116\"/>\n     <use transform=\"translate(413.671875 0.015625)\" xlink:href=\"#DejaVuSans-32\"/>\n     <use transform=\"translate(445.458984 0.015625)\" xlink:href=\"#DejaVuSans-97\"/>\n     <use transform=\"translate(506.738281 0.015625)\" xlink:href=\"#DejaVuSans-32\"/>\n     <use transform=\"translate(538.525391 0.015625)\" xlink:href=\"#DejaVuSans-110\"/>\n     <use transform=\"translate(601.904297 0.015625)\" xlink:href=\"#DejaVuSans-101\"/>\n     <use transform=\"translate(663.427734 0.015625)\" xlink:href=\"#DejaVuSans-119\"/>\n     <use transform=\"translate(745.214844 0.015625)\" xlink:href=\"#DejaVuSans-32\"/>\n     <use transform=\"translate(777.001953 0.015625)\" xlink:href=\"#DejaVuSans-99\"/>\n     <use transform=\"translate(831.982422 0.015625)\" xlink:href=\"#DejaVuSans-111\"/>\n     <use transform=\"translate(893.164062 0.015625)\" xlink:href=\"#DejaVuSans-109\"/>\n     <use transform=\"translate(990.576172 0.015625)\" xlink:href=\"#DejaVuSans-112\"/>\n     <use transform=\"translate(1054.052734 0.015625)\" xlink:href=\"#DejaVuSans-117\"/>\n     <use transform=\"translate(1117.431641 0.015625)\" xlink:href=\"#DejaVuSans-116\"/>\n     <use transform=\"translate(1156.640625 0.015625)\" xlink:href=\"#DejaVuSans-101\"/>\n     <use transform=\"translate(1218.164062 0.015625)\" xlink:href=\"#DejaVuSans-114\"/>\n     <use transform=\"translate(1259.277344 0.015625)\" xlink:href=\"#DejaVuSans-32\"/>\n     <use transform=\"translate(1291.064453 0.015625)\" xlink:href=\"#DejaVuSans-Bold-109\"/>\n     <use transform=\"translate(1395.263672 0.015625)\" xlink:href=\"#DejaVuSans-Bold-111\"/>\n     <use transform=\"translate(1463.964844 0.015625)\" xlink:href=\"#DejaVuSans-Bold-117\"/>\n     <use transform=\"translate(1535.15625 0.015625)\" xlink:href=\"#DejaVuSans-Bold-115\"/>\n     <use transform=\"translate(1594.677734 0.015625)\" xlink:href=\"#DejaVuSans-Bold-101\"/>\n     <use transform=\"translate(1662.5 0.015625)\" xlink:href=\"#DejaVuSans-32\"/>\n     <use transform=\"translate(1694.287109 0.015625)\" xlink:href=\"#DejaVuSans-121\"/>\n     <use transform=\"translate(1753.466797 0.015625)\" xlink:href=\"#DejaVuSans-101\"/>\n     <use transform=\"translate(1814.990234 0.015625)\" xlink:href=\"#DejaVuSans-115\"/>\n     <use transform=\"translate(1867.089844 0.015625)\" xlink:href=\"#DejaVuSans-116\"/>\n     <use transform=\"translate(1906.298828 0.015625)\" xlink:href=\"#DejaVuSans-101\"/>\n     <use transform=\"translate(1967.822266 0.015625)\" xlink:href=\"#DejaVuSans-114\"/>\n     <use transform=\"translate(2008.935547 0.015625)\" xlink:href=\"#DejaVuSans-100\"/>\n     <use transform=\"translate(2072.412109 0.015625)\" xlink:href=\"#DejaVuSans-97\"/>\n     <use transform=\"translate(2133.691406 0.015625)\" xlink:href=\"#DejaVuSans-121\"/>\n     <use transform=\"translate(2192.871094 0.015625)\" xlink:href=\"#DejaVuSans-32\"/>\n     <use transform=\"translate(2224.658203 0.015625)\" xlink:href=\"#DejaVuSans-46\"/>\n    </g>\n   </g>\n   <g id=\"text_3\">\n    <!-- my $\\bfcat$ jumped on the bed . -->\n    <defs>\n     <path d=\"M 52.59375 52.984375 \nL 52.59375 38.71875 \nQ 49.03125 41.15625 45.4375 42.328125 \nQ 41.84375 43.5 37.984375 43.5 \nQ 30.671875 43.5 26.59375 39.234375 \nQ 22.515625 34.96875 22.515625 27.296875 \nQ 22.515625 19.625 26.59375 15.34375 \nQ 30.671875 11.078125 37.984375 11.078125 \nQ 42.09375 11.078125 45.78125 12.296875 \nQ 49.46875 13.53125 52.59375 15.921875 \nL 52.59375 1.609375 \nQ 48.484375 0.09375 44.265625 -0.65625 \nQ 40.046875 -1.421875 35.796875 -1.421875 \nQ 21 -1.421875 12.640625 6.171875 \nQ 4.296875 13.765625 4.296875 27.296875 \nQ 4.296875 40.828125 12.640625 48.40625 \nQ 21 56 35.796875 56 \nQ 40.09375 56 44.265625 55.25 \nQ 48.4375 54.5 52.59375 52.984375 \nz\n\" id=\"DejaVuSans-Bold-99\"/>\n     <path d=\"M 32.90625 24.609375 \nQ 27.4375 24.609375 24.671875 22.75 \nQ 21.921875 20.90625 21.921875 17.28125 \nQ 21.921875 13.96875 24.140625 12.078125 \nQ 26.375 10.203125 30.328125 10.203125 \nQ 35.25 10.203125 38.625 13.734375 \nQ 42 17.28125 42 22.609375 \nL 42 24.609375 \nz\nM 59.625 31.203125 \nL 59.625 0 \nL 42 0 \nL 42 8.109375 \nQ 38.484375 3.125 34.078125 0.84375 \nQ 29.6875 -1.421875 23.390625 -1.421875 \nQ 14.890625 -1.421875 9.59375 3.53125 \nQ 4.296875 8.5 4.296875 16.40625 \nQ 4.296875 26.03125 10.90625 30.515625 \nQ 17.53125 35.015625 31.6875 35.015625 \nL 42 35.015625 \nL 42 36.375 \nQ 42 40.53125 38.71875 42.453125 \nQ 35.453125 44.390625 28.515625 44.390625 \nQ 22.90625 44.390625 18.0625 43.265625 \nQ 13.234375 42.140625 9.078125 39.890625 \nL 9.078125 53.21875 \nQ 14.703125 54.59375 20.359375 55.296875 \nQ 26.03125 56 31.6875 56 \nQ 46.484375 56 53.046875 50.171875 \nQ 59.625 44.34375 59.625 31.203125 \nz\n\" id=\"DejaVuSans-Bold-97\"/>\n     <path d=\"M 27.484375 70.21875 \nL 27.484375 54.6875 \nL 45.515625 54.6875 \nL 45.515625 42.1875 \nL 27.484375 42.1875 \nL 27.484375 19 \nQ 27.484375 15.1875 29 13.84375 \nQ 30.515625 12.5 35.015625 12.5 \nL 44 12.5 \nL 44 0 \nL 29 0 \nQ 18.65625 0 14.328125 4.3125 \nQ 10.015625 8.640625 10.015625 19 \nL 10.015625 42.1875 \nL 1.3125 42.1875 \nL 1.3125 54.6875 \nL 10.015625 54.6875 \nL 10.015625 70.21875 \nz\n\" id=\"DejaVuSans-Bold-116\"/>\n     <path d=\"M 9.421875 54.6875 \nL 18.40625 54.6875 \nL 18.40625 -0.984375 \nQ 18.40625 -11.421875 14.421875 -16.109375 \nQ 10.453125 -20.796875 1.609375 -20.796875 \nL -1.8125 -20.796875 \nL -1.8125 -13.1875 \nL 0.59375 -13.1875 \nQ 5.71875 -13.1875 7.5625 -10.8125 \nQ 9.421875 -8.453125 9.421875 -0.984375 \nz\nM 9.421875 75.984375 \nL 18.40625 75.984375 \nL 18.40625 64.59375 \nL 9.421875 64.59375 \nz\n\" id=\"DejaVuSans-106\"/>\n    </defs>\n    <g transform=\"translate(101.360796 253.995438)scale(0.1 -0.1)\">\n     <use transform=\"translate(0 0.015625)\" xlink:href=\"#DejaVuSans-109\"/>\n     <use transform=\"translate(97.412109 0.015625)\" xlink:href=\"#DejaVuSans-121\"/>\n     <use transform=\"translate(156.591797 0.015625)\" xlink:href=\"#DejaVuSans-32\"/>\n     <use transform=\"translate(188.378906 0.015625)\" xlink:href=\"#DejaVuSans-Bold-99\"/>\n     <use transform=\"translate(247.65625 0.015625)\" xlink:href=\"#DejaVuSans-Bold-97\"/>\n     <use transform=\"translate(315.136719 0.015625)\" xlink:href=\"#DejaVuSans-Bold-116\"/>\n     <use transform=\"translate(362.939453 0.015625)\" xlink:href=\"#DejaVuSans-32\"/>\n     <use transform=\"translate(394.726562 0.015625)\" xlink:href=\"#DejaVuSans-106\"/>\n     <use transform=\"translate(422.509766 0.015625)\" xlink:href=\"#DejaVuSans-117\"/>\n     <use transform=\"translate(485.888672 0.015625)\" xlink:href=\"#DejaVuSans-109\"/>\n     <use transform=\"translate(583.300781 0.015625)\" xlink:href=\"#DejaVuSans-112\"/>\n     <use transform=\"translate(646.777344 0.015625)\" xlink:href=\"#DejaVuSans-101\"/>\n     <use transform=\"translate(708.300781 0.015625)\" xlink:href=\"#DejaVuSans-100\"/>\n     <use transform=\"translate(771.777344 0.015625)\" xlink:href=\"#DejaVuSans-32\"/>\n     <use transform=\"translate(803.564453 0.015625)\" xlink:href=\"#DejaVuSans-111\"/>\n     <use transform=\"translate(864.746094 0.015625)\" xlink:href=\"#DejaVuSans-110\"/>\n     <use transform=\"translate(928.125 0.015625)\" xlink:href=\"#DejaVuSans-32\"/>\n     <use transform=\"translate(959.912109 0.015625)\" xlink:href=\"#DejaVuSans-116\"/>\n     <use transform=\"translate(999.121094 0.015625)\" xlink:href=\"#DejaVuSans-104\"/>\n     <use transform=\"translate(1062.5 0.015625)\" xlink:href=\"#DejaVuSans-101\"/>\n     <use transform=\"translate(1124.023438 0.015625)\" xlink:href=\"#DejaVuSans-32\"/>\n     <use transform=\"translate(1155.810547 0.015625)\" xlink:href=\"#DejaVuSans-98\"/>\n     <use transform=\"translate(1219.287109 0.015625)\" xlink:href=\"#DejaVuSans-101\"/>\n     <use transform=\"translate(1280.810547 0.015625)\" xlink:href=\"#DejaVuSans-100\"/>\n     <use transform=\"translate(1344.287109 0.015625)\" xlink:href=\"#DejaVuSans-32\"/>\n     <use transform=\"translate(1376.074219 0.015625)\" xlink:href=\"#DejaVuSans-46\"/>\n    </g>\n   </g>\n   <g id=\"text_4\">\n    <!-- my computer $\\bfkeyboard$ broke when i spilled juice on it . -->\n    <defs>\n     <path d=\"M 8.40625 75.984375 \nL 25.875 75.984375 \nL 25.875 34.625 \nL 46 54.6875 \nL 66.3125 54.6875 \nL 39.59375 29.59375 \nL 68.40625 0 \nL 47.21875 0 \nL 25.875 22.796875 \nL 25.875 0 \nL 8.40625 0 \nz\n\" id=\"DejaVuSans-Bold-107\"/>\n     <path d=\"M 1.21875 54.6875 \nL 18.703125 54.6875 \nL 33.40625 17.578125 \nL 45.90625 54.6875 \nL 63.375 54.6875 \nL 40.375 -5.171875 \nQ 36.921875 -14.3125 32.296875 -17.9375 \nQ 27.6875 -21.578125 20.125 -21.578125 \nL 10.015625 -21.578125 \nL 10.015625 -10.109375 \nL 15.484375 -10.109375 \nQ 19.921875 -10.109375 21.9375 -8.6875 \nQ 23.96875 -7.28125 25.09375 -3.609375 \nL 25.59375 -2.09375 \nz\n\" id=\"DejaVuSans-Bold-121\"/>\n     <path d=\"M 37.5 11.28125 \nQ 43.109375 11.28125 46.0625 15.375 \nQ 49.03125 19.484375 49.03125 27.296875 \nQ 49.03125 35.109375 46.0625 39.203125 \nQ 43.109375 43.3125 37.5 43.3125 \nQ 31.890625 43.3125 28.875 39.1875 \nQ 25.875 35.0625 25.875 27.296875 \nQ 25.875 19.53125 28.875 15.40625 \nQ 31.890625 11.28125 37.5 11.28125 \nz\nM 25.875 46.6875 \nQ 29.5 51.46875 33.890625 53.734375 \nQ 38.28125 56 44 56 \nQ 54.109375 56 60.59375 47.96875 \nQ 67.09375 39.9375 67.09375 27.296875 \nQ 67.09375 14.65625 60.59375 6.609375 \nQ 54.109375 -1.421875 44 -1.421875 \nQ 38.28125 -1.421875 33.890625 0.84375 \nQ 29.5 3.125 25.875 7.90625 \nL 25.875 0 \nL 8.40625 0 \nL 8.40625 75.984375 \nL 25.875 75.984375 \nz\n\" id=\"DejaVuSans-Bold-98\"/>\n     <path d=\"M 49.03125 39.796875 \nQ 46.734375 40.875 44.453125 41.375 \nQ 42.1875 41.890625 39.890625 41.890625 \nQ 33.15625 41.890625 29.515625 37.5625 \nQ 25.875 33.25 25.875 25.203125 \nL 25.875 0 \nL 8.40625 0 \nL 8.40625 54.6875 \nL 25.875 54.6875 \nL 25.875 45.703125 \nQ 29.25 51.078125 33.609375 53.53125 \nQ 37.984375 56 44.09375 56 \nQ 44.96875 56 45.984375 55.921875 \nQ 47.015625 55.859375 48.96875 55.609375 \nz\n\" id=\"DejaVuSans-Bold-114\"/>\n     <path d=\"M 45.609375 46.6875 \nL 45.609375 75.984375 \nL 63.1875 75.984375 \nL 63.1875 0 \nL 45.609375 0 \nL 45.609375 7.90625 \nQ 42 3.078125 37.640625 0.828125 \nQ 33.296875 -1.421875 27.59375 -1.421875 \nQ 17.484375 -1.421875 10.984375 6.609375 \nQ 4.5 14.65625 4.5 27.296875 \nQ 4.5 39.9375 10.984375 47.96875 \nQ 17.484375 56 27.59375 56 \nQ 33.25 56 37.625 53.734375 \nQ 42 51.46875 45.609375 46.6875 \nz\nM 34.078125 11.28125 \nQ 39.703125 11.28125 42.65625 15.375 \nQ 45.609375 19.484375 45.609375 27.296875 \nQ 45.609375 35.109375 42.65625 39.203125 \nQ 39.703125 43.3125 34.078125 43.3125 \nQ 28.515625 43.3125 25.5625 39.203125 \nQ 22.609375 35.109375 22.609375 27.296875 \nQ 22.609375 19.484375 25.5625 15.375 \nQ 28.515625 11.28125 34.078125 11.28125 \nz\n\" id=\"DejaVuSans-Bold-100\"/>\n     <path d=\"M 9.078125 75.984375 \nL 18.109375 75.984375 \nL 18.109375 31.109375 \nL 44.921875 54.6875 \nL 56.390625 54.6875 \nL 27.390625 29.109375 \nL 57.625 0 \nL 45.90625 0 \nL 18.109375 26.703125 \nL 18.109375 0 \nL 9.078125 0 \nz\n\" id=\"DejaVuSans-107\"/>\n     <path d=\"M 9.421875 75.984375 \nL 18.40625 75.984375 \nL 18.40625 0 \nL 9.421875 0 \nz\n\" id=\"DejaVuSans-108\"/>\n    </defs>\n    <g transform=\"translate(21.339658 176.369161)scale(0.1 -0.1)\">\n     <use transform=\"translate(0 0.015625)\" xlink:href=\"#DejaVuSans-109\"/>\n     <use transform=\"translate(97.412109 0.015625)\" xlink:href=\"#DejaVuSans-121\"/>\n     <use transform=\"translate(156.591797 0.015625)\" xlink:href=\"#DejaVuSans-32\"/>\n     <use transform=\"translate(188.378906 0.015625)\" xlink:href=\"#DejaVuSans-99\"/>\n     <use transform=\"translate(243.359375 0.015625)\" xlink:href=\"#DejaVuSans-111\"/>\n     <use transform=\"translate(304.541016 0.015625)\" xlink:href=\"#DejaVuSans-109\"/>\n     <use transform=\"translate(401.953125 0.015625)\" xlink:href=\"#DejaVuSans-112\"/>\n     <use transform=\"translate(465.429688 0.015625)\" xlink:href=\"#DejaVuSans-117\"/>\n     <use transform=\"translate(528.808594 0.015625)\" xlink:href=\"#DejaVuSans-116\"/>\n     <use transform=\"translate(568.017578 0.015625)\" xlink:href=\"#DejaVuSans-101\"/>\n     <use transform=\"translate(629.541016 0.015625)\" xlink:href=\"#DejaVuSans-114\"/>\n     <use transform=\"translate(670.654297 0.015625)\" xlink:href=\"#DejaVuSans-32\"/>\n     <use transform=\"translate(702.441406 0.015625)\" xlink:href=\"#DejaVuSans-Bold-107\"/>\n     <use transform=\"translate(768.945312 0.015625)\" xlink:href=\"#DejaVuSans-Bold-101\"/>\n     <use transform=\"translate(836.767578 0.015625)\" xlink:href=\"#DejaVuSans-Bold-121\"/>\n     <use transform=\"translate(901.953125 0.015625)\" xlink:href=\"#DejaVuSans-Bold-98\"/>\n     <use transform=\"translate(973.535156 0.015625)\" xlink:href=\"#DejaVuSans-Bold-111\"/>\n     <use transform=\"translate(1042.236328 0.015625)\" xlink:href=\"#DejaVuSans-Bold-97\"/>\n     <use transform=\"translate(1109.716797 0.015625)\" xlink:href=\"#DejaVuSans-Bold-114\"/>\n     <use transform=\"translate(1159.033203 0.015625)\" xlink:href=\"#DejaVuSans-Bold-100\"/>\n     <use transform=\"translate(1230.615234 0.015625)\" xlink:href=\"#DejaVuSans-32\"/>\n     <use transform=\"translate(1262.402344 0.015625)\" xlink:href=\"#DejaVuSans-98\"/>\n     <use transform=\"translate(1325.878906 0.015625)\" xlink:href=\"#DejaVuSans-114\"/>\n     <use transform=\"translate(1366.992188 0.015625)\" xlink:href=\"#DejaVuSans-111\"/>\n     <use transform=\"translate(1428.173828 0.015625)\" xlink:href=\"#DejaVuSans-107\"/>\n     <use transform=\"translate(1486.083984 0.015625)\" xlink:href=\"#DejaVuSans-101\"/>\n     <use transform=\"translate(1547.607422 0.015625)\" xlink:href=\"#DejaVuSans-32\"/>\n     <use transform=\"translate(1579.394531 0.015625)\" xlink:href=\"#DejaVuSans-119\"/>\n     <use transform=\"translate(1661.181641 0.015625)\" xlink:href=\"#DejaVuSans-104\"/>\n     <use transform=\"translate(1724.560547 0.015625)\" xlink:href=\"#DejaVuSans-101\"/>\n     <use transform=\"translate(1786.083984 0.015625)\" xlink:href=\"#DejaVuSans-110\"/>\n     <use transform=\"translate(1849.462891 0.015625)\" xlink:href=\"#DejaVuSans-32\"/>\n     <use transform=\"translate(1881.25 0.015625)\" xlink:href=\"#DejaVuSans-105\"/>\n     <use transform=\"translate(1909.033203 0.015625)\" xlink:href=\"#DejaVuSans-32\"/>\n     <use transform=\"translate(1940.820312 0.015625)\" xlink:href=\"#DejaVuSans-115\"/>\n     <use transform=\"translate(1992.919922 0.015625)\" xlink:href=\"#DejaVuSans-112\"/>\n     <use transform=\"translate(2056.396484 0.015625)\" xlink:href=\"#DejaVuSans-105\"/>\n     <use transform=\"translate(2084.179688 0.015625)\" xlink:href=\"#DejaVuSans-108\"/>\n     <use transform=\"translate(2111.962891 0.015625)\" xlink:href=\"#DejaVuSans-108\"/>\n     <use transform=\"translate(2139.746094 0.015625)\" xlink:href=\"#DejaVuSans-101\"/>\n     <use transform=\"translate(2201.269531 0.015625)\" xlink:href=\"#DejaVuSans-100\"/>\n     <use transform=\"translate(2264.746094 0.015625)\" xlink:href=\"#DejaVuSans-32\"/>\n     <use transform=\"translate(2296.533203 0.015625)\" xlink:href=\"#DejaVuSans-106\"/>\n     <use transform=\"translate(2324.316406 0.015625)\" xlink:href=\"#DejaVuSans-117\"/>\n     <use transform=\"translate(2387.695312 0.015625)\" xlink:href=\"#DejaVuSans-105\"/>\n     <use transform=\"translate(2415.478516 0.015625)\" xlink:href=\"#DejaVuSans-99\"/>\n     <use transform=\"translate(2470.458984 0.015625)\" xlink:href=\"#DejaVuSans-101\"/>\n     <use transform=\"translate(2531.982422 0.015625)\" xlink:href=\"#DejaVuSans-32\"/>\n     <use transform=\"translate(2563.769531 0.015625)\" xlink:href=\"#DejaVuSans-111\"/>\n     <use transform=\"translate(2624.951172 0.015625)\" xlink:href=\"#DejaVuSans-110\"/>\n     <use transform=\"translate(2688.330078 0.015625)\" xlink:href=\"#DejaVuSans-32\"/>\n     <use transform=\"translate(2720.117188 0.015625)\" xlink:href=\"#DejaVuSans-105\"/>\n     <use transform=\"translate(2747.900391 0.015625)\" xlink:href=\"#DejaVuSans-116\"/>\n     <use transform=\"translate(2787.109375 0.015625)\" xlink:href=\"#DejaVuSans-32\"/>\n     <use transform=\"translate(2818.896484 0.015625)\" xlink:href=\"#DejaVuSans-46\"/>\n    </g>\n   </g>\n   <g id=\"text_5\">\n    <!-- i had a banana fu ##dge sunday for $\\bfdessert$ . -->\n    <defs>\n     <path d=\"M 51.125 44 \nL 36.921875 44 \nL 32.8125 27.6875 \nL 47.125 27.6875 \nz\nM 43.796875 71.78125 \nL 38.71875 51.515625 \nL 52.984375 51.515625 \nL 58.109375 71.78125 \nL 65.921875 71.78125 \nL 60.890625 51.515625 \nL 76.125 51.515625 \nL 76.125 44 \nL 58.984375 44 \nL 54.984375 27.6875 \nL 70.515625 27.6875 \nL 70.515625 20.21875 \nL 53.078125 20.21875 \nL 48 0 \nL 40.1875 0 \nL 45.21875 20.21875 \nL 30.90625 20.21875 \nL 25.875 0 \nL 18.015625 0 \nL 23.09375 20.21875 \nL 7.71875 20.21875 \nL 7.71875 27.6875 \nL 24.90625 27.6875 \nL 29 44 \nL 13.28125 44 \nL 13.28125 51.515625 \nL 30.90625 51.515625 \nL 35.890625 71.78125 \nz\n\" id=\"DejaVuSans-35\"/>\n    </defs>\n    <g transform=\"translate(110.913032 49.423189)scale(0.1 -0.1)\">\n     <use transform=\"translate(0 0.015625)\" xlink:href=\"#DejaVuSans-105\"/>\n     <use transform=\"translate(27.783203 0.015625)\" xlink:href=\"#DejaVuSans-32\"/>\n     <use transform=\"translate(59.570312 0.015625)\" xlink:href=\"#DejaVuSans-104\"/>\n     <use transform=\"translate(122.949219 0.015625)\" xlink:href=\"#DejaVuSans-97\"/>\n     <use transform=\"translate(184.228516 0.015625)\" xlink:href=\"#DejaVuSans-100\"/>\n     <use transform=\"translate(247.705078 0.015625)\" xlink:href=\"#DejaVuSans-32\"/>\n     <use transform=\"translate(279.492188 0.015625)\" xlink:href=\"#DejaVuSans-97\"/>\n     <use transform=\"translate(340.771484 0.015625)\" xlink:href=\"#DejaVuSans-32\"/>\n     <use transform=\"translate(372.558594 0.015625)\" xlink:href=\"#DejaVuSans-98\"/>\n     <use transform=\"translate(436.035156 0.015625)\" xlink:href=\"#DejaVuSans-97\"/>\n     <use transform=\"translate(497.314453 0.015625)\" xlink:href=\"#DejaVuSans-110\"/>\n     <use transform=\"translate(560.693359 0.015625)\" xlink:href=\"#DejaVuSans-97\"/>\n     <use transform=\"translate(621.972656 0.015625)\" xlink:href=\"#DejaVuSans-110\"/>\n     <use transform=\"translate(685.351562 0.015625)\" xlink:href=\"#DejaVuSans-97\"/>\n     <use transform=\"translate(746.630859 0.015625)\" xlink:href=\"#DejaVuSans-32\"/>\n     <use transform=\"translate(778.417969 0.015625)\" xlink:href=\"#DejaVuSans-102\"/>\n     <use transform=\"translate(813.623047 0.015625)\" xlink:href=\"#DejaVuSans-117\"/>\n     <use transform=\"translate(877.001953 0.015625)\" xlink:href=\"#DejaVuSans-32\"/>\n     <use transform=\"translate(908.789062 0.015625)\" xlink:href=\"#DejaVuSans-35\"/>\n     <use transform=\"translate(992.578125 0.015625)\" xlink:href=\"#DejaVuSans-35\"/>\n     <use transform=\"translate(1076.367188 0.015625)\" xlink:href=\"#DejaVuSans-100\"/>\n     <use transform=\"translate(1139.84375 0.015625)\" xlink:href=\"#DejaVuSans-103\"/>\n     <use transform=\"translate(1203.320312 0.015625)\" xlink:href=\"#DejaVuSans-101\"/>\n     <use transform=\"translate(1264.84375 0.015625)\" xlink:href=\"#DejaVuSans-32\"/>\n     <use transform=\"translate(1296.630859 0.015625)\" xlink:href=\"#DejaVuSans-115\"/>\n     <use transform=\"translate(1348.730469 0.015625)\" xlink:href=\"#DejaVuSans-117\"/>\n     <use transform=\"translate(1412.109375 0.015625)\" xlink:href=\"#DejaVuSans-110\"/>\n     <use transform=\"translate(1475.488281 0.015625)\" xlink:href=\"#DejaVuSans-100\"/>\n     <use transform=\"translate(1538.964844 0.015625)\" xlink:href=\"#DejaVuSans-97\"/>\n     <use transform=\"translate(1600.244141 0.015625)\" xlink:href=\"#DejaVuSans-121\"/>\n     <use transform=\"translate(1659.423828 0.015625)\" xlink:href=\"#DejaVuSans-32\"/>\n     <use transform=\"translate(1691.210938 0.015625)\" xlink:href=\"#DejaVuSans-102\"/>\n     <use transform=\"translate(1726.416016 0.015625)\" xlink:href=\"#DejaVuSans-111\"/>\n     <use transform=\"translate(1787.597656 0.015625)\" xlink:href=\"#DejaVuSans-114\"/>\n     <use transform=\"translate(1828.710938 0.015625)\" xlink:href=\"#DejaVuSans-32\"/>\n     <use transform=\"translate(1860.498047 0.015625)\" xlink:href=\"#DejaVuSans-Bold-100\"/>\n     <use transform=\"translate(1932.080078 0.015625)\" xlink:href=\"#DejaVuSans-Bold-101\"/>\n     <use transform=\"translate(1999.902344 0.015625)\" xlink:href=\"#DejaVuSans-Bold-115\"/>\n     <use transform=\"translate(2059.423828 0.015625)\" xlink:href=\"#DejaVuSans-Bold-115\"/>\n     <use transform=\"translate(2118.945312 0.015625)\" xlink:href=\"#DejaVuSans-Bold-101\"/>\n     <use transform=\"translate(2186.767578 0.015625)\" xlink:href=\"#DejaVuSans-Bold-114\"/>\n     <use transform=\"translate(2236.083984 0.015625)\" xlink:href=\"#DejaVuSans-Bold-116\"/>\n     <use transform=\"translate(2283.886719 0.015625)\" xlink:href=\"#DejaVuSans-32\"/>\n     <use transform=\"translate(2315.673828 0.015625)\" xlink:href=\"#DejaVuSans-46\"/>\n    </g>\n   </g>\n   <g id=\"text_6\">\n    <!-- what did you eat for $\\bfdinner$ ? -->\n    <defs>\n     <path d=\"M 8.40625 54.6875 \nL 25.875 54.6875 \nL 25.875 0 \nL 8.40625 0 \nz\nM 8.40625 75.984375 \nL 25.875 75.984375 \nL 25.875 61.71875 \nL 8.40625 61.71875 \nz\n\" id=\"DejaVuSans-Bold-105\"/>\n     <path d=\"M 63.375 33.296875 \nL 63.375 0 \nL 45.796875 0 \nL 45.796875 5.421875 \nL 45.796875 25.484375 \nQ 45.796875 32.5625 45.484375 35.25 \nQ 45.171875 37.9375 44.390625 39.203125 \nQ 43.359375 40.921875 41.59375 41.875 \nQ 39.84375 42.828125 37.59375 42.828125 \nQ 32.125 42.828125 29 38.59375 \nQ 25.875 34.375 25.875 26.90625 \nL 25.875 0 \nL 8.40625 0 \nL 8.40625 54.6875 \nL 25.875 54.6875 \nL 25.875 46.6875 \nQ 29.828125 51.46875 34.265625 53.734375 \nQ 38.71875 56 44.09375 56 \nQ 53.5625 56 58.46875 50.1875 \nQ 63.375 44.390625 63.375 33.296875 \nz\n\" id=\"DejaVuSans-Bold-110\"/>\n     <path d=\"M 19.09375 12.40625 \nL 29 12.40625 \nL 29 0 \nL 19.09375 0 \nz\nM 28.71875 19.578125 \nL 19.390625 19.578125 \nL 19.390625 27.09375 \nQ 19.390625 32.03125 20.75 35.203125 \nQ 22.125 38.375 26.515625 42.578125 \nL 30.90625 46.921875 \nQ 33.6875 49.515625 34.9375 51.8125 \nQ 36.1875 54.109375 36.1875 56.5 \nQ 36.1875 60.84375 32.984375 63.53125 \nQ 29.78125 66.21875 24.515625 66.21875 \nQ 20.65625 66.21875 16.28125 64.5 \nQ 11.921875 62.796875 7.171875 59.515625 \nL 7.171875 68.703125 \nQ 11.765625 71.484375 16.46875 72.84375 \nQ 21.1875 74.21875 26.21875 74.21875 \nQ 35.203125 74.21875 40.640625 69.484375 \nQ 46.09375 64.75 46.09375 56.984375 \nQ 46.09375 53.265625 44.328125 49.921875 \nQ 42.578125 46.578125 38.1875 42.390625 \nL 33.890625 38.1875 \nQ 31.59375 35.890625 30.640625 34.59375 \nQ 29.6875 33.296875 29.296875 32.078125 \nQ 29 31.0625 28.859375 29.59375 \nQ 28.71875 28.125 28.71875 25.59375 \nz\n\" id=\"DejaVuSans-63\"/>\n    </defs>\n    <g transform=\"translate(49.950856 405.681621)scale(0.1 -0.1)\">\n     <use transform=\"translate(0 0.015625)\" xlink:href=\"#DejaVuSans-119\"/>\n     <use transform=\"translate(81.787109 0.015625)\" xlink:href=\"#DejaVuSans-104\"/>\n     <use transform=\"translate(145.166016 0.015625)\" xlink:href=\"#DejaVuSans-97\"/>\n     <use transform=\"translate(206.445312 0.015625)\" xlink:href=\"#DejaVuSans-116\"/>\n     <use transform=\"translate(245.654297 0.015625)\" xlink:href=\"#DejaVuSans-32\"/>\n     <use transform=\"translate(277.441406 0.015625)\" xlink:href=\"#DejaVuSans-100\"/>\n     <use transform=\"translate(340.917969 0.015625)\" xlink:href=\"#DejaVuSans-105\"/>\n     <use transform=\"translate(368.701172 0.015625)\" xlink:href=\"#DejaVuSans-100\"/>\n     <use transform=\"translate(432.177734 0.015625)\" xlink:href=\"#DejaVuSans-32\"/>\n     <use transform=\"translate(463.964844 0.015625)\" xlink:href=\"#DejaVuSans-121\"/>\n     <use transform=\"translate(523.144531 0.015625)\" xlink:href=\"#DejaVuSans-111\"/>\n     <use transform=\"translate(584.326172 0.015625)\" xlink:href=\"#DejaVuSans-117\"/>\n     <use transform=\"translate(647.705078 0.015625)\" xlink:href=\"#DejaVuSans-32\"/>\n     <use transform=\"translate(679.492188 0.015625)\" xlink:href=\"#DejaVuSans-101\"/>\n     <use transform=\"translate(741.015625 0.015625)\" xlink:href=\"#DejaVuSans-97\"/>\n     <use transform=\"translate(802.294922 0.015625)\" xlink:href=\"#DejaVuSans-116\"/>\n     <use transform=\"translate(841.503906 0.015625)\" xlink:href=\"#DejaVuSans-32\"/>\n     <use transform=\"translate(873.291016 0.015625)\" xlink:href=\"#DejaVuSans-102\"/>\n     <use transform=\"translate(908.496094 0.015625)\" xlink:href=\"#DejaVuSans-111\"/>\n     <use transform=\"translate(969.677734 0.015625)\" xlink:href=\"#DejaVuSans-114\"/>\n     <use transform=\"translate(1010.791016 0.015625)\" xlink:href=\"#DejaVuSans-32\"/>\n     <use transform=\"translate(1042.578125 0.015625)\" xlink:href=\"#DejaVuSans-Bold-100\"/>\n     <use transform=\"translate(1114.160156 0.015625)\" xlink:href=\"#DejaVuSans-Bold-105\"/>\n     <use transform=\"translate(1148.4375 0.015625)\" xlink:href=\"#DejaVuSans-Bold-110\"/>\n     <use transform=\"translate(1219.628906 0.015625)\" xlink:href=\"#DejaVuSans-Bold-110\"/>\n     <use transform=\"translate(1290.820312 0.015625)\" xlink:href=\"#DejaVuSans-Bold-101\"/>\n     <use transform=\"translate(1358.642578 0.015625)\" xlink:href=\"#DejaVuSans-Bold-114\"/>\n     <use transform=\"translate(1407.958984 0.015625)\" xlink:href=\"#DejaVuSans-32\"/>\n     <use transform=\"translate(1439.746094 0.015625)\" xlink:href=\"#DejaVuSans-63\"/>\n    </g>\n   </g>\n   <g id=\"text_7\">\n    <!-- yesterday i had a bacon let ##tu ##ce tomato sandwich for $\\bflunch$ . it was ta ##sty ! -->\n    <defs>\n     <path d=\"M 8.40625 75.984375 \nL 25.875 75.984375 \nL 25.875 0 \nL 8.40625 0 \nz\n\" id=\"DejaVuSans-Bold-108\"/>\n     <path d=\"M 63.375 33.296875 \nL 63.375 0 \nL 45.796875 0 \nL 45.796875 5.421875 \nL 45.796875 25.390625 \nQ 45.796875 32.5625 45.484375 35.25 \nQ 45.171875 37.9375 44.390625 39.203125 \nQ 43.359375 40.921875 41.59375 41.875 \nQ 39.84375 42.828125 37.59375 42.828125 \nQ 32.125 42.828125 29 38.59375 \nQ 25.875 34.375 25.875 26.90625 \nL 25.875 0 \nL 8.40625 0 \nL 8.40625 75.984375 \nL 25.875 75.984375 \nL 25.875 46.6875 \nQ 29.828125 51.46875 34.265625 53.734375 \nQ 38.71875 56 44.09375 56 \nQ 53.5625 56 58.46875 50.1875 \nQ 63.375 44.390625 63.375 33.296875 \nz\n\" id=\"DejaVuSans-Bold-104\"/>\n     <path d=\"M 15.09375 12.40625 \nL 25 12.40625 \nL 25 0 \nL 15.09375 0 \nz\nM 15.09375 72.90625 \nL 25 72.90625 \nL 25 40.921875 \nL 24.03125 23.484375 \nL 16.109375 23.484375 \nL 15.09375 40.921875 \nz\n\" id=\"DejaVuSans-33\"/>\n    </defs>\n    <g transform=\"translate(134.947068 523.809819)scale(0.1 -0.1)\">\n     <use transform=\"translate(0 0.015625)\" xlink:href=\"#DejaVuSans-121\"/>\n     <use transform=\"translate(59.179688 0.015625)\" xlink:href=\"#DejaVuSans-101\"/>\n     <use transform=\"translate(120.703125 0.015625)\" xlink:href=\"#DejaVuSans-115\"/>\n     <use transform=\"translate(172.802734 0.015625)\" xlink:href=\"#DejaVuSans-116\"/>\n     <use transform=\"translate(212.011719 0.015625)\" xlink:href=\"#DejaVuSans-101\"/>\n     <use transform=\"translate(273.535156 0.015625)\" xlink:href=\"#DejaVuSans-114\"/>\n     <use transform=\"translate(314.648438 0.015625)\" xlink:href=\"#DejaVuSans-100\"/>\n     <use transform=\"translate(378.125 0.015625)\" xlink:href=\"#DejaVuSans-97\"/>\n     <use transform=\"translate(439.404297 0.015625)\" xlink:href=\"#DejaVuSans-121\"/>\n     <use transform=\"translate(498.583984 0.015625)\" xlink:href=\"#DejaVuSans-32\"/>\n     <use transform=\"translate(530.371094 0.015625)\" xlink:href=\"#DejaVuSans-105\"/>\n     <use transform=\"translate(558.154297 0.015625)\" xlink:href=\"#DejaVuSans-32\"/>\n     <use transform=\"translate(589.941406 0.015625)\" xlink:href=\"#DejaVuSans-104\"/>\n     <use transform=\"translate(653.320312 0.015625)\" xlink:href=\"#DejaVuSans-97\"/>\n     <use transform=\"translate(714.599609 0.015625)\" xlink:href=\"#DejaVuSans-100\"/>\n     <use transform=\"translate(778.076172 0.015625)\" xlink:href=\"#DejaVuSans-32\"/>\n     <use transform=\"translate(809.863281 0.015625)\" xlink:href=\"#DejaVuSans-97\"/>\n     <use transform=\"translate(871.142578 0.015625)\" xlink:href=\"#DejaVuSans-32\"/>\n     <use transform=\"translate(902.929688 0.015625)\" xlink:href=\"#DejaVuSans-98\"/>\n     <use transform=\"translate(966.40625 0.015625)\" xlink:href=\"#DejaVuSans-97\"/>\n     <use transform=\"translate(1027.685547 0.015625)\" xlink:href=\"#DejaVuSans-99\"/>\n     <use transform=\"translate(1082.666016 0.015625)\" xlink:href=\"#DejaVuSans-111\"/>\n     <use transform=\"translate(1143.847656 0.015625)\" xlink:href=\"#DejaVuSans-110\"/>\n     <use transform=\"translate(1207.226562 0.015625)\" xlink:href=\"#DejaVuSans-32\"/>\n     <use transform=\"translate(1239.013672 0.015625)\" xlink:href=\"#DejaVuSans-108\"/>\n     <use transform=\"translate(1266.796875 0.015625)\" xlink:href=\"#DejaVuSans-101\"/>\n     <use transform=\"translate(1328.320312 0.015625)\" xlink:href=\"#DejaVuSans-116\"/>\n     <use transform=\"translate(1367.529297 0.015625)\" xlink:href=\"#DejaVuSans-32\"/>\n     <use transform=\"translate(1399.316406 0.015625)\" xlink:href=\"#DejaVuSans-35\"/>\n     <use transform=\"translate(1483.105469 0.015625)\" xlink:href=\"#DejaVuSans-35\"/>\n     <use transform=\"translate(1566.894531 0.015625)\" xlink:href=\"#DejaVuSans-116\"/>\n     <use transform=\"translate(1606.103516 0.015625)\" xlink:href=\"#DejaVuSans-117\"/>\n     <use transform=\"translate(1669.482422 0.015625)\" xlink:href=\"#DejaVuSans-32\"/>\n     <use transform=\"translate(1701.269531 0.015625)\" xlink:href=\"#DejaVuSans-35\"/>\n     <use transform=\"translate(1785.058594 0.015625)\" xlink:href=\"#DejaVuSans-35\"/>\n     <use transform=\"translate(1868.847656 0.015625)\" xlink:href=\"#DejaVuSans-99\"/>\n     <use transform=\"translate(1923.828125 0.015625)\" xlink:href=\"#DejaVuSans-101\"/>\n     <use transform=\"translate(1985.351562 0.015625)\" xlink:href=\"#DejaVuSans-32\"/>\n     <use transform=\"translate(2017.138672 0.015625)\" xlink:href=\"#DejaVuSans-116\"/>\n     <use transform=\"translate(2056.347656 0.015625)\" xlink:href=\"#DejaVuSans-111\"/>\n     <use transform=\"translate(2117.529297 0.015625)\" xlink:href=\"#DejaVuSans-109\"/>\n     <use transform=\"translate(2214.941406 0.015625)\" xlink:href=\"#DejaVuSans-97\"/>\n     <use transform=\"translate(2276.220703 0.015625)\" xlink:href=\"#DejaVuSans-116\"/>\n     <use transform=\"translate(2315.429688 0.015625)\" xlink:href=\"#DejaVuSans-111\"/>\n     <use transform=\"translate(2376.611328 0.015625)\" xlink:href=\"#DejaVuSans-32\"/>\n     <use transform=\"translate(2408.398438 0.015625)\" xlink:href=\"#DejaVuSans-115\"/>\n     <use transform=\"translate(2460.498047 0.015625)\" xlink:href=\"#DejaVuSans-97\"/>\n     <use transform=\"translate(2521.777344 0.015625)\" xlink:href=\"#DejaVuSans-110\"/>\n     <use transform=\"translate(2585.15625 0.015625)\" xlink:href=\"#DejaVuSans-100\"/>\n     <use transform=\"translate(2648.632812 0.015625)\" xlink:href=\"#DejaVuSans-119\"/>\n     <use transform=\"translate(2730.419922 0.015625)\" xlink:href=\"#DejaVuSans-105\"/>\n     <use transform=\"translate(2758.203125 0.015625)\" xlink:href=\"#DejaVuSans-99\"/>\n     <use transform=\"translate(2813.183594 0.015625)\" xlink:href=\"#DejaVuSans-104\"/>\n     <use transform=\"translate(2876.5625 0.015625)\" xlink:href=\"#DejaVuSans-32\"/>\n     <use transform=\"translate(2908.349609 0.015625)\" xlink:href=\"#DejaVuSans-102\"/>\n     <use transform=\"translate(2943.554688 0.015625)\" xlink:href=\"#DejaVuSans-111\"/>\n     <use transform=\"translate(3004.736328 0.015625)\" xlink:href=\"#DejaVuSans-114\"/>\n     <use transform=\"translate(3045.849609 0.015625)\" xlink:href=\"#DejaVuSans-32\"/>\n     <use transform=\"translate(3077.636719 0.015625)\" xlink:href=\"#DejaVuSans-Bold-108\"/>\n     <use transform=\"translate(3111.914062 0.015625)\" xlink:href=\"#DejaVuSans-Bold-117\"/>\n     <use transform=\"translate(3183.105469 0.015625)\" xlink:href=\"#DejaVuSans-Bold-110\"/>\n     <use transform=\"translate(3254.296875 0.015625)\" xlink:href=\"#DejaVuSans-Bold-99\"/>\n     <use transform=\"translate(3313.574219 0.015625)\" xlink:href=\"#DejaVuSans-Bold-104\"/>\n     <use transform=\"translate(3384.765625 0.015625)\" xlink:href=\"#DejaVuSans-32\"/>\n     <use transform=\"translate(3416.552734 0.015625)\" xlink:href=\"#DejaVuSans-46\"/>\n     <use transform=\"translate(3448.339844 0.015625)\" xlink:href=\"#DejaVuSans-32\"/>\n     <use transform=\"translate(3480.126953 0.015625)\" xlink:href=\"#DejaVuSans-105\"/>\n     <use transform=\"translate(3507.910156 0.015625)\" xlink:href=\"#DejaVuSans-116\"/>\n     <use transform=\"translate(3547.119141 0.015625)\" xlink:href=\"#DejaVuSans-32\"/>\n     <use transform=\"translate(3578.90625 0.015625)\" xlink:href=\"#DejaVuSans-119\"/>\n     <use transform=\"translate(3660.693359 0.015625)\" xlink:href=\"#DejaVuSans-97\"/>\n     <use transform=\"translate(3721.972656 0.015625)\" xlink:href=\"#DejaVuSans-115\"/>\n     <use transform=\"translate(3774.072266 0.015625)\" xlink:href=\"#DejaVuSans-32\"/>\n     <use transform=\"translate(3805.859375 0.015625)\" xlink:href=\"#DejaVuSans-116\"/>\n     <use transform=\"translate(3845.068359 0.015625)\" xlink:href=\"#DejaVuSans-97\"/>\n     <use transform=\"translate(3906.347656 0.015625)\" xlink:href=\"#DejaVuSans-32\"/>\n     <use transform=\"translate(3938.134766 0.015625)\" xlink:href=\"#DejaVuSans-35\"/>\n     <use transform=\"translate(4021.923828 0.015625)\" xlink:href=\"#DejaVuSans-35\"/>\n     <use transform=\"translate(4105.712891 0.015625)\" xlink:href=\"#DejaVuSans-115\"/>\n     <use transform=\"translate(4157.8125 0.015625)\" xlink:href=\"#DejaVuSans-116\"/>\n     <use transform=\"translate(4197.021484 0.015625)\" xlink:href=\"#DejaVuSans-121\"/>\n     <use transform=\"translate(4256.201172 0.015625)\" xlink:href=\"#DejaVuSans-32\"/>\n     <use transform=\"translate(4287.988281 0.015625)\" xlink:href=\"#DejaVuSans-33\"/>\n    </g>\n   </g>\n   <g id=\"text_8\">\n    <!-- my $\\bfcomputer$ broke after the mother ##drive was over ##loaded . -->\n    <defs>\n     <path d=\"M 25.875 7.90625 \nL 25.875 -20.796875 \nL 8.40625 -20.796875 \nL 8.40625 54.6875 \nL 25.875 54.6875 \nL 25.875 46.6875 \nQ 29.5 51.46875 33.890625 53.734375 \nQ 38.28125 56 44 56 \nQ 54.109375 56 60.59375 47.96875 \nQ 67.09375 39.9375 67.09375 27.296875 \nQ 67.09375 14.65625 60.59375 6.609375 \nQ 54.109375 -1.421875 44 -1.421875 \nQ 38.28125 -1.421875 33.890625 0.84375 \nQ 29.5 3.125 25.875 7.90625 \nz\nM 37.5 43.3125 \nQ 31.890625 43.3125 28.875 39.1875 \nQ 25.875 35.0625 25.875 27.296875 \nQ 25.875 19.53125 28.875 15.40625 \nQ 31.890625 11.28125 37.5 11.28125 \nQ 43.109375 11.28125 46.0625 15.375 \nQ 49.03125 19.484375 49.03125 27.296875 \nQ 49.03125 35.109375 46.0625 39.203125 \nQ 43.109375 43.3125 37.5 43.3125 \nz\n\" id=\"DejaVuSans-Bold-112\"/>\n     <path d=\"M 2.984375 54.6875 \nL 12.5 54.6875 \nL 29.59375 8.796875 \nL 46.6875 54.6875 \nL 56.203125 54.6875 \nL 35.6875 0 \nL 23.484375 0 \nz\n\" id=\"DejaVuSans-118\"/>\n    </defs>\n    <g transform=\"translate(271.10403 246.738481)scale(0.1 -0.1)\">\n     <use transform=\"translate(0 0.015625)\" xlink:href=\"#DejaVuSans-109\"/>\n     <use transform=\"translate(97.412109 0.015625)\" xlink:href=\"#DejaVuSans-121\"/>\n     <use transform=\"translate(156.591797 0.015625)\" xlink:href=\"#DejaVuSans-32\"/>\n     <use transform=\"translate(188.378906 0.015625)\" xlink:href=\"#DejaVuSans-Bold-99\"/>\n     <use transform=\"translate(247.65625 0.015625)\" xlink:href=\"#DejaVuSans-Bold-111\"/>\n     <use transform=\"translate(316.357422 0.015625)\" xlink:href=\"#DejaVuSans-Bold-109\"/>\n     <use transform=\"translate(420.556641 0.015625)\" xlink:href=\"#DejaVuSans-Bold-112\"/>\n     <use transform=\"translate(492.138672 0.015625)\" xlink:href=\"#DejaVuSans-Bold-117\"/>\n     <use transform=\"translate(563.330078 0.015625)\" xlink:href=\"#DejaVuSans-Bold-116\"/>\n     <use transform=\"translate(611.132812 0.015625)\" xlink:href=\"#DejaVuSans-Bold-101\"/>\n     <use transform=\"translate(678.955078 0.015625)\" xlink:href=\"#DejaVuSans-Bold-114\"/>\n     <use transform=\"translate(728.271484 0.015625)\" xlink:href=\"#DejaVuSans-32\"/>\n     <use transform=\"translate(760.058594 0.015625)\" xlink:href=\"#DejaVuSans-98\"/>\n     <use transform=\"translate(823.535156 0.015625)\" xlink:href=\"#DejaVuSans-114\"/>\n     <use transform=\"translate(864.648438 0.015625)\" xlink:href=\"#DejaVuSans-111\"/>\n     <use transform=\"translate(925.830078 0.015625)\" xlink:href=\"#DejaVuSans-107\"/>\n     <use transform=\"translate(983.740234 0.015625)\" xlink:href=\"#DejaVuSans-101\"/>\n     <use transform=\"translate(1045.263672 0.015625)\" xlink:href=\"#DejaVuSans-32\"/>\n     <use transform=\"translate(1077.050781 0.015625)\" xlink:href=\"#DejaVuSans-97\"/>\n     <use transform=\"translate(1138.330078 0.015625)\" xlink:href=\"#DejaVuSans-102\"/>\n     <use transform=\"translate(1173.535156 0.015625)\" xlink:href=\"#DejaVuSans-116\"/>\n     <use transform=\"translate(1212.744141 0.015625)\" xlink:href=\"#DejaVuSans-101\"/>\n     <use transform=\"translate(1274.267578 0.015625)\" xlink:href=\"#DejaVuSans-114\"/>\n     <use transform=\"translate(1315.380859 0.015625)\" xlink:href=\"#DejaVuSans-32\"/>\n     <use transform=\"translate(1347.167969 0.015625)\" xlink:href=\"#DejaVuSans-116\"/>\n     <use transform=\"translate(1386.376953 0.015625)\" xlink:href=\"#DejaVuSans-104\"/>\n     <use transform=\"translate(1449.755859 0.015625)\" xlink:href=\"#DejaVuSans-101\"/>\n     <use transform=\"translate(1511.279297 0.015625)\" xlink:href=\"#DejaVuSans-32\"/>\n     <use transform=\"translate(1543.066406 0.015625)\" xlink:href=\"#DejaVuSans-109\"/>\n     <use transform=\"translate(1640.478516 0.015625)\" xlink:href=\"#DejaVuSans-111\"/>\n     <use transform=\"translate(1701.660156 0.015625)\" xlink:href=\"#DejaVuSans-116\"/>\n     <use transform=\"translate(1740.869141 0.015625)\" xlink:href=\"#DejaVuSans-104\"/>\n     <use transform=\"translate(1804.248047 0.015625)\" xlink:href=\"#DejaVuSans-101\"/>\n     <use transform=\"translate(1865.771484 0.015625)\" xlink:href=\"#DejaVuSans-114\"/>\n     <use transform=\"translate(1906.884766 0.015625)\" xlink:href=\"#DejaVuSans-32\"/>\n     <use transform=\"translate(1938.671875 0.015625)\" xlink:href=\"#DejaVuSans-35\"/>\n     <use transform=\"translate(2022.460938 0.015625)\" xlink:href=\"#DejaVuSans-35\"/>\n     <use transform=\"translate(2106.25 0.015625)\" xlink:href=\"#DejaVuSans-100\"/>\n     <use transform=\"translate(2169.726562 0.015625)\" xlink:href=\"#DejaVuSans-114\"/>\n     <use transform=\"translate(2210.839844 0.015625)\" xlink:href=\"#DejaVuSans-105\"/>\n     <use transform=\"translate(2238.623047 0.015625)\" xlink:href=\"#DejaVuSans-118\"/>\n     <use transform=\"translate(2297.802734 0.015625)\" xlink:href=\"#DejaVuSans-101\"/>\n     <use transform=\"translate(2359.326172 0.015625)\" xlink:href=\"#DejaVuSans-32\"/>\n     <use transform=\"translate(2391.113281 0.015625)\" xlink:href=\"#DejaVuSans-119\"/>\n     <use transform=\"translate(2472.900391 0.015625)\" xlink:href=\"#DejaVuSans-97\"/>\n     <use transform=\"translate(2534.179688 0.015625)\" xlink:href=\"#DejaVuSans-115\"/>\n     <use transform=\"translate(2586.279297 0.015625)\" xlink:href=\"#DejaVuSans-32\"/>\n     <use transform=\"translate(2618.066406 0.015625)\" xlink:href=\"#DejaVuSans-111\"/>\n     <use transform=\"translate(2679.248047 0.015625)\" xlink:href=\"#DejaVuSans-118\"/>\n     <use transform=\"translate(2738.427734 0.015625)\" xlink:href=\"#DejaVuSans-101\"/>\n     <use transform=\"translate(2799.951172 0.015625)\" xlink:href=\"#DejaVuSans-114\"/>\n     <use transform=\"translate(2841.064453 0.015625)\" xlink:href=\"#DejaVuSans-32\"/>\n     <use transform=\"translate(2872.851562 0.015625)\" xlink:href=\"#DejaVuSans-35\"/>\n     <use transform=\"translate(2956.640625 0.015625)\" xlink:href=\"#DejaVuSans-35\"/>\n     <use transform=\"translate(3040.429688 0.015625)\" xlink:href=\"#DejaVuSans-108\"/>\n     <use transform=\"translate(3068.212891 0.015625)\" xlink:href=\"#DejaVuSans-111\"/>\n     <use transform=\"translate(3129.394531 0.015625)\" xlink:href=\"#DejaVuSans-97\"/>\n     <use transform=\"translate(3190.673828 0.015625)\" xlink:href=\"#DejaVuSans-100\"/>\n     <use transform=\"translate(3254.150391 0.015625)\" xlink:href=\"#DejaVuSans-101\"/>\n     <use transform=\"translate(3315.673828 0.015625)\" xlink:href=\"#DejaVuSans-100\"/>\n     <use transform=\"translate(3379.150391 0.015625)\" xlink:href=\"#DejaVuSans-32\"/>\n     <use transform=\"translate(3410.9375 0.015625)\" xlink:href=\"#DejaVuSans-46\"/>\n    </g>\n   </g>\n   <g id=\"text_9\">\n    <!-- i like to $\\bfprogram$ in java and python . -->\n    <defs>\n     <path d=\"M 45.609375 9.28125 \nQ 42 4.5 37.640625 2.25 \nQ 33.296875 0 27.59375 0 \nQ 17.578125 0 11.03125 7.875 \nQ 4.5 15.765625 4.5 27.984375 \nQ 4.5 40.234375 11.03125 48.0625 \nQ 17.578125 55.90625 27.59375 55.90625 \nQ 33.296875 55.90625 37.640625 53.65625 \nQ 42 51.421875 45.609375 46.578125 \nL 45.609375 54.6875 \nL 63.1875 54.6875 \nL 63.1875 5.515625 \nQ 63.1875 -7.671875 54.859375 -14.625 \nQ 46.53125 -21.578125 30.71875 -21.578125 \nQ 25.59375 -21.578125 20.796875 -20.796875 \nQ 16.015625 -20.015625 11.1875 -18.40625 \nL 11.1875 -4.78125 \nQ 15.765625 -7.421875 20.15625 -8.71875 \nQ 24.5625 -10.015625 29 -10.015625 \nQ 37.59375 -10.015625 41.59375 -6.25 \nQ 45.609375 -2.484375 45.609375 5.515625 \nz\nM 34.078125 43.3125 \nQ 28.65625 43.3125 25.625 39.296875 \nQ 22.609375 35.296875 22.609375 27.984375 \nQ 22.609375 20.453125 25.53125 16.578125 \nQ 28.46875 12.703125 34.078125 12.703125 \nQ 39.546875 12.703125 42.578125 16.703125 \nQ 45.609375 20.703125 45.609375 27.984375 \nQ 45.609375 35.296875 42.578125 39.296875 \nQ 39.546875 43.3125 34.078125 43.3125 \nz\n\" id=\"DejaVuSans-Bold-103\"/>\n    </defs>\n    <g transform=\"translate(182.112488 186.874561)scale(0.1 -0.1)\">\n     <use transform=\"translate(0 0.015625)\" xlink:href=\"#DejaVuSans-105\"/>\n     <use transform=\"translate(27.783203 0.015625)\" xlink:href=\"#DejaVuSans-32\"/>\n     <use transform=\"translate(59.570312 0.015625)\" xlink:href=\"#DejaVuSans-108\"/>\n     <use transform=\"translate(87.353516 0.015625)\" xlink:href=\"#DejaVuSans-105\"/>\n     <use transform=\"translate(115.136719 0.015625)\" xlink:href=\"#DejaVuSans-107\"/>\n     <use transform=\"translate(173.046875 0.015625)\" xlink:href=\"#DejaVuSans-101\"/>\n     <use transform=\"translate(234.570312 0.015625)\" xlink:href=\"#DejaVuSans-32\"/>\n     <use transform=\"translate(266.357422 0.015625)\" xlink:href=\"#DejaVuSans-116\"/>\n     <use transform=\"translate(305.566406 0.015625)\" xlink:href=\"#DejaVuSans-111\"/>\n     <use transform=\"translate(366.748047 0.015625)\" xlink:href=\"#DejaVuSans-32\"/>\n     <use transform=\"translate(398.535156 0.015625)\" xlink:href=\"#DejaVuSans-Bold-112\"/>\n     <use transform=\"translate(470.117188 0.015625)\" xlink:href=\"#DejaVuSans-Bold-114\"/>\n     <use transform=\"translate(519.433594 0.015625)\" xlink:href=\"#DejaVuSans-Bold-111\"/>\n     <use transform=\"translate(588.134766 0.015625)\" xlink:href=\"#DejaVuSans-Bold-103\"/>\n     <use transform=\"translate(659.716797 0.015625)\" xlink:href=\"#DejaVuSans-Bold-114\"/>\n     <use transform=\"translate(709.033203 0.015625)\" xlink:href=\"#DejaVuSans-Bold-97\"/>\n     <use transform=\"translate(776.513672 0.015625)\" xlink:href=\"#DejaVuSans-Bold-109\"/>\n     <use transform=\"translate(880.712891 0.015625)\" xlink:href=\"#DejaVuSans-32\"/>\n     <use transform=\"translate(912.5 0.015625)\" xlink:href=\"#DejaVuSans-105\"/>\n     <use transform=\"translate(940.283203 0.015625)\" xlink:href=\"#DejaVuSans-110\"/>\n     <use transform=\"translate(1003.662109 0.015625)\" xlink:href=\"#DejaVuSans-32\"/>\n     <use transform=\"translate(1035.449219 0.015625)\" xlink:href=\"#DejaVuSans-106\"/>\n     <use transform=\"translate(1063.232422 0.015625)\" xlink:href=\"#DejaVuSans-97\"/>\n     <use transform=\"translate(1124.511719 0.015625)\" xlink:href=\"#DejaVuSans-118\"/>\n     <use transform=\"translate(1183.691406 0.015625)\" xlink:href=\"#DejaVuSans-97\"/>\n     <use transform=\"translate(1244.970703 0.015625)\" xlink:href=\"#DejaVuSans-32\"/>\n     <use transform=\"translate(1276.757812 0.015625)\" xlink:href=\"#DejaVuSans-97\"/>\n     <use transform=\"translate(1338.037109 0.015625)\" xlink:href=\"#DejaVuSans-110\"/>\n     <use transform=\"translate(1401.416016 0.015625)\" xlink:href=\"#DejaVuSans-100\"/>\n     <use transform=\"translate(1464.892578 0.015625)\" xlink:href=\"#DejaVuSans-32\"/>\n     <use transform=\"translate(1496.679688 0.015625)\" xlink:href=\"#DejaVuSans-112\"/>\n     <use transform=\"translate(1560.15625 0.015625)\" xlink:href=\"#DejaVuSans-121\"/>\n     <use transform=\"translate(1619.335938 0.015625)\" xlink:href=\"#DejaVuSans-116\"/>\n     <use transform=\"translate(1658.544922 0.015625)\" xlink:href=\"#DejaVuSans-104\"/>\n     <use transform=\"translate(1721.923828 0.015625)\" xlink:href=\"#DejaVuSans-111\"/>\n     <use transform=\"translate(1783.105469 0.015625)\" xlink:href=\"#DejaVuSans-110\"/>\n     <use transform=\"translate(1846.484375 0.015625)\" xlink:href=\"#DejaVuSans-32\"/>\n     <use transform=\"translate(1878.271484 0.015625)\" xlink:href=\"#DejaVuSans-46\"/>\n    </g>\n   </g>\n   <g id=\"text_10\">\n    <!-- i like to put tomatoes and cheese in my $\\bfpasta$ . -->\n    <g transform=\"translate(248.502389 450.348084)scale(0.1 -0.1)\">\n     <use transform=\"translate(0 0.015625)\" xlink:href=\"#DejaVuSans-105\"/>\n     <use transform=\"translate(27.783203 0.015625)\" xlink:href=\"#DejaVuSans-32\"/>\n     <use transform=\"translate(59.570312 0.015625)\" xlink:href=\"#DejaVuSans-108\"/>\n     <use transform=\"translate(87.353516 0.015625)\" xlink:href=\"#DejaVuSans-105\"/>\n     <use transform=\"translate(115.136719 0.015625)\" xlink:href=\"#DejaVuSans-107\"/>\n     <use transform=\"translate(173.046875 0.015625)\" xlink:href=\"#DejaVuSans-101\"/>\n     <use transform=\"translate(234.570312 0.015625)\" xlink:href=\"#DejaVuSans-32\"/>\n     <use transform=\"translate(266.357422 0.015625)\" xlink:href=\"#DejaVuSans-116\"/>\n     <use transform=\"translate(305.566406 0.015625)\" xlink:href=\"#DejaVuSans-111\"/>\n     <use transform=\"translate(366.748047 0.015625)\" xlink:href=\"#DejaVuSans-32\"/>\n     <use transform=\"translate(398.535156 0.015625)\" xlink:href=\"#DejaVuSans-112\"/>\n     <use transform=\"translate(462.011719 0.015625)\" xlink:href=\"#DejaVuSans-117\"/>\n     <use transform=\"translate(525.390625 0.015625)\" xlink:href=\"#DejaVuSans-116\"/>\n     <use transform=\"translate(564.599609 0.015625)\" xlink:href=\"#DejaVuSans-32\"/>\n     <use transform=\"translate(596.386719 0.015625)\" xlink:href=\"#DejaVuSans-116\"/>\n     <use transform=\"translate(635.595703 0.015625)\" xlink:href=\"#DejaVuSans-111\"/>\n     <use transform=\"translate(696.777344 0.015625)\" xlink:href=\"#DejaVuSans-109\"/>\n     <use transform=\"translate(794.189453 0.015625)\" xlink:href=\"#DejaVuSans-97\"/>\n     <use transform=\"translate(855.46875 0.015625)\" xlink:href=\"#DejaVuSans-116\"/>\n     <use transform=\"translate(894.677734 0.015625)\" xlink:href=\"#DejaVuSans-111\"/>\n     <use transform=\"translate(955.859375 0.015625)\" xlink:href=\"#DejaVuSans-101\"/>\n     <use transform=\"translate(1017.382812 0.015625)\" xlink:href=\"#DejaVuSans-115\"/>\n     <use transform=\"translate(1069.482422 0.015625)\" xlink:href=\"#DejaVuSans-32\"/>\n     <use transform=\"translate(1101.269531 0.015625)\" xlink:href=\"#DejaVuSans-97\"/>\n     <use transform=\"translate(1162.548828 0.015625)\" xlink:href=\"#DejaVuSans-110\"/>\n     <use transform=\"translate(1225.927734 0.015625)\" xlink:href=\"#DejaVuSans-100\"/>\n     <use transform=\"translate(1289.404297 0.015625)\" xlink:href=\"#DejaVuSans-32\"/>\n     <use transform=\"translate(1321.191406 0.015625)\" xlink:href=\"#DejaVuSans-99\"/>\n     <use transform=\"translate(1376.171875 0.015625)\" xlink:href=\"#DejaVuSans-104\"/>\n     <use transform=\"translate(1439.550781 0.015625)\" xlink:href=\"#DejaVuSans-101\"/>\n     <use transform=\"translate(1501.074219 0.015625)\" xlink:href=\"#DejaVuSans-101\"/>\n     <use transform=\"translate(1562.597656 0.015625)\" xlink:href=\"#DejaVuSans-115\"/>\n     <use transform=\"translate(1614.697266 0.015625)\" xlink:href=\"#DejaVuSans-101\"/>\n     <use transform=\"translate(1676.220703 0.015625)\" xlink:href=\"#DejaVuSans-32\"/>\n     <use transform=\"translate(1708.007812 0.015625)\" xlink:href=\"#DejaVuSans-105\"/>\n     <use transform=\"translate(1735.791016 0.015625)\" xlink:href=\"#DejaVuSans-110\"/>\n     <use transform=\"translate(1799.169922 0.015625)\" xlink:href=\"#DejaVuSans-32\"/>\n     <use transform=\"translate(1830.957031 0.015625)\" xlink:href=\"#DejaVuSans-109\"/>\n     <use transform=\"translate(1928.369141 0.015625)\" xlink:href=\"#DejaVuSans-121\"/>\n     <use transform=\"translate(1987.548828 0.015625)\" xlink:href=\"#DejaVuSans-32\"/>\n     <use transform=\"translate(2019.335938 0.015625)\" xlink:href=\"#DejaVuSans-Bold-112\"/>\n     <use transform=\"translate(2090.917969 0.015625)\" xlink:href=\"#DejaVuSans-Bold-97\"/>\n     <use transform=\"translate(2158.398438 0.015625)\" xlink:href=\"#DejaVuSans-Bold-115\"/>\n     <use transform=\"translate(2217.919922 0.015625)\" xlink:href=\"#DejaVuSans-Bold-116\"/>\n     <use transform=\"translate(2265.722656 0.015625)\" xlink:href=\"#DejaVuSans-Bold-97\"/>\n     <use transform=\"translate(2333.203125 0.015625)\" xlink:href=\"#DejaVuSans-32\"/>\n     <use transform=\"translate(2364.990234 0.015625)\" xlink:href=\"#DejaVuSans-46\"/>\n    </g>\n   </g>\n  </g>\n </g>\n <defs>\n  <clipPath id=\"p288a0a9078\">\n   <rect height=\"543.6\" width=\"279\" x=\"7.2\" y=\"7.2\"/>\n  </clipPath>\n </defs>\n</svg>\n"
          },
          "metadata": {
            "tags": []
          }
        }
      ]
    },
    {
      "cell_type": "code",
      "metadata": {
        "id": "5SUlNWDC8zUO",
        "colab_type": "code",
        "colab": {}
      },
      "source": [
        ""
      ],
      "execution_count": 0,
      "outputs": []
    },
    {
      "cell_type": "markdown",
      "metadata": {
        "id": "iZ3XqvsiN8Fb",
        "colab_type": "text"
      },
      "source": [
        "[-] Magnitude library  \n",
        "[-] squeeze(), unsqueeze()  \n",
        "[-] "
      ]
    }
  ]
}