{
  "nbformat": 4,
  "nbformat_minor": 0,
  "metadata": {
    "colab": {
      "name": "pytorch-nlp_2_embeddings.ipynb",
      "provenance": []
    },
    "kernelspec": {
      "name": "python3",
      "display_name": "Python 3"
    },
    "accelerator": "GPU"
  },
  "cells": [
    {
      "cell_type": "code",
      "metadata": {
        "id": "rkPmkKzD6K3Q",
        "colab_type": "code",
        "outputId": "2ad7cd95-da5a-40ea-bf75-3bd125feff1f",
        "colab": {
          "base_uri": "https://localhost:8080/",
          "height": 97
        }
      },
      "source": [
        "! pip install pymagnitude pytorch_pretrained_bert tensorboardcolab -q"
      ],
      "execution_count": 2,
      "outputs": [
        {
          "output_type": "stream",
          "text": [
            "\u001b[K     |████████████████████████████████| 5.4MB 3.2MB/s \n",
            "\u001b[K     |████████████████████████████████| 133kB 15.9MB/s \n",
            "\u001b[?25h  Building wheel for pymagnitude (setup.py) ... \u001b[?25l\u001b[?25hdone\n"
          ],
          "name": "stdout"
        }
      ]
    },
    {
      "cell_type": "code",
      "metadata": {
        "id": "AN3GBOjx85Zw",
        "colab_type": "code",
        "colab": {}
      },
      "source": [
        "import matplotlib.pyplot as plt\n",
        "import numpy as np\n",
        "import torch\n",
        "import torch.nn as nn\n",
        "from pymagnitude import Magnitude\n",
        "from pytorch_pretrained_bert import BertTokenizer, BertModel, BertForMaskedLM\n",
        "from scipy import spatial\n",
        "from sklearn.manifold import TSNE\n",
        "from tensorboardcolab import TensorBoardColab\n",
        "from torch.utils.tensorboard import SummaryWriter\n",
        "from tqdm import tqdm_notebook as tqdm\n",
        "\n",
        "%config InlineBackend.figure_format = 'svg'\n",
        "%matplotlib inline\n",
        "\n",
        "RED, BLUE = '#FF4136', '#0074D9'"
      ],
      "execution_count": 0,
      "outputs": []
    },
    {
      "cell_type": "code",
      "metadata": {
        "id": "uHY_kgnDCheH",
        "colab_type": "code",
        "colab": {
          "base_uri": "https://localhost:8080/",
          "height": 34
        },
        "outputId": "ca56f27b-3c02-4f1f-c651-4f2264fbda5b"
      },
      "source": [
        "sentence = 'the quick brown fox jumps over the lazy dog'\n",
        "words = sentence.split()\n",
        "words"
      ],
      "execution_count": 7,
      "outputs": [
        {
          "output_type": "execute_result",
          "data": {
            "text/plain": [
              "['the', 'quick', 'brown', 'fox', 'jumps', 'over', 'the', 'lazy', 'dog']"
            ]
          },
          "metadata": {
            "tags": []
          },
          "execution_count": 7
        }
      ]
    },
    {
      "cell_type": "code",
      "metadata": {
        "id": "PwwGQaI7CpfV",
        "colab_type": "code",
        "colab": {
          "base_uri": "https://localhost:8080/",
          "height": 153
        },
        "outputId": "49edef09-3242-48c6-f76a-2d9a61b908fc"
      },
      "source": [
        "word2idx = {word: idx for idx, word in enumerate(sorted(set(words)))}\n",
        "word2idx"
      ],
      "execution_count": 8,
      "outputs": [
        {
          "output_type": "execute_result",
          "data": {
            "text/plain": [
              "{'brown': 0,\n",
              " 'dog': 1,\n",
              " 'fox': 2,\n",
              " 'jumps': 3,\n",
              " 'lazy': 4,\n",
              " 'over': 5,\n",
              " 'quick': 6,\n",
              " 'the': 7}"
            ]
          },
          "metadata": {
            "tags": []
          },
          "execution_count": 8
        }
      ]
    },
    {
      "cell_type": "code",
      "metadata": {
        "id": "F26T9nszDJTH",
        "colab_type": "code",
        "colab": {
          "base_uri": "https://localhost:8080/",
          "height": 34
        },
        "outputId": "ed849708-0e50-40db-bc9a-d46e04f34297"
      },
      "source": [
        "idxs = torch.LongTensor([word2idx[word] for word in sentence.split()])\n",
        "idxs"
      ],
      "execution_count": 10,
      "outputs": [
        {
          "output_type": "execute_result",
          "data": {
            "text/plain": [
              "tensor([7, 6, 0, 2, 3, 5, 7, 4, 1])"
            ]
          },
          "metadata": {
            "tags": []
          },
          "execution_count": 10
        }
      ]
    },
    {
      "cell_type": "code",
      "metadata": {
        "id": "bMsRmvcJDfbg",
        "colab_type": "code",
        "colab": {
          "base_uri": "https://localhost:8080/",
          "height": 187
        },
        "outputId": "77eeb11f-1494-4777-f8e0-6480767caaab"
      },
      "source": [
        "embedding_layer = nn.Embedding(num_embeddings=len(word2idx), embedding_dim=3)\n",
        "embeddings = embedding_layer(idxs)\n",
        "embeddings, embeddings.shape"
      ],
      "execution_count": 11,
      "outputs": [
        {
          "output_type": "execute_result",
          "data": {
            "text/plain": [
              "(tensor([[ 0.8954,  0.7056, -0.4975],\n",
              "         [-0.7655,  0.3936,  0.1500],\n",
              "         [-0.4846, -0.0259, -0.5970],\n",
              "         [ 0.2894,  1.5901,  0.6806],\n",
              "         [-1.8506, -0.4434,  2.3044],\n",
              "         [-0.6100,  0.0162,  0.4726],\n",
              "         [ 0.8954,  0.7056, -0.4975],\n",
              "         [-0.5756,  0.6292,  0.1940],\n",
              "         [ 0.4704, -0.6407,  0.7090]], grad_fn=<EmbeddingBackward>),\n",
              " torch.Size([9, 3]))"
            ]
          },
          "metadata": {
            "tags": []
          },
          "execution_count": 11
        }
      ]
    },
    {
      "cell_type": "code",
      "metadata": {
        "id": "xZv7gs_nInVX",
        "colab_type": "code",
        "colab": {
          "base_uri": "https://localhost:8080/",
          "height": 326
        },
        "outputId": "753dbac5-73c6-4cfd-8cf0-a33a63f69da0"
      },
      "source": [
        "!wget http://magnitude.plasticity.ai/glove/light/glove.6B.50d.magnitude glove/"
      ],
      "execution_count": 12,
      "outputs": [
        {
          "output_type": "stream",
          "text": [
            "--2020-02-16 08:49:29--  http://magnitude.plasticity.ai/glove/light/glove.6B.50d.magnitude\n",
            "Resolving magnitude.plasticity.ai (magnitude.plasticity.ai)... 52.216.92.10\n",
            "Connecting to magnitude.plasticity.ai (magnitude.plasticity.ai)|52.216.92.10|:80... connected.\n",
            "HTTP request sent, awaiting response... 200 OK\n",
            "Length: 102670336 (98M) [binary/octet-stream]\n",
            "Saving to: ‘glove.6B.50d.magnitude’\n",
            "\n",
            "glove.6B.50d.magnit 100%[===================>]  97.91M  54.6MB/s    in 1.8s    \n",
            "\n",
            "2020-02-16 08:49:31 (54.6 MB/s) - ‘glove.6B.50d.magnitude’ saved [102670336/102670336]\n",
            "\n",
            "--2020-02-16 08:49:31--  http://glove/\n",
            "Resolving glove (glove)... failed: Name or service not known.\n",
            "wget: unable to resolve host address ‘glove’\n",
            "FINISHED --2020-02-16 08:49:31--\n",
            "Total wall clock time: 2.1s\n",
            "Downloaded: 1 files, 98M in 1.8s (54.6 MB/s)\n"
          ],
          "name": "stdout"
        }
      ]
    },
    {
      "cell_type": "code",
      "metadata": {
        "id": "JSxjeeXZMFzo",
        "colab_type": "code",
        "colab": {
          "base_uri": "https://localhost:8080/",
          "height": 119
        },
        "outputId": "28f43d97-f7f6-4c39-96df-b8dcf237592e"
      },
      "source": [
        "!ls -al"
      ],
      "execution_count": 14,
      "outputs": [
        {
          "output_type": "stream",
          "text": [
            "total 100280\n",
            "drwxr-xr-x 1 root root      4096 Feb 16 08:49 .\n",
            "drwxr-xr-x 1 root root      4096 Feb 16 08:06 ..\n",
            "drwxr-xr-x 1 root root      4096 Feb 13 17:15 .config\n",
            "-rw-r--r-- 1 root root 102670336 Oct 27  2018 glove.6B.50d.magnitude\n",
            "drwxr-xr-x 1 root root      4096 Feb  5 18:37 sample_data\n"
          ],
          "name": "stdout"
        }
      ]
    },
    {
      "cell_type": "code",
      "metadata": {
        "id": "Sg-k7d_KMHzi",
        "colab_type": "code",
        "colab": {
          "base_uri": "https://localhost:8080/",
          "height": 63
        },
        "outputId": "fb1fd66b-0d05-4c0e-9ca3-72abdc1b543a"
      },
      "source": [
        "!wc -l glove.6B.50d.magnitude"
      ],
      "execution_count": 16,
      "outputs": [
        {
          "output_type": "stream",
          "text": [
            "652242 glove.6B.50d.magnitude\n"
          ],
          "name": "stdout"
        }
      ]
    },
    {
      "cell_type": "code",
      "metadata": {
        "id": "w9VLwQqKNr0_",
        "colab_type": "code",
        "colab": {}
      },
      "source": [
        "glove_vectors = Magnitude('glove/glove.6B.50d.magnitude')"
      ],
      "execution_count": 0,
      "outputs": []
    },
    {
      "cell_type": "code",
      "metadata": {
        "id": "OEaG8FjXMsCH",
        "colab_type": "code",
        "colab": {
          "base_uri": "https://localhost:8080/",
          "height": 238
        },
        "outputId": "8b76a48b-ec57-4e3f-86ef-1483eca67252"
      },
      "source": [
        "glove_embeddings = glove_vectors.query(words)\n",
        "glove_embeddings[0], glove_embeddings.shape"
      ],
      "execution_count": 24,
      "outputs": [
        {
          "output_type": "execute_result",
          "data": {
            "text/plain": [
              "(array([ 8.414140e-02,  5.025940e-02, -8.301820e-02,  2.449760e-02,\n",
              "         6.950120e-02, -8.949000e-03, -1.000196e-01, -3.595540e-02,\n",
              "        -1.329000e-04, -1.321705e-01,  5.604660e-02, -2.972530e-02,\n",
              "        -1.120752e-01,  2.950590e-02, -1.914200e-03,  2.346700e-03,\n",
              "         2.054020e-02, -2.574970e-02, -1.699536e-01, -2.451980e-02,\n",
              "        -3.382000e-03, -6.698900e-02, -3.124100e-02, -4.656160e-02,\n",
              "        -3.861040e-02, -3.788981e-01, -1.544861e-01,  1.993850e-02,\n",
              "        -8.479560e-02, -3.930490e-02,  8.066102e-01, -3.742880e-02,\n",
              "        -1.052513e-01, -6.377240e-02,  1.192000e-04,  1.498600e-03,\n",
              "         3.578630e-02, -3.199990e-02,  2.423800e-03, -1.091480e-02,\n",
              "        -6.012890e-02, -3.170200e-02, -6.996620e-02, -9.186500e-03,\n",
              "        -8.907520e-02,  3.781330e-02,  5.606000e-04, -3.706050e-02,\n",
              "        -2.317710e-02, -1.581798e-01], dtype=float32), (9, 50))"
            ]
          },
          "metadata": {
            "tags": []
          },
          "execution_count": 24
        }
      ]
    },
    {
      "cell_type": "code",
      "metadata": {
        "id": "MvKrJUvWNPNm",
        "colab_type": "code",
        "colab": {}
      },
      "source": [
        "def cosine_similarity(word1, word2):\n",
        "  vector1, vector2 = glove_vectors.query(word1), glove_vectors.query(word2)\n",
        "  return 1 - spatial.distance.cosine(vector1.reshape((1,-1)), vector2.reshape((1,-1)))"
      ],
      "execution_count": 0,
      "outputs": []
    },
    {
      "cell_type": "code",
      "metadata": {
        "id": "HKvusWBGOz28",
        "colab_type": "code",
        "colab": {
          "base_uri": "https://localhost:8080/",
          "height": 85
        },
        "outputId": "c6b36113-cf3b-47cc-8ec6-a36db5b8f0f1"
      },
      "source": [
        "word_pairs = [\n",
        "              ('dog', 'cat'),\n",
        "              ('tree', 'cat'), \n",
        "              ('tree', 'leaf'),\n",
        "              ('king', 'queen'),\n",
        "]\n",
        "\n",
        "for word1, word2 in word_pairs:\n",
        "  print(f'Similarity between \"{word1}\" and \"{word2}\" :\\t{cosine_similarity(word1, word2):.2f}')"
      ],
      "execution_count": 56,
      "outputs": [
        {
          "output_type": "stream",
          "text": [
            "Similarity between \"dog\" and \"cat\" :\t0.92\n",
            "Similarity between \"tree\" and \"cat\" :\t0.57\n",
            "Similarity between \"tree\" and \"leaf\" :\t0.74\n",
            "Similarity between \"king\" and \"queen\" :\t0.78\n"
          ],
          "name": "stdout"
        }
      ]
    },
    {
      "cell_type": "code",
      "metadata": {
        "id": "ny4WTLNsOz9U",
        "colab_type": "code",
        "colab": {}
      },
      "source": [
        "ANIMALS = [\n",
        "    'whale',\n",
        "    'fish',\n",
        "    'horse',\n",
        "    'rabbit',\n",
        "    'sheep',\n",
        "    'lion',\n",
        "    'dog',\n",
        "    'cat',\n",
        "    'tiger',\n",
        "    'hamster',\n",
        "    'pig',\n",
        "    'goat',\n",
        "    'lizard',\n",
        "    'elephant',\n",
        "    'giraffe',\n",
        "    'hippo',\n",
        "    'zebra',\n",
        "]\n",
        "\n",
        "HOUSEHOLD_OBJECTS = [\n",
        "    'stapler',\n",
        "    'screw',\n",
        "    'nail',\n",
        "    'tv',\n",
        "    'dresser',\n",
        "    'keyboard',\n",
        "    'hairdryer',\n",
        "    'couch',\n",
        "    'sofa',\n",
        "    'lamp',\n",
        "    'chair',\n",
        "    'desk',\n",
        "    'pen',\n",
        "    'pencil',\n",
        "    'table',\n",
        "    'sock',\n",
        "    'floor',\n",
        "    'wall',\n",
        "]"
      ],
      "execution_count": 0,
      "outputs": []
    },
    {
      "cell_type": "code",
      "metadata": {
        "id": "TIKuRCt8O0Em",
        "colab_type": "code",
        "colab": {
          "base_uri": "https://localhost:8080/",
          "height": 34
        },
        "outputId": "4d90de89-7d9a-4882-f596-bdc77e8cab12"
      },
      "source": [
        "tsne_words_embedded = TSNE(n_components=2).fit_transform(glove_vectors.query(ANIMALS+HOUSEHOLD_OBJECTS))\n",
        "tsne_words_embedded.shape"
      ],
      "execution_count": 59,
      "outputs": [
        {
          "output_type": "execute_result",
          "data": {
            "text/plain": [
              "(35, 2)"
            ]
          },
          "metadata": {
            "tags": []
          },
          "execution_count": 59
        }
      ]
    },
    {
      "cell_type": "code",
      "metadata": {
        "id": "sTXQFrg1O0Ks",
        "colab_type": "code",
        "colab": {
          "base_uri": "https://localhost:8080/",
          "height": 660
        },
        "outputId": "0208e593-2419-4825-85c8-7875ff2cd70d"
      },
      "source": [
        "x, y = zip(*tsne_words_embedded)\n",
        "\n",
        "fig, ax = plt.subplots(figsize=(10, 8))\n",
        "\n",
        "for i, label in enumerate(ANIMALS + HOUSEHOLD_OBJECTS):\n",
        "  if label in ANIMALS:\n",
        "    color = BLUE\n",
        "  elif label in HOUSEHOLD_OBJECTS:\n",
        "    color = RED\n",
        "\n",
        "  ax.scatter(x[i], y[i], c = color)\n",
        "  ax.annotate(label, (x[i], y[i]))\n",
        "\n",
        "ax.axis('off')\n",
        "\n",
        "plt.show()"
      ],
      "execution_count": 63,
      "outputs": [
        {
          "output_type": "display_data",
          "data": {
            "text/plain": [
              "<Figure size 720x576 with 1 Axes>"
            ],
            "image/svg+xml": "<?xml version=\"1.0\" encoding=\"utf-8\" standalone=\"no\"?>\n<!DOCTYPE svg PUBLIC \"-//W3C//DTD SVG 1.1//EN\"\n  \"http://www.w3.org/Graphics/SVG/1.1/DTD/svg11.dtd\">\n<!-- Created with matplotlib (https://matplotlib.org/) -->\n<svg height=\"449.28pt\" version=\"1.1\" viewBox=\"0 0 572.4 449.28\" width=\"572.4pt\" xmlns=\"http://www.w3.org/2000/svg\" xmlns:xlink=\"http://www.w3.org/1999/xlink\">\n <defs>\n  <style type=\"text/css\">\n*{stroke-linecap:butt;stroke-linejoin:round;}\n  </style>\n </defs>\n <g id=\"figure_1\">\n  <g id=\"patch_1\">\n   <path d=\"M 0 449.28 \nL 572.4 449.28 \nL 572.4 0 \nL 0 0 \nz\n\" style=\"fill:none;\"/>\n  </g>\n  <g id=\"axes_1\">\n   <g id=\"PathCollection_1\">\n    <defs>\n     <path d=\"M 0 3 \nC 0.795609 3 1.55874 2.683901 2.12132 2.12132 \nC 2.683901 1.55874 3 0.795609 3 0 \nC 3 -0.795609 2.683901 -1.55874 2.12132 -2.12132 \nC 1.55874 -2.683901 0.795609 -3 0 -3 \nC -0.795609 -3 -1.55874 -2.683901 -2.12132 -2.12132 \nC -2.683901 -1.55874 -3 -0.795609 -3 0 \nC -3 0.795609 -2.683901 1.55874 -2.12132 2.12132 \nC -1.55874 2.683901 -0.795609 3 0 3 \nz\n\" id=\"mee3d0fa071\" style=\"stroke:#0074d9;\"/>\n    </defs>\n    <g clip-path=\"url(#pff4f05596d)\">\n     <use style=\"fill:#0074d9;stroke:#0074d9;\" x=\"256.994721\" xlink:href=\"#mee3d0fa071\" y=\"351.287105\"/>\n    </g>\n   </g>\n   <g id=\"PathCollection_2\">\n    <g clip-path=\"url(#pff4f05596d)\">\n     <use style=\"fill:#0074d9;stroke:#0074d9;\" x=\"446.911289\" xlink:href=\"#mee3d0fa071\" y=\"139.244564\"/>\n    </g>\n   </g>\n   <g id=\"PathCollection_3\">\n    <g clip-path=\"url(#pff4f05596d)\">\n     <use style=\"fill:#0074d9;stroke:#0074d9;\" x=\"448.289639\" xlink:href=\"#mee3d0fa071\" y=\"273.697377\"/>\n    </g>\n   </g>\n   <g id=\"PathCollection_4\">\n    <g clip-path=\"url(#pff4f05596d)\">\n     <use style=\"fill:#0074d9;stroke:#0074d9;\" x=\"302.798445\" xlink:href=\"#mee3d0fa071\" y=\"250.336953\"/>\n    </g>\n   </g>\n   <g id=\"PathCollection_5\">\n    <g clip-path=\"url(#pff4f05596d)\">\n     <use style=\"fill:#0074d9;stroke:#0074d9;\" x=\"372.250463\" xlink:href=\"#mee3d0fa071\" y=\"162.546176\"/>\n    </g>\n   </g>\n   <g id=\"PathCollection_6\">\n    <g clip-path=\"url(#pff4f05596d)\">\n     <use style=\"fill:#0074d9;stroke:#0074d9;\" x=\"385.329073\" xlink:href=\"#mee3d0fa071\" y=\"90.622321\"/>\n    </g>\n   </g>\n   <g id=\"PathCollection_7\">\n    <g clip-path=\"url(#pff4f05596d)\">\n     <use style=\"fill:#0074d9;stroke:#0074d9;\" x=\"375.638093\" xlink:href=\"#mee3d0fa071\" y=\"268.695599\"/>\n    </g>\n   </g>\n   <g id=\"PathCollection_8\">\n    <g clip-path=\"url(#pff4f05596d)\">\n     <use style=\"fill:#0074d9;stroke:#0074d9;\" x=\"362.084628\" xlink:href=\"#mee3d0fa071\" y=\"218.658562\"/>\n    </g>\n   </g>\n   <g id=\"PathCollection_9\">\n    <g clip-path=\"url(#pff4f05596d)\">\n     <use style=\"fill:#0074d9;stroke:#0074d9;\" x=\"266.217029\" xlink:href=\"#mee3d0fa071\" y=\"420.322456\"/>\n    </g>\n   </g>\n   <g id=\"PathCollection_10\">\n    <g clip-path=\"url(#pff4f05596d)\">\n     <use style=\"fill:#0074d9;stroke:#0074d9;\" x=\"441.496009\" xlink:href=\"#mee3d0fa071\" y=\"210.158343\"/>\n    </g>\n   </g>\n   <g id=\"PathCollection_11\">\n    <g clip-path=\"url(#pff4f05596d)\">\n     <use style=\"fill:#0074d9;stroke:#0074d9;\" x=\"298.505716\" xlink:href=\"#mee3d0fa071\" y=\"189.11133\"/>\n    </g>\n   </g>\n   <g id=\"PathCollection_12\">\n    <g clip-path=\"url(#pff4f05596d)\">\n     <use style=\"fill:#0074d9;stroke:#0074d9;\" x=\"396.970484\" xlink:href=\"#mee3d0fa071\" y=\"328.523395\"/>\n    </g>\n   </g>\n   <g id=\"PathCollection_13\">\n    <g clip-path=\"url(#pff4f05596d)\">\n     <use style=\"fill:#0074d9;stroke:#0074d9;\" x=\"245.653557\" xlink:href=\"#mee3d0fa071\" y=\"292.101449\"/>\n    </g>\n   </g>\n   <g id=\"PathCollection_14\">\n    <g clip-path=\"url(#pff4f05596d)\">\n     <use style=\"fill:#0074d9;stroke:#0074d9;\" x=\"320.6052\" xlink:href=\"#mee3d0fa071\" y=\"308.966518\"/>\n    </g>\n   </g>\n   <g id=\"PathCollection_15\">\n    <g clip-path=\"url(#pff4f05596d)\">\n     <use style=\"fill:#0074d9;stroke:#0074d9;\" x=\"306.00599\" xlink:href=\"#mee3d0fa071\" y=\"125.701564\"/>\n    </g>\n   </g>\n   <g id=\"PathCollection_16\">\n    <g clip-path=\"url(#pff4f05596d)\">\n     <use style=\"fill:#0074d9;stroke:#0074d9;\" x=\"407.204346\" xlink:href=\"#mee3d0fa071\" y=\"412.664309\"/>\n    </g>\n   </g>\n   <g id=\"PathCollection_17\">\n    <g clip-path=\"url(#pff4f05596d)\">\n     <use style=\"fill:#0074d9;stroke:#0074d9;\" x=\"334.747425\" xlink:href=\"#mee3d0fa071\" y=\"375.427079\"/>\n    </g>\n   </g>\n   <g id=\"PathCollection_18\">\n    <defs>\n     <path d=\"M 0 3 \nC 0.795609 3 1.55874 2.683901 2.12132 2.12132 \nC 2.683901 1.55874 3 0.795609 3 0 \nC 3 -0.795609 2.683901 -1.55874 2.12132 -2.12132 \nC 1.55874 -2.683901 0.795609 -3 0 -3 \nC -0.795609 -3 -1.55874 -2.683901 -2.12132 -2.12132 \nC -2.683901 -1.55874 -3 -0.795609 -3 0 \nC -3 0.795609 -2.683901 1.55874 -2.12132 2.12132 \nC -1.55874 2.683901 -0.795609 3 0 3 \nz\n\" id=\"m1265eec25e\" style=\"stroke:#ff4136;\"/>\n    </defs>\n    <g clip-path=\"url(#pff4f05596d)\">\n     <use style=\"fill:#ff4136;stroke:#ff4136;\" x=\"69.547023\" xlink:href=\"#m1265eec25e\" y=\"354.573612\"/>\n    </g>\n   </g>\n   <g id=\"PathCollection_19\">\n    <g clip-path=\"url(#pff4f05596d)\">\n     <use style=\"fill:#ff4136;stroke:#ff4136;\" x=\"495.592337\" xlink:href=\"#m1265eec25e\" y=\"336.03148\"/>\n    </g>\n   </g>\n   <g id=\"PathCollection_20\">\n    <g clip-path=\"url(#pff4f05596d)\">\n     <use style=\"fill:#ff4136;stroke:#ff4136;\" x=\"189.401666\" xlink:href=\"#m1265eec25e\" y=\"183.042399\"/>\n    </g>\n   </g>\n   <g id=\"PathCollection_21\">\n    <g clip-path=\"url(#pff4f05596d)\">\n     <use style=\"fill:#ff4136;stroke:#ff4136;\" x=\"304.850366\" xlink:href=\"#m1265eec25e\" y=\"42.297416\"/>\n    </g>\n   </g>\n   <g id=\"PathCollection_22\">\n    <g clip-path=\"url(#pff4f05596d)\">\n     <use style=\"fill:#ff4136;stroke:#ff4136;\" x=\"199.807302\" xlink:href=\"#m1265eec25e\" y=\"29.870135\"/>\n    </g>\n   </g>\n   <g id=\"PathCollection_23\">\n    <g clip-path=\"url(#pff4f05596d)\">\n     <use style=\"fill:#ff4136;stroke:#ff4136;\" x=\"156.070334\" xlink:href=\"#m1265eec25e\" y=\"322.061487\"/>\n    </g>\n   </g>\n   <g id=\"PathCollection_24\">\n    <g clip-path=\"url(#pff4f05596d)\">\n     <use style=\"fill:#ff4136;stroke:#ff4136;\" x=\"136.924896\" xlink:href=\"#m1265eec25e\" y=\"407.803133\"/>\n    </g>\n   </g>\n   <g id=\"PathCollection_25\">\n    <g clip-path=\"url(#pff4f05596d)\">\n     <use style=\"fill:#ff4136;stroke:#ff4136;\" x=\"223.197789\" xlink:href=\"#m1265eec25e\" y=\"117.998602\"/>\n    </g>\n   </g>\n   <g id=\"PathCollection_26\">\n    <g clip-path=\"url(#pff4f05596d)\">\n     <use style=\"fill:#ff4136;stroke:#ff4136;\" x=\"159.599472\" xlink:href=\"#m1265eec25e\" y=\"83.020361\"/>\n    </g>\n   </g>\n   <g id=\"PathCollection_27\">\n    <g clip-path=\"url(#pff4f05596d)\">\n     <use style=\"fill:#ff4136;stroke:#ff4136;\" x=\"535.623437\" xlink:href=\"#m1265eec25e\" y=\"165.096685\"/>\n    </g>\n   </g>\n   <g id=\"PathCollection_28\">\n    <g clip-path=\"url(#pff4f05596d)\">\n     <use style=\"fill:#ff4136;stroke:#ff4136;\" x=\"537.057809\" xlink:href=\"#m1265eec25e\" y=\"243.822127\"/>\n    </g>\n   </g>\n   <g id=\"PathCollection_29\">\n    <g clip-path=\"url(#pff4f05596d)\">\n     <use style=\"fill:#ff4136;stroke:#ff4136;\" x=\"67.665099\" xlink:href=\"#m1265eec25e\" y=\"95.639774\"/>\n    </g>\n   </g>\n   <g id=\"PathCollection_30\">\n    <g clip-path=\"url(#pff4f05596d)\">\n     <use style=\"fill:#ff4136;stroke:#ff4136;\" x=\"168.985996\" xlink:href=\"#m1265eec25e\" y=\"253.358499\"/>\n    </g>\n   </g>\n   <g id=\"PathCollection_31\">\n    <g clip-path=\"url(#pff4f05596d)\">\n     <use style=\"fill:#ff4136;stroke:#ff4136;\" x=\"92.084335\" xlink:href=\"#m1265eec25e\" y=\"267.017341\"/>\n    </g>\n   </g>\n   <g id=\"PathCollection_32\">\n    <g clip-path=\"url(#pff4f05596d)\">\n     <use style=\"fill:#ff4136;stroke:#ff4136;\" x=\"35.372538\" xlink:href=\"#m1265eec25e\" y=\"177.178488\"/>\n    </g>\n   </g>\n   <g id=\"PathCollection_33\">\n    <g clip-path=\"url(#pff4f05596d)\">\n     <use style=\"fill:#ff4136;stroke:#ff4136;\" x=\"238.233604\" xlink:href=\"#m1265eec25e\" y=\"222.384917\"/>\n    </g>\n   </g>\n   <g id=\"PathCollection_34\">\n    <g clip-path=\"url(#pff4f05596d)\">\n     <use style=\"fill:#ff4136;stroke:#ff4136;\" x=\"126.925888\" xlink:href=\"#m1265eec25e\" y=\"144.07316\"/>\n    </g>\n   </g>\n   <g id=\"PathCollection_35\">\n    <g clip-path=\"url(#pff4f05596d)\">\n     <use style=\"fill:#ff4136;stroke:#ff4136;\" x=\"109.564086\" xlink:href=\"#m1265eec25e\" y=\"200.635077\"/>\n    </g>\n   </g>\n   <g id=\"text_1\">\n    <!-- whale -->\n    <defs>\n     <path d=\"M 4.203125 54.6875 \nL 13.1875 54.6875 \nL 24.421875 12.015625 \nL 35.59375 54.6875 \nL 46.1875 54.6875 \nL 57.421875 12.015625 \nL 68.609375 54.6875 \nL 77.59375 54.6875 \nL 63.28125 0 \nL 52.6875 0 \nL 40.921875 44.828125 \nL 29.109375 0 \nL 18.5 0 \nz\n\" id=\"DejaVuSans-119\"/>\n     <path d=\"M 54.890625 33.015625 \nL 54.890625 0 \nL 45.90625 0 \nL 45.90625 32.71875 \nQ 45.90625 40.484375 42.875 44.328125 \nQ 39.84375 48.1875 33.796875 48.1875 \nQ 26.515625 48.1875 22.3125 43.546875 \nQ 18.109375 38.921875 18.109375 30.90625 \nL 18.109375 0 \nL 9.078125 0 \nL 9.078125 75.984375 \nL 18.109375 75.984375 \nL 18.109375 46.1875 \nQ 21.34375 51.125 25.703125 53.5625 \nQ 30.078125 56 35.796875 56 \nQ 45.21875 56 50.046875 50.171875 \nQ 54.890625 44.34375 54.890625 33.015625 \nz\n\" id=\"DejaVuSans-104\"/>\n     <path d=\"M 34.28125 27.484375 \nQ 23.390625 27.484375 19.1875 25 \nQ 14.984375 22.515625 14.984375 16.5 \nQ 14.984375 11.71875 18.140625 8.90625 \nQ 21.296875 6.109375 26.703125 6.109375 \nQ 34.1875 6.109375 38.703125 11.40625 \nQ 43.21875 16.703125 43.21875 25.484375 \nL 43.21875 27.484375 \nz\nM 52.203125 31.203125 \nL 52.203125 0 \nL 43.21875 0 \nL 43.21875 8.296875 \nQ 40.140625 3.328125 35.546875 0.953125 \nQ 30.953125 -1.421875 24.3125 -1.421875 \nQ 15.921875 -1.421875 10.953125 3.296875 \nQ 6 8.015625 6 15.921875 \nQ 6 25.140625 12.171875 29.828125 \nQ 18.359375 34.515625 30.609375 34.515625 \nL 43.21875 34.515625 \nL 43.21875 35.40625 \nQ 43.21875 41.609375 39.140625 45 \nQ 35.0625 48.390625 27.6875 48.390625 \nQ 23 48.390625 18.546875 47.265625 \nQ 14.109375 46.140625 10.015625 43.890625 \nL 10.015625 52.203125 \nQ 14.9375 54.109375 19.578125 55.046875 \nQ 24.21875 56 28.609375 56 \nQ 40.484375 56 46.34375 49.84375 \nQ 52.203125 43.703125 52.203125 31.203125 \nz\n\" id=\"DejaVuSans-97\"/>\n     <path d=\"M 9.421875 75.984375 \nL 18.40625 75.984375 \nL 18.40625 0 \nL 9.421875 0 \nz\n\" id=\"DejaVuSans-108\"/>\n     <path d=\"M 56.203125 29.59375 \nL 56.203125 25.203125 \nL 14.890625 25.203125 \nQ 15.484375 15.921875 20.484375 11.0625 \nQ 25.484375 6.203125 34.421875 6.203125 \nQ 39.59375 6.203125 44.453125 7.46875 \nQ 49.3125 8.734375 54.109375 11.28125 \nL 54.109375 2.78125 \nQ 49.265625 0.734375 44.1875 -0.34375 \nQ 39.109375 -1.421875 33.890625 -1.421875 \nQ 20.796875 -1.421875 13.15625 6.1875 \nQ 5.515625 13.8125 5.515625 26.8125 \nQ 5.515625 40.234375 12.765625 48.109375 \nQ 20.015625 56 32.328125 56 \nQ 43.359375 56 49.78125 48.890625 \nQ 56.203125 41.796875 56.203125 29.59375 \nz\nM 47.21875 32.234375 \nQ 47.125 39.59375 43.09375 43.984375 \nQ 39.0625 48.390625 32.421875 48.390625 \nQ 24.90625 48.390625 20.390625 44.140625 \nQ 15.875 39.890625 15.1875 32.171875 \nz\n\" id=\"DejaVuSans-101\"/>\n    </defs>\n    <g transform=\"translate(256.994721 351.287105)scale(0.1 -0.1)\">\n     <use xlink:href=\"#DejaVuSans-119\"/>\n     <use x=\"81.787109\" xlink:href=\"#DejaVuSans-104\"/>\n     <use x=\"145.166016\" xlink:href=\"#DejaVuSans-97\"/>\n     <use x=\"206.445312\" xlink:href=\"#DejaVuSans-108\"/>\n     <use x=\"234.228516\" xlink:href=\"#DejaVuSans-101\"/>\n    </g>\n   </g>\n   <g id=\"text_2\">\n    <!-- fish -->\n    <defs>\n     <path d=\"M 37.109375 75.984375 \nL 37.109375 68.5 \nL 28.515625 68.5 \nQ 23.6875 68.5 21.796875 66.546875 \nQ 19.921875 64.59375 19.921875 59.515625 \nL 19.921875 54.6875 \nL 34.71875 54.6875 \nL 34.71875 47.703125 \nL 19.921875 47.703125 \nL 19.921875 0 \nL 10.890625 0 \nL 10.890625 47.703125 \nL 2.296875 47.703125 \nL 2.296875 54.6875 \nL 10.890625 54.6875 \nL 10.890625 58.5 \nQ 10.890625 67.625 15.140625 71.796875 \nQ 19.390625 75.984375 28.609375 75.984375 \nz\n\" id=\"DejaVuSans-102\"/>\n     <path d=\"M 9.421875 54.6875 \nL 18.40625 54.6875 \nL 18.40625 0 \nL 9.421875 0 \nz\nM 9.421875 75.984375 \nL 18.40625 75.984375 \nL 18.40625 64.59375 \nL 9.421875 64.59375 \nz\n\" id=\"DejaVuSans-105\"/>\n     <path d=\"M 44.28125 53.078125 \nL 44.28125 44.578125 \nQ 40.484375 46.53125 36.375 47.5 \nQ 32.28125 48.484375 27.875 48.484375 \nQ 21.1875 48.484375 17.84375 46.4375 \nQ 14.5 44.390625 14.5 40.28125 \nQ 14.5 37.15625 16.890625 35.375 \nQ 19.28125 33.59375 26.515625 31.984375 \nL 29.59375 31.296875 \nQ 39.15625 29.25 43.1875 25.515625 \nQ 47.21875 21.78125 47.21875 15.09375 \nQ 47.21875 7.46875 41.1875 3.015625 \nQ 35.15625 -1.421875 24.609375 -1.421875 \nQ 20.21875 -1.421875 15.453125 -0.5625 \nQ 10.6875 0.296875 5.421875 2 \nL 5.421875 11.28125 \nQ 10.40625 8.6875 15.234375 7.390625 \nQ 20.0625 6.109375 24.8125 6.109375 \nQ 31.15625 6.109375 34.5625 8.28125 \nQ 37.984375 10.453125 37.984375 14.40625 \nQ 37.984375 18.0625 35.515625 20.015625 \nQ 33.0625 21.96875 24.703125 23.78125 \nL 21.578125 24.515625 \nQ 13.234375 26.265625 9.515625 29.90625 \nQ 5.8125 33.546875 5.8125 39.890625 \nQ 5.8125 47.609375 11.28125 51.796875 \nQ 16.75 56 26.8125 56 \nQ 31.78125 56 36.171875 55.265625 \nQ 40.578125 54.546875 44.28125 53.078125 \nz\n\" id=\"DejaVuSans-115\"/>\n    </defs>\n    <g transform=\"translate(446.911289 139.244564)scale(0.1 -0.1)\">\n     <use xlink:href=\"#DejaVuSans-102\"/>\n     <use x=\"35.205078\" xlink:href=\"#DejaVuSans-105\"/>\n     <use x=\"62.988281\" xlink:href=\"#DejaVuSans-115\"/>\n     <use x=\"115.087891\" xlink:href=\"#DejaVuSans-104\"/>\n    </g>\n   </g>\n   <g id=\"text_3\">\n    <!-- horse -->\n    <defs>\n     <path d=\"M 30.609375 48.390625 \nQ 23.390625 48.390625 19.1875 42.75 \nQ 14.984375 37.109375 14.984375 27.296875 \nQ 14.984375 17.484375 19.15625 11.84375 \nQ 23.34375 6.203125 30.609375 6.203125 \nQ 37.796875 6.203125 41.984375 11.859375 \nQ 46.1875 17.53125 46.1875 27.296875 \nQ 46.1875 37.015625 41.984375 42.703125 \nQ 37.796875 48.390625 30.609375 48.390625 \nz\nM 30.609375 56 \nQ 42.328125 56 49.015625 48.375 \nQ 55.71875 40.765625 55.71875 27.296875 \nQ 55.71875 13.875 49.015625 6.21875 \nQ 42.328125 -1.421875 30.609375 -1.421875 \nQ 18.84375 -1.421875 12.171875 6.21875 \nQ 5.515625 13.875 5.515625 27.296875 \nQ 5.515625 40.765625 12.171875 48.375 \nQ 18.84375 56 30.609375 56 \nz\n\" id=\"DejaVuSans-111\"/>\n     <path d=\"M 41.109375 46.296875 \nQ 39.59375 47.171875 37.8125 47.578125 \nQ 36.03125 48 33.890625 48 \nQ 26.265625 48 22.1875 43.046875 \nQ 18.109375 38.09375 18.109375 28.8125 \nL 18.109375 0 \nL 9.078125 0 \nL 9.078125 54.6875 \nL 18.109375 54.6875 \nL 18.109375 46.1875 \nQ 20.953125 51.171875 25.484375 53.578125 \nQ 30.03125 56 36.53125 56 \nQ 37.453125 56 38.578125 55.875 \nQ 39.703125 55.765625 41.0625 55.515625 \nz\n\" id=\"DejaVuSans-114\"/>\n    </defs>\n    <g transform=\"translate(448.289639 273.697377)scale(0.1 -0.1)\">\n     <use xlink:href=\"#DejaVuSans-104\"/>\n     <use x=\"63.378906\" xlink:href=\"#DejaVuSans-111\"/>\n     <use x=\"124.560547\" xlink:href=\"#DejaVuSans-114\"/>\n     <use x=\"165.673828\" xlink:href=\"#DejaVuSans-115\"/>\n     <use x=\"217.773438\" xlink:href=\"#DejaVuSans-101\"/>\n    </g>\n   </g>\n   <g id=\"text_4\">\n    <!-- rabbit -->\n    <defs>\n     <path d=\"M 48.6875 27.296875 \nQ 48.6875 37.203125 44.609375 42.84375 \nQ 40.53125 48.484375 33.40625 48.484375 \nQ 26.265625 48.484375 22.1875 42.84375 \nQ 18.109375 37.203125 18.109375 27.296875 \nQ 18.109375 17.390625 22.1875 11.75 \nQ 26.265625 6.109375 33.40625 6.109375 \nQ 40.53125 6.109375 44.609375 11.75 \nQ 48.6875 17.390625 48.6875 27.296875 \nz\nM 18.109375 46.390625 \nQ 20.953125 51.265625 25.265625 53.625 \nQ 29.59375 56 35.59375 56 \nQ 45.5625 56 51.78125 48.09375 \nQ 58.015625 40.1875 58.015625 27.296875 \nQ 58.015625 14.40625 51.78125 6.484375 \nQ 45.5625 -1.421875 35.59375 -1.421875 \nQ 29.59375 -1.421875 25.265625 0.953125 \nQ 20.953125 3.328125 18.109375 8.203125 \nL 18.109375 0 \nL 9.078125 0 \nL 9.078125 75.984375 \nL 18.109375 75.984375 \nz\n\" id=\"DejaVuSans-98\"/>\n     <path d=\"M 18.3125 70.21875 \nL 18.3125 54.6875 \nL 36.8125 54.6875 \nL 36.8125 47.703125 \nL 18.3125 47.703125 \nL 18.3125 18.015625 \nQ 18.3125 11.328125 20.140625 9.421875 \nQ 21.96875 7.515625 27.59375 7.515625 \nL 36.8125 7.515625 \nL 36.8125 0 \nL 27.59375 0 \nQ 17.1875 0 13.234375 3.875 \nQ 9.28125 7.765625 9.28125 18.015625 \nL 9.28125 47.703125 \nL 2.6875 47.703125 \nL 2.6875 54.6875 \nL 9.28125 54.6875 \nL 9.28125 70.21875 \nz\n\" id=\"DejaVuSans-116\"/>\n    </defs>\n    <g transform=\"translate(302.798445 250.336953)scale(0.1 -0.1)\">\n     <use xlink:href=\"#DejaVuSans-114\"/>\n     <use x=\"41.113281\" xlink:href=\"#DejaVuSans-97\"/>\n     <use x=\"102.392578\" xlink:href=\"#DejaVuSans-98\"/>\n     <use x=\"165.869141\" xlink:href=\"#DejaVuSans-98\"/>\n     <use x=\"229.345703\" xlink:href=\"#DejaVuSans-105\"/>\n     <use x=\"257.128906\" xlink:href=\"#DejaVuSans-116\"/>\n    </g>\n   </g>\n   <g id=\"text_5\">\n    <!-- sheep -->\n    <defs>\n     <path d=\"M 18.109375 8.203125 \nL 18.109375 -20.796875 \nL 9.078125 -20.796875 \nL 9.078125 54.6875 \nL 18.109375 54.6875 \nL 18.109375 46.390625 \nQ 20.953125 51.265625 25.265625 53.625 \nQ 29.59375 56 35.59375 56 \nQ 45.5625 56 51.78125 48.09375 \nQ 58.015625 40.1875 58.015625 27.296875 \nQ 58.015625 14.40625 51.78125 6.484375 \nQ 45.5625 -1.421875 35.59375 -1.421875 \nQ 29.59375 -1.421875 25.265625 0.953125 \nQ 20.953125 3.328125 18.109375 8.203125 \nz\nM 48.6875 27.296875 \nQ 48.6875 37.203125 44.609375 42.84375 \nQ 40.53125 48.484375 33.40625 48.484375 \nQ 26.265625 48.484375 22.1875 42.84375 \nQ 18.109375 37.203125 18.109375 27.296875 \nQ 18.109375 17.390625 22.1875 11.75 \nQ 26.265625 6.109375 33.40625 6.109375 \nQ 40.53125 6.109375 44.609375 11.75 \nQ 48.6875 17.390625 48.6875 27.296875 \nz\n\" id=\"DejaVuSans-112\"/>\n    </defs>\n    <g transform=\"translate(372.250463 162.546176)scale(0.1 -0.1)\">\n     <use xlink:href=\"#DejaVuSans-115\"/>\n     <use x=\"52.099609\" xlink:href=\"#DejaVuSans-104\"/>\n     <use x=\"115.478516\" xlink:href=\"#DejaVuSans-101\"/>\n     <use x=\"177.001953\" xlink:href=\"#DejaVuSans-101\"/>\n     <use x=\"238.525391\" xlink:href=\"#DejaVuSans-112\"/>\n    </g>\n   </g>\n   <g id=\"text_6\">\n    <!-- lion -->\n    <defs>\n     <path d=\"M 54.890625 33.015625 \nL 54.890625 0 \nL 45.90625 0 \nL 45.90625 32.71875 \nQ 45.90625 40.484375 42.875 44.328125 \nQ 39.84375 48.1875 33.796875 48.1875 \nQ 26.515625 48.1875 22.3125 43.546875 \nQ 18.109375 38.921875 18.109375 30.90625 \nL 18.109375 0 \nL 9.078125 0 \nL 9.078125 54.6875 \nL 18.109375 54.6875 \nL 18.109375 46.1875 \nQ 21.34375 51.125 25.703125 53.5625 \nQ 30.078125 56 35.796875 56 \nQ 45.21875 56 50.046875 50.171875 \nQ 54.890625 44.34375 54.890625 33.015625 \nz\n\" id=\"DejaVuSans-110\"/>\n    </defs>\n    <g transform=\"translate(385.329073 90.622321)scale(0.1 -0.1)\">\n     <use xlink:href=\"#DejaVuSans-108\"/>\n     <use x=\"27.783203\" xlink:href=\"#DejaVuSans-105\"/>\n     <use x=\"55.566406\" xlink:href=\"#DejaVuSans-111\"/>\n     <use x=\"116.748047\" xlink:href=\"#DejaVuSans-110\"/>\n    </g>\n   </g>\n   <g id=\"text_7\">\n    <!-- dog -->\n    <defs>\n     <path d=\"M 45.40625 46.390625 \nL 45.40625 75.984375 \nL 54.390625 75.984375 \nL 54.390625 0 \nL 45.40625 0 \nL 45.40625 8.203125 \nQ 42.578125 3.328125 38.25 0.953125 \nQ 33.9375 -1.421875 27.875 -1.421875 \nQ 17.96875 -1.421875 11.734375 6.484375 \nQ 5.515625 14.40625 5.515625 27.296875 \nQ 5.515625 40.1875 11.734375 48.09375 \nQ 17.96875 56 27.875 56 \nQ 33.9375 56 38.25 53.625 \nQ 42.578125 51.265625 45.40625 46.390625 \nz\nM 14.796875 27.296875 \nQ 14.796875 17.390625 18.875 11.75 \nQ 22.953125 6.109375 30.078125 6.109375 \nQ 37.203125 6.109375 41.296875 11.75 \nQ 45.40625 17.390625 45.40625 27.296875 \nQ 45.40625 37.203125 41.296875 42.84375 \nQ 37.203125 48.484375 30.078125 48.484375 \nQ 22.953125 48.484375 18.875 42.84375 \nQ 14.796875 37.203125 14.796875 27.296875 \nz\n\" id=\"DejaVuSans-100\"/>\n     <path d=\"M 45.40625 27.984375 \nQ 45.40625 37.75 41.375 43.109375 \nQ 37.359375 48.484375 30.078125 48.484375 \nQ 22.859375 48.484375 18.828125 43.109375 \nQ 14.796875 37.75 14.796875 27.984375 \nQ 14.796875 18.265625 18.828125 12.890625 \nQ 22.859375 7.515625 30.078125 7.515625 \nQ 37.359375 7.515625 41.375 12.890625 \nQ 45.40625 18.265625 45.40625 27.984375 \nz\nM 54.390625 6.78125 \nQ 54.390625 -7.171875 48.1875 -13.984375 \nQ 42 -20.796875 29.203125 -20.796875 \nQ 24.46875 -20.796875 20.265625 -20.09375 \nQ 16.0625 -19.390625 12.109375 -17.921875 \nL 12.109375 -9.1875 \nQ 16.0625 -11.328125 19.921875 -12.34375 \nQ 23.78125 -13.375 27.78125 -13.375 \nQ 36.625 -13.375 41.015625 -8.765625 \nQ 45.40625 -4.15625 45.40625 5.171875 \nL 45.40625 9.625 \nQ 42.625 4.78125 38.28125 2.390625 \nQ 33.9375 0 27.875 0 \nQ 17.828125 0 11.671875 7.65625 \nQ 5.515625 15.328125 5.515625 27.984375 \nQ 5.515625 40.671875 11.671875 48.328125 \nQ 17.828125 56 27.875 56 \nQ 33.9375 56 38.28125 53.609375 \nQ 42.625 51.21875 45.40625 46.390625 \nL 45.40625 54.6875 \nL 54.390625 54.6875 \nz\n\" id=\"DejaVuSans-103\"/>\n    </defs>\n    <g transform=\"translate(375.638093 268.695599)scale(0.1 -0.1)\">\n     <use xlink:href=\"#DejaVuSans-100\"/>\n     <use x=\"63.476562\" xlink:href=\"#DejaVuSans-111\"/>\n     <use x=\"124.658203\" xlink:href=\"#DejaVuSans-103\"/>\n    </g>\n   </g>\n   <g id=\"text_8\">\n    <!-- cat -->\n    <defs>\n     <path d=\"M 48.78125 52.59375 \nL 48.78125 44.1875 \nQ 44.96875 46.296875 41.140625 47.34375 \nQ 37.3125 48.390625 33.40625 48.390625 \nQ 24.65625 48.390625 19.8125 42.84375 \nQ 14.984375 37.3125 14.984375 27.296875 \nQ 14.984375 17.28125 19.8125 11.734375 \nQ 24.65625 6.203125 33.40625 6.203125 \nQ 37.3125 6.203125 41.140625 7.25 \nQ 44.96875 8.296875 48.78125 10.40625 \nL 48.78125 2.09375 \nQ 45.015625 0.34375 40.984375 -0.53125 \nQ 36.96875 -1.421875 32.421875 -1.421875 \nQ 20.0625 -1.421875 12.78125 6.34375 \nQ 5.515625 14.109375 5.515625 27.296875 \nQ 5.515625 40.671875 12.859375 48.328125 \nQ 20.21875 56 33.015625 56 \nQ 37.15625 56 41.109375 55.140625 \nQ 45.0625 54.296875 48.78125 52.59375 \nz\n\" id=\"DejaVuSans-99\"/>\n    </defs>\n    <g transform=\"translate(362.084628 218.658562)scale(0.1 -0.1)\">\n     <use xlink:href=\"#DejaVuSans-99\"/>\n     <use x=\"54.980469\" xlink:href=\"#DejaVuSans-97\"/>\n     <use x=\"116.259766\" xlink:href=\"#DejaVuSans-116\"/>\n    </g>\n   </g>\n   <g id=\"text_9\">\n    <!-- tiger -->\n    <g transform=\"translate(266.217029 420.322456)scale(0.1 -0.1)\">\n     <use xlink:href=\"#DejaVuSans-116\"/>\n     <use x=\"39.208984\" xlink:href=\"#DejaVuSans-105\"/>\n     <use x=\"66.992188\" xlink:href=\"#DejaVuSans-103\"/>\n     <use x=\"130.46875\" xlink:href=\"#DejaVuSans-101\"/>\n     <use x=\"191.992188\" xlink:href=\"#DejaVuSans-114\"/>\n    </g>\n   </g>\n   <g id=\"text_10\">\n    <!-- hamster -->\n    <defs>\n     <path d=\"M 52 44.1875 \nQ 55.375 50.25 60.0625 53.125 \nQ 64.75 56 71.09375 56 \nQ 79.640625 56 84.28125 50.015625 \nQ 88.921875 44.046875 88.921875 33.015625 \nL 88.921875 0 \nL 79.890625 0 \nL 79.890625 32.71875 \nQ 79.890625 40.578125 77.09375 44.375 \nQ 74.3125 48.1875 68.609375 48.1875 \nQ 61.625 48.1875 57.5625 43.546875 \nQ 53.515625 38.921875 53.515625 30.90625 \nL 53.515625 0 \nL 44.484375 0 \nL 44.484375 32.71875 \nQ 44.484375 40.625 41.703125 44.40625 \nQ 38.921875 48.1875 33.109375 48.1875 \nQ 26.21875 48.1875 22.15625 43.53125 \nQ 18.109375 38.875 18.109375 30.90625 \nL 18.109375 0 \nL 9.078125 0 \nL 9.078125 54.6875 \nL 18.109375 54.6875 \nL 18.109375 46.1875 \nQ 21.1875 51.21875 25.484375 53.609375 \nQ 29.78125 56 35.6875 56 \nQ 41.65625 56 45.828125 52.96875 \nQ 50 49.953125 52 44.1875 \nz\n\" id=\"DejaVuSans-109\"/>\n    </defs>\n    <g transform=\"translate(441.496009 210.158343)scale(0.1 -0.1)\">\n     <use xlink:href=\"#DejaVuSans-104\"/>\n     <use x=\"63.378906\" xlink:href=\"#DejaVuSans-97\"/>\n     <use x=\"124.658203\" xlink:href=\"#DejaVuSans-109\"/>\n     <use x=\"222.070312\" xlink:href=\"#DejaVuSans-115\"/>\n     <use x=\"274.169922\" xlink:href=\"#DejaVuSans-116\"/>\n     <use x=\"313.378906\" xlink:href=\"#DejaVuSans-101\"/>\n     <use x=\"374.902344\" xlink:href=\"#DejaVuSans-114\"/>\n    </g>\n   </g>\n   <g id=\"text_11\">\n    <!-- pig -->\n    <g transform=\"translate(298.505716 189.11133)scale(0.1 -0.1)\">\n     <use xlink:href=\"#DejaVuSans-112\"/>\n     <use x=\"63.476562\" xlink:href=\"#DejaVuSans-105\"/>\n     <use x=\"91.259766\" xlink:href=\"#DejaVuSans-103\"/>\n    </g>\n   </g>\n   <g id=\"text_12\">\n    <!-- goat -->\n    <g transform=\"translate(396.970484 328.523395)scale(0.1 -0.1)\">\n     <use xlink:href=\"#DejaVuSans-103\"/>\n     <use x=\"63.476562\" xlink:href=\"#DejaVuSans-111\"/>\n     <use x=\"124.658203\" xlink:href=\"#DejaVuSans-97\"/>\n     <use x=\"185.9375\" xlink:href=\"#DejaVuSans-116\"/>\n    </g>\n   </g>\n   <g id=\"text_13\">\n    <!-- lizard -->\n    <defs>\n     <path d=\"M 5.515625 54.6875 \nL 48.1875 54.6875 \nL 48.1875 46.484375 \nL 14.40625 7.171875 \nL 48.1875 7.171875 \nL 48.1875 0 \nL 4.296875 0 \nL 4.296875 8.203125 \nL 38.09375 47.515625 \nL 5.515625 47.515625 \nz\n\" id=\"DejaVuSans-122\"/>\n    </defs>\n    <g transform=\"translate(245.653557 292.101449)scale(0.1 -0.1)\">\n     <use xlink:href=\"#DejaVuSans-108\"/>\n     <use x=\"27.783203\" xlink:href=\"#DejaVuSans-105\"/>\n     <use x=\"55.566406\" xlink:href=\"#DejaVuSans-122\"/>\n     <use x=\"108.056641\" xlink:href=\"#DejaVuSans-97\"/>\n     <use x=\"169.335938\" xlink:href=\"#DejaVuSans-114\"/>\n     <use x=\"210.433594\" xlink:href=\"#DejaVuSans-100\"/>\n    </g>\n   </g>\n   <g id=\"text_14\">\n    <!-- elephant -->\n    <g transform=\"translate(320.6052 308.966518)scale(0.1 -0.1)\">\n     <use xlink:href=\"#DejaVuSans-101\"/>\n     <use x=\"61.523438\" xlink:href=\"#DejaVuSans-108\"/>\n     <use x=\"89.306641\" xlink:href=\"#DejaVuSans-101\"/>\n     <use x=\"150.830078\" xlink:href=\"#DejaVuSans-112\"/>\n     <use x=\"214.306641\" xlink:href=\"#DejaVuSans-104\"/>\n     <use x=\"277.685547\" xlink:href=\"#DejaVuSans-97\"/>\n     <use x=\"338.964844\" xlink:href=\"#DejaVuSans-110\"/>\n     <use x=\"402.34375\" xlink:href=\"#DejaVuSans-116\"/>\n    </g>\n   </g>\n   <g id=\"text_15\">\n    <!-- giraffe -->\n    <g transform=\"translate(306.00599 125.701564)scale(0.1 -0.1)\">\n     <use xlink:href=\"#DejaVuSans-103\"/>\n     <use x=\"63.476562\" xlink:href=\"#DejaVuSans-105\"/>\n     <use x=\"91.259766\" xlink:href=\"#DejaVuSans-114\"/>\n     <use x=\"132.373047\" xlink:href=\"#DejaVuSans-97\"/>\n     <use x=\"193.652344\" xlink:href=\"#DejaVuSans-102\"/>\n     <use x=\"228.857422\" xlink:href=\"#DejaVuSans-102\"/>\n     <use x=\"264.0625\" xlink:href=\"#DejaVuSans-101\"/>\n    </g>\n   </g>\n   <g id=\"text_16\">\n    <!-- hippo -->\n    <g transform=\"translate(407.204346 412.664309)scale(0.1 -0.1)\">\n     <use xlink:href=\"#DejaVuSans-104\"/>\n     <use x=\"63.378906\" xlink:href=\"#DejaVuSans-105\"/>\n     <use x=\"91.162109\" xlink:href=\"#DejaVuSans-112\"/>\n     <use x=\"154.638672\" xlink:href=\"#DejaVuSans-112\"/>\n     <use x=\"218.115234\" xlink:href=\"#DejaVuSans-111\"/>\n    </g>\n   </g>\n   <g id=\"text_17\">\n    <!-- zebra -->\n    <g transform=\"translate(334.747425 375.427079)scale(0.1 -0.1)\">\n     <use xlink:href=\"#DejaVuSans-122\"/>\n     <use x=\"52.490234\" xlink:href=\"#DejaVuSans-101\"/>\n     <use x=\"114.013672\" xlink:href=\"#DejaVuSans-98\"/>\n     <use x=\"177.490234\" xlink:href=\"#DejaVuSans-114\"/>\n     <use x=\"218.603516\" xlink:href=\"#DejaVuSans-97\"/>\n    </g>\n   </g>\n   <g id=\"text_18\">\n    <!-- stapler -->\n    <g transform=\"translate(69.547023 354.573612)scale(0.1 -0.1)\">\n     <use xlink:href=\"#DejaVuSans-115\"/>\n     <use x=\"52.099609\" xlink:href=\"#DejaVuSans-116\"/>\n     <use x=\"91.308594\" xlink:href=\"#DejaVuSans-97\"/>\n     <use x=\"152.587891\" xlink:href=\"#DejaVuSans-112\"/>\n     <use x=\"216.064453\" xlink:href=\"#DejaVuSans-108\"/>\n     <use x=\"243.847656\" xlink:href=\"#DejaVuSans-101\"/>\n     <use x=\"305.371094\" xlink:href=\"#DejaVuSans-114\"/>\n    </g>\n   </g>\n   <g id=\"text_19\">\n    <!-- screw -->\n    <g transform=\"translate(495.592337 336.03148)scale(0.1 -0.1)\">\n     <use xlink:href=\"#DejaVuSans-115\"/>\n     <use x=\"52.099609\" xlink:href=\"#DejaVuSans-99\"/>\n     <use x=\"107.080078\" xlink:href=\"#DejaVuSans-114\"/>\n     <use x=\"148.162109\" xlink:href=\"#DejaVuSans-101\"/>\n     <use x=\"209.685547\" xlink:href=\"#DejaVuSans-119\"/>\n    </g>\n   </g>\n   <g id=\"text_20\">\n    <!-- nail -->\n    <g transform=\"translate(189.401666 183.042399)scale(0.1 -0.1)\">\n     <use xlink:href=\"#DejaVuSans-110\"/>\n     <use x=\"63.378906\" xlink:href=\"#DejaVuSans-97\"/>\n     <use x=\"124.658203\" xlink:href=\"#DejaVuSans-105\"/>\n     <use x=\"152.441406\" xlink:href=\"#DejaVuSans-108\"/>\n    </g>\n   </g>\n   <g id=\"text_21\">\n    <!-- tv -->\n    <defs>\n     <path d=\"M 2.984375 54.6875 \nL 12.5 54.6875 \nL 29.59375 8.796875 \nL 46.6875 54.6875 \nL 56.203125 54.6875 \nL 35.6875 0 \nL 23.484375 0 \nz\n\" id=\"DejaVuSans-118\"/>\n    </defs>\n    <g transform=\"translate(304.850366 42.297416)scale(0.1 -0.1)\">\n     <use xlink:href=\"#DejaVuSans-116\"/>\n     <use x=\"39.208984\" xlink:href=\"#DejaVuSans-118\"/>\n    </g>\n   </g>\n   <g id=\"text_22\">\n    <!-- dresser -->\n    <g transform=\"translate(199.807302 29.870135)scale(0.1 -0.1)\">\n     <use xlink:href=\"#DejaVuSans-100\"/>\n     <use x=\"63.476562\" xlink:href=\"#DejaVuSans-114\"/>\n     <use x=\"104.558594\" xlink:href=\"#DejaVuSans-101\"/>\n     <use x=\"166.082031\" xlink:href=\"#DejaVuSans-115\"/>\n     <use x=\"218.181641\" xlink:href=\"#DejaVuSans-115\"/>\n     <use x=\"270.28125\" xlink:href=\"#DejaVuSans-101\"/>\n     <use x=\"331.804688\" xlink:href=\"#DejaVuSans-114\"/>\n    </g>\n   </g>\n   <g id=\"text_23\">\n    <!-- keyboard -->\n    <defs>\n     <path d=\"M 9.078125 75.984375 \nL 18.109375 75.984375 \nL 18.109375 31.109375 \nL 44.921875 54.6875 \nL 56.390625 54.6875 \nL 27.390625 29.109375 \nL 57.625 0 \nL 45.90625 0 \nL 18.109375 26.703125 \nL 18.109375 0 \nL 9.078125 0 \nz\n\" id=\"DejaVuSans-107\"/>\n     <path d=\"M 32.171875 -5.078125 \nQ 28.375 -14.84375 24.75 -17.8125 \nQ 21.140625 -20.796875 15.09375 -20.796875 \nL 7.90625 -20.796875 \nL 7.90625 -13.28125 \nL 13.1875 -13.28125 \nQ 16.890625 -13.28125 18.9375 -11.515625 \nQ 21 -9.765625 23.484375 -3.21875 \nL 25.09375 0.875 \nL 2.984375 54.6875 \nL 12.5 54.6875 \nL 29.59375 11.921875 \nL 46.6875 54.6875 \nL 56.203125 54.6875 \nz\n\" id=\"DejaVuSans-121\"/>\n    </defs>\n    <g transform=\"translate(156.070334 322.061487)scale(0.1 -0.1)\">\n     <use xlink:href=\"#DejaVuSans-107\"/>\n     <use x=\"57.863281\" xlink:href=\"#DejaVuSans-101\"/>\n     <use x=\"119.386719\" xlink:href=\"#DejaVuSans-121\"/>\n     <use x=\"178.566406\" xlink:href=\"#DejaVuSans-98\"/>\n     <use x=\"242.042969\" xlink:href=\"#DejaVuSans-111\"/>\n     <use x=\"303.224609\" xlink:href=\"#DejaVuSans-97\"/>\n     <use x=\"364.503906\" xlink:href=\"#DejaVuSans-114\"/>\n     <use x=\"405.601562\" xlink:href=\"#DejaVuSans-100\"/>\n    </g>\n   </g>\n   <g id=\"text_24\">\n    <!-- hairdryer -->\n    <g transform=\"translate(136.924896 407.803133)scale(0.1 -0.1)\">\n     <use xlink:href=\"#DejaVuSans-104\"/>\n     <use x=\"63.378906\" xlink:href=\"#DejaVuSans-97\"/>\n     <use x=\"124.658203\" xlink:href=\"#DejaVuSans-105\"/>\n     <use x=\"152.441406\" xlink:href=\"#DejaVuSans-114\"/>\n     <use x=\"193.539062\" xlink:href=\"#DejaVuSans-100\"/>\n     <use x=\"257.015625\" xlink:href=\"#DejaVuSans-114\"/>\n     <use x=\"298.128906\" xlink:href=\"#DejaVuSans-121\"/>\n     <use x=\"357.308594\" xlink:href=\"#DejaVuSans-101\"/>\n     <use x=\"418.832031\" xlink:href=\"#DejaVuSans-114\"/>\n    </g>\n   </g>\n   <g id=\"text_25\">\n    <!-- couch -->\n    <defs>\n     <path d=\"M 8.5 21.578125 \nL 8.5 54.6875 \nL 17.484375 54.6875 \nL 17.484375 21.921875 \nQ 17.484375 14.15625 20.5 10.265625 \nQ 23.53125 6.390625 29.59375 6.390625 \nQ 36.859375 6.390625 41.078125 11.03125 \nQ 45.3125 15.671875 45.3125 23.6875 \nL 45.3125 54.6875 \nL 54.296875 54.6875 \nL 54.296875 0 \nL 45.3125 0 \nL 45.3125 8.40625 \nQ 42.046875 3.421875 37.71875 1 \nQ 33.40625 -1.421875 27.6875 -1.421875 \nQ 18.265625 -1.421875 13.375 4.4375 \nQ 8.5 10.296875 8.5 21.578125 \nz\nM 31.109375 56 \nz\n\" id=\"DejaVuSans-117\"/>\n    </defs>\n    <g transform=\"translate(223.197789 117.998602)scale(0.1 -0.1)\">\n     <use xlink:href=\"#DejaVuSans-99\"/>\n     <use x=\"54.980469\" xlink:href=\"#DejaVuSans-111\"/>\n     <use x=\"116.162109\" xlink:href=\"#DejaVuSans-117\"/>\n     <use x=\"179.541016\" xlink:href=\"#DejaVuSans-99\"/>\n     <use x=\"234.521484\" xlink:href=\"#DejaVuSans-104\"/>\n    </g>\n   </g>\n   <g id=\"text_26\">\n    <!-- sofa -->\n    <g transform=\"translate(159.599472 83.020361)scale(0.1 -0.1)\">\n     <use xlink:href=\"#DejaVuSans-115\"/>\n     <use x=\"52.099609\" xlink:href=\"#DejaVuSans-111\"/>\n     <use x=\"113.28125\" xlink:href=\"#DejaVuSans-102\"/>\n     <use x=\"148.486328\" xlink:href=\"#DejaVuSans-97\"/>\n    </g>\n   </g>\n   <g id=\"text_27\">\n    <!-- lamp -->\n    <g transform=\"translate(535.623437 165.096685)scale(0.1 -0.1)\">\n     <use xlink:href=\"#DejaVuSans-108\"/>\n     <use x=\"27.783203\" xlink:href=\"#DejaVuSans-97\"/>\n     <use x=\"89.0625\" xlink:href=\"#DejaVuSans-109\"/>\n     <use x=\"186.474609\" xlink:href=\"#DejaVuSans-112\"/>\n    </g>\n   </g>\n   <g id=\"text_28\">\n    <!-- chair -->\n    <g transform=\"translate(537.057809 243.822127)scale(0.1 -0.1)\">\n     <use xlink:href=\"#DejaVuSans-99\"/>\n     <use x=\"54.980469\" xlink:href=\"#DejaVuSans-104\"/>\n     <use x=\"118.359375\" xlink:href=\"#DejaVuSans-97\"/>\n     <use x=\"179.638672\" xlink:href=\"#DejaVuSans-105\"/>\n     <use x=\"207.421875\" xlink:href=\"#DejaVuSans-114\"/>\n    </g>\n   </g>\n   <g id=\"text_29\">\n    <!-- desk -->\n    <g transform=\"translate(67.665099 95.639774)scale(0.1 -0.1)\">\n     <use xlink:href=\"#DejaVuSans-100\"/>\n     <use x=\"63.476562\" xlink:href=\"#DejaVuSans-101\"/>\n     <use x=\"125\" xlink:href=\"#DejaVuSans-115\"/>\n     <use x=\"177.099609\" xlink:href=\"#DejaVuSans-107\"/>\n    </g>\n   </g>\n   <g id=\"text_30\">\n    <!-- pen -->\n    <g transform=\"translate(168.985996 253.358499)scale(0.1 -0.1)\">\n     <use xlink:href=\"#DejaVuSans-112\"/>\n     <use x=\"63.476562\" xlink:href=\"#DejaVuSans-101\"/>\n     <use x=\"125\" xlink:href=\"#DejaVuSans-110\"/>\n    </g>\n   </g>\n   <g id=\"text_31\">\n    <!-- pencil -->\n    <g transform=\"translate(92.084335 267.017341)scale(0.1 -0.1)\">\n     <use xlink:href=\"#DejaVuSans-112\"/>\n     <use x=\"63.476562\" xlink:href=\"#DejaVuSans-101\"/>\n     <use x=\"125\" xlink:href=\"#DejaVuSans-110\"/>\n     <use x=\"188.378906\" xlink:href=\"#DejaVuSans-99\"/>\n     <use x=\"243.359375\" xlink:href=\"#DejaVuSans-105\"/>\n     <use x=\"271.142578\" xlink:href=\"#DejaVuSans-108\"/>\n    </g>\n   </g>\n   <g id=\"text_32\">\n    <!-- table -->\n    <g transform=\"translate(35.372538 177.178488)scale(0.1 -0.1)\">\n     <use xlink:href=\"#DejaVuSans-116\"/>\n     <use x=\"39.208984\" xlink:href=\"#DejaVuSans-97\"/>\n     <use x=\"100.488281\" xlink:href=\"#DejaVuSans-98\"/>\n     <use x=\"163.964844\" xlink:href=\"#DejaVuSans-108\"/>\n     <use x=\"191.748047\" xlink:href=\"#DejaVuSans-101\"/>\n    </g>\n   </g>\n   <g id=\"text_33\">\n    <!-- sock -->\n    <g transform=\"translate(238.233604 222.384917)scale(0.1 -0.1)\">\n     <use xlink:href=\"#DejaVuSans-115\"/>\n     <use x=\"52.099609\" xlink:href=\"#DejaVuSans-111\"/>\n     <use x=\"113.28125\" xlink:href=\"#DejaVuSans-99\"/>\n     <use x=\"168.261719\" xlink:href=\"#DejaVuSans-107\"/>\n    </g>\n   </g>\n   <g id=\"text_34\">\n    <!-- floor -->\n    <g transform=\"translate(126.925888 144.07316)scale(0.1 -0.1)\">\n     <use xlink:href=\"#DejaVuSans-102\"/>\n     <use x=\"35.205078\" xlink:href=\"#DejaVuSans-108\"/>\n     <use x=\"62.988281\" xlink:href=\"#DejaVuSans-111\"/>\n     <use x=\"124.169922\" xlink:href=\"#DejaVuSans-111\"/>\n     <use x=\"185.351562\" xlink:href=\"#DejaVuSans-114\"/>\n    </g>\n   </g>\n   <g id=\"text_35\">\n    <!-- wall -->\n    <g transform=\"translate(109.564086 200.635077)scale(0.1 -0.1)\">\n     <use xlink:href=\"#DejaVuSans-119\"/>\n     <use x=\"81.787109\" xlink:href=\"#DejaVuSans-97\"/>\n     <use x=\"143.066406\" xlink:href=\"#DejaVuSans-108\"/>\n     <use x=\"170.849609\" xlink:href=\"#DejaVuSans-108\"/>\n    </g>\n   </g>\n  </g>\n </g>\n <defs>\n  <clipPath id=\"pff4f05596d\">\n   <rect height=\"434.88\" width=\"558\" x=\"7.2\" y=\"7.2\"/>\n  </clipPath>\n </defs>\n</svg>\n"
          },
          "metadata": {
            "tags": []
          }
        }
      ]
    },
    {
      "cell_type": "code",
      "metadata": {
        "id": "oJK7FmYzWwLc",
        "colab_type": "code",
        "colab": {
          "base_uri": "https://localhost:8080/",
          "height": 83
        },
        "outputId": "c547fa4e-84b8-47ab-8b17-7d9597c983f5"
      },
      "source": [
        "import tensorflow as tf\n",
        "import tensorboard as tb\n",
        "tf.io.gfile = tb.compat.tensorflow_stub.io.gfile\n",
        "\n",
        "tbc = TensorBoardColab()\n",
        "\n",
        "vectors = glove_vectors.query(ANIMALS + HOUSEHOLD_OBJECTS)\n",
        "with SummaryWriter(log_dir='Graph/') as writer:\n",
        "  writer.add_embedding(mat=vectors, metadata=ANIMALS+HOUSEHOLD_OBJECTS)"
      ],
      "execution_count": 72,
      "outputs": [
        {
          "output_type": "stream",
          "text": [
            "Wait for 8 seconds...\n",
            "TensorBoard link:\n",
            "http://22dff5c4.ngrok.io\n"
          ],
          "name": "stdout"
        }
      ]
    },
    {
      "cell_type": "code",
      "metadata": {
        "id": "_HAs7svXWwbl",
        "colab_type": "code",
        "colab": {
          "base_uri": "https://localhost:8080/",
          "height": 74
        },
        "outputId": "7b92a496-48ec-4820-ef39-61dcfd3c5094"
      },
      "source": [
        "# %tensorboard --logdir=Graph/\n",
        "%reload_ext tensorboard\n",
        "%tensorboard --logdir=Graph/"
      ],
      "execution_count": 76,
      "outputs": [
        {
          "output_type": "display_data",
          "data": {
            "text/plain": [
              "Reusing TensorBoard on port 6007 (pid 1950), started 0:00:16 ago. (Use '!kill 1950' to kill it.)"
            ]
          },
          "metadata": {
            "tags": []
          }
        },
        {
          "output_type": "display_data",
          "data": {
            "text/html": [
              "\n",
              "    <div id=\"root\"></div>\n",
              "    <script>\n",
              "      (function() {\n",
              "        window.TENSORBOARD_ENV = window.TENSORBOARD_ENV || {};\n",
              "        window.TENSORBOARD_ENV[\"IN_COLAB\"] = true;\n",
              "        document.querySelector(\"base\").href = \"https://localhost:6007\";\n",
              "        function fixUpTensorboard(root) {\n",
              "          const tftb = root.querySelector(\"tf-tensorboard\");\n",
              "          // Disable the fragment manipulation behavior in Colab. Not\n",
              "          // only is the behavior not useful (as the iframe's location\n",
              "          // is not visible to the user), it causes TensorBoard's usage\n",
              "          // of `window.replace` to navigate away from the page and to\n",
              "          // the `localhost:<port>` URL specified by the base URI, which\n",
              "          // in turn causes the frame to (likely) crash.\n",
              "          tftb.removeAttribute(\"use-hash\");\n",
              "        }\n",
              "        function executeAllScripts(root) {\n",
              "          // When `script` elements are inserted into the DOM by\n",
              "          // assigning to an element's `innerHTML`, the scripts are not\n",
              "          // executed. Thus, we manually re-insert these scripts so that\n",
              "          // TensorBoard can initialize itself.\n",
              "          for (const script of root.querySelectorAll(\"script\")) {\n",
              "            const newScript = document.createElement(\"script\");\n",
              "            newScript.type = script.type;\n",
              "            newScript.textContent = script.textContent;\n",
              "            root.appendChild(newScript);\n",
              "            script.remove();\n",
              "          }\n",
              "        }\n",
              "        function setHeight(root, height) {\n",
              "          // We set the height dynamically after the TensorBoard UI has\n",
              "          // been initialized. This avoids an intermediate state in\n",
              "          // which the container plus the UI become taller than the\n",
              "          // final width and cause the Colab output frame to be\n",
              "          // permanently resized, eventually leading to an empty\n",
              "          // vertical gap below the TensorBoard UI. It's not clear\n",
              "          // exactly what causes this problematic intermediate state,\n",
              "          // but setting the height late seems to fix it.\n",
              "          root.style.height = `${height}px`;\n",
              "        }\n",
              "        const root = document.getElementById(\"root\");\n",
              "        fetch(\".\")\n",
              "          .then((x) => x.text())\n",
              "          .then((html) => void (root.innerHTML = html))\n",
              "          .then(() => fixUpTensorboard(root))\n",
              "          .then(() => executeAllScripts(root))\n",
              "          .then(() => setHeight(root, 800));\n",
              "      })();\n",
              "    </script>\n",
              "  "
            ],
            "text/plain": [
              "<IPython.core.display.HTML object>"
            ]
          },
          "metadata": {
            "tags": []
          }
        }
      ]
    },
    {
      "cell_type": "code",
      "metadata": {
        "id": "PU7XGdlGWwj0",
        "colab_type": "code",
        "colab": {
          "base_uri": "https://localhost:8080/",
          "height": 344
        },
        "outputId": "eaf461b8-c031-4013-a461-91a3303b87c8"
      },
      "source": [
        "!pip install gin-config==0.1.1 "
      ],
      "execution_count": 65,
      "outputs": [
        {
          "output_type": "stream",
          "text": [
            "Collecting gin-config==0.1.1\n",
            "\u001b[?25l  Downloading https://files.pythonhosted.org/packages/4d/db/7ca7cfe09126c5f76505d6ee4b740834bfb5b16be9cf7f29d9bc8426d631/gin-config-0.1.1.tar.gz (40kB)\n",
            "\r\u001b[K     |████████▏                       | 10kB 16.8MB/s eta 0:00:01\r\u001b[K     |████████████████▎               | 20kB 2.2MB/s eta 0:00:01\r\u001b[K     |████████████████████████▍       | 30kB 3.2MB/s eta 0:00:01\r\u001b[K     |████████████████████████████████| 40kB 2.8MB/s \n",
            "\u001b[?25hRequirement already satisfied: six>=1.10.0 in /usr/local/lib/python3.6/dist-packages (from gin-config==0.1.1) (1.14.0)\n",
            "Building wheels for collected packages: gin-config\n",
            "  Building wheel for gin-config (setup.py) ... \u001b[?25l\u001b[?25hdone\n",
            "  Created wheel for gin-config: filename=gin_config-0.1.1-cp36-none-any.whl size=38331 sha256=63c6754e31c059ec8aab8d8e13f69834af1c817677b55fd0b22fedfc360b1e00\n",
            "  Stored in directory: /root/.cache/pip/wheels/65/92/44/869d6c5d448044e10b0a68edaadec2bb21339c47362c2e8bcb\n",
            "Successfully built gin-config\n",
            "Installing collected packages: gin-config\n",
            "  Found existing installation: gin-config 0.3.0\n",
            "    Uninstalling gin-config-0.3.0:\n",
            "      Successfully uninstalled gin-config-0.3.0\n",
            "Successfully installed gin-config-0.1.1\n"
          ],
          "name": "stdout"
        }
      ]
    },
    {
      "cell_type": "code",
      "metadata": {
        "id": "XJr0AcOXWwo3",
        "colab_type": "code",
        "colab": {
          "base_uri": "https://localhost:8080/",
          "height": 327
        },
        "outputId": "fe42679a-dfd6-4c99-f194-b6c1669b8324"
      },
      "source": [
        "!pip install tensorboardcolab==0.0.11"
      ],
      "execution_count": 70,
      "outputs": [
        {
          "output_type": "stream",
          "text": [
            "Collecting tensorboardcolab==0.0.11\n",
            "  Downloading https://files.pythonhosted.org/packages/a0/cc/4b25cb5aebd39de9e31bee54c3e750d40ffc6c4f8833db88f9a8b57da9f7/tensorboardcolab-0.0.11.tar.gz\n",
            "Building wheels for collected packages: tensorboardcolab\n",
            "  Building wheel for tensorboardcolab (setup.py) ... \u001b[?25l\u001b[?25hdone\n",
            "  Created wheel for tensorboardcolab: filename=tensorboardcolab-0.0.11-cp36-none-any.whl size=3397 sha256=46d2c38cbb3050f1de44493bcfb68dde82d7ed6b9fc10d064accf9b433cb8e6c\n",
            "  Stored in directory: /root/.cache/pip/wheels/08/5c/77/b460d62566770e9dcff502e2d6a4747b664ec482693752e4fe\n",
            "Successfully built tensorboardcolab\n",
            "Installing collected packages: tensorboardcolab\n",
            "  Found existing installation: tensorboardcolab 0.0.22\n",
            "    Uninstalling tensorboardcolab-0.0.22:\n",
            "      Successfully uninstalled tensorboardcolab-0.0.22\n",
            "Successfully installed tensorboardcolab-0.0.11\n"
          ],
          "name": "stdout"
        },
        {
          "output_type": "display_data",
          "data": {
            "application/vnd.colab-display-data+json": {
              "pip_warning": {
                "packages": [
                  "tensorboardcolab"
                ]
              }
            }
          },
          "metadata": {
            "tags": []
          }
        }
      ]
    },
    {
      "cell_type": "code",
      "metadata": {
        "id": "dIX292icWwvA",
        "colab_type": "code",
        "colab": {}
      },
      "source": [
        ""
      ],
      "execution_count": 0,
      "outputs": []
    },
    {
      "cell_type": "code",
      "metadata": {
        "id": "zRXFGgU7Ww2z",
        "colab_type": "code",
        "colab": {}
      },
      "source": [
        ""
      ],
      "execution_count": 0,
      "outputs": []
    },
    {
      "cell_type": "markdown",
      "metadata": {
        "id": "iZ3XqvsiN8Fb",
        "colab_type": "text"
      },
      "source": [
        "[-] Magnitude library  \n",
        "[-] "
      ]
    }
  ]
}