{
  "nbformat": 4,
  "nbformat_minor": 0,
  "metadata": {
    "colab": {
      "name": "pytorch-nlp_1_BoW_text_classification.ipynb",
      "provenance": [],
      "collapsed_sections": []
    },
    "kernelspec": {
      "name": "python3",
      "display_name": "Python 3"
    },
    "accelerator": "GPU",
    "widgets": {
      "application/vnd.jupyter.widget-state+json": {
        "a2ae847ad87e41ea8f3e700c76d315fb": {
          "model_module": "@jupyter-widgets/controls",
          "model_name": "HBoxModel",
          "state": {
            "_view_name": "HBoxView",
            "_dom_classes": [],
            "_model_name": "HBoxModel",
            "_view_module": "@jupyter-widgets/controls",
            "_model_module_version": "1.5.0",
            "_view_count": null,
            "_view_module_version": "1.5.0",
            "box_style": "",
            "layout": "IPY_MODEL_edcf9ac2eace4ca7aeacde86ba89b32e",
            "_model_module": "@jupyter-widgets/controls",
            "children": [
              "IPY_MODEL_7682c9f001204b7c8bcdd22c4c0473a5",
              "IPY_MODEL_633e52f4bf5649e08c50074875220e05"
            ]
          }
        },
        "6d08d3e4146d4703a8d78afc5028baee": {
          "model_module": "@jupyter-widgets/controls",
          "model_name": "HBoxModel",
          "state": {
            "_view_name": "HBoxView",
            "_dom_classes": [],
            "_model_name": "HBoxModel",
            "_view_module": "@jupyter-widgets/controls",
            "_model_module_version": "1.5.0",
            "_view_count": null,
            "_view_module_version": "1.5.0",
            "box_style": "",
            "layout": "IPY_MODEL_d40efc39abe14d90aa98b7d2a22711e1",
            "_model_module": "@jupyter-widgets/controls",
            "children": [
              "IPY_MODEL_4003a47962e3408a84709930818554a7",
              "IPY_MODEL_a6a7ac3e1f544339ac66462c2b4bab25"
            ]
          }
        },
        "5c6b2e33611b4462863523374b13d186": {
          "model_module": "@jupyter-widgets/controls",
          "model_name": "HBoxModel",
          "state": {
            "_view_name": "HBoxView",
            "_dom_classes": [],
            "_model_name": "HBoxModel",
            "_view_module": "@jupyter-widgets/controls",
            "_model_module_version": "1.5.0",
            "_view_count": null,
            "_view_module_version": "1.5.0",
            "box_style": "",
            "layout": "IPY_MODEL_a2befdc39ed241568f75c1ae914659bc",
            "_model_module": "@jupyter-widgets/controls",
            "children": [
              "IPY_MODEL_0eea3786bd614fd88ef9f6faa098c007",
              "IPY_MODEL_0278290797474355b8b6129f2653182d"
            ]
          }
        }
      }
    }
  },
  "cells": [
    {
      "cell_type": "code",
      "metadata": {
        "id": "skM8D6KNW_-S",
        "colab_type": "code",
        "colab": {}
      },
      "source": [
        "from pathlib import Path\n",
        "\n",
        "import pandas as pd\n",
        "import torch\n",
        "import torch.nn.functional as F\n",
        "import torch.nn as nn\n",
        "import torch.optim as optim\n",
        "from google_drive_downloader import GoogleDriveDownloader as gdd\n",
        "from torch.utils.data import DataLoader, Dataset\n",
        "from sklearn.feature_extraction.text import CountVectorizer\n",
        "from tqdm import tqdm, tqdm_notebook"
      ],
      "execution_count": 0,
      "outputs": []
    },
    {
      "cell_type": "code",
      "metadata": {
        "id": "arPLbdVXYN-o",
        "colab_type": "code",
        "colab": {
          "base_uri": "https://localhost:8080/",
          "height": 34
        },
        "outputId": "8991a611-7184-43ae-c970-7d74d3850589"
      },
      "source": [
        "device = torch.device('cuda' if torch.cuda.is_available() else 'cpu')\n",
        "device"
      ],
      "execution_count": 2,
      "outputs": [
        {
          "output_type": "execute_result",
          "data": {
            "text/plain": [
              "device(type='cuda')"
            ]
          },
          "metadata": {
            "tags": []
          },
          "execution_count": 2
        }
      ]
    },
    {
      "cell_type": "code",
      "metadata": {
        "id": "UGKoe86uYgBP",
        "colab_type": "code",
        "colab": {
          "base_uri": "https://localhost:8080/",
          "height": 114
        },
        "outputId": "9a83da77-5016-4195-ff75-64580d739cdc"
      },
      "source": [
        "DATA_PATH = 'data/imdb_reviews.csv'\n",
        "if not Path(DATA_PATH).is_file():\n",
        "  gdd.download_file_from_google_drive(\n",
        "      file_id='1zfM5E6HvKIe7f3rEt1V2gBpw5QOSSKQz',\n",
        "      dest_path = DATA_PATH,\n",
        "  )"
      ],
      "execution_count": 3,
      "outputs": [
        {
          "output_type": "stream",
          "text": [
            "Downloading 1zfM5E6HvKIe7f3rEt1V2gBpw5QOSSKQz into data/imdb_reviews.csv... Done.\n"
          ],
          "name": "stdout"
        }
      ]
    },
    {
      "cell_type": "code",
      "metadata": {
        "id": "u-4mw4aPY4cr",
        "colab_type": "code",
        "colab": {
          "base_uri": "https://localhost:8080/",
          "height": 204
        },
        "outputId": "f0523843-9053-4e76-8429-af54c9e8eeff"
      },
      "source": [
        "# View some example records\n",
        "pd.read_csv(DATA_PATH).sample(5)"
      ],
      "execution_count": 6,
      "outputs": [
        {
          "output_type": "execute_result",
          "data": {
            "text/html": [
              "<div>\n",
              "<style scoped>\n",
              "    .dataframe tbody tr th:only-of-type {\n",
              "        vertical-align: middle;\n",
              "    }\n",
              "\n",
              "    .dataframe tbody tr th {\n",
              "        vertical-align: top;\n",
              "    }\n",
              "\n",
              "    .dataframe thead th {\n",
              "        text-align: right;\n",
              "    }\n",
              "</style>\n",
              "<table border=\"1\" class=\"dataframe\">\n",
              "  <thead>\n",
              "    <tr style=\"text-align: right;\">\n",
              "      <th></th>\n",
              "      <th>review</th>\n",
              "      <th>label</th>\n",
              "    </tr>\n",
              "  </thead>\n",
              "  <tbody>\n",
              "    <tr>\n",
              "      <th>1208</th>\n",
              "      <td>Very odd, this seems like a very average movie...</td>\n",
              "      <td>0</td>\n",
              "    </tr>\n",
              "    <tr>\n",
              "      <th>4815</th>\n",
              "      <td>I am not afraid of bad movies. I like bad movi...</td>\n",
              "      <td>0</td>\n",
              "    </tr>\n",
              "    <tr>\n",
              "      <th>51150</th>\n",
              "      <td>...though for a film that seems to be trying t...</td>\n",
              "      <td>0</td>\n",
              "    </tr>\n",
              "    <tr>\n",
              "      <th>48832</th>\n",
              "      <td>I've seen this film criticized with the statem...</td>\n",
              "      <td>1</td>\n",
              "    </tr>\n",
              "    <tr>\n",
              "      <th>18263</th>\n",
              "      <td>I've seen the 1973 movie Lost Horizons and rea...</td>\n",
              "      <td>1</td>\n",
              "    </tr>\n",
              "  </tbody>\n",
              "</table>\n",
              "</div>"
            ],
            "text/plain": [
              "                                                  review  label\n",
              "1208   Very odd, this seems like a very average movie...      0\n",
              "4815   I am not afraid of bad movies. I like bad movi...      0\n",
              "51150  ...though for a film that seems to be trying t...      0\n",
              "48832  I've seen this film criticized with the statem...      1\n",
              "18263  I've seen the 1973 movie Lost Horizons and rea...      1"
            ]
          },
          "metadata": {
            "tags": []
          },
          "execution_count": 6
        }
      ]
    },
    {
      "cell_type": "code",
      "metadata": {
        "id": "J0VM8rJMeQuP",
        "colab_type": "code",
        "colab": {
          "base_uri": "https://localhost:8080/",
          "height": 34
        },
        "outputId": "3fcff041-4682-48d0-f6e2-364a720adc65"
      },
      "source": [
        "len(pd.read_csv(DATA_PATH).iloc[0, 0].split())"
      ],
      "execution_count": 23,
      "outputs": [
        {
          "output_type": "execute_result",
          "data": {
            "text/plain": [
              "168"
            ]
          },
          "metadata": {
            "tags": []
          },
          "execution_count": 23
        }
      ]
    },
    {
      "cell_type": "code",
      "metadata": {
        "id": "g7HbSgRaZcWr",
        "colab_type": "code",
        "colab": {}
      },
      "source": [
        "class Sequences(Dataset):\n",
        "  def __init__(self, path):\n",
        "    df = pd.read_csv(path)\n",
        "    self.vectorizer = CountVectorizer(stop_words='english', max_df=0.99, min_df=0.005)\n",
        "    self.sequences = self.vectorizer.fit_transform(df.review.tolist())\n",
        "    self.labels = df.label.tolist()\n",
        "    self.token2idx = self.vectorizer.vocabulary_\n",
        "    self.idx2token = {idx: token for token, idx in self.token2idx.items()}\n",
        "  \n",
        "  def __getitem__(self, i):\n",
        "    return self.sequences[i, :].toarray(), self.labels[i]\n",
        "\n",
        "  def __len__(self):\n",
        "    return self.sequences.shape[0]"
      ],
      "execution_count": 0,
      "outputs": []
    },
    {
      "cell_type": "code",
      "metadata": {
        "id": "uB5NfnbecRN-",
        "colab_type": "code",
        "colab": {
          "base_uri": "https://localhost:8080/",
          "height": 34
        },
        "outputId": "b55ed0db-3e75-4a3b-879e-02de1f77dac6"
      },
      "source": [
        "dataset = Sequences(DATA_PATH)\n",
        "train_loader = DataLoader(dataset, batch_size=4096)\n",
        "\n",
        "print(dataset[5][0].shape)"
      ],
      "execution_count": 64,
      "outputs": [
        {
          "output_type": "stream",
          "text": [
            "(1, 3028)\n"
          ],
          "name": "stdout"
        }
      ]
    },
    {
      "cell_type": "code",
      "metadata": {
        "id": "zzjTmdNmc0_i",
        "colab_type": "code",
        "colab": {}
      },
      "source": [
        "class BagOfWordsClassifier(nn.Module):\n",
        "  def __init__(self, vocab_size, hidden1, hidden2):\n",
        "    super(BagOfWordsClassifier, self).__init__()\n",
        "    self.fc1 = nn.Linear(vocab_size, hidden1)\n",
        "    self.fc2 = nn.Linear(hidden1, hidden2)\n",
        "    self.fc3 = nn.Linear(hidden2, 1)\n",
        "    \n",
        "  def forward(self, inputs):\n",
        "    x = F.relu(self.fc1(inputs.squeeze(1).float()))\n",
        "    x = F.relu(self.fc2(x))\n",
        "    return self.fc3(x)"
      ],
      "execution_count": 0,
      "outputs": []
    },
    {
      "cell_type": "code",
      "metadata": {
        "id": "fSMLj1eNf-AS",
        "colab_type": "code",
        "colab": {
          "base_uri": "https://localhost:8080/",
          "height": 102
        },
        "outputId": "d809e59d-b055-4431-f090-1ecdc68d762b"
      },
      "source": [
        "model = BagOfWordsClassifier(len(dataset.token2idx), 128, 64)\n",
        "model"
      ],
      "execution_count": 58,
      "outputs": [
        {
          "output_type": "execute_result",
          "data": {
            "text/plain": [
              "BagOfWordsClassifier(\n",
              "  (fc1): Linear(in_features=3028, out_features=128, bias=True)\n",
              "  (fc2): Linear(in_features=128, out_features=64, bias=True)\n",
              "  (fc3): Linear(in_features=64, out_features=1, bias=True)\n",
              ")"
            ]
          },
          "metadata": {
            "tags": []
          },
          "execution_count": 58
        }
      ]
    },
    {
      "cell_type": "code",
      "metadata": {
        "id": "SUuSGUqtgPnC",
        "colab_type": "code",
        "colab": {}
      },
      "source": [
        "criterion = nn.BCEWithLogitsLoss()\n",
        "optimizer = optim.Adam([p for p in model.parameters() if p.requires_grad], lr=0.001)"
      ],
      "execution_count": 0,
      "outputs": []
    },
    {
      "cell_type": "code",
      "metadata": {
        "id": "AzC8ps6FgV9F",
        "colab_type": "code",
        "colab": {
          "base_uri": "https://localhost:8080/",
          "height": 119
        },
        "outputId": "306de33f-72d5-4786-91a9-42a27bf39c58"
      },
      "source": [
        "for p in model.parameters():\n",
        "  if p.requires_grad:\n",
        "    print(p.shape)"
      ],
      "execution_count": 60,
      "outputs": [
        {
          "output_type": "stream",
          "text": [
            "torch.Size([128, 3028])\n",
            "torch.Size([128])\n",
            "torch.Size([64, 128])\n",
            "torch.Size([64])\n",
            "torch.Size([1, 64])\n",
            "torch.Size([1])\n"
          ],
          "name": "stdout"
        }
      ]
    },
    {
      "cell_type": "code",
      "metadata": {
        "id": "ERCJ-PGAnzXm",
        "colab_type": "code",
        "colab": {
          "base_uri": "https://localhost:8080/",
          "height": 68,
          "referenced_widgets": [
            "a2ae847ad87e41ea8f3e700c76d315fb",
            "6d08d3e4146d4703a8d78afc5028baee",
            "5c6b2e33611b4462863523374b13d186"
          ]
        },
        "outputId": "c5a9e002-2e62-4aea-f50e-005e103a74d1"
      },
      "source": [
        "model.train()\n",
        "train_losses = []\n",
        "for epoch in range(3):\n",
        "  progress_bar = tqdm_notebook(train_loader, leave=False)\n",
        "  losses = []\n",
        "  total = 0\n",
        "  for inputs, target in progress_bar:\n",
        "    model.zero_grad()\n",
        "\n",
        "    output = model(inputs)\n",
        "    loss = criterion(output.squeeze(), target.float())\n",
        "\n",
        "    loss.backward()\n",
        "\n",
        "    nn.utils.clip_grad_norm_(model.parameters(), 3)\n",
        "    \n",
        "    optimizer.step()\n",
        "\n",
        "    progress_bar.set_description(f'Loss: {loss.item():.3f}')\n",
        "\n",
        "    losses.append(loss.item())\n",
        "    total += 1\n",
        "\n",
        "  epoch_loss = sum(losses) / total\n",
        "  train_losses.append(epoch_loss)\n",
        "\n",
        "  tqdm.write(f'Epoch #{epoch + 1}\\tTrain Loss: {epoch_loss:.3f}')\n",
        "\n"
      ],
      "execution_count": 61,
      "outputs": [
        {
          "output_type": "display_data",
          "data": {
            "application/vnd.jupyter.widget-view+json": {
              "model_id": "a2ae847ad87e41ea8f3e700c76d315fb",
              "version_minor": 0,
              "version_major": 2
            },
            "text/plain": [
              "HBox(children=(IntProgress(value=0, max=16), HTML(value='')))"
            ]
          },
          "metadata": {
            "tags": []
          }
        },
        {
          "output_type": "stream",
          "text": [
            "Epoch #1\tTrain Loss: 0.719\n"
          ],
          "name": "stdout"
        },
        {
          "output_type": "display_data",
          "data": {
            "application/vnd.jupyter.widget-view+json": {
              "model_id": "6d08d3e4146d4703a8d78afc5028baee",
              "version_minor": 0,
              "version_major": 2
            },
            "text/plain": [
              "HBox(children=(IntProgress(value=0, max=16), HTML(value='')))"
            ]
          },
          "metadata": {
            "tags": []
          }
        },
        {
          "output_type": "stream",
          "text": [
            "Epoch #2\tTrain Loss: 0.683\n"
          ],
          "name": "stdout"
        },
        {
          "output_type": "display_data",
          "data": {
            "application/vnd.jupyter.widget-view+json": {
              "model_id": "5c6b2e33611b4462863523374b13d186",
              "version_minor": 0,
              "version_major": 2
            },
            "text/plain": [
              "HBox(children=(IntProgress(value=0, max=16), HTML(value='')))"
            ]
          },
          "metadata": {
            "tags": []
          }
        },
        {
          "output_type": "stream",
          "text": [
            "Epoch #3\tTrain Loss: 0.663\n"
          ],
          "name": "stdout"
        }
      ]
    },
    {
      "cell_type": "code",
      "metadata": {
        "id": "XBJt0IVMn0e5",
        "colab_type": "code",
        "colab": {
          "base_uri": "https://localhost:8080/",
          "height": 68
        },
        "outputId": "26299c7a-7d1b-4cca-b595-62aee70eeb8e"
      },
      "source": [
        "model.train()\n",
        "train_losses = []\n",
        "for epoch in range(3):\n",
        "  losses = []\n",
        "  total = 0\n",
        "  for inputs, target in train_loader:\n",
        "    model.zero_grad()\n",
        "\n",
        "    output = model(inputs)\n",
        "    loss = criterion(output.squeeze(), target.float())\n",
        "\n",
        "    loss.backward()\n",
        "\n",
        "    # nn.utils.clip_grad_norm_(model.parameters(), 3)\n",
        "    \n",
        "    optimizer.step()\n",
        "\n",
        "    # progress_bar.set_description(f'Loss: {loss.item():.3f}')\n",
        "\n",
        "    losses.append(loss.item())\n",
        "    total += 1\n",
        "\n",
        "  epoch_loss = sum(losses) / total\n",
        "  train_losses.append(epoch_loss)\n",
        "\n",
        "  print(f'Epoch #{epoch + 1}\\tTrain Loss: {epoch_loss:.3f}')\n",
        "\n"
      ],
      "execution_count": 62,
      "outputs": [
        {
          "output_type": "stream",
          "text": [
            "Epoch #1\tTrain Loss: 0.609\n",
            "Epoch #2\tTrain Loss: 0.525\n",
            "Epoch #3\tTrain Loss: 0.441\n"
          ],
          "name": "stdout"
        }
      ]
    },
    {
      "cell_type": "code",
      "metadata": {
        "id": "AdXCeJdmz8mi",
        "colab_type": "code",
        "colab": {}
      },
      "source": [
        "def predict_sentiment(text):\n",
        "  model.eval()\n",
        "  with torch.no_grad():\n",
        "    test_vector = torch.LongTensor(dataset.vectorizer.transform([text]).toarray())\n",
        "\n",
        "    output = model(test_vector)\n",
        "    prediction = torch.sigmoid(output).item()\n",
        "\n",
        "    if prediction > 0.5:\n",
        "      print(f'{prediction:0.3}: Positive sentiment')\n",
        "    else:\n",
        "      print(f'{prediction:0.3}: Negative sentiment')"
      ],
      "execution_count": 0,
      "outputs": []
    },
    {
      "cell_type": "code",
      "metadata": {
        "id": "RpW9UYs_4CLP",
        "colab_type": "code",
        "colab": {
          "base_uri": "https://localhost:8080/",
          "height": 34
        },
        "outputId": "dc841f12-e97a-4aac-94ba-c8d592d97e73"
      },
      "source": [
        "test_text = \"\"\"\n",
        "This poor excuse for a movie is terrible. It has been 'so good it's bad' for a\n",
        "while, and the high ratings are a good form of sarcasm, I have to admit. But\n",
        "now it has to stop. \n",
        "\"\"\"\n",
        "predict_sentiment(test_text)"
      ],
      "execution_count": 69,
      "outputs": [
        {
          "output_type": "stream",
          "text": [
            "0.312: Negative sentiment\n"
          ],
          "name": "stdout"
        }
      ]
    },
    {
      "cell_type": "code",
      "metadata": {
        "id": "cnRH6RAk4FY_",
        "colab_type": "code",
        "colab": {
          "base_uri": "https://localhost:8080/",
          "height": 34
        },
        "outputId": "99392745-b07f-4c0c-de24-fc9ff0f79566"
      },
      "source": [
        "test_text = \"\"\"\n",
        "Cool Cat Saves The Kids is a symbolic masterpiece directed by Derek Savage that\n",
        "is not only satirical in the way it makes fun of the media and politics, but in\n",
        "the way in questions as how we humans live life and how society tells us to\n",
        "live life.\n",
        "\"\"\"\n",
        "predict_sentiment(test_text)"
      ],
      "execution_count": 70,
      "outputs": [
        {
          "output_type": "stream",
          "text": [
            "0.592: Positive sentiment\n"
          ],
          "name": "stdout"
        }
      ]
    },
    {
      "cell_type": "code",
      "metadata": {
        "id": "LAuO8Gg340tX",
        "colab_type": "code",
        "colab": {
          "base_uri": "https://localhost:8080/",
          "height": 34
        },
        "outputId": "1878b5bc-59e4-45d7-9e5e-18d8dbd09e15"
      },
      "source": [
        "test_text = \"\"\"\n",
        "Don't let any bullies out there try and shape your judgment on this gem of a\n",
        "title.\n",
        "\n",
        "Some people really don't have anything better to do, except trash a great movie\n",
        "with annoying 1-star votes and spread lies on the Internet about how \"dumb\"\n",
        "Cool Cat is.\n",
        "\n",
        "I wouldn't be surprised to learn if much of the unwarranted negativity hurled\n",
        "at this movie is coming from people who haven't even watched this movie for\n",
        "themselves in the first place. Those people are no worse than the Butch the\n",
        "Bully, the film's repulsive antagonist.\n",
        "\n",
        "As it just so happens, one of the main points of \"Cool Cat Saves the Kids\" is\n",
        "in addressing the attitudes of mean naysayers who try to demean others who\n",
        "strive to bring good attitudes and fun vibes into people's lives. The message\n",
        "to be learned here is that if one is friendly and good to others, the world is\n",
        "friendly and good to one in return, and that is cool. Conversely, if one is\n",
        "miserable and leaving 1-star votes on IMDb, one is alone and doesn't have any\n",
        "friends at all. Ain't that the truth?\n",
        "\n",
        "The world has uncovered a great, new, young filmmaking talent in \"Cool Cat\"\n",
        "creator Derek Savage, and I sure hope that this is only the first of many\n",
        "amazing films and stories that the world has yet to appreciate.\n",
        "\n",
        "If you are a cool person who likes to have lots of fun, I guarantee that this\n",
        "is a movie with charm that will uplift your spirits and reaffirm your positive\n",
        "attitudes towards life.\n",
        "\"\"\"\n",
        "predict_sentiment(test_text)"
      ],
      "execution_count": 71,
      "outputs": [
        {
          "output_type": "stream",
          "text": [
            "0.771: Positive sentiment\n"
          ],
          "name": "stdout"
        }
      ]
    },
    {
      "cell_type": "code",
      "metadata": {
        "id": "heoVO9FC45N8",
        "colab_type": "code",
        "colab": {}
      },
      "source": [
        ""
      ],
      "execution_count": 0,
      "outputs": []
    },
    {
      "cell_type": "markdown",
      "metadata": {
        "id": "VfCQDK325J54",
        "colab_type": "text"
      },
      "source": [
        "[-] sparse matrix CSR from  \n",
        "[-] trainig 5 steps  \n",
        "[-] nn.utils.clip_grad_norm_(model.parameters(), 3)  \n"
      ]
    }
  ]
}