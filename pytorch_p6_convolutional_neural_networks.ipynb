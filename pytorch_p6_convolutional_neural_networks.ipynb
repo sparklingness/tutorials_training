{
 "cells": [
  {
   "cell_type": "code",
   "execution_count": 2,
   "metadata": {
    "colab": {
     "base_uri": "https://localhost:8080/",
     "height": 416
    },
    "colab_type": "code",
    "id": "fk-7uJ6WPPVN",
    "outputId": "ea0d33ba-ab7b-4476-8a73-ed51380c93e7"
   },
   "outputs": [
    {
     "name": "stdout",
     "output_type": "stream",
     "text": [
      "Requirement already satisfied: opencv-python in /usr/local/anaconda3/lib/python3.6/site-packages (3.4.3.18)\n",
      "Requirement already satisfied: numpy in /usr/local/anaconda3/lib/python3.6/site-packages (1.14.2)\n",
      "Requirement already satisfied: tqdm in /usr/local/anaconda3/lib/python3.6/site-packages (4.26.0)\n",
      "Requirement already satisfied: matplotlib in /usr/local/anaconda3/lib/python3.6/site-packages (2.1.2)\n",
      "Requirement already satisfied: six>=1.10 in /usr/local/anaconda3/lib/python3.6/site-packages (from matplotlib) (1.11.0)\n",
      "Requirement already satisfied: python-dateutil>=2.1 in /usr/local/anaconda3/lib/python3.6/site-packages (from matplotlib) (2.6.1)\n",
      "Requirement already satisfied: pytz in /usr/local/anaconda3/lib/python3.6/site-packages (from matplotlib) (2018.5)\n",
      "Requirement already satisfied: cycler>=0.10 in /usr/local/anaconda3/lib/python3.6/site-packages (from matplotlib) (0.10.0)\n",
      "Requirement already satisfied: pyparsing!=2.0.4,!=2.1.2,!=2.1.6,>=2.0.1 in /usr/local/anaconda3/lib/python3.6/site-packages (from matplotlib) (2.2.0)\n"
     ]
    }
   ],
   "source": [
    "! pip install opencv-python numpy tqdm matplotlib"
   ]
  },
  {
   "cell_type": "code",
   "execution_count": 3,
   "metadata": {
    "colab": {},
    "colab_type": "code",
    "id": "Rp7VB45tj7ch"
   },
   "outputs": [],
   "source": [
    "import os\n",
    "import cv2\n",
    "import numpy as np\n",
    "from tqdm import tqdm"
   ]
  },
  {
   "cell_type": "code",
   "execution_count": 4,
   "metadata": {
    "colab": {},
    "colab_type": "code",
    "id": "wlR0jBFlkAUS"
   },
   "outputs": [],
   "source": [
    "REBUILD_DATA = False\n",
    "\n",
    "class DogsVSCats():\n",
    "    IMG_SIZE = 50\n",
    "    CATS = \"PetImages/Cat\"\n",
    "    DOGS = \"PetImages/Dog\"\n",
    "    TESTING = \"PetImages/Testing\"\n",
    "    LABELS = {CATS: 0, DOGS: 1}\n",
    "    training_data = []\n",
    "\n",
    "    catcount = 0\n",
    "    dogcount = 0\n",
    "\n",
    "    def make_training_data(self):\n",
    "        for label in self.LABELS:\n",
    "            print(label)\n",
    "            for f in tqdm(os.listdir(label)):\n",
    "                #print(f)\n",
    "                if \"jpg\" in f:\n",
    "                    try:\n",
    "                        path = os.path.join(label, f)\n",
    "                        img = cv2.imread(path, cv2.IMREAD_GRAYSCALE)\n",
    "                        img = cv2.resize(img, (self.IMG_SIZE, self.IMG_SIZE))\n",
    "                        self.training_data.append([np.array(img), np.eye(2)[self.LABELS[label]]])\n",
    "                        \n",
    "                        if label == self.CATS:\n",
    "                            self.catcount += 1\n",
    "                        elif label == self.DOGS:\n",
    "                            self.dogcount += 1\n",
    "                    except Exception as e:\n",
    "                        print(label, f, str(e))\n",
    "                        pass\n",
    "        np.random.shuffle(self.training_data)\n",
    "        np.save(\"training_data.npy\", self.training_data)\n",
    "        print('Cats:', dogsvcats.catcount, self.catcount)\n",
    "        print('Dogs:', dogsvcats.dogcount, self.dogcount)\n",
    "        \n",
    "if REBUILD_DATA:\n",
    "    dogsvcats = DogsVSCats()\n",
    "    dogsvcats.make_training_data()\n"
   ]
  },
  {
   "cell_type": "markdown",
   "metadata": {
    "colab_type": "text",
    "id": "cbHRwwE-or5g"
   },
   "source": []
  },
  {
   "cell_type": "code",
   "execution_count": 5,
   "metadata": {
    "colab": {
     "base_uri": "https://localhost:8080/",
     "height": 324
    },
    "colab_type": "code",
    "id": "axKxYwP6kfMY",
    "outputId": "821b4d53-fc12-47f0-9936-af0bc20d2688"
   },
   "outputs": [
    {
     "name": "stdout",
     "output_type": "stream",
     "text": [
      "24946\n"
     ]
    }
   ],
   "source": [
    "training_data = np.load(\"training_data.npy\", allow_pickle=True)\n",
    "print(len(training_data))"
   ]
  },
  {
   "cell_type": "code",
   "execution_count": 6,
   "metadata": {
    "colab": {
     "base_uri": "https://localhost:8080/",
     "height": 324
    },
    "colab_type": "code",
    "id": "__cgmFfxnMvC",
    "outputId": "551001c0-a489-44a6-e628-75f1b1827460"
   },
   "outputs": [],
   "source": [
    "import torch\n",
    "\n",
    "X = torch.Tensor([i[0] for i in training_data]).view(-1, 50, 50)\n",
    "X = X/255.0\n",
    "y = torch.Tensor([i[1] for i in training_data])"
   ]
  },
  {
   "cell_type": "code",
   "execution_count": 7,
   "metadata": {
    "colab": {
     "base_uri": "https://localhost:8080/",
     "height": 119
    },
    "colab_type": "code",
    "id": "qGFvvKl8nRa6",
    "outputId": "8a864cf4-18c0-401f-ac66-194f4812e0a2"
   },
   "outputs": [
    {
     "data": {
      "text/plain": [
       "<matplotlib.figure.Figure at 0x11a730fd0>"
      ]
     },
     "metadata": {},
     "output_type": "display_data"
    }
   ],
   "source": [
    "import matplotlib.pyplot as plt\n",
    "\n",
    "plt.imshow(X[0], cmap=\"gray\")\n",
    "plt.show()"
   ]
  },
  {
   "cell_type": "code",
   "execution_count": 8,
   "metadata": {},
   "outputs": [
    {
     "name": "stdout",
     "output_type": "stream",
     "text": [
      "tensor([1., 0.])\n"
     ]
    }
   ],
   "source": [
    "print(y[0])"
   ]
  },
  {
   "cell_type": "code",
   "execution_count": 10,
   "metadata": {},
   "outputs": [
    {
     "data": {
      "text/plain": [
       "torch.Size([24946, 50, 50])"
      ]
     },
     "execution_count": 10,
     "metadata": {},
     "output_type": "execute_result"
    }
   ],
   "source": [
    "X.shape"
   ]
  },
  {
   "cell_type": "code",
   "execution_count": 9,
   "metadata": {
    "colab": {},
    "colab_type": "code",
    "id": "1H_F0GWBnkCU"
   },
   "outputs": [],
   "source": [
    "import torch\n",
    "import torch.nn as nn\n",
    "import torch.nn.functional as F"
   ]
  },
  {
   "cell_type": "code",
   "execution_count": 29,
   "metadata": {},
   "outputs": [
    {
     "name": "stdout",
     "output_type": "stream",
     "text": [
      "__init__()\n",
      "Conv2d(1, 32, kernel_size=(5, 5), stride=(1, 1)) Conv2d(32, 64, kernel_size=(5, 5), stride=(1, 1)) Conv2d(64, 128, kernel_size=(5, 5), stride=(1, 1))\n",
      "convs()\n",
      "128 2 2\n",
      "Net(\n",
      "  (conv1): Conv2d(1, 32, kernel_size=(5, 5), stride=(1, 1))\n",
      "  (conv2): Conv2d(32, 64, kernel_size=(5, 5), stride=(1, 1))\n",
      "  (conv3): Conv2d(64, 128, kernel_size=(5, 5), stride=(1, 1))\n",
      "  (fc1): Linear(in_features=512, out_features=512, bias=True)\n",
      "  (fc2): Linear(in_features=512, out_features=2, bias=True)\n",
      ")\n"
     ]
    }
   ],
   "source": [
    "class Net(nn.Module):\n",
    "    def __init__(self):\n",
    "        print(\"__init__()\")\n",
    "        super().__init__() \n",
    "        self.conv1 = nn.Conv2d(1, 32, 5)\n",
    "        self.conv2 = nn.Conv2d(32, 64, 5)\n",
    "        self.conv3 = nn.Conv2d(64, 128, 5)\n",
    "        print(self.conv1, self.conv2, self.conv3)\n",
    "        \n",
    "        x = torch.randn(50, 50).view(-1, 1, 50, 50)\n",
    "        self._to_linear = None\n",
    "        self.convs(x)\n",
    "        \n",
    "        self.fc1 = nn.Linear(self._to_linear, 512)\n",
    "        self.fc2 = nn.Linear(512, 2)\n",
    "        \n",
    "    def convs(self, x):\n",
    "        print(\"convs()\")\n",
    "        #print(\"x0:\", x[0].shape) # x0: torch.Size([1, 50, 50])\n",
    "        x = F.max_pool2d(F.relu(self.conv1(x)), (2, 2))\n",
    "        #print(\"x1:\", x[0].shape)  # x1: torch.Size([32, 23, 23])\n",
    "        x = F.max_pool2d(F.relu(self.conv2(x)), (2, 2))\n",
    "        #print(\"x2:\", x[0].shape) # x2: torch.Size([64, 9, 9])\n",
    "        x = F.max_pool2d(F.relu(self.conv3(x)), (2, 2))\n",
    "        #print(\"x3:\", x[0].shape) # x3: torch.Size([128, 2, 2])\n",
    "        \n",
    "        if self._to_linear is None:\n",
    "            print( x[0].shape[0], x[0].shape[1], x[0].shape[2])\n",
    "            self._to_linear = x[0].shape[0]*x[0].shape[1]*x[0].shape[2]\n",
    "        return x\n",
    "            \n",
    "    def forward(self, x):\n",
    "        print(\"forward()\")\n",
    "        x = self.convs(x)\n",
    "        x = x.view(-1, self._to_linear)\n",
    "        x = F.relu(self.fc1(x))\n",
    "        x = self.fc2(x)\n",
    "        return F.softmax(x, dim=1)\n",
    "    \n",
    "net = Net()\n",
    "print(net)"
   ]
  },
  {
   "cell_type": "code",
   "execution_count": 30,
   "metadata": {},
   "outputs": [],
   "source": [
    "import torch.optim as optim\n",
    "\n",
    "loss_function = nn.MSELoss()\n",
    "optimizer = optim.Adam(net.parameters(), lr=0.001)"
   ]
  },
  {
   "cell_type": "code",
   "execution_count": 31,
   "metadata": {},
   "outputs": [
    {
     "name": "stdout",
     "output_type": "stream",
     "text": [
      "2494\n"
     ]
    }
   ],
   "source": [
    "VAL_PCT = 0.1\n",
    "val_size = int(len(X)*VAL_PCT)\n",
    "print(val_size)"
   ]
  },
  {
   "cell_type": "code",
   "execution_count": 32,
   "metadata": {},
   "outputs": [
    {
     "name": "stdout",
     "output_type": "stream",
     "text": [
      "22452 2494\n"
     ]
    }
   ],
   "source": [
    "train_X = X[:-val_size]\n",
    "train_y = y[:-val_size]\n",
    "\n",
    "test_X = X[-val_size:]\n",
    "test_y = y[-val_size:]\n",
    "print(len(train_X), len(test_X))"
   ]
  },
  {
   "cell_type": "code",
   "execution_count": 33,
   "metadata": {},
   "outputs": [
    {
     "name": "stderr",
     "output_type": "stream",
     "text": [
      "\r",
      "  0%|          | 0/225 [00:00<?, ?it/s]"
     ]
    },
    {
     "name": "stdout",
     "output_type": "stream",
     "text": [
      "forward()\n",
      "convs()\n"
     ]
    },
    {
     "name": "stderr",
     "output_type": "stream",
     "text": [
      "\r",
      "  0%|          | 1/225 [00:00<03:34,  1.04it/s]"
     ]
    },
    {
     "name": "stdout",
     "output_type": "stream",
     "text": [
      "forward()\n",
      "convs()\n"
     ]
    },
    {
     "name": "stderr",
     "output_type": "stream",
     "text": [
      "\r",
      "  1%|          | 2/225 [00:01<03:23,  1.10it/s]"
     ]
    },
    {
     "name": "stdout",
     "output_type": "stream",
     "text": [
      "forward()\n",
      "convs()\n"
     ]
    },
    {
     "name": "stderr",
     "output_type": "stream",
     "text": [
      "\r",
      "  1%|▏         | 3/225 [00:02<03:14,  1.14it/s]"
     ]
    },
    {
     "name": "stdout",
     "output_type": "stream",
     "text": [
      "forward()\n",
      "convs()\n"
     ]
    },
    {
     "name": "stderr",
     "output_type": "stream",
     "text": [
      "\r",
      "  2%|▏         | 4/225 [00:03<03:07,  1.18it/s]"
     ]
    },
    {
     "name": "stdout",
     "output_type": "stream",
     "text": [
      "forward()\n",
      "convs()\n"
     ]
    },
    {
     "name": "stderr",
     "output_type": "stream",
     "text": [
      "\r",
      "  2%|▏         | 5/225 [00:04<03:01,  1.21it/s]"
     ]
    },
    {
     "name": "stdout",
     "output_type": "stream",
     "text": [
      "forward()\n",
      "convs()\n"
     ]
    },
    {
     "name": "stderr",
     "output_type": "stream",
     "text": [
      "\r",
      "  3%|▎         | 6/225 [00:05<03:17,  1.11it/s]"
     ]
    },
    {
     "name": "stdout",
     "output_type": "stream",
     "text": [
      "forward()\n",
      "convs()\n"
     ]
    },
    {
     "name": "stderr",
     "output_type": "stream",
     "text": [
      "\r",
      "  3%|▎         | 7/225 [00:06<03:19,  1.09it/s]"
     ]
    },
    {
     "name": "stdout",
     "output_type": "stream",
     "text": [
      "forward()\n",
      "convs()\n"
     ]
    },
    {
     "name": "stderr",
     "output_type": "stream",
     "text": [
      "\r",
      "  4%|▎         | 8/225 [00:07<03:15,  1.11it/s]"
     ]
    },
    {
     "name": "stdout",
     "output_type": "stream",
     "text": [
      "forward()\n",
      "convs()\n"
     ]
    },
    {
     "name": "stderr",
     "output_type": "stream",
     "text": [
      "\r",
      "  4%|▍         | 9/225 [00:07<03:13,  1.11it/s]"
     ]
    },
    {
     "name": "stdout",
     "output_type": "stream",
     "text": [
      "forward()\n",
      "convs()\n"
     ]
    },
    {
     "name": "stderr",
     "output_type": "stream",
     "text": [
      "\r",
      "  4%|▍         | 10/225 [00:08<03:07,  1.15it/s]"
     ]
    },
    {
     "name": "stdout",
     "output_type": "stream",
     "text": [
      "forward()\n",
      "convs()\n"
     ]
    },
    {
     "name": "stderr",
     "output_type": "stream",
     "text": [
      "\r",
      "  5%|▍         | 11/225 [00:09<03:00,  1.18it/s]"
     ]
    },
    {
     "name": "stdout",
     "output_type": "stream",
     "text": [
      "forward()\n",
      "convs()\n"
     ]
    },
    {
     "name": "stderr",
     "output_type": "stream",
     "text": [
      "\r",
      "  5%|▌         | 12/225 [00:10<02:54,  1.22it/s]"
     ]
    },
    {
     "name": "stdout",
     "output_type": "stream",
     "text": [
      "forward()\n",
      "convs()\n"
     ]
    },
    {
     "name": "stderr",
     "output_type": "stream",
     "text": [
      "\r",
      "  6%|▌         | 13/225 [00:11<02:51,  1.24it/s]"
     ]
    },
    {
     "name": "stdout",
     "output_type": "stream",
     "text": [
      "forward()\n",
      "convs()\n"
     ]
    },
    {
     "name": "stderr",
     "output_type": "stream",
     "text": [
      "\r",
      "  6%|▌         | 14/225 [00:11<02:48,  1.25it/s]"
     ]
    },
    {
     "name": "stdout",
     "output_type": "stream",
     "text": [
      "forward()\n",
      "convs()\n"
     ]
    },
    {
     "name": "stderr",
     "output_type": "stream",
     "text": [
      "\r",
      "  7%|▋         | 15/225 [00:12<02:45,  1.27it/s]"
     ]
    },
    {
     "name": "stdout",
     "output_type": "stream",
     "text": [
      "forward()\n",
      "convs()\n"
     ]
    },
    {
     "name": "stderr",
     "output_type": "stream",
     "text": [
      "\r",
      "  7%|▋         | 16/225 [00:13<02:45,  1.26it/s]"
     ]
    },
    {
     "name": "stdout",
     "output_type": "stream",
     "text": [
      "forward()\n",
      "convs()\n"
     ]
    },
    {
     "name": "stderr",
     "output_type": "stream",
     "text": [
      "\r",
      "  8%|▊         | 17/225 [00:14<02:46,  1.25it/s]"
     ]
    },
    {
     "name": "stdout",
     "output_type": "stream",
     "text": [
      "forward()\n",
      "convs()\n"
     ]
    },
    {
     "name": "stderr",
     "output_type": "stream",
     "text": [
      "\r",
      "  8%|▊         | 18/225 [00:15<02:47,  1.23it/s]"
     ]
    },
    {
     "name": "stdout",
     "output_type": "stream",
     "text": [
      "forward()\n",
      "convs()\n"
     ]
    },
    {
     "name": "stderr",
     "output_type": "stream",
     "text": [
      "\r",
      "  8%|▊         | 19/225 [00:16<03:14,  1.06it/s]"
     ]
    },
    {
     "name": "stdout",
     "output_type": "stream",
     "text": [
      "forward()\n",
      "convs()\n"
     ]
    },
    {
     "name": "stderr",
     "output_type": "stream",
     "text": [
      "\r",
      "  9%|▉         | 20/225 [00:17<03:19,  1.03it/s]"
     ]
    },
    {
     "name": "stdout",
     "output_type": "stream",
     "text": [
      "forward()\n",
      "convs()\n"
     ]
    },
    {
     "name": "stderr",
     "output_type": "stream",
     "text": [
      "\r",
      "  9%|▉         | 21/225 [00:18<03:21,  1.01it/s]"
     ]
    },
    {
     "name": "stdout",
     "output_type": "stream",
     "text": [
      "forward()\n",
      "convs()\n"
     ]
    },
    {
     "name": "stderr",
     "output_type": "stream",
     "text": [
      "\r",
      " 10%|▉         | 22/225 [00:19<03:18,  1.02it/s]"
     ]
    },
    {
     "name": "stdout",
     "output_type": "stream",
     "text": [
      "forward()\n",
      "convs()\n"
     ]
    },
    {
     "name": "stderr",
     "output_type": "stream",
     "text": [
      "\r",
      " 10%|█         | 23/225 [00:20<03:06,  1.08it/s]"
     ]
    },
    {
     "name": "stdout",
     "output_type": "stream",
     "text": [
      "forward()\n",
      "convs()\n"
     ]
    },
    {
     "name": "stderr",
     "output_type": "stream",
     "text": [
      "\r",
      " 11%|█         | 24/225 [00:21<03:04,  1.09it/s]"
     ]
    },
    {
     "name": "stdout",
     "output_type": "stream",
     "text": [
      "forward()\n",
      "convs()\n"
     ]
    },
    {
     "name": "stderr",
     "output_type": "stream",
     "text": [
      "\r",
      " 11%|█         | 25/225 [00:21<02:56,  1.14it/s]"
     ]
    },
    {
     "name": "stdout",
     "output_type": "stream",
     "text": [
      "forward()\n",
      "convs()\n"
     ]
    },
    {
     "name": "stderr",
     "output_type": "stream",
     "text": [
      "\r",
      " 12%|█▏        | 26/225 [00:22<02:48,  1.18it/s]"
     ]
    },
    {
     "name": "stdout",
     "output_type": "stream",
     "text": [
      "forward()\n",
      "convs()\n"
     ]
    },
    {
     "name": "stderr",
     "output_type": "stream",
     "text": [
      "\r",
      " 12%|█▏        | 27/225 [00:23<02:43,  1.21it/s]"
     ]
    },
    {
     "name": "stdout",
     "output_type": "stream",
     "text": [
      "forward()\n",
      "convs()\n"
     ]
    },
    {
     "name": "stderr",
     "output_type": "stream",
     "text": [
      "\r",
      " 12%|█▏        | 28/225 [00:24<02:40,  1.22it/s]"
     ]
    },
    {
     "name": "stdout",
     "output_type": "stream",
     "text": [
      "forward()\n",
      "convs()\n"
     ]
    },
    {
     "name": "stderr",
     "output_type": "stream",
     "text": [
      "\r",
      " 13%|█▎        | 29/225 [00:24<02:36,  1.25it/s]"
     ]
    },
    {
     "name": "stdout",
     "output_type": "stream",
     "text": [
      "forward()\n",
      "convs()\n"
     ]
    },
    {
     "name": "stderr",
     "output_type": "stream",
     "text": [
      "\r",
      " 13%|█▎        | 30/225 [00:25<02:32,  1.28it/s]"
     ]
    },
    {
     "name": "stdout",
     "output_type": "stream",
     "text": [
      "forward()\n",
      "convs()\n"
     ]
    },
    {
     "name": "stderr",
     "output_type": "stream",
     "text": [
      "\r",
      " 14%|█▍        | 31/225 [00:26<02:31,  1.28it/s]"
     ]
    },
    {
     "name": "stdout",
     "output_type": "stream",
     "text": [
      "forward()\n",
      "convs()\n"
     ]
    },
    {
     "name": "stderr",
     "output_type": "stream",
     "text": [
      "\r",
      " 14%|█▍        | 32/225 [00:27<02:29,  1.29it/s]"
     ]
    },
    {
     "name": "stdout",
     "output_type": "stream",
     "text": [
      "forward()\n",
      "convs()\n"
     ]
    },
    {
     "name": "stderr",
     "output_type": "stream",
     "text": [
      "\r",
      " 15%|█▍        | 33/225 [00:27<02:27,  1.31it/s]"
     ]
    },
    {
     "name": "stdout",
     "output_type": "stream",
     "text": [
      "forward()\n",
      "convs()\n"
     ]
    },
    {
     "name": "stderr",
     "output_type": "stream",
     "text": [
      "\r",
      " 15%|█▌        | 34/225 [00:28<02:31,  1.26it/s]"
     ]
    },
    {
     "name": "stdout",
     "output_type": "stream",
     "text": [
      "forward()\n",
      "convs()\n"
     ]
    },
    {
     "name": "stderr",
     "output_type": "stream",
     "text": [
      "\r",
      " 16%|█▌        | 35/225 [00:29<02:32,  1.25it/s]"
     ]
    },
    {
     "name": "stdout",
     "output_type": "stream",
     "text": [
      "forward()\n",
      "convs()\n"
     ]
    },
    {
     "name": "stderr",
     "output_type": "stream",
     "text": [
      "\r",
      " 16%|█▌        | 36/225 [00:30<02:33,  1.23it/s]"
     ]
    },
    {
     "name": "stdout",
     "output_type": "stream",
     "text": [
      "forward()\n",
      "convs()\n"
     ]
    },
    {
     "name": "stderr",
     "output_type": "stream",
     "text": [
      "\r",
      " 16%|█▋        | 37/225 [00:31<02:31,  1.24it/s]"
     ]
    },
    {
     "name": "stdout",
     "output_type": "stream",
     "text": [
      "forward()\n",
      "convs()\n"
     ]
    },
    {
     "name": "stderr",
     "output_type": "stream",
     "text": [
      "\r",
      " 17%|█▋        | 38/225 [00:32<02:32,  1.22it/s]"
     ]
    },
    {
     "name": "stdout",
     "output_type": "stream",
     "text": [
      "forward()\n",
      "convs()\n"
     ]
    },
    {
     "name": "stderr",
     "output_type": "stream",
     "text": [
      "\r",
      " 17%|█▋        | 39/225 [00:32<02:34,  1.20it/s]"
     ]
    },
    {
     "name": "stdout",
     "output_type": "stream",
     "text": [
      "forward()\n",
      "convs()\n"
     ]
    },
    {
     "name": "stderr",
     "output_type": "stream",
     "text": [
      "\r",
      " 18%|█▊        | 40/225 [00:33<02:36,  1.18it/s]"
     ]
    },
    {
     "name": "stdout",
     "output_type": "stream",
     "text": [
      "forward()\n",
      "convs()\n"
     ]
    },
    {
     "name": "stderr",
     "output_type": "stream",
     "text": [
      "\r",
      " 18%|█▊        | 41/225 [00:34<02:39,  1.15it/s]"
     ]
    },
    {
     "name": "stdout",
     "output_type": "stream",
     "text": [
      "forward()\n",
      "convs()\n"
     ]
    },
    {
     "name": "stderr",
     "output_type": "stream",
     "text": [
      "\r",
      " 19%|█▊        | 42/225 [00:35<02:37,  1.16it/s]"
     ]
    },
    {
     "name": "stdout",
     "output_type": "stream",
     "text": [
      "forward()\n",
      "convs()\n"
     ]
    },
    {
     "name": "stderr",
     "output_type": "stream",
     "text": [
      "\r",
      " 19%|█▉        | 43/225 [00:36<02:33,  1.19it/s]"
     ]
    },
    {
     "name": "stdout",
     "output_type": "stream",
     "text": [
      "forward()\n",
      "convs()\n"
     ]
    },
    {
     "name": "stderr",
     "output_type": "stream",
     "text": [
      "\r",
      " 20%|█▉        | 44/225 [00:37<02:28,  1.22it/s]"
     ]
    },
    {
     "name": "stdout",
     "output_type": "stream",
     "text": [
      "forward()\n",
      "convs()\n"
     ]
    },
    {
     "name": "stderr",
     "output_type": "stream",
     "text": [
      "\r",
      " 20%|██        | 45/225 [00:37<02:24,  1.25it/s]"
     ]
    },
    {
     "name": "stdout",
     "output_type": "stream",
     "text": [
      "forward()\n",
      "convs()\n"
     ]
    },
    {
     "name": "stderr",
     "output_type": "stream",
     "text": [
      "\r",
      " 20%|██        | 46/225 [00:38<02:24,  1.24it/s]"
     ]
    },
    {
     "name": "stdout",
     "output_type": "stream",
     "text": [
      "forward()\n",
      "convs()\n"
     ]
    },
    {
     "name": "stderr",
     "output_type": "stream",
     "text": [
      "\r",
      " 21%|██        | 47/225 [00:39<02:24,  1.23it/s]"
     ]
    },
    {
     "name": "stdout",
     "output_type": "stream",
     "text": [
      "forward()\n",
      "convs()\n"
     ]
    },
    {
     "name": "stderr",
     "output_type": "stream",
     "text": [
      "\r",
      " 21%|██▏       | 48/225 [00:40<02:21,  1.25it/s]"
     ]
    },
    {
     "name": "stdout",
     "output_type": "stream",
     "text": [
      "forward()\n",
      "convs()\n"
     ]
    },
    {
     "name": "stderr",
     "output_type": "stream",
     "text": [
      "\r",
      " 22%|██▏       | 49/225 [00:41<02:20,  1.26it/s]"
     ]
    },
    {
     "name": "stdout",
     "output_type": "stream",
     "text": [
      "forward()\n",
      "convs()\n"
     ]
    },
    {
     "name": "stderr",
     "output_type": "stream",
     "text": [
      "\r",
      " 22%|██▏       | 50/225 [00:41<02:20,  1.25it/s]"
     ]
    },
    {
     "name": "stdout",
     "output_type": "stream",
     "text": [
      "forward()\n",
      "convs()\n"
     ]
    },
    {
     "name": "stderr",
     "output_type": "stream",
     "text": [
      "\r",
      " 23%|██▎       | 51/225 [00:42<02:21,  1.23it/s]"
     ]
    },
    {
     "name": "stdout",
     "output_type": "stream",
     "text": [
      "forward()\n",
      "convs()\n"
     ]
    },
    {
     "name": "stderr",
     "output_type": "stream",
     "text": [
      "\r",
      " 23%|██▎       | 52/225 [00:43<02:25,  1.19it/s]"
     ]
    },
    {
     "name": "stdout",
     "output_type": "stream",
     "text": [
      "forward()\n",
      "convs()\n"
     ]
    },
    {
     "name": "stderr",
     "output_type": "stream",
     "text": [
      "\r",
      " 24%|██▎       | 53/225 [00:44<02:21,  1.22it/s]"
     ]
    },
    {
     "name": "stdout",
     "output_type": "stream",
     "text": [
      "forward()\n",
      "convs()\n"
     ]
    },
    {
     "name": "stderr",
     "output_type": "stream",
     "text": [
      "\r",
      " 24%|██▍       | 54/225 [00:45<02:24,  1.18it/s]"
     ]
    },
    {
     "name": "stdout",
     "output_type": "stream",
     "text": [
      "forward()\n",
      "convs()\n"
     ]
    },
    {
     "name": "stderr",
     "output_type": "stream",
     "text": [
      "\r",
      " 24%|██▍       | 55/225 [00:46<02:22,  1.20it/s]"
     ]
    },
    {
     "name": "stdout",
     "output_type": "stream",
     "text": [
      "forward()\n",
      "convs()\n"
     ]
    },
    {
     "name": "stderr",
     "output_type": "stream",
     "text": [
      "\r",
      " 25%|██▍       | 56/225 [00:46<02:21,  1.20it/s]"
     ]
    },
    {
     "name": "stdout",
     "output_type": "stream",
     "text": [
      "forward()\n",
      "convs()\n"
     ]
    },
    {
     "name": "stderr",
     "output_type": "stream",
     "text": [
      "\r",
      " 25%|██▌       | 57/225 [00:47<02:18,  1.21it/s]"
     ]
    },
    {
     "name": "stdout",
     "output_type": "stream",
     "text": [
      "forward()\n",
      "convs()\n"
     ]
    },
    {
     "name": "stderr",
     "output_type": "stream",
     "text": [
      "\r",
      " 26%|██▌       | 58/225 [00:48<02:15,  1.23it/s]"
     ]
    },
    {
     "name": "stdout",
     "output_type": "stream",
     "text": [
      "forward()\n",
      "convs()\n"
     ]
    },
    {
     "name": "stderr",
     "output_type": "stream",
     "text": [
      "\r",
      " 26%|██▌       | 59/225 [00:49<02:14,  1.24it/s]"
     ]
    },
    {
     "name": "stdout",
     "output_type": "stream",
     "text": [
      "forward()\n",
      "convs()\n"
     ]
    },
    {
     "name": "stderr",
     "output_type": "stream",
     "text": [
      "\r",
      " 27%|██▋       | 60/225 [00:50<02:14,  1.23it/s]"
     ]
    },
    {
     "name": "stdout",
     "output_type": "stream",
     "text": [
      "forward()\n",
      "convs()\n"
     ]
    },
    {
     "name": "stderr",
     "output_type": "stream",
     "text": [
      "\r",
      " 27%|██▋       | 61/225 [00:50<02:12,  1.23it/s]"
     ]
    },
    {
     "name": "stdout",
     "output_type": "stream",
     "text": [
      "forward()\n",
      "convs()\n"
     ]
    },
    {
     "name": "stderr",
     "output_type": "stream",
     "text": [
      "\r",
      " 28%|██▊       | 62/225 [00:51<02:13,  1.23it/s]"
     ]
    },
    {
     "name": "stdout",
     "output_type": "stream",
     "text": [
      "forward()\n",
      "convs()\n"
     ]
    },
    {
     "name": "stderr",
     "output_type": "stream",
     "text": [
      "\r",
      " 28%|██▊       | 63/225 [00:52<02:11,  1.23it/s]"
     ]
    },
    {
     "name": "stdout",
     "output_type": "stream",
     "text": [
      "forward()\n",
      "convs()\n"
     ]
    },
    {
     "name": "stderr",
     "output_type": "stream",
     "text": [
      "\r",
      " 28%|██▊       | 64/225 [00:53<02:09,  1.24it/s]"
     ]
    },
    {
     "name": "stdout",
     "output_type": "stream",
     "text": [
      "forward()\n",
      "convs()\n"
     ]
    },
    {
     "name": "stderr",
     "output_type": "stream",
     "text": [
      "\r",
      " 29%|██▉       | 65/225 [00:54<02:08,  1.25it/s]"
     ]
    },
    {
     "name": "stdout",
     "output_type": "stream",
     "text": [
      "forward()\n",
      "convs()\n"
     ]
    },
    {
     "name": "stderr",
     "output_type": "stream",
     "text": [
      "\r",
      " 29%|██▉       | 66/225 [00:55<02:07,  1.25it/s]"
     ]
    },
    {
     "name": "stdout",
     "output_type": "stream",
     "text": [
      "forward()\n",
      "convs()\n"
     ]
    },
    {
     "name": "stderr",
     "output_type": "stream",
     "text": [
      "\r",
      " 30%|██▉       | 67/225 [00:55<02:05,  1.26it/s]"
     ]
    },
    {
     "name": "stdout",
     "output_type": "stream",
     "text": [
      "forward()\n",
      "convs()\n"
     ]
    },
    {
     "name": "stderr",
     "output_type": "stream",
     "text": [
      "\r",
      " 30%|███       | 68/225 [00:56<02:05,  1.25it/s]"
     ]
    },
    {
     "name": "stdout",
     "output_type": "stream",
     "text": [
      "forward()\n",
      "convs()\n"
     ]
    },
    {
     "name": "stderr",
     "output_type": "stream",
     "text": [
      "\r",
      " 31%|███       | 69/225 [00:57<02:05,  1.24it/s]"
     ]
    },
    {
     "name": "stdout",
     "output_type": "stream",
     "text": [
      "forward()\n",
      "convs()\n"
     ]
    },
    {
     "name": "stderr",
     "output_type": "stream",
     "text": [
      "\r",
      " 31%|███       | 70/225 [00:58<02:04,  1.25it/s]"
     ]
    },
    {
     "name": "stdout",
     "output_type": "stream",
     "text": [
      "forward()\n",
      "convs()\n"
     ]
    },
    {
     "name": "stderr",
     "output_type": "stream",
     "text": [
      "\r",
      " 32%|███▏      | 71/225 [00:59<02:04,  1.23it/s]"
     ]
    },
    {
     "name": "stdout",
     "output_type": "stream",
     "text": [
      "forward()\n",
      "convs()\n"
     ]
    },
    {
     "name": "stderr",
     "output_type": "stream",
     "text": [
      "\r",
      " 32%|███▏      | 72/225 [00:59<02:04,  1.23it/s]"
     ]
    },
    {
     "name": "stdout",
     "output_type": "stream",
     "text": [
      "forward()\n",
      "convs()\n"
     ]
    },
    {
     "name": "stderr",
     "output_type": "stream",
     "text": [
      "\r",
      " 32%|███▏      | 73/225 [01:00<02:04,  1.22it/s]"
     ]
    },
    {
     "name": "stdout",
     "output_type": "stream",
     "text": [
      "forward()\n",
      "convs()\n"
     ]
    },
    {
     "name": "stderr",
     "output_type": "stream",
     "text": [
      "\r",
      " 33%|███▎      | 74/225 [01:01<02:05,  1.20it/s]"
     ]
    },
    {
     "name": "stdout",
     "output_type": "stream",
     "text": [
      "forward()\n",
      "convs()\n"
     ]
    },
    {
     "name": "stderr",
     "output_type": "stream",
     "text": [
      "\r",
      " 33%|███▎      | 75/225 [01:02<02:04,  1.21it/s]"
     ]
    },
    {
     "name": "stdout",
     "output_type": "stream",
     "text": [
      "forward()\n",
      "convs()\n"
     ]
    },
    {
     "name": "stderr",
     "output_type": "stream",
     "text": [
      "\r",
      " 34%|███▍      | 76/225 [01:03<02:03,  1.20it/s]"
     ]
    },
    {
     "name": "stdout",
     "output_type": "stream",
     "text": [
      "forward()\n",
      "convs()\n"
     ]
    },
    {
     "name": "stderr",
     "output_type": "stream",
     "text": [
      "\r",
      " 34%|███▍      | 77/225 [01:04<02:01,  1.22it/s]"
     ]
    },
    {
     "name": "stdout",
     "output_type": "stream",
     "text": [
      "forward()\n",
      "convs()\n"
     ]
    },
    {
     "name": "stderr",
     "output_type": "stream",
     "text": [
      "\r",
      " 35%|███▍      | 78/225 [01:04<02:00,  1.22it/s]"
     ]
    },
    {
     "name": "stdout",
     "output_type": "stream",
     "text": [
      "forward()\n",
      "convs()\n"
     ]
    },
    {
     "name": "stderr",
     "output_type": "stream",
     "text": [
      "\r",
      " 35%|███▌      | 79/225 [01:05<01:58,  1.24it/s]"
     ]
    },
    {
     "name": "stdout",
     "output_type": "stream",
     "text": [
      "forward()\n",
      "convs()\n"
     ]
    },
    {
     "name": "stderr",
     "output_type": "stream",
     "text": [
      "\r",
      " 36%|███▌      | 80/225 [01:06<01:56,  1.25it/s]"
     ]
    },
    {
     "name": "stdout",
     "output_type": "stream",
     "text": [
      "forward()\n",
      "convs()\n"
     ]
    },
    {
     "name": "stderr",
     "output_type": "stream",
     "text": [
      "\r",
      " 36%|███▌      | 81/225 [01:07<01:54,  1.25it/s]"
     ]
    },
    {
     "name": "stdout",
     "output_type": "stream",
     "text": [
      "forward()\n",
      "convs()\n"
     ]
    },
    {
     "name": "stderr",
     "output_type": "stream",
     "text": [
      "\r",
      " 36%|███▋      | 82/225 [01:07<01:54,  1.25it/s]"
     ]
    },
    {
     "name": "stdout",
     "output_type": "stream",
     "text": [
      "forward()\n",
      "convs()\n"
     ]
    },
    {
     "name": "stderr",
     "output_type": "stream",
     "text": [
      "\r",
      " 37%|███▋      | 83/225 [01:08<01:53,  1.25it/s]"
     ]
    },
    {
     "name": "stdout",
     "output_type": "stream",
     "text": [
      "forward()\n",
      "convs()\n"
     ]
    },
    {
     "name": "stderr",
     "output_type": "stream",
     "text": [
      "\r",
      " 37%|███▋      | 84/225 [01:09<01:53,  1.24it/s]"
     ]
    },
    {
     "name": "stdout",
     "output_type": "stream",
     "text": [
      "forward()\n",
      "convs()\n"
     ]
    },
    {
     "name": "stderr",
     "output_type": "stream",
     "text": [
      "\r",
      " 38%|███▊      | 85/225 [01:10<01:53,  1.24it/s]"
     ]
    },
    {
     "name": "stdout",
     "output_type": "stream",
     "text": [
      "forward()\n",
      "convs()\n"
     ]
    },
    {
     "name": "stderr",
     "output_type": "stream",
     "text": [
      "\r",
      " 38%|███▊      | 86/225 [01:11<01:51,  1.24it/s]"
     ]
    },
    {
     "name": "stdout",
     "output_type": "stream",
     "text": [
      "forward()\n",
      "convs()\n"
     ]
    },
    {
     "name": "stderr",
     "output_type": "stream",
     "text": [
      "\r",
      " 39%|███▊      | 87/225 [01:11<01:49,  1.26it/s]"
     ]
    },
    {
     "name": "stdout",
     "output_type": "stream",
     "text": [
      "forward()\n",
      "convs()\n"
     ]
    },
    {
     "name": "stderr",
     "output_type": "stream",
     "text": [
      "\r",
      " 39%|███▉      | 88/225 [01:12<01:48,  1.26it/s]"
     ]
    },
    {
     "name": "stdout",
     "output_type": "stream",
     "text": [
      "forward()\n",
      "convs()\n"
     ]
    },
    {
     "name": "stderr",
     "output_type": "stream",
     "text": [
      "\r",
      " 40%|███▉      | 89/225 [01:13<01:46,  1.28it/s]"
     ]
    },
    {
     "name": "stdout",
     "output_type": "stream",
     "text": [
      "forward()\n",
      "convs()\n"
     ]
    },
    {
     "name": "stderr",
     "output_type": "stream",
     "text": [
      "\r",
      " 40%|████      | 90/225 [01:14<01:46,  1.26it/s]"
     ]
    },
    {
     "name": "stdout",
     "output_type": "stream",
     "text": [
      "forward()\n",
      "convs()\n"
     ]
    },
    {
     "name": "stderr",
     "output_type": "stream",
     "text": [
      "\r",
      " 40%|████      | 91/225 [01:15<01:46,  1.26it/s]"
     ]
    },
    {
     "name": "stdout",
     "output_type": "stream",
     "text": [
      "forward()\n",
      "convs()\n"
     ]
    },
    {
     "name": "stderr",
     "output_type": "stream",
     "text": [
      "\r",
      " 41%|████      | 92/225 [01:15<01:46,  1.25it/s]"
     ]
    },
    {
     "name": "stdout",
     "output_type": "stream",
     "text": [
      "forward()\n",
      "convs()\n"
     ]
    },
    {
     "name": "stderr",
     "output_type": "stream",
     "text": [
      "\r",
      " 41%|████▏     | 93/225 [01:16<01:47,  1.23it/s]"
     ]
    },
    {
     "name": "stdout",
     "output_type": "stream",
     "text": [
      "forward()\n",
      "convs()\n"
     ]
    },
    {
     "name": "stderr",
     "output_type": "stream",
     "text": [
      "\r",
      " 42%|████▏     | 94/225 [01:17<01:46,  1.23it/s]"
     ]
    },
    {
     "name": "stdout",
     "output_type": "stream",
     "text": [
      "forward()\n",
      "convs()\n"
     ]
    },
    {
     "name": "stderr",
     "output_type": "stream",
     "text": [
      "\r",
      " 42%|████▏     | 95/225 [01:18<01:44,  1.25it/s]"
     ]
    },
    {
     "name": "stdout",
     "output_type": "stream",
     "text": [
      "forward()\n",
      "convs()\n"
     ]
    },
    {
     "name": "stderr",
     "output_type": "stream",
     "text": [
      "\r",
      " 43%|████▎     | 96/225 [01:19<01:44,  1.24it/s]"
     ]
    },
    {
     "name": "stdout",
     "output_type": "stream",
     "text": [
      "forward()\n",
      "convs()\n"
     ]
    },
    {
     "name": "stderr",
     "output_type": "stream",
     "text": [
      "\r",
      " 43%|████▎     | 97/225 [01:20<01:43,  1.24it/s]"
     ]
    },
    {
     "name": "stdout",
     "output_type": "stream",
     "text": [
      "forward()\n",
      "convs()\n"
     ]
    },
    {
     "name": "stderr",
     "output_type": "stream",
     "text": [
      "\r",
      " 44%|████▎     | 98/225 [01:20<01:41,  1.25it/s]"
     ]
    },
    {
     "name": "stdout",
     "output_type": "stream",
     "text": [
      "forward()\n",
      "convs()\n"
     ]
    },
    {
     "name": "stderr",
     "output_type": "stream",
     "text": [
      "\r",
      " 44%|████▍     | 99/225 [01:21<01:41,  1.25it/s]"
     ]
    },
    {
     "name": "stdout",
     "output_type": "stream",
     "text": [
      "forward()\n",
      "convs()\n"
     ]
    },
    {
     "name": "stderr",
     "output_type": "stream",
     "text": [
      "\r",
      " 44%|████▍     | 100/225 [01:22<01:39,  1.26it/s]"
     ]
    },
    {
     "name": "stdout",
     "output_type": "stream",
     "text": [
      "forward()\n",
      "convs()\n"
     ]
    },
    {
     "name": "stderr",
     "output_type": "stream",
     "text": [
      "\r",
      " 45%|████▍     | 101/225 [01:23<01:37,  1.27it/s]"
     ]
    },
    {
     "name": "stdout",
     "output_type": "stream",
     "text": [
      "forward()\n",
      "convs()\n"
     ]
    },
    {
     "name": "stderr",
     "output_type": "stream",
     "text": [
      "\r",
      " 45%|████▌     | 102/225 [01:23<01:38,  1.25it/s]"
     ]
    },
    {
     "name": "stdout",
     "output_type": "stream",
     "text": [
      "forward()\n",
      "convs()\n"
     ]
    },
    {
     "name": "stderr",
     "output_type": "stream",
     "text": [
      "\r",
      " 46%|████▌     | 103/225 [01:24<01:38,  1.23it/s]"
     ]
    },
    {
     "name": "stdout",
     "output_type": "stream",
     "text": [
      "forward()\n",
      "convs()\n"
     ]
    },
    {
     "name": "stderr",
     "output_type": "stream",
     "text": [
      "\r",
      " 46%|████▌     | 104/225 [01:25<01:37,  1.24it/s]"
     ]
    },
    {
     "name": "stdout",
     "output_type": "stream",
     "text": [
      "forward()\n",
      "convs()\n"
     ]
    },
    {
     "name": "stderr",
     "output_type": "stream",
     "text": [
      "\r",
      " 47%|████▋     | 105/225 [01:26<01:36,  1.24it/s]"
     ]
    },
    {
     "name": "stdout",
     "output_type": "stream",
     "text": [
      "forward()\n",
      "convs()\n"
     ]
    },
    {
     "name": "stderr",
     "output_type": "stream",
     "text": [
      "\r",
      " 47%|████▋     | 106/225 [01:27<01:36,  1.23it/s]"
     ]
    },
    {
     "name": "stdout",
     "output_type": "stream",
     "text": [
      "forward()\n",
      "convs()\n"
     ]
    },
    {
     "name": "stderr",
     "output_type": "stream",
     "text": [
      "\r",
      " 48%|████▊     | 107/225 [01:28<01:37,  1.21it/s]"
     ]
    },
    {
     "name": "stdout",
     "output_type": "stream",
     "text": [
      "forward()\n",
      "convs()\n"
     ]
    },
    {
     "name": "stderr",
     "output_type": "stream",
     "text": [
      "\r",
      " 48%|████▊     | 108/225 [01:29<01:45,  1.11it/s]"
     ]
    },
    {
     "name": "stdout",
     "output_type": "stream",
     "text": [
      "forward()\n",
      "convs()\n"
     ]
    },
    {
     "name": "stderr",
     "output_type": "stream",
     "text": [
      "\r",
      " 48%|████▊     | 109/225 [01:30<01:49,  1.06it/s]"
     ]
    },
    {
     "name": "stdout",
     "output_type": "stream",
     "text": [
      "forward()\n",
      "convs()\n"
     ]
    },
    {
     "name": "stderr",
     "output_type": "stream",
     "text": [
      "\r",
      " 49%|████▉     | 110/225 [01:31<01:51,  1.03it/s]"
     ]
    },
    {
     "name": "stdout",
     "output_type": "stream",
     "text": [
      "forward()\n",
      "convs()\n"
     ]
    },
    {
     "name": "stderr",
     "output_type": "stream",
     "text": [
      "\r",
      " 49%|████▉     | 111/225 [01:32<01:47,  1.06it/s]"
     ]
    },
    {
     "name": "stdout",
     "output_type": "stream",
     "text": [
      "forward()\n",
      "convs()\n"
     ]
    },
    {
     "name": "stderr",
     "output_type": "stream",
     "text": [
      "\r",
      " 50%|████▉     | 112/225 [01:33<01:46,  1.06it/s]"
     ]
    },
    {
     "name": "stdout",
     "output_type": "stream",
     "text": [
      "forward()\n",
      "convs()\n"
     ]
    },
    {
     "name": "stderr",
     "output_type": "stream",
     "text": [
      "\r",
      " 50%|█████     | 113/225 [01:33<01:41,  1.10it/s]"
     ]
    },
    {
     "name": "stdout",
     "output_type": "stream",
     "text": [
      "forward()\n",
      "convs()\n"
     ]
    },
    {
     "name": "stderr",
     "output_type": "stream",
     "text": [
      "\r",
      " 51%|█████     | 114/225 [01:34<01:35,  1.16it/s]"
     ]
    },
    {
     "name": "stdout",
     "output_type": "stream",
     "text": [
      "forward()\n",
      "convs()\n"
     ]
    },
    {
     "name": "stderr",
     "output_type": "stream",
     "text": [
      "\r",
      " 51%|█████     | 115/225 [01:35<01:31,  1.20it/s]"
     ]
    },
    {
     "name": "stdout",
     "output_type": "stream",
     "text": [
      "forward()\n",
      "convs()\n"
     ]
    },
    {
     "name": "stderr",
     "output_type": "stream",
     "text": [
      "\r",
      " 52%|█████▏    | 116/225 [01:36<01:29,  1.21it/s]"
     ]
    },
    {
     "name": "stdout",
     "output_type": "stream",
     "text": [
      "forward()\n",
      "convs()\n"
     ]
    },
    {
     "name": "stderr",
     "output_type": "stream",
     "text": [
      "\r",
      " 52%|█████▏    | 117/225 [01:37<01:27,  1.24it/s]"
     ]
    },
    {
     "name": "stdout",
     "output_type": "stream",
     "text": [
      "forward()\n",
      "convs()\n"
     ]
    },
    {
     "name": "stderr",
     "output_type": "stream",
     "text": [
      "\r",
      " 52%|█████▏    | 118/225 [01:37<01:25,  1.26it/s]"
     ]
    },
    {
     "name": "stdout",
     "output_type": "stream",
     "text": [
      "forward()\n",
      "convs()\n"
     ]
    },
    {
     "name": "stderr",
     "output_type": "stream",
     "text": [
      "\r",
      " 53%|█████▎    | 119/225 [01:38<01:23,  1.27it/s]"
     ]
    },
    {
     "name": "stdout",
     "output_type": "stream",
     "text": [
      "forward()\n",
      "convs()\n"
     ]
    },
    {
     "name": "stderr",
     "output_type": "stream",
     "text": [
      "\r",
      " 53%|█████▎    | 120/225 [01:39<01:22,  1.27it/s]"
     ]
    },
    {
     "name": "stdout",
     "output_type": "stream",
     "text": [
      "forward()\n",
      "convs()\n"
     ]
    },
    {
     "name": "stderr",
     "output_type": "stream",
     "text": [
      "\r",
      " 54%|█████▍    | 121/225 [01:40<01:20,  1.28it/s]"
     ]
    },
    {
     "name": "stdout",
     "output_type": "stream",
     "text": [
      "forward()\n",
      "convs()\n"
     ]
    },
    {
     "name": "stderr",
     "output_type": "stream",
     "text": [
      "\r",
      " 54%|█████▍    | 122/225 [01:40<01:20,  1.27it/s]"
     ]
    },
    {
     "name": "stdout",
     "output_type": "stream",
     "text": [
      "forward()\n",
      "convs()\n"
     ]
    },
    {
     "name": "stderr",
     "output_type": "stream",
     "text": [
      "\r",
      " 55%|█████▍    | 123/225 [01:41<01:21,  1.26it/s]"
     ]
    },
    {
     "name": "stdout",
     "output_type": "stream",
     "text": [
      "forward()\n",
      "convs()\n"
     ]
    },
    {
     "name": "stderr",
     "output_type": "stream",
     "text": [
      "\r",
      " 55%|█████▌    | 124/225 [01:42<01:20,  1.25it/s]"
     ]
    },
    {
     "name": "stdout",
     "output_type": "stream",
     "text": [
      "forward()\n",
      "convs()\n"
     ]
    },
    {
     "name": "stderr",
     "output_type": "stream",
     "text": [
      "\r",
      " 56%|█████▌    | 125/225 [01:43<01:19,  1.26it/s]"
     ]
    },
    {
     "name": "stdout",
     "output_type": "stream",
     "text": [
      "forward()\n",
      "convs()\n"
     ]
    },
    {
     "name": "stderr",
     "output_type": "stream",
     "text": [
      "\r",
      " 56%|█████▌    | 126/225 [01:44<01:18,  1.27it/s]"
     ]
    },
    {
     "name": "stdout",
     "output_type": "stream",
     "text": [
      "forward()\n",
      "convs()\n"
     ]
    },
    {
     "name": "stderr",
     "output_type": "stream",
     "text": [
      "\r",
      " 56%|█████▋    | 127/225 [01:44<01:17,  1.26it/s]"
     ]
    },
    {
     "name": "stdout",
     "output_type": "stream",
     "text": [
      "forward()\n",
      "convs()\n"
     ]
    },
    {
     "name": "stderr",
     "output_type": "stream",
     "text": [
      "\r",
      " 57%|█████▋    | 128/225 [01:45<01:15,  1.28it/s]"
     ]
    },
    {
     "name": "stdout",
     "output_type": "stream",
     "text": [
      "forward()\n",
      "convs()\n"
     ]
    },
    {
     "name": "stderr",
     "output_type": "stream",
     "text": [
      "\r",
      " 57%|█████▋    | 129/225 [01:46<01:14,  1.29it/s]"
     ]
    },
    {
     "name": "stdout",
     "output_type": "stream",
     "text": [
      "forward()\n",
      "convs()\n"
     ]
    },
    {
     "name": "stderr",
     "output_type": "stream",
     "text": [
      "\r",
      " 58%|█████▊    | 130/225 [01:47<01:16,  1.24it/s]"
     ]
    },
    {
     "name": "stdout",
     "output_type": "stream",
     "text": [
      "forward()\n",
      "convs()\n"
     ]
    },
    {
     "name": "stderr",
     "output_type": "stream",
     "text": [
      "\r",
      " 58%|█████▊    | 131/225 [01:48<01:15,  1.25it/s]"
     ]
    },
    {
     "name": "stdout",
     "output_type": "stream",
     "text": [
      "forward()\n",
      "convs()\n"
     ]
    },
    {
     "name": "stderr",
     "output_type": "stream",
     "text": [
      "\r",
      " 59%|█████▊    | 132/225 [01:48<01:14,  1.24it/s]"
     ]
    },
    {
     "name": "stdout",
     "output_type": "stream",
     "text": [
      "forward()\n",
      "convs()\n"
     ]
    },
    {
     "name": "stderr",
     "output_type": "stream",
     "text": [
      "\r",
      " 59%|█████▉    | 133/225 [01:49<01:13,  1.25it/s]"
     ]
    },
    {
     "name": "stdout",
     "output_type": "stream",
     "text": [
      "forward()\n",
      "convs()\n"
     ]
    },
    {
     "name": "stderr",
     "output_type": "stream",
     "text": [
      "\r",
      " 60%|█████▉    | 134/225 [01:50<01:12,  1.25it/s]"
     ]
    },
    {
     "name": "stdout",
     "output_type": "stream",
     "text": [
      "forward()\n",
      "convs()\n"
     ]
    },
    {
     "name": "stderr",
     "output_type": "stream",
     "text": [
      "\r",
      " 60%|██████    | 135/225 [01:51<01:11,  1.26it/s]"
     ]
    },
    {
     "name": "stdout",
     "output_type": "stream",
     "text": [
      "forward()\n",
      "convs()\n"
     ]
    },
    {
     "name": "stderr",
     "output_type": "stream",
     "text": [
      "\r",
      " 60%|██████    | 136/225 [01:52<01:10,  1.26it/s]"
     ]
    },
    {
     "name": "stdout",
     "output_type": "stream",
     "text": [
      "forward()\n",
      "convs()\n"
     ]
    },
    {
     "name": "stderr",
     "output_type": "stream",
     "text": [
      "\r",
      " 61%|██████    | 137/225 [01:52<01:08,  1.28it/s]"
     ]
    },
    {
     "name": "stdout",
     "output_type": "stream",
     "text": [
      "forward()\n",
      "convs()\n"
     ]
    },
    {
     "name": "stderr",
     "output_type": "stream",
     "text": [
      "\r",
      " 61%|██████▏   | 138/225 [01:53<01:07,  1.29it/s]"
     ]
    },
    {
     "name": "stdout",
     "output_type": "stream",
     "text": [
      "forward()\n",
      "convs()\n"
     ]
    },
    {
     "name": "stderr",
     "output_type": "stream",
     "text": [
      "\r",
      " 62%|██████▏   | 139/225 [01:54<01:05,  1.30it/s]"
     ]
    },
    {
     "name": "stdout",
     "output_type": "stream",
     "text": [
      "forward()\n",
      "convs()\n"
     ]
    },
    {
     "name": "stderr",
     "output_type": "stream",
     "text": [
      "\r",
      " 62%|██████▏   | 140/225 [01:55<01:04,  1.31it/s]"
     ]
    },
    {
     "name": "stdout",
     "output_type": "stream",
     "text": [
      "forward()\n",
      "convs()\n"
     ]
    },
    {
     "name": "stderr",
     "output_type": "stream",
     "text": [
      "\r",
      " 63%|██████▎   | 141/225 [01:55<01:03,  1.31it/s]"
     ]
    },
    {
     "name": "stdout",
     "output_type": "stream",
     "text": [
      "forward()\n",
      "convs()\n"
     ]
    },
    {
     "name": "stderr",
     "output_type": "stream",
     "text": [
      "\r",
      " 63%|██████▎   | 142/225 [01:56<01:03,  1.31it/s]"
     ]
    },
    {
     "name": "stdout",
     "output_type": "stream",
     "text": [
      "forward()\n",
      "convs()\n"
     ]
    },
    {
     "name": "stderr",
     "output_type": "stream",
     "text": [
      "\r",
      " 64%|██████▎   | 143/225 [01:57<01:03,  1.30it/s]"
     ]
    },
    {
     "name": "stdout",
     "output_type": "stream",
     "text": [
      "forward()\n",
      "convs()\n"
     ]
    },
    {
     "name": "stderr",
     "output_type": "stream",
     "text": [
      "\r",
      " 64%|██████▍   | 144/225 [01:58<01:02,  1.30it/s]"
     ]
    },
    {
     "name": "stdout",
     "output_type": "stream",
     "text": [
      "forward()\n",
      "convs()\n"
     ]
    },
    {
     "name": "stderr",
     "output_type": "stream",
     "text": [
      "\r",
      " 64%|██████▍   | 145/225 [01:58<01:02,  1.29it/s]"
     ]
    },
    {
     "name": "stdout",
     "output_type": "stream",
     "text": [
      "forward()\n",
      "convs()\n"
     ]
    },
    {
     "name": "stderr",
     "output_type": "stream",
     "text": [
      "\r",
      " 65%|██████▍   | 146/225 [01:59<01:01,  1.29it/s]"
     ]
    },
    {
     "name": "stdout",
     "output_type": "stream",
     "text": [
      "forward()\n",
      "convs()\n"
     ]
    },
    {
     "name": "stderr",
     "output_type": "stream",
     "text": [
      "\r",
      " 65%|██████▌   | 147/225 [02:00<01:00,  1.30it/s]"
     ]
    },
    {
     "name": "stdout",
     "output_type": "stream",
     "text": [
      "forward()\n",
      "convs()\n"
     ]
    },
    {
     "name": "stderr",
     "output_type": "stream",
     "text": [
      "\r",
      " 66%|██████▌   | 148/225 [02:01<00:59,  1.30it/s]"
     ]
    },
    {
     "name": "stdout",
     "output_type": "stream",
     "text": [
      "forward()\n",
      "convs()\n"
     ]
    },
    {
     "name": "stderr",
     "output_type": "stream",
     "text": [
      "\r",
      " 66%|██████▌   | 149/225 [02:01<00:58,  1.30it/s]"
     ]
    },
    {
     "name": "stdout",
     "output_type": "stream",
     "text": [
      "forward()\n",
      "convs()\n"
     ]
    },
    {
     "name": "stderr",
     "output_type": "stream",
     "text": [
      "\r",
      " 67%|██████▋   | 150/225 [02:02<00:57,  1.30it/s]"
     ]
    },
    {
     "name": "stdout",
     "output_type": "stream",
     "text": [
      "forward()\n",
      "convs()\n"
     ]
    },
    {
     "name": "stderr",
     "output_type": "stream",
     "text": [
      "\r",
      " 67%|██████▋   | 151/225 [02:03<00:57,  1.29it/s]"
     ]
    },
    {
     "name": "stdout",
     "output_type": "stream",
     "text": [
      "forward()\n",
      "convs()\n"
     ]
    },
    {
     "name": "stderr",
     "output_type": "stream",
     "text": [
      "\r",
      " 68%|██████▊   | 152/225 [02:04<00:56,  1.29it/s]"
     ]
    },
    {
     "name": "stdout",
     "output_type": "stream",
     "text": [
      "forward()\n",
      "convs()\n"
     ]
    },
    {
     "name": "stderr",
     "output_type": "stream",
     "text": [
      "\r",
      " 68%|██████▊   | 153/225 [02:05<00:56,  1.27it/s]"
     ]
    },
    {
     "name": "stdout",
     "output_type": "stream",
     "text": [
      "forward()\n",
      "convs()\n"
     ]
    },
    {
     "name": "stderr",
     "output_type": "stream",
     "text": [
      "\r",
      " 68%|██████▊   | 154/225 [02:05<00:56,  1.26it/s]"
     ]
    },
    {
     "name": "stdout",
     "output_type": "stream",
     "text": [
      "forward()\n",
      "convs()\n"
     ]
    },
    {
     "name": "stderr",
     "output_type": "stream",
     "text": [
      "\r",
      " 69%|██████▉   | 155/225 [02:06<00:57,  1.22it/s]"
     ]
    },
    {
     "name": "stdout",
     "output_type": "stream",
     "text": [
      "forward()\n",
      "convs()\n"
     ]
    },
    {
     "name": "stderr",
     "output_type": "stream",
     "text": [
      "\r",
      " 69%|██████▉   | 156/225 [02:07<00:56,  1.21it/s]"
     ]
    },
    {
     "name": "stdout",
     "output_type": "stream",
     "text": [
      "forward()\n",
      "convs()\n"
     ]
    },
    {
     "name": "stderr",
     "output_type": "stream",
     "text": [
      "\r",
      " 70%|██████▉   | 157/225 [02:08<00:55,  1.23it/s]"
     ]
    },
    {
     "name": "stdout",
     "output_type": "stream",
     "text": [
      "forward()\n",
      "convs()\n"
     ]
    },
    {
     "name": "stderr",
     "output_type": "stream",
     "text": [
      "\r",
      " 70%|███████   | 158/225 [02:09<00:54,  1.23it/s]"
     ]
    },
    {
     "name": "stdout",
     "output_type": "stream",
     "text": [
      "forward()\n",
      "convs()\n"
     ]
    },
    {
     "name": "stderr",
     "output_type": "stream",
     "text": [
      "\r",
      " 71%|███████   | 159/225 [02:10<00:53,  1.24it/s]"
     ]
    },
    {
     "name": "stdout",
     "output_type": "stream",
     "text": [
      "forward()\n",
      "convs()\n"
     ]
    },
    {
     "name": "stderr",
     "output_type": "stream",
     "text": [
      "\r",
      " 71%|███████   | 160/225 [02:10<00:51,  1.25it/s]"
     ]
    },
    {
     "name": "stdout",
     "output_type": "stream",
     "text": [
      "forward()\n",
      "convs()\n"
     ]
    },
    {
     "name": "stderr",
     "output_type": "stream",
     "text": [
      "\r",
      " 72%|███████▏  | 161/225 [02:11<00:51,  1.24it/s]"
     ]
    },
    {
     "name": "stdout",
     "output_type": "stream",
     "text": [
      "forward()\n",
      "convs()\n"
     ]
    },
    {
     "name": "stderr",
     "output_type": "stream",
     "text": [
      "\r",
      " 72%|███████▏  | 162/225 [02:12<00:51,  1.23it/s]"
     ]
    },
    {
     "name": "stdout",
     "output_type": "stream",
     "text": [
      "forward()\n",
      "convs()\n"
     ]
    },
    {
     "name": "stderr",
     "output_type": "stream",
     "text": [
      "\r",
      " 72%|███████▏  | 163/225 [02:13<00:51,  1.19it/s]"
     ]
    },
    {
     "name": "stdout",
     "output_type": "stream",
     "text": [
      "forward()\n",
      "convs()\n"
     ]
    },
    {
     "name": "stderr",
     "output_type": "stream",
     "text": [
      "\r",
      " 73%|███████▎  | 164/225 [02:14<00:51,  1.20it/s]"
     ]
    },
    {
     "name": "stdout",
     "output_type": "stream",
     "text": [
      "forward()\n",
      "convs()\n"
     ]
    },
    {
     "name": "stderr",
     "output_type": "stream",
     "text": [
      "\r",
      " 73%|███████▎  | 165/225 [02:15<00:49,  1.21it/s]"
     ]
    },
    {
     "name": "stdout",
     "output_type": "stream",
     "text": [
      "forward()\n",
      "convs()\n"
     ]
    },
    {
     "name": "stderr",
     "output_type": "stream",
     "text": [
      "\r",
      " 74%|███████▍  | 166/225 [02:15<00:47,  1.24it/s]"
     ]
    },
    {
     "name": "stdout",
     "output_type": "stream",
     "text": [
      "forward()\n",
      "convs()\n"
     ]
    },
    {
     "name": "stderr",
     "output_type": "stream",
     "text": [
      "\r",
      " 74%|███████▍  | 167/225 [02:16<00:47,  1.22it/s]"
     ]
    },
    {
     "name": "stdout",
     "output_type": "stream",
     "text": [
      "forward()\n",
      "convs()\n"
     ]
    },
    {
     "name": "stderr",
     "output_type": "stream",
     "text": [
      "\r",
      " 75%|███████▍  | 168/225 [02:17<00:47,  1.19it/s]"
     ]
    },
    {
     "name": "stdout",
     "output_type": "stream",
     "text": [
      "forward()\n",
      "convs()\n"
     ]
    },
    {
     "name": "stderr",
     "output_type": "stream",
     "text": [
      "\r",
      " 75%|███████▌  | 169/225 [02:18<00:46,  1.21it/s]"
     ]
    },
    {
     "name": "stdout",
     "output_type": "stream",
     "text": [
      "forward()\n",
      "convs()\n"
     ]
    },
    {
     "name": "stderr",
     "output_type": "stream",
     "text": [
      "\r",
      " 76%|███████▌  | 170/225 [02:19<00:44,  1.23it/s]"
     ]
    },
    {
     "name": "stdout",
     "output_type": "stream",
     "text": [
      "forward()\n",
      "convs()\n"
     ]
    },
    {
     "name": "stderr",
     "output_type": "stream",
     "text": [
      "\r",
      " 76%|███████▌  | 171/225 [02:19<00:43,  1.24it/s]"
     ]
    },
    {
     "name": "stdout",
     "output_type": "stream",
     "text": [
      "forward()\n",
      "convs()\n"
     ]
    },
    {
     "name": "stderr",
     "output_type": "stream",
     "text": [
      "\r",
      " 76%|███████▋  | 172/225 [02:20<00:43,  1.23it/s]"
     ]
    },
    {
     "name": "stdout",
     "output_type": "stream",
     "text": [
      "forward()\n",
      "convs()\n"
     ]
    },
    {
     "name": "stderr",
     "output_type": "stream",
     "text": [
      "\r",
      " 77%|███████▋  | 173/225 [02:21<00:42,  1.22it/s]"
     ]
    },
    {
     "name": "stdout",
     "output_type": "stream",
     "text": [
      "forward()\n",
      "convs()\n"
     ]
    },
    {
     "name": "stderr",
     "output_type": "stream",
     "text": [
      "\r",
      " 77%|███████▋  | 174/225 [02:22<00:41,  1.22it/s]"
     ]
    },
    {
     "name": "stdout",
     "output_type": "stream",
     "text": [
      "forward()\n",
      "convs()\n"
     ]
    },
    {
     "name": "stderr",
     "output_type": "stream",
     "text": [
      "\r",
      " 78%|███████▊  | 175/225 [02:23<00:40,  1.24it/s]"
     ]
    },
    {
     "name": "stdout",
     "output_type": "stream",
     "text": [
      "forward()\n",
      "convs()\n"
     ]
    },
    {
     "name": "stderr",
     "output_type": "stream",
     "text": [
      "\r",
      " 78%|███████▊  | 176/225 [02:23<00:39,  1.24it/s]"
     ]
    },
    {
     "name": "stdout",
     "output_type": "stream",
     "text": [
      "forward()\n",
      "convs()\n"
     ]
    },
    {
     "name": "stderr",
     "output_type": "stream",
     "text": [
      "\r",
      " 79%|███████▊  | 177/225 [02:24<00:41,  1.15it/s]"
     ]
    },
    {
     "name": "stdout",
     "output_type": "stream",
     "text": [
      "forward()\n",
      "convs()\n"
     ]
    },
    {
     "name": "stderr",
     "output_type": "stream",
     "text": [
      "\r",
      " 79%|███████▉  | 178/225 [02:25<00:41,  1.13it/s]"
     ]
    },
    {
     "name": "stdout",
     "output_type": "stream",
     "text": [
      "forward()\n",
      "convs()\n"
     ]
    },
    {
     "name": "stderr",
     "output_type": "stream",
     "text": [
      "\r",
      " 80%|███████▉  | 179/225 [02:26<00:42,  1.07it/s]"
     ]
    },
    {
     "name": "stdout",
     "output_type": "stream",
     "text": [
      "forward()\n",
      "convs()\n"
     ]
    },
    {
     "name": "stderr",
     "output_type": "stream",
     "text": [
      "\r",
      " 80%|████████  | 180/225 [02:27<00:42,  1.06it/s]"
     ]
    },
    {
     "name": "stdout",
     "output_type": "stream",
     "text": [
      "forward()\n",
      "convs()\n"
     ]
    },
    {
     "name": "stderr",
     "output_type": "stream",
     "text": [
      "\r",
      " 80%|████████  | 181/225 [02:28<00:40,  1.08it/s]"
     ]
    },
    {
     "name": "stdout",
     "output_type": "stream",
     "text": [
      "forward()\n",
      "convs()\n"
     ]
    },
    {
     "name": "stderr",
     "output_type": "stream",
     "text": [
      "\r",
      " 81%|████████  | 182/225 [02:29<00:38,  1.13it/s]"
     ]
    },
    {
     "name": "stdout",
     "output_type": "stream",
     "text": [
      "forward()\n",
      "convs()\n"
     ]
    },
    {
     "name": "stderr",
     "output_type": "stream",
     "text": [
      "\r",
      " 81%|████████▏ | 183/225 [02:30<00:35,  1.18it/s]"
     ]
    },
    {
     "name": "stdout",
     "output_type": "stream",
     "text": [
      "forward()\n",
      "convs()\n"
     ]
    },
    {
     "name": "stderr",
     "output_type": "stream",
     "text": [
      "\r",
      " 82%|████████▏ | 184/225 [02:31<00:33,  1.21it/s]"
     ]
    },
    {
     "name": "stdout",
     "output_type": "stream",
     "text": [
      "forward()\n",
      "convs()\n"
     ]
    },
    {
     "name": "stderr",
     "output_type": "stream",
     "text": [
      "\r",
      " 82%|████████▏ | 185/225 [02:31<00:32,  1.24it/s]"
     ]
    },
    {
     "name": "stdout",
     "output_type": "stream",
     "text": [
      "forward()\n",
      "convs()\n"
     ]
    },
    {
     "name": "stderr",
     "output_type": "stream",
     "text": [
      "\r",
      " 83%|████████▎ | 186/225 [02:32<00:31,  1.25it/s]"
     ]
    },
    {
     "name": "stdout",
     "output_type": "stream",
     "text": [
      "forward()\n",
      "convs()\n"
     ]
    },
    {
     "name": "stderr",
     "output_type": "stream",
     "text": [
      "\r",
      " 83%|████████▎ | 187/225 [02:33<00:30,  1.23it/s]"
     ]
    },
    {
     "name": "stdout",
     "output_type": "stream",
     "text": [
      "forward()\n",
      "convs()\n"
     ]
    },
    {
     "name": "stderr",
     "output_type": "stream",
     "text": [
      "\r",
      " 84%|████████▎ | 188/225 [02:34<00:30,  1.23it/s]"
     ]
    },
    {
     "name": "stdout",
     "output_type": "stream",
     "text": [
      "forward()\n",
      "convs()\n"
     ]
    },
    {
     "name": "stderr",
     "output_type": "stream",
     "text": [
      "\r",
      " 84%|████████▍ | 189/225 [02:35<00:29,  1.24it/s]"
     ]
    },
    {
     "name": "stdout",
     "output_type": "stream",
     "text": [
      "forward()\n",
      "convs()\n"
     ]
    },
    {
     "name": "stderr",
     "output_type": "stream",
     "text": [
      "\r",
      " 84%|████████▍ | 190/225 [02:35<00:28,  1.24it/s]"
     ]
    },
    {
     "name": "stdout",
     "output_type": "stream",
     "text": [
      "forward()\n",
      "convs()\n"
     ]
    },
    {
     "name": "stderr",
     "output_type": "stream",
     "text": [
      "\r",
      " 85%|████████▍ | 191/225 [02:36<00:27,  1.23it/s]"
     ]
    },
    {
     "name": "stdout",
     "output_type": "stream",
     "text": [
      "forward()\n",
      "convs()\n"
     ]
    },
    {
     "name": "stderr",
     "output_type": "stream",
     "text": [
      "\r",
      " 85%|████████▌ | 192/225 [02:37<00:26,  1.24it/s]"
     ]
    },
    {
     "name": "stdout",
     "output_type": "stream",
     "text": [
      "forward()\n",
      "convs()\n"
     ]
    },
    {
     "name": "stderr",
     "output_type": "stream",
     "text": [
      "\r",
      " 86%|████████▌ | 193/225 [02:38<00:25,  1.24it/s]"
     ]
    },
    {
     "name": "stdout",
     "output_type": "stream",
     "text": [
      "forward()\n",
      "convs()\n"
     ]
    },
    {
     "name": "stderr",
     "output_type": "stream",
     "text": [
      "\r",
      " 86%|████████▌ | 194/225 [02:39<00:25,  1.23it/s]"
     ]
    },
    {
     "name": "stdout",
     "output_type": "stream",
     "text": [
      "forward()\n",
      "convs()\n"
     ]
    },
    {
     "name": "stderr",
     "output_type": "stream",
     "text": [
      "\r",
      " 87%|████████▋ | 195/225 [02:39<00:24,  1.24it/s]"
     ]
    },
    {
     "name": "stdout",
     "output_type": "stream",
     "text": [
      "forward()\n",
      "convs()\n"
     ]
    },
    {
     "name": "stderr",
     "output_type": "stream",
     "text": [
      "\r",
      " 87%|████████▋ | 196/225 [02:40<00:23,  1.25it/s]"
     ]
    },
    {
     "name": "stdout",
     "output_type": "stream",
     "text": [
      "forward()\n",
      "convs()\n"
     ]
    },
    {
     "name": "stderr",
     "output_type": "stream",
     "text": [
      "\r",
      " 88%|████████▊ | 197/225 [02:41<00:21,  1.27it/s]"
     ]
    },
    {
     "name": "stdout",
     "output_type": "stream",
     "text": [
      "forward()\n",
      "convs()\n"
     ]
    },
    {
     "name": "stderr",
     "output_type": "stream",
     "text": [
      "\r",
      " 88%|████████▊ | 198/225 [02:42<00:21,  1.28it/s]"
     ]
    },
    {
     "name": "stdout",
     "output_type": "stream",
     "text": [
      "forward()\n",
      "convs()\n"
     ]
    },
    {
     "name": "stderr",
     "output_type": "stream",
     "text": [
      "\r",
      " 88%|████████▊ | 199/225 [02:43<00:20,  1.26it/s]"
     ]
    },
    {
     "name": "stdout",
     "output_type": "stream",
     "text": [
      "forward()\n",
      "convs()\n"
     ]
    },
    {
     "name": "stderr",
     "output_type": "stream",
     "text": [
      "\r",
      " 89%|████████▉ | 200/225 [02:44<00:20,  1.21it/s]"
     ]
    },
    {
     "name": "stdout",
     "output_type": "stream",
     "text": [
      "forward()\n",
      "convs()\n"
     ]
    },
    {
     "name": "stderr",
     "output_type": "stream",
     "text": [
      "\r",
      " 89%|████████▉ | 201/225 [02:44<00:19,  1.22it/s]"
     ]
    },
    {
     "name": "stdout",
     "output_type": "stream",
     "text": [
      "forward()\n",
      "convs()\n"
     ]
    },
    {
     "name": "stderr",
     "output_type": "stream",
     "text": [
      "\r",
      " 90%|████████▉ | 202/225 [02:45<00:18,  1.21it/s]"
     ]
    },
    {
     "name": "stdout",
     "output_type": "stream",
     "text": [
      "forward()\n",
      "convs()\n"
     ]
    },
    {
     "name": "stderr",
     "output_type": "stream",
     "text": [
      "\r",
      " 90%|█████████ | 203/225 [02:46<00:17,  1.23it/s]"
     ]
    },
    {
     "name": "stdout",
     "output_type": "stream",
     "text": [
      "forward()\n",
      "convs()\n"
     ]
    },
    {
     "name": "stderr",
     "output_type": "stream",
     "text": [
      "\r",
      " 91%|█████████ | 204/225 [02:47<00:16,  1.26it/s]"
     ]
    },
    {
     "name": "stdout",
     "output_type": "stream",
     "text": [
      "forward()\n",
      "convs()\n"
     ]
    },
    {
     "name": "stderr",
     "output_type": "stream",
     "text": [
      "\r",
      " 91%|█████████ | 205/225 [02:47<00:15,  1.28it/s]"
     ]
    },
    {
     "name": "stdout",
     "output_type": "stream",
     "text": [
      "forward()\n",
      "convs()\n"
     ]
    },
    {
     "name": "stderr",
     "output_type": "stream",
     "text": [
      "\r",
      " 92%|█████████▏| 206/225 [02:48<00:14,  1.29it/s]"
     ]
    },
    {
     "name": "stdout",
     "output_type": "stream",
     "text": [
      "forward()\n",
      "convs()\n"
     ]
    },
    {
     "name": "stderr",
     "output_type": "stream",
     "text": [
      "\r",
      " 92%|█████████▏| 207/225 [02:49<00:13,  1.30it/s]"
     ]
    },
    {
     "name": "stdout",
     "output_type": "stream",
     "text": [
      "forward()\n",
      "convs()\n"
     ]
    },
    {
     "name": "stderr",
     "output_type": "stream",
     "text": [
      "\r",
      " 92%|█████████▏| 208/225 [02:50<00:12,  1.31it/s]"
     ]
    },
    {
     "name": "stdout",
     "output_type": "stream",
     "text": [
      "forward()\n",
      "convs()\n"
     ]
    },
    {
     "name": "stderr",
     "output_type": "stream",
     "text": [
      "\r",
      " 93%|█████████▎| 209/225 [02:50<00:12,  1.32it/s]"
     ]
    },
    {
     "name": "stdout",
     "output_type": "stream",
     "text": [
      "forward()\n",
      "convs()\n"
     ]
    },
    {
     "name": "stderr",
     "output_type": "stream",
     "text": [
      "\r",
      " 93%|█████████▎| 210/225 [02:51<00:11,  1.29it/s]"
     ]
    },
    {
     "name": "stdout",
     "output_type": "stream",
     "text": [
      "forward()\n",
      "convs()\n"
     ]
    },
    {
     "name": "stderr",
     "output_type": "stream",
     "text": [
      "\r",
      " 94%|█████████▍| 211/225 [02:52<00:11,  1.24it/s]"
     ]
    },
    {
     "name": "stdout",
     "output_type": "stream",
     "text": [
      "forward()\n",
      "convs()\n"
     ]
    },
    {
     "name": "stderr",
     "output_type": "stream",
     "text": [
      "\r",
      " 94%|█████████▍| 212/225 [02:53<00:10,  1.25it/s]"
     ]
    },
    {
     "name": "stdout",
     "output_type": "stream",
     "text": [
      "forward()\n",
      "convs()\n"
     ]
    },
    {
     "name": "stderr",
     "output_type": "stream",
     "text": [
      "\r",
      " 95%|█████████▍| 213/225 [02:54<00:09,  1.26it/s]"
     ]
    },
    {
     "name": "stdout",
     "output_type": "stream",
     "text": [
      "forward()\n",
      "convs()\n"
     ]
    },
    {
     "name": "stderr",
     "output_type": "stream",
     "text": [
      "\r",
      " 95%|█████████▌| 214/225 [02:54<00:08,  1.26it/s]"
     ]
    },
    {
     "name": "stdout",
     "output_type": "stream",
     "text": [
      "forward()\n",
      "convs()\n"
     ]
    },
    {
     "name": "stderr",
     "output_type": "stream",
     "text": [
      "\r",
      " 96%|█████████▌| 215/225 [02:55<00:07,  1.27it/s]"
     ]
    },
    {
     "name": "stdout",
     "output_type": "stream",
     "text": [
      "forward()\n",
      "convs()\n"
     ]
    },
    {
     "name": "stderr",
     "output_type": "stream",
     "text": [
      "\r",
      " 96%|█████████▌| 216/225 [02:56<00:07,  1.28it/s]"
     ]
    },
    {
     "name": "stdout",
     "output_type": "stream",
     "text": [
      "forward()\n",
      "convs()\n"
     ]
    },
    {
     "name": "stderr",
     "output_type": "stream",
     "text": [
      "\r",
      " 96%|█████████▋| 217/225 [02:57<00:06,  1.28it/s]"
     ]
    },
    {
     "name": "stdout",
     "output_type": "stream",
     "text": [
      "forward()\n",
      "convs()\n"
     ]
    },
    {
     "name": "stderr",
     "output_type": "stream",
     "text": [
      "\r",
      " 97%|█████████▋| 218/225 [02:58<00:05,  1.27it/s]"
     ]
    },
    {
     "name": "stdout",
     "output_type": "stream",
     "text": [
      "forward()\n",
      "convs()\n"
     ]
    },
    {
     "name": "stderr",
     "output_type": "stream",
     "text": [
      "\r",
      " 97%|█████████▋| 219/225 [02:58<00:04,  1.27it/s]"
     ]
    },
    {
     "name": "stdout",
     "output_type": "stream",
     "text": [
      "forward()\n",
      "convs()\n"
     ]
    },
    {
     "name": "stderr",
     "output_type": "stream",
     "text": [
      "\r",
      " 98%|█████████▊| 220/225 [02:59<00:03,  1.28it/s]"
     ]
    },
    {
     "name": "stdout",
     "output_type": "stream",
     "text": [
      "forward()\n",
      "convs()\n"
     ]
    },
    {
     "name": "stderr",
     "output_type": "stream",
     "text": [
      "\r",
      " 98%|█████████▊| 221/225 [03:00<00:03,  1.29it/s]"
     ]
    },
    {
     "name": "stdout",
     "output_type": "stream",
     "text": [
      "forward()\n",
      "convs()\n"
     ]
    },
    {
     "name": "stderr",
     "output_type": "stream",
     "text": [
      "\r",
      " 99%|█████████▊| 222/225 [03:01<00:02,  1.27it/s]"
     ]
    },
    {
     "name": "stdout",
     "output_type": "stream",
     "text": [
      "forward()\n",
      "convs()\n"
     ]
    },
    {
     "name": "stderr",
     "output_type": "stream",
     "text": [
      "\r",
      " 99%|█████████▉| 223/225 [03:02<00:01,  1.27it/s]"
     ]
    },
    {
     "name": "stdout",
     "output_type": "stream",
     "text": [
      "forward()\n",
      "convs()\n"
     ]
    },
    {
     "name": "stderr",
     "output_type": "stream",
     "text": [
      "\r",
      "100%|█████████▉| 224/225 [03:02<00:00,  1.26it/s]"
     ]
    },
    {
     "name": "stdout",
     "output_type": "stream",
     "text": [
      "forward()\n",
      "convs()\n"
     ]
    },
    {
     "name": "stderr",
     "output_type": "stream",
     "text": [
      "\r",
      "100%|██████████| 225/225 [03:03<00:00,  1.47it/s]"
     ]
    },
    {
     "name": "stdout",
     "output_type": "stream",
     "text": [
      "Epoch: 0. Loss: 0.2542436122894287\n"
     ]
    },
    {
     "name": "stderr",
     "output_type": "stream",
     "text": [
      "\n"
     ]
    }
   ],
   "source": [
    "BATCH_SIZE = 100\n",
    "EPOCHS = 1\n",
    "\n",
    "for epoch in range(EPOCHS):\n",
    "    for i in tqdm(range(0, len(train_X), BATCH_SIZE)): \n",
    "        batch_X = train_X[i:i+BATCH_SIZE].view(-1, 1, 50, 50)\n",
    "        batch_y = train_y[i:i+BATCH_SIZE]\n",
    "        \n",
    "        net.zero_grad()\n",
    "        \n",
    "        outputs = net(batch_X)\n",
    "        loss = loss_function(outputs, batch_y)\n",
    "        loss.backward()\n",
    "        optimizer.step()\n",
    "        \n",
    "    print(f\"Epoch: {epoch}. Loss: {loss}\")"
   ]
  },
  {
   "cell_type": "code",
   "execution_count": 34,
   "metadata": {},
   "outputs": [
    {
     "name": "stderr",
     "output_type": "stream",
     "text": [
      "  0%|          | 11/2494 [00:00<00:23, 107.54it/s]"
     ]
    },
    {
     "name": "stdout",
     "output_type": "stream",
     "text": [
      "forward()\n",
      "convs()\n",
      "forward()\n",
      "convs()\n",
      "forward()\n",
      "convs()\n",
      "forward()\n",
      "convs()\n",
      "forward()\n",
      "convs()\n",
      "forward()\n",
      "convs()\n",
      "forward()\n",
      "convs()\n",
      "forward()\n",
      "convs()\n",
      "forward()\n",
      "convs()\n",
      "forward()\n",
      "convs()\n",
      "forward()\n",
      "convs()\n",
      "forward()\n",
      "convs()\n",
      "forward()\n",
      "convs()\n",
      "forward()\n",
      "convs()\n",
      "forward()\n",
      "convs()\n",
      "forward()\n",
      "convs()\n"
     ]
    },
    {
     "name": "stderr",
     "output_type": "stream",
     "text": [
      "\r",
      "  1%|          | 29/2494 [00:00<00:20, 121.19it/s]"
     ]
    },
    {
     "name": "stdout",
     "output_type": "stream",
     "text": [
      "forward()\n",
      "convs()\n",
      "forward()\n",
      "convs()\n",
      "forward()\n",
      "convs()\n",
      "forward()\n",
      "convs()\n",
      "forward()\n",
      "convs()\n",
      "forward()\n",
      "convs()\n",
      "forward()\n",
      "convs()\n",
      "forward()\n",
      "convs()\n",
      "forward()\n",
      "convs()\n",
      "forward()\n",
      "convs()\n",
      "forward()\n",
      "convs()\n",
      "forward()\n",
      "convs()\n",
      "forward()\n",
      "convs()\n",
      "forward()\n",
      "convs()\n"
     ]
    },
    {
     "name": "stderr",
     "output_type": "stream",
     "text": [
      "\r",
      "  2%|▏         | 47/2494 [00:00<00:18, 133.81it/s]"
     ]
    },
    {
     "name": "stdout",
     "output_type": "stream",
     "text": [
      "forward()\n",
      "convs()\n",
      "forward()\n",
      "convs()\n",
      "forward()\n",
      "convs()\n",
      "forward()\n",
      "convs()\n",
      "forward()\n",
      "convs()\n",
      "forward()\n",
      "convs()\n",
      "forward()\n",
      "convs()\n",
      "forward()\n",
      "convs()\n",
      "forward()\n",
      "convs()\n",
      "forward()\n",
      "convs()\n",
      "forward()\n",
      "convs()\n",
      "forward()\n",
      "convs()\n",
      "forward()\n",
      "convs()\n",
      "forward()\n",
      "convs()\n",
      "forward()\n",
      "convs()\n",
      "forward()\n",
      "convs()\n",
      "forward()\n",
      "convs()\n",
      "forward()\n",
      "convs()\n",
      "forward()\n",
      "convs()\n",
      "forward()\n",
      "convs()\n",
      "forward()\n",
      "convs()\n"
     ]
    },
    {
     "name": "stderr",
     "output_type": "stream",
     "text": [
      "\r",
      "  2%|▏         | 62/2494 [00:00<00:17, 138.11it/s]"
     ]
    },
    {
     "name": "stdout",
     "output_type": "stream",
     "text": [
      "forward()\n",
      "convs()\n",
      "forward()\n",
      "convs()\n",
      "forward()\n",
      "convs()\n",
      "forward()\n",
      "convs()\n",
      "forward()\n",
      "convs()\n",
      "forward()\n",
      "convs()\n",
      "forward()\n",
      "convs()\n",
      "forward()\n",
      "convs()\n",
      "forward()\n",
      "convs()\n",
      "forward()\n",
      "convs()\n",
      "forward()\n",
      "convs()\n",
      "forward()\n",
      "convs()\n"
     ]
    },
    {
     "name": "stderr",
     "output_type": "stream",
     "text": [
      "\r",
      "  3%|▎         | 84/2494 [00:00<00:15, 154.92it/s]"
     ]
    },
    {
     "name": "stdout",
     "output_type": "stream",
     "text": [
      "forward()\n",
      "convs()\n",
      "forward()\n",
      "convs()\n",
      "forward()\n",
      "convs()\n",
      "forward()\n",
      "convs()\n",
      "forward()\n",
      "convs()\n",
      "forward()\n",
      "convs()\n",
      "forward()\n",
      "convs()\n",
      "forward()\n",
      "convs()\n",
      "forward()\n",
      "convs()\n",
      "forward()\n",
      "convs()\n",
      "forward()\n",
      "convs()\n",
      "forward()\n",
      "convs()\n",
      "forward()\n",
      "convs()\n",
      "forward()\n",
      "convs()\n",
      "forward()\n",
      "convs()\n",
      "forward()\n",
      "convs()\n",
      "forward()\n",
      "convs()\n",
      "forward()\n",
      "convs()\n",
      "forward()\n",
      "convs()\n",
      "forward()\n",
      "convs()\n",
      "forward()\n",
      "convs()\n",
      "forward()\n",
      "convs()\n",
      "forward()\n",
      "convs()\n",
      "forward()\n",
      "convs()\n",
      "forward()\n",
      "convs()\n",
      "forward()\n",
      "convs()\n",
      "forward()"
     ]
    },
    {
     "name": "stderr",
     "output_type": "stream",
     "text": [
      "\r",
      "  4%|▍         | 109/2494 [00:00<00:13, 174.62it/s]"
     ]
    },
    {
     "name": "stdout",
     "output_type": "stream",
     "text": [
      "\n",
      "convs()\n",
      "forward()\n",
      "convs()\n",
      "forward()\n",
      "convs()\n",
      "forward()\n",
      "convs()\n",
      "forward()\n",
      "convs()\n",
      "forward()\n",
      "convs()\n",
      "forward()\n",
      "convs()\n",
      "forward()\n",
      "convs()\n",
      "forward()\n",
      "convs()\n",
      "forward()\n",
      "convs()\n",
      "forward()\n",
      "convs()\n",
      "forward()\n",
      "convs()\n",
      "forward()\n",
      "convs()\n",
      "forward()\n",
      "convs()\n",
      "forward()\n",
      "convs()\n",
      "forward()\n",
      "convs()\n",
      "forward()\n",
      "convs()\n",
      "forward()\n",
      "convs()\n",
      "forward()\n",
      "convs()\n",
      "forward()\n",
      "convs()\n",
      "forward()\n",
      "convs()\n",
      "forward()\n",
      "convs()\n"
     ]
    },
    {
     "name": "stderr",
     "output_type": "stream",
     "text": [
      "\r",
      "  5%|▌         | 135/2494 [00:00<00:12, 192.67it/s]"
     ]
    },
    {
     "name": "stdout",
     "output_type": "stream",
     "text": [
      "forward()\n",
      "convs()\n",
      "forward()\n",
      "convs()\n",
      "forward()\n",
      "convs()\n",
      "forward()\n",
      "convs()\n",
      "forward()\n",
      "convs()\n",
      "forward()\n",
      "convs()\n",
      "forward()\n",
      "convs()\n",
      "forward()\n",
      "convs()\n",
      "forward()\n",
      "convs()\n",
      "forward()\n",
      "convs()\n",
      "forward()\n",
      "convs()\n",
      "forward()\n",
      "convs()\n",
      "forward()\n",
      "convs()\n",
      "forward()\n",
      "convs()\n",
      "forward()\n",
      "convs()\n",
      "forward()\n",
      "convs()\n",
      "forward()\n",
      "convs()\n",
      "forward()\n",
      "convs()\n",
      "forward()\n",
      "convs()\n",
      "forward()\n",
      "convs()\n",
      "forward()\n",
      "convs()\n",
      "forward()\n",
      "convs()\n",
      "forward()\n",
      "convs()\n",
      "forward()\n",
      "convs()\n",
      "forward()\n",
      "convs()\n",
      "forward()\n",
      "convs()\n",
      "forward()\n",
      "convs()\n",
      "forward()\n",
      "convs()\n",
      "forward()\n",
      "convs()\n"
     ]
    },
    {
     "name": "stderr",
     "output_type": "stream",
     "text": [
      "\r",
      "  6%|▋         | 162/2494 [00:00<00:11, 209.77it/s]"
     ]
    },
    {
     "name": "stdout",
     "output_type": "stream",
     "text": [
      "forward()\n",
      "convs()\n",
      "forward()\n",
      "convs()\n",
      "forward()\n",
      "convs()\n",
      "forward()\n",
      "convs()\n",
      "forward()\n",
      "convs()\n",
      "forward()\n",
      "convs()\n",
      "forward()\n",
      "convs()\n",
      "forward()\n",
      "convs()\n",
      "forward()\n",
      "convs()\n",
      "forward()\n",
      "convs()\n",
      "forward()\n",
      "convs()\n",
      "forward()\n",
      "convs()\n",
      "forward()\n",
      "convs()\n",
      "forward()\n",
      "convs()\n",
      "forward()\n",
      "convs()\n",
      "forward()\n",
      "convs()\n",
      "forward()\n",
      "convs()\n",
      "forward()\n",
      "convs()\n",
      "forward()\n",
      "convs()\n",
      "forward()\n",
      "convs()\n",
      "forward()\n",
      "convs()\n",
      "forward()\n",
      "convs()\n",
      "forward()\n",
      "convs()\n",
      "forward()\n",
      "convs()\n"
     ]
    },
    {
     "name": "stderr",
     "output_type": "stream",
     "text": [
      "\r",
      "  8%|▊         | 189/2494 [00:00<00:10, 223.53it/s]"
     ]
    },
    {
     "name": "stdout",
     "output_type": "stream",
     "text": [
      "forward()\n",
      "convs()\n",
      "forward()\n",
      "convs()\n",
      "forward()\n",
      "convs()\n",
      "forward()\n",
      "convs()\n",
      "forward()\n",
      "convs()\n",
      "forward()\n",
      "convs()\n",
      "forward()\n",
      "convs()\n",
      "forward()\n",
      "convs()\n",
      "forward()\n",
      "convs()\n",
      "forward()\n",
      "convs()\n",
      "forward()\n",
      "convs()\n",
      "forward()\n",
      "convs()\n",
      "forward()\n",
      "convs()\n",
      "forward()\n",
      "convs()\n",
      "forward()\n",
      "convs()\n",
      "forward()\n",
      "convs()\n",
      "forward()\n",
      "convs()\n",
      "forward()\n",
      "convs()\n",
      "forward()\n",
      "convs()\n",
      "forward()\n",
      "convs()\n",
      "forward()\n",
      "convs()\n",
      "forward()\n",
      "convs()\n",
      "forward()\n",
      "convs()\n",
      "forward()\n",
      "convs()\n",
      "forward()\n",
      "convs()\n",
      "forward()\n",
      "convs()\n",
      "forward()\n",
      "convs()\n",
      "forward()\n",
      "convs()\n",
      "forward()\n",
      "convs()\n",
      "forward()"
     ]
    },
    {
     "name": "stderr",
     "output_type": "stream",
     "text": [
      "\r",
      "  9%|▊         | 215/2494 [00:01<00:09, 232.28it/s]"
     ]
    },
    {
     "name": "stdout",
     "output_type": "stream",
     "text": [
      "\n",
      "convs()\n",
      "forward()\n",
      "convs()\n",
      "forward()\n",
      "convs()\n",
      "forward()\n",
      "convs()\n",
      "forward()\n",
      "convs()\n",
      "forward()\n",
      "convs()\n",
      "forward()\n",
      "convs()\n",
      "forward()\n",
      "convs()\n",
      "forward()\n",
      "convs()\n",
      "forward()\n",
      "convs()\n",
      "forward()\n",
      "convs()\n",
      "forward()\n",
      "convs()\n",
      "forward()\n",
      "convs()\n",
      "forward()\n",
      "convs()\n",
      "forward()\n",
      "convs()\n",
      "forward()\n",
      "convs()\n",
      "forward()\n",
      "convs()\n",
      "forward()\n",
      "convs()\n",
      "forward()\n",
      "convs()\n",
      "forward()\n",
      "convs()\n",
      "forward()\n",
      "convs()\n",
      "forward()\n",
      "convs()\n",
      "forward()\n",
      "convs()\n",
      "forward()\n",
      "convs()\n"
     ]
    },
    {
     "name": "stderr",
     "output_type": "stream",
     "text": [
      "\r",
      " 10%|▉         | 240/2494 [00:01<00:09, 235.34it/s]"
     ]
    },
    {
     "name": "stdout",
     "output_type": "stream",
     "text": [
      "forward()\n",
      "convs()\n",
      "forward()\n",
      "convs()\n",
      "forward()\n",
      "convs()\n",
      "forward()\n",
      "convs()\n",
      "forward()\n",
      "convs()\n",
      "forward()\n",
      "convs()\n",
      "forward()\n",
      "convs()\n",
      "forward()\n",
      "convs()\n",
      "forward()\n",
      "convs()\n",
      "forward()\n",
      "convs()\n",
      "forward()\n",
      "convs()\n",
      "forward()\n",
      "convs()\n",
      "forward()\n",
      "convs()\n",
      "forward()\n",
      "convs()\n",
      "forward()\n",
      "convs()\n",
      "forward()\n",
      "convs()\n",
      "forward()\n",
      "convs()\n",
      "forward()\n",
      "convs()\n",
      "forward()\n",
      "convs()\n",
      "forward()\n",
      "convs()\n",
      "forward()\n",
      "convs()\n",
      "forward()\n",
      "convs()\n",
      "forward()\n",
      "convs()\n",
      "forward()\n",
      "convs()\n",
      "forward()\n",
      "convs()\n",
      "forward()\n",
      "convs()\n",
      "forward()\n",
      "convs()\n"
     ]
    },
    {
     "name": "stderr",
     "output_type": "stream",
     "text": [
      "\r",
      " 11%|█         | 265/2494 [00:01<00:09, 237.86it/s]"
     ]
    },
    {
     "name": "stdout",
     "output_type": "stream",
     "text": [
      "forward()\n",
      "convs()\n",
      "forward()\n",
      "convs()\n",
      "forward()\n",
      "convs()\n",
      "forward()\n",
      "convs()\n",
      "forward()\n",
      "convs()\n",
      "forward()\n",
      "convs()\n",
      "forward()\n",
      "convs()\n",
      "forward()\n",
      "convs()\n",
      "forward()\n",
      "convs()\n",
      "forward()\n",
      "convs()\n",
      "forward()\n",
      "convs()\n",
      "forward()\n",
      "convs()\n",
      "forward()\n",
      "convs()\n",
      "forward()\n",
      "convs()\n",
      "forward()\n",
      "convs()\n",
      "forward()\n",
      "convs()\n",
      "forward()\n",
      "convs()\n",
      "forward()\n",
      "convs()\n",
      "forward()\n",
      "convs()\n",
      "forward()\n",
      "convs()\n",
      "forward()\n",
      "convs()\n",
      "forward()\n",
      "convs()\n",
      "forward()\n",
      "convs()\n"
     ]
    },
    {
     "name": "stderr",
     "output_type": "stream",
     "text": [
      "\r",
      " 12%|█▏        | 291/2494 [00:01<00:09, 242.80it/s]"
     ]
    },
    {
     "name": "stdout",
     "output_type": "stream",
     "text": [
      "forward()\n",
      "convs()\n",
      "forward()\n",
      "convs()\n",
      "forward()\n",
      "convs()\n",
      "forward()\n",
      "convs()\n",
      "forward()\n",
      "convs()\n",
      "forward()\n",
      "convs()\n",
      "forward()\n",
      "convs()\n",
      "forward()\n",
      "convs()\n",
      "forward()\n",
      "convs()\n",
      "forward()\n",
      "convs()\n",
      "forward()\n",
      "convs()\n",
      "forward()\n",
      "convs()\n",
      "forward()\n",
      "convs()\n",
      "forward()\n",
      "convs()\n",
      "forward()\n",
      "convs()\n",
      "forward()\n",
      "convs()\n",
      "forward()\n",
      "convs()\n",
      "forward()\n",
      "convs()\n",
      "forward()\n",
      "convs()\n",
      "forward()\n",
      "convs()\n",
      "forward()\n",
      "convs()\n",
      "forward()\n",
      "convs()\n",
      "forward()\n",
      "convs()\n",
      "forward()\n",
      "convs()\n",
      "forward()\n",
      "convs()\n",
      "forward()\n",
      "convs()\n",
      "forward()\n",
      "convs()\n",
      "forward()\n",
      "convs()\n"
     ]
    },
    {
     "name": "stderr",
     "output_type": "stream",
     "text": [
      "\r",
      " 13%|█▎        | 317/2494 [00:01<00:08, 247.58it/s]"
     ]
    },
    {
     "name": "stdout",
     "output_type": "stream",
     "text": [
      "forward()\n",
      "convs()\n",
      "forward()\n",
      "convs()\n",
      "forward()\n",
      "convs()\n",
      "forward()\n",
      "convs()\n",
      "forward()\n",
      "convs()\n",
      "forward()\n",
      "convs()\n",
      "forward()\n",
      "convs()\n",
      "forward()\n",
      "convs()\n",
      "forward()\n",
      "convs()\n",
      "forward()\n",
      "convs()\n",
      "forward()\n",
      "convs()\n",
      "forward()\n",
      "convs()\n",
      "forward()\n",
      "convs()\n",
      "forward()\n",
      "convs()\n",
      "forward()\n",
      "convs()\n",
      "forward()\n",
      "convs()\n",
      "forward()\n",
      "convs()\n",
      "forward()\n",
      "convs()\n",
      "forward()\n",
      "convs()\n",
      "forward()\n",
      "convs()\n",
      "forward()\n",
      "convs()\n",
      "forward()\n",
      "convs()\n",
      "forward()\n",
      "convs()\n",
      "forward()\n",
      "convs()\n",
      "forward()\n",
      "convs()\n"
     ]
    },
    {
     "name": "stderr",
     "output_type": "stream",
     "text": [
      "\r",
      " 14%|█▍        | 343/2494 [00:01<00:08, 249.70it/s]"
     ]
    },
    {
     "name": "stdout",
     "output_type": "stream",
     "text": [
      "forward()\n",
      "convs()\n",
      "forward()\n",
      "convs()\n",
      "forward()\n",
      "convs()\n",
      "forward()\n",
      "convs()\n",
      "forward()\n",
      "convs()\n",
      "forward()\n",
      "convs()\n",
      "forward()\n",
      "convs()\n",
      "forward()\n",
      "convs()\n",
      "forward()\n",
      "convs()\n",
      "forward()\n",
      "convs()\n",
      "forward()\n",
      "convs()\n",
      "forward()\n",
      "convs()\n",
      "forward()\n",
      "convs()\n",
      "forward()\n",
      "convs()\n",
      "forward()\n",
      "convs()\n",
      "forward()\n",
      "convs()\n",
      "forward()\n",
      "convs()\n",
      "forward()\n",
      "convs()\n",
      "forward()\n",
      "convs()\n",
      "forward()\n",
      "convs()\n",
      "forward()\n",
      "convs()\n",
      "forward()\n",
      "convs()\n",
      "forward()\n",
      "convs()\n",
      "forward()\n",
      "convs()\n",
      "forward()\n",
      "convs()\n",
      "forward()\n",
      "convs()\n",
      "forward()\n",
      "convs()\n"
     ]
    },
    {
     "name": "stderr",
     "output_type": "stream",
     "text": [
      "\r",
      " 15%|█▍        | 369/2494 [00:01<00:08, 244.34it/s]"
     ]
    },
    {
     "name": "stdout",
     "output_type": "stream",
     "text": [
      "forward()\n",
      "convs()\n",
      "forward()\n",
      "convs()\n",
      "forward()\n",
      "convs()\n",
      "forward()\n",
      "convs()\n",
      "forward()\n",
      "convs()\n",
      "forward()\n",
      "convs()\n",
      "forward()\n",
      "convs()\n",
      "forward()\n",
      "convs()\n",
      "forward()\n",
      "convs()\n",
      "forward()\n",
      "convs()\n",
      "forward()\n",
      "convs()\n",
      "forward()\n",
      "convs()\n",
      "forward()\n",
      "convs()\n",
      "forward()\n",
      "convs()\n",
      "forward()\n",
      "convs()\n",
      "forward()\n",
      "convs()\n",
      "forward()\n",
      "convs()\n",
      "forward()\n",
      "convs()\n",
      "forward()\n",
      "convs()\n",
      "forward()\n",
      "convs()\n",
      "forward()\n",
      "convs()\n",
      "forward()\n",
      "convs()\n",
      "forward()\n",
      "convs()\n"
     ]
    },
    {
     "name": "stderr",
     "output_type": "stream",
     "text": [
      "\r",
      " 16%|█▌        | 396/2494 [00:01<00:08, 249.84it/s]"
     ]
    },
    {
     "name": "stdout",
     "output_type": "stream",
     "text": [
      "forward()\n",
      "convs()\n",
      "forward()\n",
      "convs()\n",
      "forward()\n",
      "convs()\n",
      "forward()\n",
      "convs()\n",
      "forward()\n",
      "convs()\n",
      "forward()\n",
      "convs()\n",
      "forward()\n",
      "convs()\n",
      "forward()\n",
      "convs()\n",
      "forward()\n",
      "convs()\n",
      "forward()\n",
      "convs()\n",
      "forward()\n",
      "convs()\n",
      "forward()\n",
      "convs()\n",
      "forward()\n",
      "convs()\n",
      "forward()\n",
      "convs()\n",
      "forward()\n",
      "convs()\n",
      "forward()\n",
      "convs()\n",
      "forward()\n",
      "convs()\n",
      "forward()\n",
      "convs()\n",
      "forward()\n",
      "convs()\n",
      "forward()\n",
      "convs()\n",
      "forward()\n",
      "convs()\n",
      "forward()\n",
      "convs()\n",
      "forward()\n",
      "convs()\n",
      "forward()\n",
      "convs()\n",
      "forward()\n",
      "convs()\n",
      "forward()\n",
      "convs()\n",
      "forward()\n",
      "convs()\n",
      "forward()\n",
      "convs()\n",
      "forward()\n",
      "convs()\n"
     ]
    },
    {
     "name": "stderr",
     "output_type": "stream",
     "text": [
      "\r",
      " 17%|█▋        | 422/2494 [00:01<00:08, 251.89it/s]"
     ]
    },
    {
     "name": "stdout",
     "output_type": "stream",
     "text": [
      "forward()\n",
      "convs()\n",
      "forward()\n",
      "convs()\n",
      "forward()\n",
      "convs()\n",
      "forward()\n",
      "convs()\n",
      "forward()\n",
      "convs()\n",
      "forward()\n",
      "convs()\n",
      "forward()\n",
      "convs()\n",
      "forward()\n",
      "convs()\n",
      "forward()\n",
      "convs()\n",
      "forward()\n",
      "convs()\n",
      "forward()\n",
      "convs()\n",
      "forward()\n",
      "convs()\n",
      "forward()\n",
      "convs()\n",
      "forward()\n",
      "convs()\n",
      "forward()\n",
      "convs()\n",
      "forward()\n",
      "convs()\n",
      "forward()\n",
      "convs()\n",
      "forward()\n",
      "convs()\n",
      "forward()\n",
      "convs()\n",
      "forward()\n",
      "convs()\n",
      "forward()\n",
      "convs()\n",
      "forward()\n",
      "convs()\n",
      "forward()\n",
      "convs()\n",
      "forward()\n",
      "convs()\n"
     ]
    },
    {
     "name": "stderr",
     "output_type": "stream",
     "text": [
      "\r",
      " 18%|█▊        | 449/2494 [00:01<00:07, 256.59it/s]"
     ]
    },
    {
     "name": "stdout",
     "output_type": "stream",
     "text": [
      "forward()\n",
      "convs()\n",
      "forward()\n",
      "convs()\n",
      "forward()\n",
      "convs()\n",
      "forward()\n",
      "convs()\n",
      "forward()\n",
      "convs()\n",
      "forward()\n",
      "convs()\n",
      "forward()\n",
      "convs()\n",
      "forward()\n",
      "convs()\n",
      "forward()\n",
      "convs()\n",
      "forward()\n",
      "convs()\n",
      "forward()\n",
      "convs()\n",
      "forward()\n",
      "convs()\n",
      "forward()\n",
      "convs()\n",
      "forward()\n",
      "convs()\n",
      "forward()\n",
      "convs()\n",
      "forward()\n",
      "convs()\n",
      "forward()\n",
      "convs()\n",
      "forward()\n",
      "convs()\n",
      "forward()\n",
      "convs()\n",
      "forward()\n",
      "convs()\n",
      "forward()\n",
      "convs()\n",
      "forward()\n",
      "convs()\n",
      "forward()\n",
      "convs()\n",
      "forward()\n",
      "convs()\n",
      "forward()\n",
      "convs()\n",
      "forward()\n",
      "convs()\n",
      "forward()\n",
      "convs()\n",
      "forward()\n",
      "convs()\n",
      "forward()\n",
      "convs()\n",
      "forward()\n",
      "convs()\n"
     ]
    },
    {
     "name": "stderr",
     "output_type": "stream",
     "text": [
      "\r",
      " 19%|█▉        | 475/2494 [00:02<00:07, 255.63it/s]"
     ]
    },
    {
     "name": "stdout",
     "output_type": "stream",
     "text": [
      "forward()\n",
      "convs()\n",
      "forward()\n",
      "convs()\n",
      "forward()\n",
      "convs()\n",
      "forward()\n",
      "convs()\n",
      "forward()\n",
      "convs()\n",
      "forward()\n",
      "convs()\n",
      "forward()\n",
      "convs()\n",
      "forward()\n",
      "convs()\n",
      "forward()\n",
      "convs()\n",
      "forward()\n",
      "convs()\n",
      "forward()\n",
      "convs()\n",
      "forward()\n",
      "convs()\n",
      "forward()\n",
      "convs()\n",
      "forward()\n",
      "convs()\n",
      "forward()\n",
      "convs()\n",
      "forward()\n",
      "convs()\n",
      "forward()\n",
      "convs()\n",
      "forward()\n",
      "convs()\n",
      "forward()\n",
      "convs()\n",
      "forward()\n",
      "convs()\n",
      "forward()\n",
      "convs()\n",
      "forward()\n",
      "convs()\n",
      "forward()\n",
      "convs()\n"
     ]
    },
    {
     "name": "stderr",
     "output_type": "stream",
     "text": [
      "\r",
      " 20%|██        | 502/2494 [00:02<00:07, 257.89it/s]"
     ]
    },
    {
     "name": "stdout",
     "output_type": "stream",
     "text": [
      "forward()\n",
      "convs()\n",
      "forward()\n",
      "convs()\n",
      "forward()\n",
      "convs()\n",
      "forward()\n",
      "convs()\n",
      "forward()\n",
      "convs()\n",
      "forward()\n",
      "convs()\n",
      "forward()\n",
      "convs()\n",
      "forward()\n",
      "convs()\n",
      "forward()\n",
      "convs()\n",
      "forward()\n",
      "convs()\n",
      "forward()\n",
      "convs()\n",
      "forward()\n",
      "convs()\n",
      "forward()\n",
      "convs()\n",
      "forward()\n",
      "convs()\n",
      "forward()\n",
      "convs()\n",
      "forward()\n",
      "convs()\n",
      "forward()\n",
      "convs()\n",
      "forward()\n",
      "convs()\n",
      "forward()\n",
      "convs()\n",
      "forward()\n",
      "convs()\n",
      "forward()\n",
      "convs()\n",
      "forward()\n",
      "convs()\n",
      "forward()\n",
      "convs()\n",
      "forward()\n",
      "convs()\n",
      "forward()\n",
      "convs()\n",
      "forward()\n",
      "convs()\n",
      "forward()\n",
      "convs()\n",
      "forward()\n",
      "convs()\n",
      "forward()\n",
      "convs()\n",
      "forward()\n",
      "convs()\n",
      "forward()\n",
      "convs()\n",
      "forward()\n",
      "convs()\n",
      "forward()\n",
      "convs()\n",
      "forward()\n",
      "convs()\n",
      "forward()\n",
      "convs()\n",
      "forward()\n",
      "convs()\n",
      "forward()\n",
      "convs()\n",
      "forward()\n",
      "convs()\n",
      "forward()\n",
      "convs()\n",
      "forward()\n",
      "convs()\n",
      "forward()\n",
      "convs()\n",
      "forward()\n",
      "convs()\n",
      "forward()\n",
      "convs()\n",
      "forward()\n",
      "convs()\n",
      "forward()\n",
      "convs()\n",
      "forward()\n",
      "convs()\n",
      "forward()\n",
      "convs()\n",
      "forward()\n",
      "convs()\n",
      "forward()\n",
      "convs()\n",
      "forward()\n",
      "convs()\n",
      "forward()\n",
      "convs()\n",
      "forward()\n",
      "convs()\n"
     ]
    },
    {
     "name": "stderr",
     "output_type": "stream",
     "text": [
      " 22%|██▏       | 556/2494 [00:02<00:07, 258.15it/s]"
     ]
    },
    {
     "name": "stdout",
     "output_type": "stream",
     "text": [
      "forward()\n",
      "convs()\n",
      "forward()\n",
      "convs()\n",
      "forward()\n",
      "convs()\n",
      "forward()\n",
      "convs()\n",
      "forward()\n",
      "convs()\n",
      "forward()\n",
      "convs()\n",
      "forward()\n",
      "convs()\n",
      "forward()\n",
      "convs()\n",
      "forward()\n",
      "convs()\n",
      "forward()\n",
      "convs()\n",
      "forward()\n",
      "convs()\n",
      "forward()\n",
      "convs()\n",
      "forward()\n",
      "convs()\n",
      "forward()\n",
      "convs()\n",
      "forward()\n",
      "convs()\n",
      "forward()\n",
      "convs()\n",
      "forward()\n",
      "convs()\n",
      "forward()\n",
      "convs()\n",
      "forward()\n",
      "convs()\n",
      "forward()\n",
      "convs()\n",
      "forward()\n",
      "convs()\n",
      "forward()\n",
      "convs()\n",
      "forward()\n",
      "convs()\n",
      "forward()\n",
      "convs()\n",
      "forward()\n",
      "convs()\n",
      "forward()\n",
      "convs()\n",
      "forward()\n",
      "convs()\n",
      "forward()\n",
      "convs()\n",
      "forward()\n",
      "convs()\n",
      "forward()\n",
      "convs()\n",
      "forward()\n",
      "convs()\n",
      "forward()\n",
      "convs()\n",
      "forward()\n",
      "convs()\n",
      "forward()\n",
      "convs()\n",
      "forward()\n",
      "convs()\n",
      "forward()\n",
      "convs()\n",
      "forward()\n",
      "convs()\n",
      "forward()\n",
      "convs()\n",
      "forward()\n",
      "convs()\n",
      "forward()\n",
      "convs()\n",
      "forward()\n",
      "convs()\n",
      "forward()\n",
      "convs()\n",
      "forward()\n",
      "convs()\n",
      "forward()\n",
      "convs()\n",
      "forward()\n",
      "convs()\n",
      "forward()\n",
      "convs()\n",
      "forward()\n",
      "convs()\n",
      "forward()\n",
      "convs()\n",
      "forward()\n",
      "convs()\n",
      "forward()\n",
      "convs()\n",
      "forward()\n",
      "convs()\n",
      "forward()\n",
      "convs()\n",
      "forward()\n",
      "convs()\n",
      "forward()\n",
      "convs()\n",
      "forward()\n",
      "convs()\n",
      "forward()\n",
      "convs()\n"
     ]
    },
    {
     "name": "stderr",
     "output_type": "stream",
     "text": [
      " 25%|██▍       | 612/2494 [00:02<00:07, 265.95it/s]"
     ]
    },
    {
     "name": "stdout",
     "output_type": "stream",
     "text": [
      "forward()\n",
      "convs()\n",
      "forward()\n",
      "convs()\n",
      "forward()\n",
      "convs()\n",
      "forward()\n",
      "convs()\n",
      "forward()\n",
      "convs()\n",
      "forward()\n",
      "convs()\n",
      "forward()\n",
      "convs()\n",
      "forward()\n",
      "convs()\n",
      "forward()\n",
      "convs()\n",
      "forward()\n",
      "convs()\n",
      "forward()\n",
      "convs()\n",
      "forward()\n",
      "convs()\n",
      "forward()\n",
      "convs()\n",
      "forward()\n",
      "convs()\n",
      "forward()\n",
      "convs()\n",
      "forward()\n",
      "convs()\n",
      "forward()\n",
      "convs()\n",
      "forward()\n",
      "convs()\n",
      "forward()\n",
      "convs()\n",
      "forward()\n",
      "convs()\n",
      "forward()\n",
      "convs()\n",
      "forward()\n",
      "convs()\n",
      "forward()\n",
      "convs()\n",
      "forward()\n",
      "convs()\n",
      "forward()\n",
      "convs()\n",
      "forward()\n",
      "convs()\n",
      "forward()\n",
      "convs()\n",
      "forward()\n",
      "convs()\n",
      "forward()\n",
      "convs()\n",
      "forward()\n",
      "convs()\n",
      "forward()\n",
      "convs()\n",
      "forward()\n",
      "convs()\n",
      "forward()\n",
      "convs()\n",
      "forward()\n",
      "convs()\n",
      "forward()\n",
      "convs()\n",
      "forward()\n",
      "convs()\n",
      "forward()\n",
      "convs()\n",
      "forward()\n",
      "convs()\n",
      "forward()\n",
      "convs()\n",
      "forward()\n",
      "convs()\n",
      "forward()\n",
      "convs()\n",
      "forward()\n",
      "convs()\n",
      "forward()\n",
      "convs()\n",
      "forward()\n",
      "convs()\n",
      "forward()\n",
      "convs()\n",
      "forward()\n",
      "convs()\n",
      "forward()\n",
      "convs()\n",
      "forward()\n",
      "convs()\n",
      "forward()\n",
      "convs()\n",
      "forward()\n",
      "convs()\n",
      "forward()\n",
      "convs()\n",
      "forward()\n",
      "convs()\n",
      "forward()\n",
      "convs()\n",
      "forward()\n",
      "convs()\n",
      "forward()\n",
      "convs()\n"
     ]
    },
    {
     "name": "stderr",
     "output_type": "stream",
     "text": [
      "\r",
      " 26%|██▌       | 639/2494 [00:02<00:07, 263.54it/s]"
     ]
    },
    {
     "name": "stdout",
     "output_type": "stream",
     "text": [
      "forward()\n",
      "convs()\n",
      "forward()\n",
      "convs()\n",
      "forward()\n",
      "convs()\n",
      "forward()\n",
      "convs()\n",
      "forward()\n",
      "convs()\n",
      "forward()\n",
      "convs()\n",
      "forward()\n",
      "convs()\n",
      "forward()\n",
      "convs()\n",
      "forward()\n",
      "convs()\n",
      "forward()\n",
      "convs()\n",
      "forward()\n",
      "convs()\n",
      "forward()\n",
      "convs()\n",
      "forward()\n",
      "convs()\n",
      "forward()\n",
      "convs()\n",
      "forward()\n",
      "convs()\n",
      "forward()\n",
      "convs()\n",
      "forward()\n",
      "convs()\n",
      "forward()\n",
      "convs()\n",
      "forward()\n",
      "convs()\n",
      "forward()\n",
      "convs()\n",
      "forward()\n",
      "convs()\n",
      "forward()\n",
      "convs()\n",
      "forward()\n",
      "convs()\n",
      "forward()\n",
      "convs()\n",
      "forward()\n",
      "convs()\n",
      "forward()\n",
      "convs()\n"
     ]
    },
    {
     "name": "stderr",
     "output_type": "stream",
     "text": [
      "\r",
      " 27%|██▋       | 666/2494 [00:02<00:07, 257.08it/s]"
     ]
    },
    {
     "name": "stdout",
     "output_type": "stream",
     "text": [
      "forward()\n",
      "convs()\n",
      "forward()\n",
      "convs()\n",
      "forward()\n",
      "convs()\n",
      "forward()\n",
      "convs()\n",
      "forward()\n",
      "convs()\n",
      "forward()\n",
      "convs()\n",
      "forward()\n",
      "convs()\n",
      "forward()\n",
      "convs()\n",
      "forward()\n",
      "convs()\n",
      "forward()\n",
      "convs()\n",
      "forward()\n",
      "convs()\n",
      "forward()\n",
      "convs()\n",
      "forward()\n",
      "convs()\n",
      "forward()\n",
      "convs()\n",
      "forward()\n",
      "convs()\n",
      "forward()\n",
      "convs()\n",
      "forward()\n",
      "convs()\n",
      "forward()\n",
      "convs()\n",
      "forward()\n",
      "convs()\n",
      "forward()\n",
      "convs()\n",
      "forward()\n",
      "convs()\n",
      "forward()\n",
      "convs()\n",
      "forward()\n",
      "convs()\n",
      "forward()\n",
      "convs()\n",
      "forward()\n",
      "convs()\n",
      "forward()\n",
      "convs()\n",
      "forward()\n",
      "convs()\n"
     ]
    },
    {
     "name": "stderr",
     "output_type": "stream",
     "text": [
      "\r",
      " 28%|██▊       | 693/2494 [00:02<00:06, 259.33it/s]"
     ]
    },
    {
     "name": "stdout",
     "output_type": "stream",
     "text": [
      "forward()\n",
      "convs()\n",
      "forward()\n",
      "convs()\n",
      "forward()\n",
      "convs()\n",
      "forward()\n",
      "convs()\n",
      "forward()\n",
      "convs()\n",
      "forward()\n",
      "convs()\n",
      "forward()\n",
      "convs()\n",
      "forward()\n",
      "convs()\n",
      "forward()\n",
      "convs()\n",
      "forward()\n",
      "convs()\n",
      "forward()\n",
      "convs()\n",
      "forward()\n",
      "convs()\n",
      "forward()\n",
      "convs()\n",
      "forward()\n",
      "convs()\n",
      "forward()\n",
      "convs()\n",
      "forward()\n",
      "convs()\n",
      "forward()\n",
      "convs()\n",
      "forward()\n",
      "convs()\n",
      "forward()\n",
      "convs()\n",
      "forward()\n",
      "convs()\n",
      "forward()\n",
      "convs()\n",
      "forward()\n",
      "convs()\n",
      "forward()\n",
      "convs()\n",
      "forward()\n",
      "convs()\n",
      "forward()\n",
      "convs()\n",
      "forward()\n",
      "convs()\n",
      "forward()\n",
      "convs()\n",
      "forward()\n"
     ]
    },
    {
     "name": "stderr",
     "output_type": "stream",
     "text": [
      "\r",
      " 29%|██▉       | 720/2494 [00:02<00:06, 262.15it/s]"
     ]
    },
    {
     "name": "stdout",
     "output_type": "stream",
     "text": [
      "convs()\n",
      "forward()\n",
      "convs()\n",
      "forward()\n",
      "convs()\n",
      "forward()\n",
      "convs()\n",
      "forward()\n",
      "convs()\n",
      "forward()\n",
      "convs()\n",
      "forward()\n",
      "convs()\n",
      "forward()\n",
      "convs()\n",
      "forward()\n",
      "convs()\n",
      "forward()\n",
      "convs()\n",
      "forward()\n",
      "convs()\n",
      "forward()\n",
      "convs()\n",
      "forward()\n",
      "convs()\n",
      "forward()\n",
      "convs()\n",
      "forward()\n",
      "convs()\n",
      "forward()\n",
      "convs()\n",
      "forward()\n",
      "convs()\n",
      "forward()\n",
      "convs()\n",
      "forward()\n",
      "convs()\n",
      "forward()\n",
      "convs()\n",
      "forward()\n",
      "convs()\n",
      "forward()\n",
      "convs()\n",
      "forward()\n",
      "convs()\n",
      "forward()\n",
      "convs()\n",
      "forward()\n",
      "convs()\n",
      "forward()\n"
     ]
    },
    {
     "name": "stderr",
     "output_type": "stream",
     "text": [
      "\r",
      " 30%|██▉       | 747/2494 [00:03<00:06, 255.26it/s]"
     ]
    },
    {
     "name": "stdout",
     "output_type": "stream",
     "text": [
      "convs()\n",
      "forward()\n",
      "convs()\n",
      "forward()\n",
      "convs()\n",
      "forward()\n",
      "convs()\n",
      "forward()\n",
      "convs()\n",
      "forward()\n",
      "convs()\n",
      "forward()\n",
      "convs()\n",
      "forward()\n",
      "convs()\n",
      "forward()\n",
      "convs()\n",
      "forward()\n",
      "convs()\n",
      "forward()\n",
      "convs()\n",
      "forward()\n",
      "convs()\n",
      "forward()\n",
      "convs()\n",
      "forward()\n",
      "convs()\n",
      "forward()\n",
      "convs()\n",
      "forward()\n",
      "convs()\n",
      "forward()\n",
      "convs()\n",
      "forward()\n",
      "convs()\n",
      "forward()\n",
      "convs()\n",
      "forward()\n",
      "convs()\n",
      "forward()\n",
      "convs()\n",
      "forward()\n",
      "convs()\n",
      "forward()\n",
      "convs()\n",
      "forward()\n",
      "convs()\n"
     ]
    },
    {
     "name": "stderr",
     "output_type": "stream",
     "text": [
      "\r",
      " 31%|███       | 773/2494 [00:03<00:06, 250.03it/s]"
     ]
    },
    {
     "name": "stdout",
     "output_type": "stream",
     "text": [
      "forward()\n",
      "convs()\n",
      "forward()\n",
      "convs()\n",
      "forward()\n",
      "convs()\n",
      "forward()\n",
      "convs()\n",
      "forward()\n",
      "convs()\n",
      "forward()\n",
      "convs()\n",
      "forward()\n",
      "convs()\n",
      "forward()\n",
      "convs()\n",
      "forward()\n",
      "convs()\n",
      "forward()\n",
      "convs()\n",
      "forward()\n",
      "convs()\n",
      "forward()\n",
      "convs()\n",
      "forward()\n",
      "convs()\n",
      "forward()\n",
      "convs()\n",
      "forward()\n",
      "convs()\n",
      "forward()\n",
      "convs()\n",
      "forward()\n",
      "convs()\n",
      "forward()\n",
      "convs()\n",
      "forward()\n",
      "convs()\n",
      "forward()\n",
      "convs()\n",
      "forward()\n",
      "convs()\n",
      "forward()\n",
      "convs()\n",
      "forward()\n",
      "convs()\n",
      "forward()\n",
      "convs()\n"
     ]
    },
    {
     "name": "stderr",
     "output_type": "stream",
     "text": [
      "\r",
      " 32%|███▏      | 799/2494 [00:03<00:06, 246.85it/s]"
     ]
    },
    {
     "name": "stdout",
     "output_type": "stream",
     "text": [
      "forward()\n",
      "convs()\n",
      "forward()\n",
      "convs()\n",
      "forward()\n",
      "convs()\n",
      "forward()\n",
      "convs()\n",
      "forward()\n",
      "convs()\n",
      "forward()\n",
      "convs()\n",
      "forward()\n",
      "convs()\n",
      "forward()\n",
      "convs()\n",
      "forward()\n",
      "convs()\n",
      "forward()\n",
      "convs()\n",
      "forward()\n",
      "convs()\n",
      "forward()\n",
      "convs()\n",
      "forward()\n",
      "convs()\n",
      "forward()\n",
      "convs()\n",
      "forward()\n",
      "convs()\n",
      "forward()\n",
      "convs()\n",
      "forward()\n",
      "convs()\n",
      "forward()\n",
      "convs()\n",
      "forward()\n",
      "convs()\n",
      "forward()\n",
      "convs()\n",
      "forward()\n",
      "convs()\n",
      "forward()\n",
      "convs()\n",
      "forward()\n",
      "convs()\n",
      "forward()\n",
      "convs()\n",
      "forward()\n",
      "convs()\n",
      "forward()\n",
      "convs()\n"
     ]
    },
    {
     "name": "stderr",
     "output_type": "stream",
     "text": [
      "\r",
      " 33%|███▎      | 824/2494 [00:03<00:06, 247.04it/s]"
     ]
    },
    {
     "name": "stdout",
     "output_type": "stream",
     "text": [
      "forward()\n",
      "convs()\n",
      "forward()\n",
      "convs()\n",
      "forward()\n",
      "convs()\n",
      "forward()\n",
      "convs()\n",
      "forward()\n",
      "convs()\n",
      "forward()\n",
      "convs()\n",
      "forward()\n",
      "convs()\n",
      "forward()\n",
      "convs()\n",
      "forward()\n",
      "convs()\n",
      "forward()\n",
      "convs()\n",
      "forward()\n",
      "convs()\n",
      "forward()\n",
      "convs()\n",
      "forward()\n",
      "convs()\n",
      "forward()\n",
      "convs()\n",
      "forward()\n",
      "convs()\n",
      "forward()\n",
      "convs()\n",
      "forward()\n",
      "convs()\n",
      "forward()\n",
      "convs()\n",
      "forward()\n",
      "convs()\n",
      "forward()\n",
      "convs()\n",
      "forward()\n",
      "convs()\n",
      "forward()\n",
      "convs()\n",
      "forward()\n",
      "convs()\n",
      "forward()\n",
      "convs()\n",
      "forward()"
     ]
    },
    {
     "name": "stderr",
     "output_type": "stream",
     "text": [
      "\r",
      " 34%|███▍      | 849/2494 [00:03<00:06, 241.91it/s]"
     ]
    },
    {
     "name": "stdout",
     "output_type": "stream",
     "text": [
      "\n",
      "convs()\n",
      "forward()\n",
      "convs()\n",
      "forward()\n",
      "convs()\n",
      "forward()\n",
      "convs()\n",
      "forward()\n",
      "convs()\n",
      "forward()\n",
      "convs()\n",
      "forward()\n",
      "convs()\n",
      "forward()\n",
      "convs()\n",
      "forward()\n",
      "convs()\n",
      "forward()\n",
      "convs()\n",
      "forward()\n",
      "convs()\n",
      "forward()\n",
      "convs()\n",
      "forward()\n",
      "convs()\n",
      "forward()\n",
      "convs()\n",
      "forward()\n",
      "convs()\n",
      "forward()\n",
      "convs()\n",
      "forward()\n",
      "convs()\n",
      "forward()\n",
      "convs()\n",
      "forward()\n",
      "convs()\n",
      "forward()\n",
      "convs()\n",
      "forward()\n",
      "convs()\n",
      "forward()\n",
      "convs()\n",
      "forward()\n",
      "convs()\n",
      "forward()\n",
      "convs()\n",
      "forward()\n",
      "convs()\n",
      "forward()\n",
      "convs()\n"
     ]
    },
    {
     "name": "stderr",
     "output_type": "stream",
     "text": [
      "\r",
      " 35%|███▌      | 876/2494 [00:03<00:06, 248.42it/s]"
     ]
    },
    {
     "name": "stdout",
     "output_type": "stream",
     "text": [
      "forward()\n",
      "convs()\n",
      "forward()\n",
      "convs()\n",
      "forward()\n",
      "convs()\n",
      "forward()\n",
      "convs()\n",
      "forward()\n",
      "convs()\n",
      "forward()\n",
      "convs()\n",
      "forward()\n",
      "convs()\n",
      "forward()\n",
      "convs()\n",
      "forward()\n",
      "convs()\n",
      "forward()\n",
      "convs()\n",
      "forward()\n",
      "convs()\n",
      "forward()\n",
      "convs()\n",
      "forward()\n",
      "convs()\n",
      "forward()\n",
      "convs()\n",
      "forward()\n",
      "convs()\n",
      "forward()\n",
      "convs()\n",
      "forward()\n",
      "convs()\n",
      "forward()\n",
      "convs()\n",
      "forward()\n",
      "convs()\n",
      "forward()\n",
      "convs()\n",
      "forward()\n",
      "convs()\n",
      "forward()\n",
      "convs()\n",
      "forward()\n",
      "convs()\n",
      "forward()\n",
      "convs()\n"
     ]
    },
    {
     "name": "stderr",
     "output_type": "stream",
     "text": [
      "\r",
      " 36%|███▌      | 902/2494 [00:03<00:06, 249.80it/s]"
     ]
    },
    {
     "name": "stdout",
     "output_type": "stream",
     "text": [
      "forward()\n",
      "convs()\n",
      "forward()\n",
      "convs()\n",
      "forward()\n",
      "convs()\n",
      "forward()\n",
      "convs()\n",
      "forward()\n",
      "convs()\n",
      "forward()\n",
      "convs()\n",
      "forward()\n",
      "convs()\n",
      "forward()\n",
      "convs()\n",
      "forward()\n",
      "convs()\n",
      "forward()\n",
      "convs()\n",
      "forward()\n",
      "convs()\n",
      "forward()\n",
      "convs()\n",
      "forward()\n",
      "convs()\n",
      "forward()\n",
      "convs()\n",
      "forward()\n",
      "convs()\n",
      "forward()\n",
      "convs()\n",
      "forward()\n",
      "convs()\n",
      "forward()\n",
      "convs()\n",
      "forward()\n",
      "convs()\n",
      "forward()\n",
      "convs()\n",
      "forward()\n",
      "convs()\n",
      "forward()\n",
      "convs()\n",
      "forward()\n",
      "convs()\n",
      "forward()\n",
      "convs()\n",
      "forward()\n",
      "convs()\n",
      "forward()\n",
      "convs()\n",
      "forward()\n",
      "convs()\n",
      "forward()\n",
      "convs()\n"
     ]
    },
    {
     "name": "stderr",
     "output_type": "stream",
     "text": [
      "\r",
      " 37%|███▋      | 928/2494 [00:03<00:06, 251.58it/s]"
     ]
    },
    {
     "name": "stdout",
     "output_type": "stream",
     "text": [
      "forward()\n",
      "convs()\n",
      "forward()\n",
      "convs()\n",
      "forward()\n",
      "convs()\n",
      "forward()\n",
      "convs()\n",
      "forward()\n",
      "convs()\n",
      "forward()\n",
      "convs()\n",
      "forward()\n",
      "convs()\n",
      "forward()\n",
      "convs()\n",
      "forward()\n",
      "convs()\n",
      "forward()\n",
      "convs()\n",
      "forward()\n",
      "convs()\n",
      "forward()\n",
      "convs()\n",
      "forward()\n",
      "convs()\n",
      "forward()\n",
      "convs()\n",
      "forward()\n",
      "convs()\n",
      "forward()\n",
      "convs()\n",
      "forward()\n",
      "convs()\n",
      "forward()\n",
      "convs()\n",
      "forward()\n",
      "convs()\n",
      "forward()\n",
      "convs()\n",
      "forward()\n",
      "convs()\n",
      "forward()\n",
      "convs()\n",
      "forward()\n",
      "convs()\n"
     ]
    },
    {
     "name": "stderr",
     "output_type": "stream",
     "text": [
      "\r",
      " 38%|███▊      | 954/2494 [00:03<00:06, 249.55it/s]"
     ]
    },
    {
     "name": "stdout",
     "output_type": "stream",
     "text": [
      "forward()\n",
      "convs()\n",
      "forward()\n",
      "convs()\n",
      "forward()\n",
      "convs()\n",
      "forward()\n",
      "convs()\n",
      "forward()\n",
      "convs()\n",
      "forward()\n",
      "convs()\n",
      "forward()\n",
      "convs()\n",
      "forward()\n",
      "convs()\n",
      "forward()\n",
      "convs()\n",
      "forward()\n",
      "convs()\n",
      "forward()\n",
      "convs()\n",
      "forward()\n",
      "convs()\n",
      "forward()\n",
      "convs()\n",
      "forward()\n",
      "convs()\n",
      "forward()\n",
      "convs()\n",
      "forward()\n",
      "convs()\n",
      "forward()\n",
      "convs()\n",
      "forward()\n",
      "convs()\n",
      "forward()\n",
      "convs()\n",
      "forward()\n",
      "convs()\n",
      "forward()\n",
      "convs()\n",
      "forward()\n",
      "convs()\n",
      "forward()\n",
      "convs()\n",
      "forward()\n",
      "convs()\n",
      "forward()\n",
      "convs()\n",
      "forward()\n",
      "convs()\n",
      "forward()\n",
      "convs()\n"
     ]
    },
    {
     "name": "stderr",
     "output_type": "stream",
     "text": [
      "\r",
      " 39%|███▉      | 979/2494 [00:04<00:06, 244.95it/s]"
     ]
    },
    {
     "name": "stdout",
     "output_type": "stream",
     "text": [
      "forward()\n",
      "convs()\n",
      "forward()\n",
      "convs()\n",
      "forward()\n",
      "convs()\n",
      "forward()\n",
      "convs()\n",
      "forward()\n",
      "convs()\n",
      "forward()\n",
      "convs()\n",
      "forward()\n",
      "convs()\n",
      "forward()\n",
      "convs()\n",
      "forward()\n",
      "convs()\n",
      "forward()\n",
      "convs()\n",
      "forward()\n",
      "convs()\n",
      "forward()\n",
      "convs()\n",
      "forward()\n",
      "convs()\n",
      "forward()\n",
      "convs()\n",
      "forward()\n",
      "convs()\n",
      "forward()\n",
      "convs()\n",
      "forward()\n",
      "convs()\n",
      "forward()\n",
      "convs()\n",
      "forward()\n",
      "convs()\n",
      "forward()\n",
      "convs()\n",
      "forward()\n",
      "convs()\n"
     ]
    },
    {
     "name": "stderr",
     "output_type": "stream",
     "text": [
      "\r",
      " 40%|████      | 1004/2494 [00:04<00:06, 243.52it/s]"
     ]
    },
    {
     "name": "stdout",
     "output_type": "stream",
     "text": [
      "forward()\n",
      "convs()\n",
      "forward()\n",
      "convs()\n",
      "forward()\n",
      "convs()\n",
      "forward()\n",
      "convs()\n",
      "forward()\n",
      "convs()\n",
      "forward()\n",
      "convs()\n",
      "forward()\n",
      "convs()\n",
      "forward()\n",
      "convs()\n",
      "forward()\n",
      "convs()\n",
      "forward()\n",
      "convs()\n",
      "forward()\n",
      "convs()\n",
      "forward()\n",
      "convs()\n",
      "forward()\n",
      "convs()\n",
      "forward()\n",
      "convs()\n",
      "forward()\n",
      "convs()\n",
      "forward()\n",
      "convs()\n",
      "forward()\n",
      "convs()\n",
      "forward()\n",
      "convs()\n",
      "forward()\n",
      "convs()\n",
      "forward()\n",
      "convs()\n",
      "forward()\n",
      "convs()\n",
      "forward()\n",
      "convs()\n",
      "forward()\n",
      "convs()\n",
      "forward()\n",
      "convs()\n",
      "forward()\n",
      "convs()\n",
      "forward()\n",
      "convs()\n"
     ]
    },
    {
     "name": "stderr",
     "output_type": "stream",
     "text": [
      "\r",
      " 41%|████▏     | 1029/2494 [00:04<00:06, 241.17it/s]"
     ]
    },
    {
     "name": "stdout",
     "output_type": "stream",
     "text": [
      "forward()\n",
      "convs()\n",
      "forward()\n",
      "convs()\n",
      "forward()\n",
      "convs()\n",
      "forward()\n",
      "convs()\n",
      "forward()\n",
      "convs()\n",
      "forward()\n",
      "convs()\n",
      "forward()\n",
      "convs()\n",
      "forward()\n",
      "convs()\n",
      "forward()\n",
      "convs()\n",
      "forward()\n",
      "convs()\n",
      "forward()\n",
      "convs()\n",
      "forward()\n",
      "convs()\n",
      "forward()\n",
      "convs()\n",
      "forward()\n",
      "convs()\n",
      "forward()\n",
      "convs()\n",
      "forward()\n",
      "convs()\n",
      "forward()\n",
      "convs()\n",
      "forward()\n",
      "convs()\n",
      "forward()\n",
      "convs()\n",
      "forward()\n",
      "convs()\n",
      "forward()\n",
      "convs()\n"
     ]
    },
    {
     "name": "stderr",
     "output_type": "stream",
     "text": [
      "\r",
      " 42%|████▏     | 1054/2494 [00:04<00:05, 241.33it/s]"
     ]
    },
    {
     "name": "stdout",
     "output_type": "stream",
     "text": [
      "forward()\n",
      "convs()\n",
      "forward()\n",
      "convs()\n",
      "forward()\n",
      "convs()\n",
      "forward()\n",
      "convs()\n",
      "forward()\n",
      "convs()\n",
      "forward()\n",
      "convs()\n",
      "forward()\n",
      "convs()\n",
      "forward()\n",
      "convs()\n",
      "forward()\n",
      "convs()\n",
      "forward()\n",
      "convs()\n",
      "forward()\n",
      "convs()\n",
      "forward()\n",
      "convs()\n",
      "forward()\n",
      "convs()\n",
      "forward()\n",
      "convs()\n",
      "forward()\n",
      "convs()\n",
      "forward()\n",
      "convs()\n",
      "forward()\n",
      "convs()\n",
      "forward()\n",
      "convs()\n",
      "forward()\n",
      "convs()\n",
      "forward()\n",
      "convs()\n",
      "forward()\n",
      "convs()\n",
      "forward()\n",
      "convs()\n",
      "forward()\n",
      "convs()\n",
      "forward()\n",
      "convs()\n",
      "forward()\n",
      "convs()\n",
      "forward()\n",
      "convs()\n",
      "forward()\n",
      "convs()\n",
      "forward()\n",
      "convs()\n"
     ]
    },
    {
     "name": "stderr",
     "output_type": "stream",
     "text": [
      "\r",
      " 43%|████▎     | 1079/2494 [00:04<00:05, 242.26it/s]"
     ]
    },
    {
     "name": "stdout",
     "output_type": "stream",
     "text": [
      "forward()\n",
      "convs()\n",
      "forward()\n",
      "convs()\n",
      "forward()\n",
      "convs()\n",
      "forward()\n",
      "convs()\n",
      "forward()\n",
      "convs()\n",
      "forward()\n",
      "convs()\n",
      "forward()\n",
      "convs()\n",
      "forward()\n",
      "convs()\n",
      "forward()\n",
      "convs()\n",
      "forward()\n",
      "convs()\n",
      "forward()\n",
      "convs()\n",
      "forward()\n",
      "convs()\n",
      "forward()\n",
      "convs()\n",
      "forward()\n",
      "convs()\n",
      "forward()\n",
      "convs()\n",
      "forward()\n",
      "convs()\n",
      "forward()\n",
      "convs()\n",
      "forward()\n",
      "convs()\n",
      "forward()\n",
      "convs()\n",
      "forward()\n",
      "convs()\n",
      "forward()\n",
      "convs()\n",
      "forward()\n",
      "convs()\n"
     ]
    },
    {
     "name": "stderr",
     "output_type": "stream",
     "text": [
      "\r",
      " 44%|████▍     | 1105/2494 [00:04<00:05, 243.91it/s]"
     ]
    },
    {
     "name": "stdout",
     "output_type": "stream",
     "text": [
      "forward()\n",
      "convs()\n",
      "forward()\n",
      "convs()\n",
      "forward()\n",
      "convs()\n",
      "forward()\n",
      "convs()\n",
      "forward()\n",
      "convs()\n",
      "forward()\n",
      "convs()\n",
      "forward()\n",
      "convs()\n",
      "forward()\n",
      "convs()\n",
      "forward()\n",
      "convs()\n",
      "forward()\n",
      "convs()\n",
      "forward()\n",
      "convs()\n",
      "forward()\n",
      "convs()\n",
      "forward()\n",
      "convs()\n",
      "forward()\n",
      "convs()\n",
      "forward()\n",
      "convs()\n",
      "forward()\n",
      "convs()\n",
      "forward()\n",
      "convs()\n",
      "forward()\n",
      "convs()\n",
      "forward()\n",
      "convs()\n",
      "forward()\n",
      "convs()\n",
      "forward()\n",
      "convs()\n",
      "forward()\n",
      "convs()\n",
      "forward()\n",
      "convs()\n",
      "forward()\n",
      "convs()\n",
      "forward()\n",
      "convs()\n",
      "forward()\n",
      "convs()\n",
      "forward()\n",
      "convs()\n",
      "forward()\n",
      "convs()\n",
      "forward()\n",
      "convs()\n"
     ]
    },
    {
     "name": "stderr",
     "output_type": "stream",
     "text": [
      "\r",
      " 45%|████▌     | 1130/2494 [00:04<00:05, 245.27it/s]"
     ]
    },
    {
     "name": "stdout",
     "output_type": "stream",
     "text": [
      "forward()\n",
      "convs()\n",
      "forward()\n",
      "convs()\n",
      "forward()\n",
      "convs()\n",
      "forward()\n",
      "convs()\n",
      "forward()\n",
      "convs()\n",
      "forward()\n",
      "convs()\n",
      "forward()\n",
      "convs()\n",
      "forward()\n",
      "convs()\n",
      "forward()\n",
      "convs()\n",
      "forward()\n",
      "convs()\n",
      "forward()\n",
      "convs()\n",
      "forward()\n",
      "convs()\n",
      "forward()\n",
      "convs()\n",
      "forward()\n",
      "convs()\n",
      "forward()\n",
      "convs()\n",
      "forward()\n",
      "convs()\n",
      "forward()\n",
      "convs()\n",
      "forward()\n",
      "convs()\n",
      "forward()\n",
      "convs()\n",
      "forward()\n",
      "convs()\n",
      "forward()\n",
      "convs()\n",
      "forward()\n",
      "convs()\n"
     ]
    },
    {
     "name": "stderr",
     "output_type": "stream",
     "text": [
      "\r",
      " 46%|████▋     | 1156/2494 [00:04<00:05, 248.10it/s]"
     ]
    },
    {
     "name": "stdout",
     "output_type": "stream",
     "text": [
      "forward()\n",
      "convs()\n",
      "forward()\n",
      "convs()\n",
      "forward()\n",
      "convs()\n",
      "forward()\n",
      "convs()\n",
      "forward()\n",
      "convs()\n",
      "forward()\n",
      "convs()\n",
      "forward()\n",
      "convs()\n",
      "forward()\n",
      "convs()\n",
      "forward()\n",
      "convs()\n",
      "forward()\n",
      "convs()\n",
      "forward()\n",
      "convs()\n",
      "forward()\n",
      "convs()\n",
      "forward()\n",
      "convs()\n",
      "forward()\n",
      "convs()\n",
      "forward()\n",
      "convs()\n",
      "forward()\n",
      "convs()\n",
      "forward()\n",
      "convs()\n",
      "forward()\n",
      "convs()\n",
      "forward()\n",
      "convs()\n",
      "forward()\n",
      "convs()\n",
      "forward()\n",
      "convs()\n",
      "forward()\n",
      "convs()\n",
      "forward()\n",
      "convs()\n",
      "forward()\n",
      "convs()\n",
      "forward()\n",
      "convs()\n",
      "forward()\n",
      "convs()\n",
      "forward()\n",
      "convs()\n",
      "forward()\n",
      "convs()\n",
      "forward()\n",
      "convs()\n"
     ]
    },
    {
     "name": "stderr",
     "output_type": "stream",
     "text": [
      "\r",
      " 47%|████▋     | 1181/2494 [00:04<00:05, 248.16it/s]"
     ]
    },
    {
     "name": "stdout",
     "output_type": "stream",
     "text": [
      "forward()\n",
      "convs()\n",
      "forward()\n",
      "convs()\n",
      "forward()\n",
      "convs()\n",
      "forward()\n",
      "convs()\n",
      "forward()\n",
      "convs()\n",
      "forward()\n",
      "convs()\n",
      "forward()\n",
      "convs()\n",
      "forward()\n",
      "convs()\n",
      "forward()\n",
      "convs()\n",
      "forward()\n",
      "convs()\n",
      "forward()\n",
      "convs()\n",
      "forward()\n",
      "convs()\n",
      "forward()\n",
      "convs()\n",
      "forward()\n",
      "convs()\n",
      "forward()\n",
      "convs()\n",
      "forward()\n",
      "convs()\n",
      "forward()\n",
      "convs()\n",
      "forward()\n",
      "convs()\n",
      "forward()\n",
      "convs()\n",
      "forward()\n",
      "convs()\n",
      "forward()\n",
      "convs()\n"
     ]
    },
    {
     "name": "stderr",
     "output_type": "stream",
     "text": [
      "\r",
      " 48%|████▊     | 1206/2494 [00:04<00:05, 245.25it/s]"
     ]
    },
    {
     "name": "stdout",
     "output_type": "stream",
     "text": [
      "forward()\n",
      "convs()\n",
      "forward()\n",
      "convs()\n",
      "forward()\n",
      "convs()\n",
      "forward()\n",
      "convs()\n",
      "forward()\n",
      "convs()\n",
      "forward()\n",
      "convs()\n",
      "forward()\n",
      "convs()\n",
      "forward()\n",
      "convs()\n",
      "forward()\n",
      "convs()\n",
      "forward()\n",
      "convs()\n",
      "forward()\n",
      "convs()\n",
      "forward()\n",
      "convs()\n",
      "forward()\n",
      "convs()\n",
      "forward()\n",
      "convs()\n",
      "forward()\n",
      "convs()\n",
      "forward()\n",
      "convs()\n",
      "forward()\n",
      "convs()\n",
      "forward()\n",
      "convs()\n",
      "forward()\n",
      "convs()\n",
      "forward()\n",
      "convs()\n",
      "forward()\n",
      "convs()\n",
      "forward()\n",
      "convs()\n",
      "forward()\n",
      "convs()\n",
      "forward()\n",
      "convs()\n",
      "forward()\n",
      "convs()\n",
      "forward()\n",
      "convs()\n",
      "forward()\n",
      "convs()\n",
      "forward()\n",
      "convs()\n",
      "forward()\n",
      "convs()\n"
     ]
    },
    {
     "name": "stderr",
     "output_type": "stream",
     "text": [
      "\r",
      " 49%|████▉     | 1231/2494 [00:05<00:05, 235.48it/s]"
     ]
    },
    {
     "name": "stdout",
     "output_type": "stream",
     "text": [
      "forward()\n",
      "convs()\n",
      "forward()\n",
      "convs()\n",
      "forward()\n",
      "convs()\n",
      "forward()\n",
      "convs()\n",
      "forward()\n",
      "convs()\n",
      "forward()\n",
      "convs()\n",
      "forward()\n",
      "convs()\n",
      "forward()\n",
      "convs()\n",
      "forward()\n",
      "convs()\n",
      "forward()\n",
      "convs()\n",
      "forward()\n",
      "convs()\n",
      "forward()\n",
      "convs()\n",
      "forward()\n",
      "convs()\n",
      "forward()\n",
      "convs()\n",
      "forward()\n",
      "convs()\n",
      "forward()\n",
      "convs()\n"
     ]
    },
    {
     "name": "stderr",
     "output_type": "stream",
     "text": [
      "\r",
      " 50%|█████     | 1255/2494 [00:05<00:05, 217.38it/s]"
     ]
    },
    {
     "name": "stdout",
     "output_type": "stream",
     "text": [
      "forward()\n",
      "convs()\n",
      "forward()\n",
      "convs()\n",
      "forward()\n",
      "convs()\n",
      "forward()\n",
      "convs()\n",
      "forward()\n",
      "convs()\n",
      "forward()\n",
      "convs()\n",
      "forward()\n",
      "convs()\n",
      "forward()\n",
      "convs()\n",
      "forward()\n",
      "convs()\n",
      "forward()\n",
      "convs()\n",
      "forward()\n",
      "convs()\n",
      "forward()\n",
      "convs()\n",
      "forward()\n",
      "convs()\n",
      "forward()\n",
      "convs()\n",
      "forward()\n",
      "convs()\n",
      "forward()\n",
      "convs()\n",
      "forward()\n",
      "convs()\n",
      "forward()\n",
      "convs()\n",
      "forward()\n",
      "convs()\n",
      "forward()\n",
      "convs()\n",
      "forward()\n",
      "convs()\n",
      "forward()\n",
      "convs()\n",
      "forward()\n",
      "convs()\n",
      "forward()\n",
      "convs()\n",
      "forward()\n",
      "convs()\n",
      "forward()\n",
      "convs()\n",
      "forward()\n",
      "convs()\n",
      "forward()\n",
      "convs()\n",
      "forward()\n",
      "convs()\n",
      "forward()\n",
      "convs()\n",
      "forward()\n",
      "convs()\n",
      "forward()\n",
      "convs()\n",
      "forward()\n",
      "convs()\n",
      "forward()\n",
      "convs()\n",
      "forward()\n",
      "convs()\n",
      "forward()\n",
      "convs()\n",
      "forward()\n",
      "convs()\n",
      "forward()\n",
      "convs()\n",
      "forward()\n",
      "convs()\n"
     ]
    },
    {
     "name": "stderr",
     "output_type": "stream",
     "text": [
      "\r",
      " 51%|█████     | 1278/2494 [00:05<00:05, 208.39it/s]"
     ]
    },
    {
     "name": "stdout",
     "output_type": "stream",
     "text": [
      "forward()\n",
      "convs()\n",
      "forward()\n",
      "convs()\n",
      "forward()\n",
      "convs()\n",
      "forward()\n",
      "convs()\n",
      "forward()\n",
      "convs()\n",
      "forward()\n",
      "convs()\n",
      "forward()\n",
      "convs()\n",
      "forward()\n",
      "convs()\n",
      "forward()\n",
      "convs()\n",
      "forward()\n",
      "convs()\n",
      "forward()\n",
      "convs()\n",
      "forward()\n",
      "convs()\n",
      "forward()\n",
      "convs()\n",
      "forward()\n",
      "convs()\n",
      "forward()\n",
      "convs()\n",
      "forward()\n",
      "convs()\n",
      "forward()\n",
      "convs()\n",
      "forward()\n",
      "convs()\n",
      "forward()\n",
      "convs()\n",
      "forward()\n",
      "convs()\n",
      "forward()\n",
      "convs()\n",
      "forward()\n",
      "convs()\n",
      "forward()\n",
      "convs()\n"
     ]
    },
    {
     "name": "stderr",
     "output_type": "stream",
     "text": [
      "\r",
      " 52%|█████▏    | 1300/2494 [00:05<00:05, 202.12it/s]"
     ]
    },
    {
     "name": "stdout",
     "output_type": "stream",
     "text": [
      "forward()\n",
      "convs()\n",
      "forward()\n",
      "convs()\n",
      "forward()\n",
      "convs()\n",
      "forward()\n",
      "convs()\n",
      "forward()\n",
      "convs()\n",
      "forward()\n",
      "convs()\n",
      "forward()\n",
      "convs()\n",
      "forward()\n",
      "convs()\n",
      "forward()\n",
      "convs()\n",
      "forward()\n",
      "convs()\n",
      "forward()\n",
      "convs()\n",
      "forward()\n",
      "convs()\n",
      "forward()\n",
      "convs()\n",
      "forward()\n",
      "convs()\n",
      "forward()\n",
      "convs()\n"
     ]
    },
    {
     "name": "stderr",
     "output_type": "stream",
     "text": [
      "\r",
      " 53%|█████▎    | 1321/2494 [00:05<00:06, 195.39it/s]"
     ]
    },
    {
     "name": "stdout",
     "output_type": "stream",
     "text": [
      "forward()\n",
      "convs()\n",
      "forward()\n",
      "convs()\n",
      "forward()\n",
      "convs()\n",
      "forward()\n",
      "convs()\n",
      "forward()\n",
      "convs()\n",
      "forward()\n",
      "convs()\n",
      "forward()\n",
      "convs()\n",
      "forward()\n",
      "convs()\n",
      "forward()\n",
      "convs()\n",
      "forward()\n",
      "convs()\n",
      "forward()\n",
      "convs()\n",
      "forward()\n",
      "convs()\n",
      "forward()\n",
      "convs()\n",
      "forward()\n",
      "convs()\n",
      "forward()\n",
      "convs()\n",
      "forward()\n",
      "convs()\n",
      "forward()\n",
      "convs()\n",
      "forward()\n",
      "convs()\n",
      "forward()\n",
      "convs()\n",
      "forward()\n",
      "convs()\n",
      "forward()\n",
      "convs()\n",
      "forward()\n",
      "convs()\n",
      "forward()\n",
      "convs()\n"
     ]
    },
    {
     "name": "stderr",
     "output_type": "stream",
     "text": [
      "\r",
      " 54%|█████▍    | 1341/2494 [00:05<00:05, 195.91it/s]"
     ]
    },
    {
     "name": "stdout",
     "output_type": "stream",
     "text": [
      "forward()\n",
      "convs()\n",
      "forward()\n",
      "convs()\n",
      "forward()\n",
      "convs()\n",
      "forward()\n",
      "convs()\n",
      "forward()\n",
      "convs()\n",
      "forward()\n",
      "convs()\n",
      "forward()\n",
      "convs()\n",
      "forward()\n",
      "convs()\n",
      "forward()\n",
      "convs()\n",
      "forward()\n",
      "convs()\n",
      "forward()\n",
      "convs()\n",
      "forward()\n",
      "convs()\n",
      "forward()\n",
      "convs()\n",
      "forward()\n",
      "convs()\n",
      "forward()\n",
      "convs()\n"
     ]
    },
    {
     "name": "stderr",
     "output_type": "stream",
     "text": [
      "\r",
      " 55%|█████▍    | 1361/2494 [00:05<00:05, 190.22it/s]"
     ]
    },
    {
     "name": "stdout",
     "output_type": "stream",
     "text": [
      "forward()\n",
      "convs()\n",
      "forward()\n",
      "convs()\n",
      "forward()\n",
      "convs()\n",
      "forward()\n",
      "convs()\n",
      "forward()\n",
      "convs()\n",
      "forward()\n",
      "convs()\n",
      "forward()\n",
      "convs()\n",
      "forward()\n",
      "convs()\n",
      "forward()\n",
      "convs()\n",
      "forward()\n",
      "convs()\n",
      "forward()\n",
      "convs()\n",
      "forward()\n",
      "convs()\n",
      "forward()\n",
      "convs()\n",
      "forward()\n",
      "convs()\n",
      "forward()\n",
      "convs()\n",
      "forward()\n",
      "convs()\n",
      "forward()\n",
      "convs()\n",
      "forward()\n",
      "convs()\n",
      "forward()\n",
      "convs()\n",
      "forward()\n",
      "convs()\n",
      "forward()\n",
      "convs()\n",
      "forward()\n",
      "convs()\n",
      "forward()\n",
      "convs()\n"
     ]
    },
    {
     "name": "stderr",
     "output_type": "stream",
     "text": [
      "\r",
      " 55%|█████▌    | 1381/2494 [00:05<00:05, 190.47it/s]"
     ]
    },
    {
     "name": "stdout",
     "output_type": "stream",
     "text": [
      "forward()\n",
      "convs()\n",
      "forward()\n",
      "convs()\n",
      "forward()\n",
      "convs()\n",
      "forward()\n",
      "convs()\n",
      "forward()\n",
      "convs()\n",
      "forward()\n",
      "convs()\n",
      "forward()\n",
      "convs()\n",
      "forward()\n",
      "convs()\n",
      "forward()\n",
      "convs()\n",
      "forward()\n",
      "convs()\n",
      "forward()\n",
      "convs()\n",
      "forward()\n",
      "convs()\n",
      "forward()\n",
      "convs()\n",
      "forward()\n",
      "convs()\n"
     ]
    },
    {
     "name": "stderr",
     "output_type": "stream",
     "text": [
      "\r",
      " 56%|█████▌    | 1401/2494 [00:06<00:05, 185.80it/s]"
     ]
    },
    {
     "name": "stdout",
     "output_type": "stream",
     "text": [
      "forward()\n",
      "convs()\n",
      "forward()\n",
      "convs()\n",
      "forward()\n",
      "convs()\n",
      "forward()\n",
      "convs()\n",
      "forward()\n",
      "convs()\n",
      "forward()\n",
      "convs()\n",
      "forward()\n",
      "convs()\n",
      "forward()\n",
      "convs()\n",
      "forward()\n",
      "convs()\n",
      "forward()\n",
      "convs()\n",
      "forward()\n",
      "convs()\n",
      "forward()\n",
      "convs()\n",
      "forward()\n",
      "convs()\n",
      "forward()\n",
      "convs()\n",
      "forward()\n",
      "convs()\n",
      "forward()\n",
      "convs()\n",
      "forward()\n",
      "convs()\n",
      "forward()\n",
      "convs()\n",
      "forward()\n",
      "convs()\n",
      "forward()\n",
      "convs()\n",
      "forward()\n",
      "convs()\n",
      "forward()\n",
      "convs()\n"
     ]
    },
    {
     "name": "stderr",
     "output_type": "stream",
     "text": [
      "\r",
      " 57%|█████▋    | 1420/2494 [00:06<00:05, 184.79it/s]"
     ]
    },
    {
     "name": "stdout",
     "output_type": "stream",
     "text": [
      "forward()\n",
      "convs()\n",
      "forward()\n",
      "convs()\n",
      "forward()\n",
      "convs()\n",
      "forward()\n",
      "convs()\n",
      "forward()\n",
      "convs()\n",
      "forward()\n",
      "convs()\n",
      "forward()\n",
      "convs()\n",
      "forward()\n",
      "convs()\n",
      "forward()\n",
      "convs()\n",
      "forward()\n",
      "convs()\n",
      "forward()\n",
      "convs()\n",
      "forward()\n",
      "convs()\n",
      "forward()\n",
      "convs()\n",
      "forward()\n",
      "convs()\n",
      "forward()\n",
      "convs()\n",
      "forward()\n",
      "convs()\n"
     ]
    },
    {
     "name": "stderr",
     "output_type": "stream",
     "text": [
      "\r",
      " 58%|█████▊    | 1439/2494 [00:06<00:05, 182.80it/s]"
     ]
    },
    {
     "name": "stdout",
     "output_type": "stream",
     "text": [
      "forward()\n",
      "convs()\n",
      "forward()\n",
      "convs()\n",
      "forward()\n",
      "convs()\n",
      "forward()\n",
      "convs()\n",
      "forward()\n",
      "convs()\n",
      "forward()\n",
      "convs()\n",
      "forward()\n",
      "convs()\n",
      "forward()\n",
      "convs()\n",
      "forward()\n",
      "convs()\n",
      "forward()\n",
      "convs()\n",
      "forward()\n",
      "convs()\n",
      "forward()\n",
      "convs()\n",
      "forward()\n",
      "convs()\n",
      "forward()\n",
      "convs()\n",
      "forward()\n",
      "convs()\n",
      "forward()\n",
      "convs()\n",
      "forward()\n",
      "convs()\n",
      "forward()\n",
      "convs()\n",
      "forward()\n",
      "convs()\n",
      "forward()\n",
      "convs()\n",
      "forward()"
     ]
    },
    {
     "name": "stderr",
     "output_type": "stream",
     "text": [
      "\r",
      " 58%|█████▊    | 1458/2494 [00:06<00:05, 178.39it/s]"
     ]
    },
    {
     "name": "stdout",
     "output_type": "stream",
     "text": [
      "\n",
      "convs()\n",
      "forward()\n",
      "convs()\n",
      "forward()\n",
      "convs()\n",
      "forward()\n",
      "convs()\n",
      "forward()\n",
      "convs()\n",
      "forward()\n",
      "convs()\n",
      "forward()\n",
      "convs()\n",
      "forward()\n",
      "convs()\n",
      "forward()\n",
      "convs()\n",
      "forward()\n",
      "convs()\n",
      "forward()\n",
      "convs()\n",
      "forward()\n",
      "convs()\n",
      "forward()\n",
      "convs()\n",
      "forward()\n",
      "convs()\n",
      "forward()\n",
      "convs()\n"
     ]
    },
    {
     "name": "stderr",
     "output_type": "stream",
     "text": [
      "\r",
      " 59%|█████▉    | 1476/2494 [00:06<00:05, 177.29it/s]"
     ]
    },
    {
     "name": "stdout",
     "output_type": "stream",
     "text": [
      "forward()\n",
      "convs()\n",
      "forward()\n",
      "convs()\n",
      "forward()\n",
      "convs()\n",
      "forward()\n",
      "convs()\n",
      "forward()\n",
      "convs()\n",
      "forward()\n",
      "convs()\n",
      "forward()\n",
      "convs()\n",
      "forward()\n",
      "convs()\n",
      "forward()\n",
      "convs()\n",
      "forward()\n",
      "convs()\n",
      "forward()\n",
      "convs()\n",
      "forward()\n",
      "convs()\n",
      "forward()\n",
      "convs()\n",
      "forward()\n",
      "convs()\n",
      "forward()\n",
      "convs()\n",
      "forward()\n",
      "convs()\n",
      "forward()\n",
      "convs()\n",
      "forward()\n",
      "convs()\n",
      "forward()\n",
      "convs()\n",
      "forward()\n",
      "convs()\n"
     ]
    },
    {
     "name": "stderr",
     "output_type": "stream",
     "text": [
      "\r",
      " 60%|█████▉    | 1495/2494 [00:06<00:05, 179.49it/s]"
     ]
    },
    {
     "name": "stdout",
     "output_type": "stream",
     "text": [
      "forward()\n",
      "convs()\n",
      "forward()\n",
      "convs()\n",
      "forward()\n",
      "convs()\n",
      "forward()\n",
      "convs()\n",
      "forward()\n",
      "convs()\n",
      "forward()\n",
      "convs()\n",
      "forward()\n",
      "convs()\n",
      "forward()\n",
      "convs()\n",
      "forward()\n",
      "convs()\n",
      "forward()\n",
      "convs()\n",
      "forward()\n",
      "convs()\n",
      "forward()\n",
      "convs()\n",
      "forward()\n",
      "convs()\n",
      "forward()\n",
      "convs()\n",
      "forward()\n",
      "convs()\n",
      "forward()\n",
      "convs()\n",
      "forward()\n",
      "convs()\n"
     ]
    },
    {
     "name": "stderr",
     "output_type": "stream",
     "text": [
      "\r",
      " 61%|██████    | 1513/2494 [00:06<00:05, 178.51it/s]"
     ]
    },
    {
     "name": "stdout",
     "output_type": "stream",
     "text": [
      "forward()\n",
      "convs()\n",
      "forward()\n",
      "convs()\n",
      "forward()\n",
      "convs()\n",
      "forward()\n",
      "convs()\n",
      "forward()\n",
      "convs()\n",
      "forward()\n",
      "convs()\n",
      "forward()\n",
      "convs()\n",
      "forward()\n",
      "convs()\n",
      "forward()\n",
      "convs()\n",
      "forward()\n",
      "convs()\n",
      "forward()\n",
      "convs()\n",
      "forward()\n",
      "convs()\n",
      "forward()\n",
      "convs()\n",
      "forward()\n",
      "convs()\n",
      "forward()\n",
      "convs()\n",
      "forward()\n",
      "convs()\n",
      "forward()\n",
      "convs()\n",
      "forward()\n",
      "convs()\n",
      "forward()\n",
      "convs()\n",
      "forward()\n",
      "convs()\n"
     ]
    },
    {
     "name": "stderr",
     "output_type": "stream",
     "text": [
      "\r",
      " 61%|██████▏   | 1532/2494 [00:06<00:05, 180.79it/s]"
     ]
    },
    {
     "name": "stdout",
     "output_type": "stream",
     "text": [
      "forward()\n",
      "convs()\n",
      "forward()\n",
      "convs()\n",
      "forward()\n",
      "convs()\n",
      "forward()\n",
      "convs()\n",
      "forward()\n",
      "convs()\n",
      "forward()\n",
      "convs()\n",
      "forward()\n",
      "convs()\n",
      "forward()\n",
      "convs()\n",
      "forward()\n",
      "convs()\n",
      "forward()\n",
      "convs()\n",
      "forward()\n",
      "convs()\n",
      "forward()\n",
      "convs()\n",
      "forward()\n",
      "convs()\n",
      "forward()\n",
      "convs()\n",
      "forward()\n",
      "convs()\n",
      "forward()\n",
      "convs()\n",
      "forward()\n",
      "convs()\n"
     ]
    },
    {
     "name": "stderr",
     "output_type": "stream",
     "text": [
      "\r",
      " 62%|██████▏   | 1552/2494 [00:06<00:05, 184.14it/s]"
     ]
    },
    {
     "name": "stdout",
     "output_type": "stream",
     "text": [
      "forward()\n",
      "convs()\n",
      "forward()\n",
      "convs()\n",
      "forward()\n",
      "convs()\n",
      "forward()\n",
      "convs()\n",
      "forward()\n",
      "convs()\n",
      "forward()\n",
      "convs()\n",
      "forward()\n",
      "convs()\n",
      "forward()\n",
      "convs()\n",
      "forward()\n",
      "convs()\n",
      "forward()\n",
      "convs()\n",
      "forward()\n",
      "convs()\n",
      "forward()\n",
      "convs()\n",
      "forward()\n",
      "convs()\n",
      "forward()\n",
      "convs()\n",
      "forward()\n",
      "convs()\n",
      "forward()\n",
      "convs()\n",
      "forward()\n",
      "convs()\n",
      "forward()\n",
      "convs()\n",
      "forward()\n",
      "convs()\n",
      "forward()\n",
      "convs()\n",
      "forward()\n",
      "convs()\n",
      "forward()\n",
      "convs()\n",
      "forward()\n",
      "convs()\n"
     ]
    },
    {
     "name": "stderr",
     "output_type": "stream",
     "text": [
      "\r",
      " 63%|██████▎   | 1571/2494 [00:06<00:04, 184.94it/s]"
     ]
    },
    {
     "name": "stdout",
     "output_type": "stream",
     "text": [
      "forward()\n",
      "convs()\n",
      "forward()\n",
      "convs()\n",
      "forward()\n",
      "convs()\n",
      "forward()\n",
      "convs()\n",
      "forward()\n",
      "convs()\n",
      "forward()\n",
      "convs()\n",
      "forward()\n",
      "convs()\n",
      "forward()\n",
      "convs()\n",
      "forward()\n",
      "convs()\n",
      "forward()\n",
      "convs()\n",
      "forward()\n",
      "convs()\n",
      "forward()\n",
      "convs()\n",
      "forward()\n",
      "convs()\n",
      "forward()\n",
      "convs()\n",
      "forward()\n",
      "convs()\n",
      "forward()\n",
      "convs()\n"
     ]
    },
    {
     "name": "stderr",
     "output_type": "stream",
     "text": [
      "\r",
      " 64%|██████▍   | 1590/2494 [00:07<00:04, 186.38it/s]"
     ]
    },
    {
     "name": "stdout",
     "output_type": "stream",
     "text": [
      "forward()\n",
      "convs()\n",
      "forward()\n",
      "convs()\n",
      "forward()\n",
      "convs()\n",
      "forward()\n",
      "convs()\n",
      "forward()\n",
      "convs()\n",
      "forward()\n",
      "convs()\n",
      "forward()\n",
      "convs()\n",
      "forward()\n",
      "convs()\n",
      "forward()\n",
      "convs()\n",
      "forward()\n",
      "convs()\n",
      "forward()\n",
      "convs()\n",
      "forward()\n",
      "convs()\n",
      "forward()\n",
      "convs()\n",
      "forward()\n",
      "convs()\n",
      "forward()\n",
      "convs()\n",
      "forward()\n",
      "convs()\n",
      "forward()\n",
      "convs()\n",
      "forward()\n",
      "convs()\n",
      "forward()\n",
      "convs()\n",
      "forward()\n",
      "convs()\n",
      "forward()\n",
      "convs()\n",
      "forward()\n",
      "convs()\n"
     ]
    },
    {
     "name": "stderr",
     "output_type": "stream",
     "text": [
      "\r",
      " 65%|██████▍   | 1610/2494 [00:07<00:04, 187.94it/s]"
     ]
    },
    {
     "name": "stdout",
     "output_type": "stream",
     "text": [
      "forward()\n",
      "convs()\n",
      "forward()\n",
      "convs()\n",
      "forward()\n",
      "convs()\n",
      "forward()\n",
      "convs()\n",
      "forward()\n",
      "convs()\n",
      "forward()\n",
      "convs()\n",
      "forward()\n",
      "convs()\n",
      "forward()\n",
      "convs()\n",
      "forward()\n",
      "convs()\n",
      "forward()\n",
      "convs()\n",
      "forward()\n",
      "convs()\n",
      "forward()\n",
      "convs()\n",
      "forward()\n",
      "convs()\n",
      "forward()\n",
      "convs()\n",
      "forward()\n",
      "convs()\n",
      "forward()\n",
      "convs()\n",
      "forward()\n",
      "convs()\n"
     ]
    },
    {
     "name": "stderr",
     "output_type": "stream",
     "text": [
      "\r",
      " 65%|██████▌   | 1629/2494 [00:07<00:04, 183.12it/s]"
     ]
    },
    {
     "name": "stdout",
     "output_type": "stream",
     "text": [
      "forward()\n",
      "convs()\n",
      "forward()\n",
      "convs()\n",
      "forward()\n",
      "convs()\n",
      "forward()\n",
      "convs()\n",
      "forward()\n",
      "convs()\n",
      "forward()\n",
      "convs()\n",
      "forward()\n",
      "convs()\n",
      "forward()\n",
      "convs()\n",
      "forward()\n",
      "convs()\n",
      "forward()\n",
      "convs()\n",
      "forward()\n",
      "convs()\n",
      "forward()\n",
      "convs()\n",
      "forward()\n",
      "convs()\n",
      "forward()\n",
      "convs()\n",
      "forward()\n",
      "convs()\n",
      "forward()\n",
      "convs()\n",
      "forward()\n",
      "convs()\n",
      "forward()\n",
      "convs()\n",
      "forward()\n",
      "convs()\n",
      "forward()\n",
      "convs()\n",
      "forward()\n",
      "convs()\n",
      "forward()\n",
      "convs()\n",
      "forward()\n",
      "convs()\n",
      "forward()\n",
      "convs()\n",
      "forward()\n",
      "convs()\n",
      "forward()\n",
      "convs()\n",
      "forward()\n",
      "convs()\n",
      "forward()\n",
      "convs()\n",
      "forward()\n",
      "convs()\n",
      "forward()\n",
      "convs()\n",
      "forward()\n",
      "convs()\n",
      "forward()\n",
      "convs()\n",
      "forward()\n",
      "convs()\n",
      "forward()\n",
      "convs()\n",
      "forward()\n",
      "convs()\n",
      "forward()\n",
      "convs()\n",
      "forward()\n",
      "convs()\n"
     ]
    },
    {
     "name": "stderr",
     "output_type": "stream",
     "text": [
      " 67%|██████▋   | 1668/2494 [00:07<00:04, 184.58it/s]"
     ]
    },
    {
     "name": "stdout",
     "output_type": "stream",
     "text": [
      "forward()\n",
      "convs()\n",
      "forward()\n",
      "convs()\n",
      "forward()\n",
      "convs()\n",
      "forward()\n",
      "convs()\n",
      "forward()\n",
      "convs()\n",
      "forward()\n",
      "convs()\n",
      "forward()\n",
      "convs()\n",
      "forward()\n",
      "convs()\n",
      "forward()\n",
      "convs()\n",
      "forward()\n",
      "convs()\n",
      "forward()\n",
      "convs()\n",
      "forward()\n",
      "convs()\n",
      "forward()\n",
      "convs()\n",
      "forward()\n",
      "convs()\n",
      "forward()\n",
      "convs()\n",
      "forward()\n",
      "convs()\n",
      "forward()\n",
      "convs()\n",
      "forward()\n",
      "convs()\n",
      "forward()\n",
      "convs()\n",
      "forward()\n",
      "convs()\n",
      "forward()\n",
      "convs()\n",
      "forward()\n",
      "convs()\n",
      "forward()\n",
      "convs()\n",
      "forward()\n",
      "convs()\n",
      "forward()\n",
      "convs()\n",
      "forward()\n",
      "convs()\n",
      "forward()\n",
      "convs()\n",
      "forward()\n",
      "convs()\n",
      "forward()\n",
      "convs()\n",
      "forward()\n",
      "convs()\n",
      "forward()\n",
      "convs()\n",
      "forward()\n",
      "convs()\n",
      "forward()\n",
      "convs()\n",
      "forward()\n",
      "convs()\n",
      "forward()\n",
      "convs()\n",
      "forward()\n",
      "convs()\n",
      "forward()\n",
      "convs()\n",
      "forward()\n",
      "convs()\n",
      "forward()\n",
      "convs()\n"
     ]
    },
    {
     "name": "stderr",
     "output_type": "stream",
     "text": [
      " 68%|██████▊   | 1706/2494 [00:07<00:04, 184.36it/s]"
     ]
    },
    {
     "name": "stdout",
     "output_type": "stream",
     "text": [
      "forward()\n",
      "convs()\n",
      "forward()\n",
      "convs()\n",
      "forward()\n",
      "convs()\n",
      "forward()\n",
      "convs()\n",
      "forward()\n",
      "convs()\n",
      "forward()\n",
      "convs()\n",
      "forward()\n",
      "convs()\n",
      "forward()\n",
      "convs()\n",
      "forward()\n",
      "convs()\n",
      "forward()\n",
      "convs()\n",
      "forward()\n",
      "convs()\n",
      "forward()\n",
      "convs()\n",
      "forward()\n",
      "convs()\n",
      "forward()\n",
      "convs()\n",
      "forward()\n",
      "convs()\n",
      "forward()\n",
      "convs()\n",
      "forward()\n",
      "convs()\n",
      "forward()\n",
      "convs()\n",
      "forward()\n",
      "convs()\n",
      "forward()\n",
      "convs()\n",
      "forward()\n",
      "convs()\n",
      "forward()\n",
      "convs()\n",
      "forward()\n",
      "convs()\n",
      "forward()\n",
      "convs()\n",
      "forward()\n",
      "convs()\n",
      "forward()\n",
      "convs()\n",
      "forward()\n",
      "convs()\n",
      "forward()\n",
      "convs()\n",
      "forward()\n",
      "convs()\n",
      "forward()\n",
      "convs()\n",
      "forward()\n",
      "convs()\n",
      "forward()\n",
      "convs()\n",
      "forward()\n",
      "convs()\n",
      "forward()\n",
      "convs()\n",
      "forward()\n",
      "convs()\n",
      "forward()\n",
      "convs()\n",
      "forward()\n",
      "convs()\n",
      "forward()\n",
      "convs()\n"
     ]
    },
    {
     "name": "stderr",
     "output_type": "stream",
     "text": [
      " 70%|███████   | 1746/2494 [00:07<00:03, 189.99it/s]"
     ]
    },
    {
     "name": "stdout",
     "output_type": "stream",
     "text": [
      "forward()\n",
      "convs()\n",
      "forward()\n",
      "convs()\n",
      "forward()\n",
      "convs()\n",
      "forward()\n",
      "convs()\n",
      "forward()\n",
      "convs()\n",
      "forward()\n",
      "convs()\n",
      "forward()\n",
      "convs()\n",
      "forward()\n",
      "convs()\n",
      "forward()\n",
      "convs()\n",
      "forward()\n",
      "convs()\n",
      "forward()\n",
      "convs()\n",
      "forward()\n",
      "convs()\n",
      "forward()\n",
      "convs()\n",
      "forward()\n",
      "convs()\n",
      "forward()\n",
      "convs()\n",
      "forward()\n",
      "convs()\n",
      "forward()\n",
      "convs()\n",
      "forward()\n",
      "convs()\n",
      "forward()\n",
      "convs()\n",
      "forward()\n",
      "convs()\n",
      "forward()\n",
      "convs()\n",
      "forward()\n",
      "convs()\n",
      "forward()\n",
      "convs()\n",
      "forward()\n",
      "convs()\n",
      "forward()\n",
      "convs()\n",
      "forward()\n",
      "convs()\n",
      "forward()\n",
      "convs()\n",
      "forward()\n",
      "convs()\n",
      "forward()\n",
      "convs()\n",
      "forward()\n",
      "convs()\n",
      "forward()\n",
      "convs()\n",
      "forward()\n",
      "convs()\n",
      "forward()\n",
      "convs()\n",
      "forward()\n",
      "convs()\n",
      "forward()\n",
      "convs()\n",
      "forward()\n",
      "convs()\n",
      "forward()\n",
      "convs()\n",
      "forward()\n",
      "convs()\n",
      "forward()\n",
      "convs()\n",
      "forward()\n",
      "convs()\n",
      "forward()"
     ]
    },
    {
     "name": "stderr",
     "output_type": "stream",
     "text": [
      " 72%|███████▏  | 1785/2494 [00:08<00:03, 188.00it/s]"
     ]
    },
    {
     "name": "stdout",
     "output_type": "stream",
     "text": [
      "\n",
      "convs()\n",
      "forward()\n",
      "convs()\n",
      "forward()\n",
      "convs()\n",
      "forward()\n",
      "convs()\n",
      "forward()\n",
      "convs()\n",
      "forward()\n",
      "convs()\n",
      "forward()\n",
      "convs()\n",
      "forward()\n",
      "convs()\n",
      "forward()\n",
      "convs()\n",
      "forward()\n",
      "convs()\n",
      "forward()\n",
      "convs()\n",
      "forward()\n",
      "convs()\n",
      "forward()\n",
      "convs()\n",
      "forward()\n",
      "convs()\n",
      "forward()\n",
      "convs()\n",
      "forward()\n",
      "convs()\n",
      "forward()\n",
      "convs()\n",
      "forward()\n",
      "convs()\n",
      "forward()\n",
      "convs()\n",
      "forward()\n",
      "convs()\n",
      "forward()\n",
      "convs()\n",
      "forward()\n",
      "convs()\n",
      "forward()\n",
      "convs()\n",
      "forward()\n",
      "convs()\n",
      "forward()\n",
      "convs()\n",
      "forward()\n",
      "convs()\n",
      "forward()\n",
      "convs()\n",
      "forward()\n",
      "convs()\n",
      "forward()\n",
      "convs()\n",
      "forward()\n",
      "convs()\n",
      "forward()\n",
      "convs()\n",
      "forward()\n",
      "convs()\n",
      "forward()\n",
      "convs()\n",
      "forward()\n",
      "convs()\n",
      "forward()\n",
      "convs()\n",
      "forward()\n",
      "convs()\n",
      "forward()\n",
      "convs()\n"
     ]
    },
    {
     "name": "stderr",
     "output_type": "stream",
     "text": [
      " 73%|███████▎  | 1823/2494 [00:08<00:03, 187.51it/s]"
     ]
    },
    {
     "name": "stdout",
     "output_type": "stream",
     "text": [
      "forward()\n",
      "convs()\n",
      "forward()\n",
      "convs()\n",
      "forward()\n",
      "convs()\n",
      "forward()\n",
      "convs()\n",
      "forward()\n",
      "convs()\n",
      "forward()\n",
      "convs()\n",
      "forward()\n",
      "convs()\n",
      "forward()\n",
      "convs()\n",
      "forward()\n",
      "convs()\n",
      "forward()\n",
      "convs()\n",
      "forward()\n",
      "convs()\n",
      "forward()\n",
      "convs()\n",
      "forward()\n",
      "convs()\n",
      "forward()\n",
      "convs()\n",
      "forward()\n",
      "convs()\n",
      "forward()\n",
      "convs()\n",
      "forward()\n",
      "convs()\n",
      "forward()\n",
      "convs()\n",
      "forward()\n",
      "convs()\n",
      "forward()\n",
      "convs()\n",
      "forward()\n",
      "convs()\n",
      "forward()\n",
      "convs()\n",
      "forward()\n",
      "convs()\n",
      "forward()\n",
      "convs()\n",
      "forward()\n",
      "convs()\n",
      "forward()\n",
      "convs()\n",
      "forward()\n",
      "convs()\n",
      "forward()\n",
      "convs()\n",
      "forward()\n",
      "convs()\n",
      "forward()\n",
      "convs()\n",
      "forward()\n",
      "convs()\n",
      "forward()\n",
      "convs()\n",
      "forward()\n",
      "convs()\n",
      "forward()\n",
      "convs()\n",
      "forward()\n",
      "convs()\n",
      "forward()\n",
      "convs()\n",
      "forward()\n",
      "convs()\n",
      "forward()\n",
      "convs()\n",
      "forward()\n",
      "convs()\n",
      "forward()\n",
      "convs()\n"
     ]
    },
    {
     "name": "stderr",
     "output_type": "stream",
     "text": [
      "\r",
      " 74%|███████▍  | 1842/2494 [00:08<00:03, 187.54it/s]"
     ]
    },
    {
     "name": "stdout",
     "output_type": "stream",
     "text": [
      "forward()\n",
      "convs()\n",
      "forward()\n",
      "convs()\n",
      "forward()\n",
      "convs()\n",
      "forward()\n",
      "convs()\n",
      "forward()\n",
      "convs()\n",
      "forward()\n",
      "convs()\n",
      "forward()\n",
      "convs()\n",
      "forward()\n",
      "convs()\n",
      "forward()\n",
      "convs()\n",
      "forward()\n",
      "convs()\n",
      "forward()\n",
      "convs()\n",
      "forward()\n",
      "convs()\n",
      "forward()\n",
      "convs()\n",
      "forward()\n",
      "convs()\n",
      "forward()\n",
      "convs()\n",
      "forward()\n",
      "convs()\n",
      "forward()\n",
      "convs()\n",
      "forward()\n",
      "convs()\n",
      "forward()\n",
      "convs()\n",
      "forward()\n",
      "convs()\n"
     ]
    },
    {
     "name": "stderr",
     "output_type": "stream",
     "text": [
      "\r",
      " 75%|███████▍  | 1862/2494 [00:08<00:03, 188.32it/s]"
     ]
    },
    {
     "name": "stdout",
     "output_type": "stream",
     "text": [
      "forward()\n",
      "convs()\n",
      "forward()\n",
      "convs()\n",
      "forward()\n",
      "convs()\n",
      "forward()\n",
      "convs()\n",
      "forward()\n",
      "convs()\n",
      "forward()\n",
      "convs()\n",
      "forward()\n",
      "convs()\n",
      "forward()\n",
      "convs()\n",
      "forward()\n",
      "convs()\n",
      "forward()\n",
      "convs()\n",
      "forward()\n",
      "convs()\n",
      "forward()\n",
      "convs()\n",
      "forward()\n",
      "convs()\n",
      "forward()\n",
      "convs()\n",
      "forward()\n",
      "convs()\n",
      "forward()\n",
      "convs()\n",
      "forward()\n",
      "convs()\n",
      "forward()\n",
      "convs()\n",
      "forward()\n",
      "convs()\n",
      "forward()\n",
      "convs()\n"
     ]
    },
    {
     "name": "stderr",
     "output_type": "stream",
     "text": [
      " 76%|███████▋  | 1902/2494 [00:08<00:03, 193.63it/s]"
     ]
    },
    {
     "name": "stdout",
     "output_type": "stream",
     "text": [
      "forward()\n",
      "convs()\n",
      "forward()\n",
      "convs()\n",
      "forward()\n",
      "convs()\n",
      "forward()\n",
      "convs()\n",
      "forward()\n",
      "convs()\n",
      "forward()\n",
      "convs()\n",
      "forward()\n",
      "convs()\n",
      "forward()\n",
      "convs()\n",
      "forward()\n",
      "convs()\n",
      "forward()\n",
      "convs()\n",
      "forward()\n",
      "convs()\n",
      "forward()\n",
      "convs()\n",
      "forward()\n",
      "convs()\n",
      "forward()\n",
      "convs()\n",
      "forward()\n",
      "convs()\n",
      "forward()\n",
      "convs()\n",
      "forward()\n",
      "convs()\n",
      "forward()\n",
      "convs()\n",
      "forward()\n",
      "convs()\n",
      "forward()\n",
      "convs()\n"
     ]
    },
    {
     "name": "stderr",
     "output_type": "stream",
     "text": [
      "\r",
      " 77%|███████▋  | 1922/2494 [00:08<00:02, 194.68it/s]"
     ]
    },
    {
     "name": "stdout",
     "output_type": "stream",
     "text": [
      "forward()\n",
      "convs()\n",
      "forward()\n",
      "convs()\n",
      "forward()\n",
      "convs()\n",
      "forward()\n",
      "convs()\n",
      "forward()\n",
      "convs()\n",
      "forward()\n",
      "convs()\n",
      "forward()\n",
      "convs()\n",
      "forward()\n",
      "convs()\n",
      "forward()\n",
      "convs()\n",
      "forward()\n",
      "convs()\n",
      "forward()\n",
      "convs()\n",
      "forward()\n",
      "convs()\n",
      "forward()\n",
      "convs()\n",
      "forward()\n",
      "convs()\n",
      "forward()\n",
      "convs()\n",
      "forward()\n",
      "convs()\n",
      "forward()\n",
      "convs()\n",
      "forward()\n",
      "convs()\n",
      "forward()\n",
      "convs()\n",
      "forward()\n",
      "convs()\n",
      "forward()\n",
      "convs()\n",
      "forward()\n",
      "convs()\n",
      "forward()\n",
      "convs()\n",
      "forward()\n",
      "convs()\n",
      "forward()\n",
      "convs()\n",
      "forward()\n",
      "convs()\n",
      "forward()\n",
      "convs()\n",
      "forward()\n",
      "convs()\n",
      "forward()\n",
      "convs()\n",
      "forward()\n",
      "convs()\n",
      "forward()\n",
      "convs()\n",
      "forward()\n",
      "convs()\n",
      "forward()\n",
      "convs()\n",
      "forward()\n",
      "convs()\n",
      "forward()\n",
      "convs()\n",
      "forward()\n",
      "convs()\n",
      "forward()\n",
      "convs()\n",
      "forward()\n",
      "convs()\n",
      "forward()\n",
      "convs()\n",
      "forward()\n",
      "convs()\n",
      "forward()\n",
      "convs()\n"
     ]
    },
    {
     "name": "stderr",
     "output_type": "stream",
     "text": [
      " 79%|███████▊  | 1963/2494 [00:09<00:02, 197.73it/s]"
     ]
    },
    {
     "name": "stdout",
     "output_type": "stream",
     "text": [
      "forward()\n",
      "convs()\n",
      "forward()\n",
      "convs()\n",
      "forward()\n",
      "convs()\n",
      "forward()\n",
      "convs()\n",
      "forward()\n",
      "convs()\n",
      "forward()\n",
      "convs()\n",
      "forward()\n",
      "convs()\n",
      "forward()\n",
      "convs()\n",
      "forward()\n",
      "convs()\n",
      "forward()\n",
      "convs()\n",
      "forward()\n",
      "convs()\n",
      "forward()\n",
      "convs()\n",
      "forward()\n",
      "convs()\n",
      "forward()\n",
      "convs()\n",
      "forward()\n",
      "convs()\n",
      "forward()\n",
      "convs()\n",
      "forward()\n",
      "convs()\n",
      "forward()\n",
      "convs()\n",
      "forward()\n",
      "convs()\n",
      "forward()\n",
      "convs()\n",
      "forward()\n",
      "convs()\n",
      "forward()\n",
      "convs()\n",
      "forward()\n",
      "convs()\n",
      "forward()\n",
      "convs()\n",
      "forward()\n",
      "convs()\n",
      "forward()\n",
      "convs()\n",
      "forward()\n",
      "convs()\n",
      "forward()\n",
      "convs()\n",
      "forward()\n",
      "convs()\n",
      "forward()\n",
      "convs()\n",
      "forward()\n",
      "convs()\n",
      "forward()\n",
      "convs()\n",
      "forward()\n",
      "convs()\n",
      "forward()\n",
      "convs()\n",
      "forward()\n",
      "convs()\n",
      "forward()\n",
      "convs()\n",
      "forward()\n",
      "convs()\n",
      "forward()\n",
      "convs()\n",
      "forward()\n",
      "convs()\n",
      "forward()\n",
      "convs()\n"
     ]
    },
    {
     "name": "stderr",
     "output_type": "stream",
     "text": [
      "\r",
      " 80%|███████▉  | 1983/2494 [00:09<00:02, 194.24it/s]"
     ]
    },
    {
     "name": "stdout",
     "output_type": "stream",
     "text": [
      "forward()\n",
      "convs()\n",
      "forward()\n",
      "convs()\n",
      "forward()\n",
      "convs()\n",
      "forward()\n",
      "convs()\n",
      "forward()\n",
      "convs()\n",
      "forward()\n",
      "convs()\n",
      "forward()\n",
      "convs()\n",
      "forward()\n",
      "convs()\n",
      "forward()\n",
      "convs()\n",
      "forward()\n",
      "convs()\n",
      "forward()\n",
      "convs()\n",
      "forward()\n",
      "convs()\n",
      "forward()\n",
      "convs()\n",
      "forward()\n",
      "convs()\n",
      "forward()\n",
      "convs()\n",
      "forward()\n",
      "convs()\n",
      "forward()\n",
      "convs()\n",
      "forward()\n",
      "convs()\n"
     ]
    },
    {
     "name": "stderr",
     "output_type": "stream",
     "text": [
      "\r",
      " 80%|████████  | 2003/2494 [00:09<00:02, 188.92it/s]"
     ]
    },
    {
     "name": "stdout",
     "output_type": "stream",
     "text": [
      "forward()\n",
      "convs()\n",
      "forward()\n",
      "convs()\n",
      "forward()\n",
      "convs()\n",
      "forward()\n",
      "convs()\n",
      "forward()\n",
      "convs()\n",
      "forward()\n",
      "convs()\n",
      "forward()\n",
      "convs()\n",
      "forward()\n",
      "convs()\n",
      "forward()\n",
      "convs()\n",
      "forward()\n",
      "convs()\n",
      "forward()\n",
      "convs()\n",
      "forward()\n",
      "convs()\n",
      "forward()\n",
      "convs()\n",
      "forward()\n",
      "convs()\n",
      "forward()\n",
      "convs()\n",
      "forward()\n",
      "convs()\n",
      "forward()\n",
      "convs()\n",
      "forward()\n",
      "convs()\n"
     ]
    },
    {
     "name": "stderr",
     "output_type": "stream",
     "text": [
      "\r",
      " 81%|████████  | 2022/2494 [00:09<00:02, 183.89it/s]"
     ]
    },
    {
     "name": "stdout",
     "output_type": "stream",
     "text": [
      "forward()\n",
      "convs()\n",
      "forward()\n",
      "convs()\n",
      "forward()\n",
      "convs()\n",
      "forward()\n",
      "convs()\n",
      "forward()\n",
      "convs()\n",
      "forward()\n",
      "convs()\n",
      "forward()\n",
      "convs()\n",
      "forward()\n",
      "convs()\n",
      "forward()\n",
      "convs()\n",
      "forward()\n",
      "convs()\n",
      "forward()\n",
      "convs()\n",
      "forward()\n",
      "convs()\n",
      "forward()\n",
      "convs()\n",
      "forward()\n",
      "convs()\n",
      "forward()\n",
      "convs()\n",
      "forward()\n",
      "convs()\n",
      "forward()\n",
      "convs()\n",
      "forward()\n",
      "convs()\n"
     ]
    },
    {
     "name": "stderr",
     "output_type": "stream",
     "text": [
      "\r",
      " 82%|████████▏ | 2041/2494 [00:09<00:02, 183.56it/s]"
     ]
    },
    {
     "name": "stdout",
     "output_type": "stream",
     "text": [
      "forward()\n",
      "convs()\n",
      "forward()\n",
      "convs()\n",
      "forward()\n",
      "convs()\n",
      "forward()\n",
      "convs()\n",
      "forward()\n",
      "convs()\n",
      "forward()\n",
      "convs()\n",
      "forward()\n",
      "convs()\n",
      "forward()\n",
      "convs()\n",
      "forward()\n",
      "convs()\n",
      "forward()\n",
      "convs()\n",
      "forward()\n",
      "convs()\n",
      "forward()\n",
      "convs()\n",
      "forward()\n",
      "convs()\n",
      "forward()\n",
      "convs()\n",
      "forward()\n",
      "convs()\n",
      "forward()\n",
      "convs()\n",
      "forward()\n",
      "convs()\n",
      "forward()\n",
      "convs()\n",
      "forward()\n",
      "convs()\n",
      "forward()\n",
      "convs()\n"
     ]
    },
    {
     "name": "stderr",
     "output_type": "stream",
     "text": [
      "\r",
      " 83%|████████▎ | 2061/2494 [00:09<00:02, 185.75it/s]"
     ]
    },
    {
     "name": "stdout",
     "output_type": "stream",
     "text": [
      "forward()\n",
      "convs()\n",
      "forward()\n",
      "convs()\n",
      "forward()\n",
      "convs()\n",
      "forward()\n",
      "convs()\n",
      "forward()\n",
      "convs()\n",
      "forward()\n",
      "convs()\n",
      "forward()\n",
      "convs()\n",
      "forward()\n",
      "convs()\n",
      "forward()\n",
      "convs()\n",
      "forward()\n",
      "convs()\n",
      "forward()\n",
      "convs()\n",
      "forward()\n",
      "convs()\n",
      "forward()\n",
      "convs()\n",
      "forward()\n",
      "convs()\n",
      "forward()\n",
      "convs()\n",
      "forward()\n",
      "convs()\n",
      "forward()\n",
      "convs()\n",
      "forward()\n",
      "convs()\n",
      "forward()\n",
      "convs()\n"
     ]
    },
    {
     "name": "stderr",
     "output_type": "stream",
     "text": [
      "\r",
      " 83%|████████▎ | 2080/2494 [00:09<00:02, 185.86it/s]"
     ]
    },
    {
     "name": "stdout",
     "output_type": "stream",
     "text": [
      "forward()\n",
      "convs()\n",
      "forward()\n",
      "convs()\n",
      "forward()\n",
      "convs()\n",
      "forward()\n",
      "convs()\n",
      "forward()\n",
      "convs()\n",
      "forward()\n",
      "convs()\n",
      "forward()\n",
      "convs()\n",
      "forward()\n",
      "convs()\n",
      "forward()\n",
      "convs()\n",
      "forward()\n",
      "convs()\n",
      "forward()\n",
      "convs()\n",
      "forward()\n",
      "convs()\n",
      "forward()\n",
      "convs()\n",
      "forward()\n",
      "convs()\n",
      "forward()\n",
      "convs()\n",
      "forward()\n",
      "convs()\n",
      "forward()\n",
      "convs()\n",
      "forward()\n",
      "convs()\n",
      "forward()\n",
      "convs()\n"
     ]
    },
    {
     "name": "stderr",
     "output_type": "stream",
     "text": [
      "\r",
      " 84%|████████▍ | 2099/2494 [00:09<00:02, 183.56it/s]"
     ]
    },
    {
     "name": "stdout",
     "output_type": "stream",
     "text": [
      "forward()\n",
      "convs()\n",
      "forward()\n",
      "convs()\n",
      "forward()\n",
      "convs()\n",
      "forward()\n",
      "convs()\n",
      "forward()\n",
      "convs()\n",
      "forward()\n",
      "convs()\n",
      "forward()\n",
      "convs()\n",
      "forward()\n",
      "convs()\n",
      "forward()\n",
      "convs()\n",
      "forward()\n",
      "convs()\n",
      "forward()\n",
      "convs()\n",
      "forward()\n",
      "convs()\n",
      "forward()\n",
      "convs()\n",
      "forward()\n",
      "convs()\n",
      "forward()\n",
      "convs()\n",
      "forward()\n",
      "convs()\n",
      "forward()\n",
      "convs()\n",
      "forward()\n",
      "convs()\n",
      "forward()\n",
      "convs()\n"
     ]
    },
    {
     "name": "stderr",
     "output_type": "stream",
     "text": [
      "\r",
      " 85%|████████▍ | 2118/2494 [00:09<00:02, 185.14it/s]"
     ]
    },
    {
     "name": "stdout",
     "output_type": "stream",
     "text": [
      "forward()\n",
      "convs()\n",
      "forward()\n",
      "convs()\n",
      "forward()\n",
      "convs()\n",
      "forward()\n",
      "convs()\n",
      "forward()\n",
      "convs()\n",
      "forward()\n",
      "convs()\n",
      "forward()\n",
      "convs()\n",
      "forward()\n",
      "convs()\n",
      "forward()\n",
      "convs()\n",
      "forward()\n",
      "convs()\n",
      "forward()\n",
      "convs()\n",
      "forward()\n",
      "convs()\n",
      "forward()\n",
      "convs()\n",
      "forward()\n",
      "convs()\n",
      "forward()\n",
      "convs()\n",
      "forward()\n",
      "convs()\n",
      "forward()\n",
      "convs()\n",
      "forward()\n",
      "convs()\n",
      "forward()\n",
      "convs()\n",
      "forward()\n",
      "convs()\n"
     ]
    },
    {
     "name": "stderr",
     "output_type": "stream",
     "text": [
      "\r",
      " 86%|████████▌ | 2138/2494 [00:09<00:01, 186.76it/s]"
     ]
    },
    {
     "name": "stdout",
     "output_type": "stream",
     "text": [
      "forward()\n",
      "convs()\n",
      "forward()\n",
      "convs()\n",
      "forward()\n",
      "convs()\n",
      "forward()\n",
      "convs()\n",
      "forward()\n",
      "convs()\n",
      "forward()\n",
      "convs()\n",
      "forward()\n",
      "convs()\n",
      "forward()\n",
      "convs()\n",
      "forward()\n",
      "convs()\n",
      "forward()\n",
      "convs()\n",
      "forward()\n",
      "convs()\n",
      "forward()\n",
      "convs()\n",
      "forward()\n",
      "convs()\n",
      "forward()\n",
      "convs()\n",
      "forward()\n",
      "convs()\n",
      "forward()\n",
      "convs()\n",
      "forward()\n",
      "convs()\n",
      "forward()\n",
      "convs()\n",
      "forward()\n",
      "convs()\n"
     ]
    },
    {
     "name": "stderr",
     "output_type": "stream",
     "text": [
      "\r",
      " 86%|████████▋ | 2157/2494 [00:10<00:01, 186.73it/s]"
     ]
    },
    {
     "name": "stdout",
     "output_type": "stream",
     "text": [
      "forward()\n",
      "convs()\n",
      "forward()\n",
      "convs()\n",
      "forward()\n",
      "convs()\n",
      "forward()\n",
      "convs()\n",
      "forward()\n",
      "convs()\n",
      "forward()\n",
      "convs()\n",
      "forward()\n",
      "convs()\n",
      "forward()\n",
      "convs()\n",
      "forward()\n",
      "convs()\n",
      "forward()\n",
      "convs()\n",
      "forward()\n",
      "convs()\n",
      "forward()\n",
      "convs()\n",
      "forward()\n",
      "convs()\n",
      "forward()\n",
      "convs()\n",
      "forward()\n",
      "convs()\n",
      "forward()\n",
      "convs()\n",
      "forward()\n",
      "convs()\n",
      "forward()\n",
      "convs()\n",
      "forward()\n",
      "convs()\n",
      "forward()\n",
      "convs()\n"
     ]
    },
    {
     "name": "stderr",
     "output_type": "stream",
     "text": [
      "\r",
      " 87%|████████▋ | 2176/2494 [00:10<00:01, 186.35it/s]"
     ]
    },
    {
     "name": "stdout",
     "output_type": "stream",
     "text": [
      "forward()\n",
      "convs()\n",
      "forward()\n",
      "convs()\n",
      "forward()\n",
      "convs()\n",
      "forward()\n",
      "convs()\n",
      "forward()\n",
      "convs()\n",
      "forward()\n",
      "convs()\n",
      "forward()\n",
      "convs()\n",
      "forward()\n",
      "convs()\n",
      "forward()\n",
      "convs()\n",
      "forward()\n",
      "convs()\n",
      "forward()\n",
      "convs()\n",
      "forward()\n",
      "convs()\n",
      "forward()\n",
      "convs()\n",
      "forward()\n",
      "convs()\n",
      "forward()\n",
      "convs()\n",
      "forward()\n",
      "convs()\n"
     ]
    },
    {
     "name": "stderr",
     "output_type": "stream",
     "text": [
      "\r",
      " 88%|████████▊ | 2195/2494 [00:10<00:01, 181.25it/s]"
     ]
    },
    {
     "name": "stdout",
     "output_type": "stream",
     "text": [
      "forward()\n",
      "convs()\n",
      "forward()\n",
      "convs()\n",
      "forward()\n",
      "convs()\n",
      "forward()\n",
      "convs()\n",
      "forward()\n",
      "convs()\n",
      "forward()\n",
      "convs()\n",
      "forward()\n",
      "convs()\n",
      "forward()\n",
      "convs()\n",
      "forward()\n",
      "convs()\n",
      "forward()\n",
      "convs()\n",
      "forward()\n",
      "convs()\n",
      "forward()\n",
      "convs()\n",
      "forward()\n",
      "convs()\n",
      "forward()\n",
      "convs()\n",
      "forward()\n",
      "convs()\n",
      "forward()\n",
      "convs()\n",
      "forward()\n",
      "convs()\n",
      "forward()\n",
      "convs()\n",
      "forward()\n",
      "convs()\n",
      "forward()\n"
     ]
    },
    {
     "name": "stderr",
     "output_type": "stream",
     "text": [
      "\r",
      " 89%|████████▉ | 2214/2494 [00:10<00:01, 180.07it/s]"
     ]
    },
    {
     "name": "stdout",
     "output_type": "stream",
     "text": [
      "convs()\n",
      "forward()\n",
      "convs()\n",
      "forward()\n",
      "convs()\n",
      "forward()\n",
      "convs()\n",
      "forward()\n",
      "convs()\n",
      "forward()\n",
      "convs()\n",
      "forward()\n",
      "convs()\n",
      "forward()\n",
      "convs()\n",
      "forward()\n",
      "convs()\n",
      "forward()\n",
      "convs()\n",
      "forward()\n",
      "convs()\n",
      "forward()\n",
      "convs()\n",
      "forward()\n",
      "convs()\n",
      "forward()\n",
      "convs()\n",
      "forward()\n",
      "convs()\n",
      "forward()\n",
      "convs()\n",
      "forward()\n",
      "convs()\n",
      "forward()\n"
     ]
    },
    {
     "name": "stderr",
     "output_type": "stream",
     "text": [
      "\r",
      " 90%|████████▉ | 2233/2494 [00:10<00:01, 180.73it/s]"
     ]
    },
    {
     "name": "stdout",
     "output_type": "stream",
     "text": [
      "convs()\n",
      "forward()\n",
      "convs()\n",
      "forward()\n",
      "convs()\n",
      "forward()\n",
      "convs()\n",
      "forward()\n",
      "convs()\n",
      "forward()\n",
      "convs()\n",
      "forward()\n",
      "convs()\n",
      "forward()\n",
      "convs()\n",
      "forward()\n",
      "convs()\n",
      "forward()\n",
      "convs()\n",
      "forward()\n",
      "convs()\n",
      "forward()\n",
      "convs()\n",
      "forward()\n",
      "convs()\n",
      "forward()\n",
      "convs()\n",
      "forward()\n",
      "convs()\n",
      "forward()\n",
      "convs()\n",
      "forward()\n",
      "convs()\n",
      "forward()\n",
      "convs()\n",
      "forward()\n",
      "convs()\n"
     ]
    },
    {
     "name": "stderr",
     "output_type": "stream",
     "text": [
      "\r",
      " 90%|█████████ | 2252/2494 [00:10<00:01, 180.83it/s]"
     ]
    },
    {
     "name": "stdout",
     "output_type": "stream",
     "text": [
      "forward()\n",
      "convs()\n",
      "forward()\n",
      "convs()\n",
      "forward()\n",
      "convs()\n",
      "forward()\n",
      "convs()\n",
      "forward()\n",
      "convs()\n",
      "forward()\n",
      "convs()\n",
      "forward()\n",
      "convs()\n",
      "forward()\n",
      "convs()\n",
      "forward()\n",
      "convs()\n",
      "forward()\n",
      "convs()\n",
      "forward()\n",
      "convs()\n",
      "forward()\n",
      "convs()\n",
      "forward()\n",
      "convs()\n",
      "forward()\n",
      "convs()\n",
      "forward()\n",
      "convs()\n",
      "forward()\n",
      "convs()\n",
      "forward()\n",
      "convs()\n"
     ]
    },
    {
     "name": "stderr",
     "output_type": "stream",
     "text": [
      "\r",
      " 91%|█████████ | 2271/2494 [00:10<00:01, 178.17it/s]"
     ]
    },
    {
     "name": "stdout",
     "output_type": "stream",
     "text": [
      "forward()\n",
      "convs()\n",
      "forward()\n",
      "convs()\n",
      "forward()\n",
      "convs()\n",
      "forward()\n",
      "convs()\n",
      "forward()\n",
      "convs()\n",
      "forward()\n",
      "convs()\n",
      "forward()\n",
      "convs()\n",
      "forward()\n",
      "convs()\n",
      "forward()\n",
      "convs()\n",
      "forward()\n",
      "convs()\n",
      "forward()\n",
      "convs()\n",
      "forward()\n",
      "convs()\n",
      "forward()\n",
      "convs()\n",
      "forward()\n",
      "convs()\n",
      "forward()\n",
      "convs()\n",
      "forward()\n",
      "convs()\n",
      "forward()\n",
      "convs()\n",
      "forward()\n",
      "convs()\n",
      "forward()\n",
      "convs()\n"
     ]
    },
    {
     "name": "stderr",
     "output_type": "stream",
     "text": [
      "\r",
      " 92%|█████████▏| 2289/2494 [00:10<00:01, 178.02it/s]"
     ]
    },
    {
     "name": "stdout",
     "output_type": "stream",
     "text": [
      "forward()\n",
      "convs()\n",
      "forward()\n",
      "convs()\n",
      "forward()\n",
      "convs()\n",
      "forward()\n",
      "convs()\n",
      "forward()\n",
      "convs()\n",
      "forward()\n",
      "convs()\n",
      "forward()\n",
      "convs()\n",
      "forward()\n",
      "convs()\n",
      "forward()\n",
      "convs()\n",
      "forward()\n",
      "convs()\n",
      "forward()\n",
      "convs()\n",
      "forward()\n",
      "convs()\n",
      "forward()\n",
      "convs()\n",
      "forward()\n",
      "convs()\n",
      "forward()\n",
      "convs()\n",
      "forward()\n",
      "convs()\n",
      "forward()\n",
      "convs()\n"
     ]
    },
    {
     "name": "stderr",
     "output_type": "stream",
     "text": [
      "\r",
      " 93%|█████████▎| 2308/2494 [00:10<00:01, 179.21it/s]"
     ]
    },
    {
     "name": "stdout",
     "output_type": "stream",
     "text": [
      "forward()\n",
      "convs()\n",
      "forward()\n",
      "convs()\n",
      "forward()\n",
      "convs()\n",
      "forward()\n",
      "convs()\n",
      "forward()\n",
      "convs()\n",
      "forward()\n",
      "convs()\n",
      "forward()\n",
      "convs()\n",
      "forward()\n",
      "convs()\n",
      "forward()\n",
      "convs()\n",
      "forward()\n",
      "convs()\n",
      "forward()\n",
      "convs()\n",
      "forward()\n",
      "convs()\n",
      "forward()\n",
      "convs()\n",
      "forward()\n",
      "convs()\n",
      "forward()\n",
      "convs()\n",
      "forward()\n",
      "convs()\n",
      "forward()\n",
      "convs()\n",
      "forward()\n",
      "convs()\n",
      "forward()\n",
      "convs()\n",
      "forward()\n",
      "convs()\n"
     ]
    },
    {
     "name": "stderr",
     "output_type": "stream",
     "text": [
      "\r",
      " 93%|█████████▎| 2326/2494 [00:11<00:00, 175.04it/s]"
     ]
    },
    {
     "name": "stdout",
     "output_type": "stream",
     "text": [
      "forward()\n",
      "convs()\n",
      "forward()\n",
      "convs()\n",
      "forward()\n",
      "convs()\n",
      "forward()\n",
      "convs()\n",
      "forward()\n",
      "convs()\n",
      "forward()\n",
      "convs()\n",
      "forward()\n",
      "convs()\n",
      "forward()\n",
      "convs()\n",
      "forward()\n",
      "convs()\n",
      "forward()\n",
      "convs()\n",
      "forward()\n",
      "convs()\n",
      "forward()\n",
      "convs()\n",
      "forward()\n",
      "convs()\n",
      "forward()\n",
      "convs()\n",
      "forward()\n",
      "convs()\n"
     ]
    },
    {
     "name": "stderr",
     "output_type": "stream",
     "text": [
      "\r",
      " 94%|█████████▍| 2344/2494 [00:11<00:00, 175.03it/s]"
     ]
    },
    {
     "name": "stdout",
     "output_type": "stream",
     "text": [
      "forward()\n",
      "convs()\n",
      "forward()\n",
      "convs()\n",
      "forward()\n",
      "convs()\n",
      "forward()\n",
      "convs()\n",
      "forward()\n",
      "convs()\n",
      "forward()\n",
      "convs()\n",
      "forward()\n",
      "convs()\n",
      "forward()\n",
      "convs()\n",
      "forward()\n",
      "convs()\n",
      "forward()\n",
      "convs()\n",
      "forward()\n",
      "convs()\n",
      "forward()\n",
      "convs()\n",
      "forward()\n",
      "convs()\n",
      "forward()\n",
      "convs()\n",
      "forward()\n",
      "convs()\n",
      "forward()\n",
      "convs()\n",
      "forward()\n",
      "convs()\n",
      "forward()\n",
      "convs()\n",
      "forward()\n",
      "convs()\n",
      "forward()\n",
      "convs()\n"
     ]
    },
    {
     "name": "stderr",
     "output_type": "stream",
     "text": [
      "\r",
      " 95%|█████████▍| 2362/2494 [00:11<00:00, 174.49it/s]"
     ]
    },
    {
     "name": "stdout",
     "output_type": "stream",
     "text": [
      "forward()\n",
      "convs()\n",
      "forward()\n",
      "convs()\n",
      "forward()\n",
      "convs()\n",
      "forward()\n",
      "convs()\n",
      "forward()\n",
      "convs()\n",
      "forward()\n",
      "convs()\n",
      "forward()\n",
      "convs()\n",
      "forward()\n",
      "convs()\n",
      "forward()\n",
      "convs()\n",
      "forward()\n",
      "convs()\n",
      "forward()\n",
      "convs()\n",
      "forward()\n",
      "convs()\n",
      "forward()\n",
      "convs()\n",
      "forward()\n",
      "convs()\n",
      "forward()\n",
      "convs()\n",
      "forward()\n",
      "convs()\n",
      "forward()\n",
      "convs()\n"
     ]
    },
    {
     "name": "stderr",
     "output_type": "stream",
     "text": [
      "\r",
      " 96%|█████████▌| 2382/2494 [00:11<00:00, 180.13it/s]"
     ]
    },
    {
     "name": "stdout",
     "output_type": "stream",
     "text": [
      "forward()\n",
      "convs()\n",
      "forward()\n",
      "convs()\n",
      "forward()\n",
      "convs()\n",
      "forward()\n",
      "convs()\n",
      "forward()\n",
      "convs()\n",
      "forward()\n",
      "convs()\n",
      "forward()\n",
      "convs()\n",
      "forward()\n",
      "convs()\n",
      "forward()\n",
      "convs()\n",
      "forward()\n",
      "convs()\n",
      "forward()\n",
      "convs()\n",
      "forward()\n",
      "convs()\n",
      "forward()\n",
      "convs()\n",
      "forward()\n",
      "convs()\n",
      "forward()\n",
      "convs()\n",
      "forward()\n",
      "convs()\n",
      "forward()\n",
      "convs()\n",
      "forward()\n",
      "convs()\n",
      "forward()\n",
      "convs()\n",
      "forward()\n",
      "convs()\n",
      "forward()\n",
      "convs()\n"
     ]
    },
    {
     "name": "stderr",
     "output_type": "stream",
     "text": [
      "\r",
      " 96%|█████████▋| 2401/2494 [00:11<00:00, 181.05it/s]"
     ]
    },
    {
     "name": "stdout",
     "output_type": "stream",
     "text": [
      "forward()\n",
      "convs()\n",
      "forward()\n",
      "convs()\n",
      "forward()\n",
      "convs()\n",
      "forward()\n",
      "convs()\n",
      "forward()\n",
      "convs()\n",
      "forward()\n",
      "convs()\n",
      "forward()\n",
      "convs()\n",
      "forward()\n",
      "convs()\n",
      "forward()\n",
      "convs()\n",
      "forward()\n",
      "convs()\n",
      "forward()\n",
      "convs()\n",
      "forward()\n",
      "convs()\n",
      "forward()\n",
      "convs()\n",
      "forward()\n",
      "convs()\n",
      "forward()\n",
      "convs()\n",
      "forward()\n",
      "convs()\n",
      "forward()\n",
      "convs()\n",
      "forward()\n",
      "convs()\n",
      "forward()\n",
      "convs()\n"
     ]
    },
    {
     "name": "stderr",
     "output_type": "stream",
     "text": [
      "\r",
      " 97%|█████████▋| 2421/2494 [00:11<00:00, 184.83it/s]"
     ]
    },
    {
     "name": "stdout",
     "output_type": "stream",
     "text": [
      "forward()\n",
      "convs()\n",
      "forward()\n",
      "convs()\n",
      "forward()\n",
      "convs()\n",
      "forward()\n",
      "convs()\n",
      "forward()\n",
      "convs()\n",
      "forward()\n",
      "convs()\n",
      "forward()\n",
      "convs()\n",
      "forward()\n",
      "convs()\n",
      "forward()\n",
      "convs()\n",
      "forward()\n",
      "convs()\n",
      "forward()\n",
      "convs()\n",
      "forward()\n",
      "convs()\n",
      "forward()\n",
      "convs()\n",
      "forward()\n",
      "convs()\n",
      "forward()\n",
      "convs()\n",
      "forward()\n",
      "convs()\n",
      "forward()\n",
      "convs()\n",
      "forward()\n",
      "convs()\n",
      "forward()\n",
      "convs()\n",
      "forward()\n",
      "convs()\n"
     ]
    },
    {
     "name": "stderr",
     "output_type": "stream",
     "text": [
      "\r",
      " 98%|█████████▊| 2440/2494 [00:11<00:00, 183.56it/s]"
     ]
    },
    {
     "name": "stdout",
     "output_type": "stream",
     "text": [
      "forward()\n",
      "convs()\n",
      "forward()\n",
      "convs()\n",
      "forward()\n",
      "convs()\n",
      "forward()\n",
      "convs()\n",
      "forward()\n",
      "convs()\n",
      "forward()\n",
      "convs()\n",
      "forward()\n",
      "convs()\n",
      "forward()\n",
      "convs()\n",
      "forward()\n",
      "convs()\n",
      "forward()\n",
      "convs()\n",
      "forward()\n",
      "convs()\n",
      "forward()\n",
      "convs()\n",
      "forward()\n",
      "convs()\n",
      "forward()\n",
      "convs()\n",
      "forward()\n",
      "convs()\n",
      "forward()\n",
      "convs()\n",
      "forward()\n",
      "convs()\n",
      "forward()\n",
      "convs()\n"
     ]
    },
    {
     "name": "stderr",
     "output_type": "stream",
     "text": [
      "\r",
      " 99%|█████████▊| 2460/2494 [00:11<00:00, 186.54it/s]"
     ]
    },
    {
     "name": "stdout",
     "output_type": "stream",
     "text": [
      "forward()\n",
      "convs()\n",
      "forward()\n",
      "convs()\n",
      "forward()\n",
      "convs()\n",
      "forward()\n",
      "convs()\n",
      "forward()\n",
      "convs()\n",
      "forward()\n",
      "convs()\n",
      "forward()\n",
      "convs()\n",
      "forward()\n",
      "convs()\n",
      "forward()\n",
      "convs()\n",
      "forward()\n",
      "convs()\n",
      "forward()\n",
      "convs()\n",
      "forward()\n",
      "convs()\n",
      "forward()\n",
      "convs()\n",
      "forward()\n",
      "convs()\n",
      "forward()\n",
      "convs()\n",
      "forward()\n",
      "convs()\n",
      "forward()\n",
      "convs()\n",
      "forward()\n",
      "convs()\n",
      "forward()\n",
      "convs()\n",
      "forward()\n",
      "convs()\n"
     ]
    },
    {
     "name": "stderr",
     "output_type": "stream",
     "text": [
      "\r",
      " 99%|█████████▉| 2479/2494 [00:11<00:00, 185.63it/s]"
     ]
    },
    {
     "name": "stdout",
     "output_type": "stream",
     "text": [
      "forward()\n",
      "convs()\n",
      "forward()\n",
      "convs()\n",
      "forward()\n",
      "convs()\n",
      "forward()\n",
      "convs()\n",
      "forward()\n",
      "convs()\n",
      "forward()\n",
      "convs()\n",
      "forward()\n",
      "convs()\n",
      "forward()\n",
      "convs()\n",
      "forward()\n",
      "convs()\n",
      "forward()\n",
      "convs()\n",
      "forward()\n",
      "convs()\n",
      "forward()\n",
      "convs()\n",
      "forward()\n",
      "convs()\n",
      "forward()\n",
      "convs()\n",
      "forward()\n",
      "convs()\n",
      "forward()\n",
      "convs()\n",
      "forward()\n",
      "convs()\n",
      "forward()\n",
      "convs()\n"
     ]
    },
    {
     "name": "stderr",
     "output_type": "stream",
     "text": [
      "\r",
      "100%|██████████| 2494/2494 [00:11<00:00, 209.13it/s]"
     ]
    },
    {
     "name": "stdout",
     "output_type": "stream",
     "text": [
      "forward()\n",
      "convs()\n",
      "forward()\n",
      "convs()\n",
      "forward()\n",
      "convs()\n",
      "forward()\n",
      "convs()\n",
      "forward()\n",
      "convs()\n",
      "forward()\n",
      "convs()\n",
      "forward()\n",
      "convs()\n",
      "forward()\n",
      "convs()\n",
      "forward()\n",
      "convs()\n",
      "Accuracy: 0.649\n"
     ]
    },
    {
     "name": "stderr",
     "output_type": "stream",
     "text": [
      "\n"
     ]
    }
   ],
   "source": [
    "correct = 0 \n",
    "total = 0\n",
    "\n",
    "with torch.no_grad():\n",
    "    for i in tqdm(range(len(test_X))):\n",
    "        real_class = torch.argmax(test_y[i])\n",
    "        net_out = net(test_X[i].view(-1, 1, 50, 50))[0]\n",
    "        predicted_class = torch.argmax(net_out)\n",
    "        \n",
    "        if predicted_class == real_class:\n",
    "            correct += 1\n",
    "        total += 1\n",
    "\n",
    "print(\"Accuracy:\", round(correct/total, 3))"
   ]
  },
  {
   "cell_type": "code",
   "execution_count": null,
   "metadata": {},
   "outputs": [],
   "source": []
  }
 ],
 "metadata": {
  "accelerator": "GPU",
  "colab": {
   "name": "pytorch_p5_convolutional_neural_networks.ipynb",
   "provenance": []
  },
  "kernelspec": {
   "display_name": "Python 3",
   "language": "python",
   "name": "python3"
  },
  "language_info": {
   "codemirror_mode": {
    "name": "ipython",
    "version": 3
   },
   "file_extension": ".py",
   "mimetype": "text/x-python",
   "name": "python",
   "nbconvert_exporter": "python",
   "pygments_lexer": "ipython3",
   "version": "3.6.4"
  }
 },
 "nbformat": 4,
 "nbformat_minor": 1
}
