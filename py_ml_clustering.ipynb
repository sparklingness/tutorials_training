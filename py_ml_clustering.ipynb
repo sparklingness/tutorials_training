{
 "cells": [
  {
   "cell_type": "code",
   "execution_count": 1,
   "metadata": {},
   "outputs": [],
   "source": [
    "import matplotlib.pyplot as plt\n",
    "from matplotlib import style\n",
    "import numpy as np\n",
    "from sklearn.cluster import KMeans\n",
    "style.use('ggplot')"
   ]
  },
  {
   "cell_type": "code",
   "execution_count": 2,
   "metadata": {},
   "outputs": [
    {
     "data": {
      "image/png": "[encoded data removed]",
      "text/plain": [
       "<matplotlib.figure.Figure at 0x108e8bf28>"
      ]
     },
     "metadata": {},
     "output_type": "display_data"
    }
   ],
   "source": [
    "X = np.array([[1,2],\n",
    "                     [1.5, 1.8],\n",
    "                     [5, 8],\n",
    "                     [8, 8],\n",
    "                     [1, 0.6],\n",
    "                     [9, 11]])\n",
    "plt.scatter(X[:, 0], X[:, 1], s=150, linewidths=5, zorder=10)\n",
    "plt.show()"
   ]
  },
  {
   "cell_type": "code",
   "execution_count": 4,
   "metadata": {},
   "outputs": [
    {
     "data": {
      "text/plain": [
       "KMeans(algorithm='auto', copy_x=True, init='k-means++', max_iter=300,\n",
       "    n_clusters=2, n_init=10, n_jobs=1, precompute_distances='auto',\n",
       "    random_state=None, tol=0.0001, verbose=0)"
      ]
     },
     "execution_count": 4,
     "metadata": {},
     "output_type": "execute_result"
    }
   ],
   "source": [
    "clf = KMeans(n_clusters=2)\n",
    "clf.fit(X)"
   ]
  },
  {
   "cell_type": "code",
   "execution_count": 5,
   "metadata": {},
   "outputs": [
    {
     "data": {
      "text/plain": [
       "(array([[1.16666667, 1.46666667],\n",
       "        [7.33333333, 9.        ]]), array([0, 0, 1, 1, 0, 1], dtype=int32))"
      ]
     },
     "execution_count": 5,
     "metadata": {},
     "output_type": "execute_result"
    }
   ],
   "source": [
    "centroids = clf.cluster_centers_\n",
    "labels  = clf.labels_\n",
    "centroids, labels"
   ]
  },
  {
   "cell_type": "code",
   "execution_count": 8,
   "metadata": {},
   "outputs": [
    {
     "data": {
      "image/png": "[encoded data removed]",
      "text/plain": [
       "<matplotlib.figure.Figure at 0x111cab668>"
      ]
     },
     "metadata": {},
     "output_type": "display_data"
    }
   ],
   "source": [
    "colors = [\"g.\", \"r.\", \"c.\", \"y.\"]\n",
    "for i in range(len(X)):\n",
    "    plt.plot(X[i][0], X[i][1], colors[labels[i]], markersize=10)\n",
    "plt.scatter(centroids[:,0], centroids[:,1], marker=\"x\", s=100, linewidths=5, zorder=10)\n",
    "plt.show()"
   ]
  },
  {
   "cell_type": "code",
   "execution_count": 12,
   "metadata": {},
   "outputs": [
    {
     "name": "stderr",
     "output_type": "stream",
     "text": [
      "/usr/local/anaconda3/lib/python3.6/site-packages/sklearn/cross_validation.py:41: DeprecationWarning: This module was deprecated in version 0.18 in favor of the model_selection module into which all the refactored classes and functions are moved. Also note that the interface of the new CV iterators are different from that of this module. This module will be removed in 0.20.\n",
      "  \"This module will be removed in 0.20.\", DeprecationWarning)\n"
     ]
    }
   ],
   "source": [
    "from sklearn import preprocessing, cross_validation\n",
    "import pandas as pd"
   ]
  },
  {
   "cell_type": "code",
   "execution_count": 27,
   "metadata": {},
   "outputs": [
    {
     "name": "stdout",
     "output_type": "stream",
     "text": [
      "   pclass  survived     sex      age  sibsp  parch    ticket      fare  \\\n",
      "0       1         1  female  29.0000      0      0     24160  211.3375   \n",
      "1       1         1    male   0.9167      1      2    113781  151.5500   \n",
      "2       1         0  female   2.0000      1      2    113781  151.5500   \n",
      "3       1         0    male  30.0000      1      2    113781  151.5500   \n",
      "4       1         0  female  25.0000      1      2    113781  151.5500   \n",
      "5       1         1    male  48.0000      0      0     19952   26.5500   \n",
      "6       1         1  female  63.0000      1      0     13502   77.9583   \n",
      "7       1         0    male  39.0000      0      0    112050    0.0000   \n",
      "8       1         1  female  53.0000      2      0     11769   51.4792   \n",
      "9       1         0    male  71.0000      0      0  PC 17609   49.5042   \n",
      "\n",
      "     cabin embarked boat                        home.dest  \n",
      "0       B5        S    2                     St Louis, MO  \n",
      "1  C22 C26        S   11  Montreal, PQ / Chesterville, ON  \n",
      "2  C22 C26        S  NaN  Montreal, PQ / Chesterville, ON  \n",
      "3  C22 C26        S  NaN  Montreal, PQ / Chesterville, ON  \n",
      "4  C22 C26        S  NaN  Montreal, PQ / Chesterville, ON  \n",
      "5      E12        S    3                     New York, NY  \n",
      "6       D7        S   10                       Hudson, NY  \n",
      "7      A36        S  NaN                      Belfast, NI  \n",
      "8     C101        S    D              Bayside, Queens, NY  \n",
      "9      NaN        C  NaN              Montevideo, Uruguay  \n"
     ]
    }
   ],
   "source": [
    "df = pd.read_excel('titanic.xls')\n",
    "df.drop(['body', 'name'], 1, inplace=True)\n",
    "print(df.head(10))"
   ]
  },
  {
   "cell_type": "code",
   "execution_count": 39,
   "metadata": {},
   "outputs": [
    {
     "name": "stdout",
     "output_type": "stream",
     "text": [
      "   pclass  survived     sex      age  sibsp  parch    ticket      fare  \\\n",
      "0       1         1  female  29.0000      0      0     24160  211.3375   \n",
      "1       1         1    male   0.9167      1      2    113781  151.5500   \n",
      "2       1         0  female   2.0000      1      2    113781  151.5500   \n",
      "3       1         0    male  30.0000      1      2    113781  151.5500   \n",
      "4       1         0  female  25.0000      1      2    113781  151.5500   \n",
      "5       1         1    male  48.0000      0      0     19952   26.5500   \n",
      "6       1         1  female  63.0000      1      0     13502   77.9583   \n",
      "7       1         0    male  39.0000      0      0    112050    0.0000   \n",
      "8       1         1  female  53.0000      2      0     11769   51.4792   \n",
      "9       1         0    male  71.0000      0      0  PC 17609   49.5042   \n",
      "\n",
      "     cabin embarked boat                        home.dest  \n",
      "0       B5        S    2                     St Louis, MO  \n",
      "1  C22 C26        S   11  Montreal, PQ / Chesterville, ON  \n",
      "2  C22 C26        S    0  Montreal, PQ / Chesterville, ON  \n",
      "3  C22 C26        S    0  Montreal, PQ / Chesterville, ON  \n",
      "4  C22 C26        S    0  Montreal, PQ / Chesterville, ON  \n",
      "5      E12        S    3                     New York, NY  \n",
      "6       D7        S   10                       Hudson, NY  \n",
      "7      A36        S    0                      Belfast, NI  \n",
      "8     C101        S    D              Bayside, Queens, NY  \n",
      "9        0        C    0              Montevideo, Uruguay  \n"
     ]
    }
   ],
   "source": [
    "#df.apply(pd.to_numeric)\n",
    "print(df.head(10))\n",
    "df.fillna(0, inplace=True)"
   ]
  },
  {
   "cell_type": "code",
   "execution_count": 42,
   "metadata": {},
   "outputs": [],
   "source": [
    "def handle_non_numerical_data(df):\n",
    "    columns = df.columns.values\n",
    "    for column in columns:\n",
    "        pd.to_numeric(df[column])\n",
    "        text_digit_vals = {}\n",
    "        def convert_to_int(val):\n",
    "            return text_digit_vals[val]\n",
    "        if df[column].dtype != np.int64 and df[column].dtype != np.float64:\n",
    "            column_contents = df[column].values.tolist()\n",
    "            unique_elements = set(column_contents)\n",
    "            x = 0\n",
    "            for unique in unique_elements:\n",
    "                if unique not in text_digit_vals:\n",
    "                    text_digit_vals[unique] = x\n",
    "                    x += 1\n",
    "                    \n",
    "            df[column] = list(map(convert_to_int, df[column]))\n",
    "            \n",
    "    return df"
   ]
  },
  {
   "cell_type": "code",
   "execution_count": 43,
   "metadata": {},
   "outputs": [
    {
     "name": "stdout",
     "output_type": "stream",
     "text": [
      "   pclass  survived  sex      age  sibsp  parch  ticket      fare  cabin  \\\n",
      "0       1         1    0  29.0000      0      0     712  211.3375    159   \n",
      "1       1         1    1   0.9167      1      2     481  151.5500     53   \n",
      "2       1         0    0   2.0000      1      2     481  151.5500     53   \n",
      "3       1         0    1  30.0000      1      2     481  151.5500     53   \n",
      "4       1         0    0  25.0000      1      2     481  151.5500     53   \n",
      "\n",
      "   embarked  boat  home.dest  \n",
      "0         3     1        330  \n",
      "1         3    20        170  \n",
      "2         3     0        170  \n",
      "3         3     0        170  \n",
      "4         3     0        170  \n"
     ]
    }
   ],
   "source": [
    "df = handle_non_numerical_data(df)\n",
    "print(df.head())"
   ]
  },
  {
   "cell_type": "code",
   "execution_count": null,
   "metadata": {},
   "outputs": [],
   "source": []
  }
 ],
 "metadata": {
  "kernelspec": {
   "display_name": "Python 3",
   "language": "python",
   "name": "python3"
  },
  "language_info": {
   "codemirror_mode": {
    "name": "ipython",
    "version": 3
   },
   "file_extension": ".py",
   "mimetype": "text/x-python",
   "name": "python",
   "nbconvert_exporter": "python",
   "pygments_lexer": "ipython3",
   "version": "3.6.4"
  }
 },
 "nbformat": 4,
 "nbformat_minor": 2
}
